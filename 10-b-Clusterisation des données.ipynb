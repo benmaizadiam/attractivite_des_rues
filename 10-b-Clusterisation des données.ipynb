{
 "cells": [
  {
   "cell_type": "code",
   "execution_count": 113,
   "id": "8c4bf939",
   "metadata": {
    "ExecuteTime": {
     "end_time": "2023-06-16T09:44:24.982863Z",
     "start_time": "2023-06-16T09:44:24.963597Z"
    }
   },
   "outputs": [],
   "source": [
    "import geopandas as gpd\n",
    "import pandas as pd\n",
    "import osmnx as ox\n",
    "import pickle\n",
    "from shapely import LineString,MultiLineString\n",
    "from shapely import geometry, ops\n",
    "import matplotlib.pyplot as plt\n",
    "import numpy as np\n",
    "from shapely import wkt"
   ]
  },
  {
   "cell_type": "code",
   "execution_count": 133,
   "id": "6a20c28a",
   "metadata": {
    "ExecuteTime": {
     "end_time": "2023-06-16T13:05:15.369307Z",
     "start_time": "2023-06-16T13:03:51.799006Z"
    }
   },
   "outputs": [],
   "source": [
    "iris_data=pd.read_excel(r\"Y:\\REFERENTIEL DATA\\RP 2022 FRANCE\\GEODATA - IRIS\\\\Geodata_IRIS_essentiels.xlsx\")\n",
    "contour_iris=gpd.read_file(r'Y:\\REFERENTIEL DATA\\RP 2022 FRANCE\\CARTOGRAPHIE\\Cartographie_France_IRIS_2019\\CONTOURS-IRIS_2-1_SHP_LAMB93_FXX-2019\\CONTOURS-IRIS.shp').to_crs(\"3857\")"
   ]
  },
  {
   "cell_type": "code",
   "execution_count": 134,
   "id": "aa0c05c7",
   "metadata": {
    "ExecuteTime": {
     "end_time": "2023-06-16T13:05:20.868445Z",
     "start_time": "2023-06-16T13:05:15.371302Z"
    }
   },
   "outputs": [],
   "source": [
    "data=pd.read_excel(r\"Y:\\RECHERCHE ET DEV\\10_Modèle d'attractivite des rues\\\\Données_OSM_métie1.xlsx\",sheet_name=\"KPI\")"
   ]
  },
  {
   "cell_type": "code",
   "execution_count": 135,
   "id": "c122a514",
   "metadata": {
    "ExecuteTime": {
     "end_time": "2023-06-16T13:05:21.087194Z",
     "start_time": "2023-06-16T13:05:20.871553Z"
    }
   },
   "outputs": [
    {
     "name": "stderr",
     "output_type": "stream",
     "text": [
      "C:\\Users\\Diametrix\\AppData\\Local\\Temp\\ipykernel_21688\\4036023889.py:2: SettingWithCopyWarning: \n",
      "A value is trying to be set on a copy of a slice from a DataFrame.\n",
      "Try using .loc[row_indexer,col_indexer] = value instead\n",
      "\n",
      "See the caveats in the documentation: https://pandas.pydata.org/pandas-docs/stable/user_guide/indexing.html#returning-a-view-versus-a-copy\n",
      "  other_columns[\"geometry\"]=other_columns[\"geometry\"].apply(wkt.loads)\n"
     ]
    }
   ],
   "source": [
    "other_columns=data[[\"element_type\",\"osmid\",\"geometry\",\"name\",\"highway\"]]\n",
    "other_columns[\"geometry\"]=other_columns[\"geometry\"].apply(wkt.loads)\n",
    "data=data.drop([\"element_type\",\"osmid\",\"geometry\",\"name\",\"highway\"],axis=1)"
   ]
  },
  {
   "cell_type": "code",
   "execution_count": 136,
   "id": "626e8865",
   "metadata": {
    "ExecuteTime": {
     "end_time": "2023-06-16T13:05:21.102337Z",
     "start_time": "2023-06-16T13:05:21.091149Z"
    }
   },
   "outputs": [],
   "source": [
    "from sklearn.decomposition import PCA\n",
    "from sklearn.preprocessing import StandardScaler"
   ]
  },
  {
   "cell_type": "code",
   "execution_count": 137,
   "id": "ff08f327",
   "metadata": {
    "ExecuteTime": {
     "end_time": "2023-06-16T13:05:21.132302Z",
     "start_time": "2023-06-16T13:05:21.104308Z"
    }
   },
   "outputs": [],
   "source": [
    "scale=StandardScaler()\n",
    "transformed_data=scale.fit_transform(data)"
   ]
  },
  {
   "cell_type": "code",
   "execution_count": 140,
   "id": "4f6819c4",
   "metadata": {
    "ExecuteTime": {
     "end_time": "2023-06-16T13:05:21.195155Z",
     "start_time": "2023-06-16T13:05:21.180031Z"
    }
   },
   "outputs": [],
   "source": [
    "from sklearn.cluster import KMeans"
   ]
  },
  {
   "cell_type": "code",
   "execution_count": 152,
   "id": "60b113cd",
   "metadata": {
    "ExecuteTime": {
     "end_time": "2023-06-16T13:08:33.090305Z",
     "start_time": "2023-06-16T13:07:55.422380Z"
    }
   },
   "outputs": [
    {
     "name": "stdout",
     "output_type": "stream",
     "text": [
      "2\n"
     ]
    },
    {
     "name": "stderr",
     "output_type": "stream",
     "text": [
      "C:\\Users\\Diametrix\\AppData\\Roaming\\Python\\Python39\\site-packages\\sklearn\\cluster\\_kmeans.py:870: FutureWarning: The default value of `n_init` will change from 10 to 'auto' in 1.4. Set the value of `n_init` explicitly to suppress the warning\n",
      "  warnings.warn(\n"
     ]
    },
    {
     "name": "stdout",
     "output_type": "stream",
     "text": [
      "3\n"
     ]
    },
    {
     "name": "stderr",
     "output_type": "stream",
     "text": [
      "C:\\Users\\Diametrix\\AppData\\Roaming\\Python\\Python39\\site-packages\\sklearn\\cluster\\_kmeans.py:870: FutureWarning: The default value of `n_init` will change from 10 to 'auto' in 1.4. Set the value of `n_init` explicitly to suppress the warning\n",
      "  warnings.warn(\n"
     ]
    },
    {
     "name": "stdout",
     "output_type": "stream",
     "text": [
      "4\n"
     ]
    },
    {
     "name": "stderr",
     "output_type": "stream",
     "text": [
      "C:\\Users\\Diametrix\\AppData\\Roaming\\Python\\Python39\\site-packages\\sklearn\\cluster\\_kmeans.py:870: FutureWarning: The default value of `n_init` will change from 10 to 'auto' in 1.4. Set the value of `n_init` explicitly to suppress the warning\n",
      "  warnings.warn(\n"
     ]
    },
    {
     "name": "stdout",
     "output_type": "stream",
     "text": [
      "5\n"
     ]
    },
    {
     "name": "stderr",
     "output_type": "stream",
     "text": [
      "C:\\Users\\Diametrix\\AppData\\Roaming\\Python\\Python39\\site-packages\\sklearn\\cluster\\_kmeans.py:870: FutureWarning: The default value of `n_init` will change from 10 to 'auto' in 1.4. Set the value of `n_init` explicitly to suppress the warning\n",
      "  warnings.warn(\n"
     ]
    },
    {
     "name": "stdout",
     "output_type": "stream",
     "text": [
      "6\n"
     ]
    },
    {
     "name": "stderr",
     "output_type": "stream",
     "text": [
      "C:\\Users\\Diametrix\\AppData\\Roaming\\Python\\Python39\\site-packages\\sklearn\\cluster\\_kmeans.py:870: FutureWarning: The default value of `n_init` will change from 10 to 'auto' in 1.4. Set the value of `n_init` explicitly to suppress the warning\n",
      "  warnings.warn(\n"
     ]
    },
    {
     "name": "stdout",
     "output_type": "stream",
     "text": [
      "7\n"
     ]
    },
    {
     "name": "stderr",
     "output_type": "stream",
     "text": [
      "C:\\Users\\Diametrix\\AppData\\Roaming\\Python\\Python39\\site-packages\\sklearn\\cluster\\_kmeans.py:870: FutureWarning: The default value of `n_init` will change from 10 to 'auto' in 1.4. Set the value of `n_init` explicitly to suppress the warning\n",
      "  warnings.warn(\n"
     ]
    },
    {
     "name": "stdout",
     "output_type": "stream",
     "text": [
      "8\n"
     ]
    },
    {
     "name": "stderr",
     "output_type": "stream",
     "text": [
      "C:\\Users\\Diametrix\\AppData\\Roaming\\Python\\Python39\\site-packages\\sklearn\\cluster\\_kmeans.py:870: FutureWarning: The default value of `n_init` will change from 10 to 'auto' in 1.4. Set the value of `n_init` explicitly to suppress the warning\n",
      "  warnings.warn(\n"
     ]
    },
    {
     "name": "stdout",
     "output_type": "stream",
     "text": [
      "9\n"
     ]
    },
    {
     "name": "stderr",
     "output_type": "stream",
     "text": [
      "C:\\Users\\Diametrix\\AppData\\Roaming\\Python\\Python39\\site-packages\\sklearn\\cluster\\_kmeans.py:870: FutureWarning: The default value of `n_init` will change from 10 to 'auto' in 1.4. Set the value of `n_init` explicitly to suppress the warning\n",
      "  warnings.warn(\n"
     ]
    },
    {
     "name": "stdout",
     "output_type": "stream",
     "text": [
      "10\n"
     ]
    },
    {
     "name": "stderr",
     "output_type": "stream",
     "text": [
      "C:\\Users\\Diametrix\\AppData\\Roaming\\Python\\Python39\\site-packages\\sklearn\\cluster\\_kmeans.py:870: FutureWarning: The default value of `n_init` will change from 10 to 'auto' in 1.4. Set the value of `n_init` explicitly to suppress the warning\n",
      "  warnings.warn(\n"
     ]
    },
    {
     "name": "stdout",
     "output_type": "stream",
     "text": [
      "11\n"
     ]
    },
    {
     "name": "stderr",
     "output_type": "stream",
     "text": [
      "C:\\Users\\Diametrix\\AppData\\Roaming\\Python\\Python39\\site-packages\\sklearn\\cluster\\_kmeans.py:870: FutureWarning: The default value of `n_init` will change from 10 to 'auto' in 1.4. Set the value of `n_init` explicitly to suppress the warning\n",
      "  warnings.warn(\n"
     ]
    },
    {
     "name": "stdout",
     "output_type": "stream",
     "text": [
      "12\n"
     ]
    },
    {
     "name": "stderr",
     "output_type": "stream",
     "text": [
      "C:\\Users\\Diametrix\\AppData\\Roaming\\Python\\Python39\\site-packages\\sklearn\\cluster\\_kmeans.py:870: FutureWarning: The default value of `n_init` will change from 10 to 'auto' in 1.4. Set the value of `n_init` explicitly to suppress the warning\n",
      "  warnings.warn(\n"
     ]
    },
    {
     "name": "stdout",
     "output_type": "stream",
     "text": [
      "13\n"
     ]
    },
    {
     "name": "stderr",
     "output_type": "stream",
     "text": [
      "C:\\Users\\Diametrix\\AppData\\Roaming\\Python\\Python39\\site-packages\\sklearn\\cluster\\_kmeans.py:870: FutureWarning: The default value of `n_init` will change from 10 to 'auto' in 1.4. Set the value of `n_init` explicitly to suppress the warning\n",
      "  warnings.warn(\n"
     ]
    },
    {
     "name": "stdout",
     "output_type": "stream",
     "text": [
      "14\n"
     ]
    },
    {
     "name": "stderr",
     "output_type": "stream",
     "text": [
      "C:\\Users\\Diametrix\\AppData\\Roaming\\Python\\Python39\\site-packages\\sklearn\\cluster\\_kmeans.py:870: FutureWarning: The default value of `n_init` will change from 10 to 'auto' in 1.4. Set the value of `n_init` explicitly to suppress the warning\n",
      "  warnings.warn(\n"
     ]
    },
    {
     "name": "stdout",
     "output_type": "stream",
     "text": [
      "15\n"
     ]
    },
    {
     "name": "stderr",
     "output_type": "stream",
     "text": [
      "C:\\Users\\Diametrix\\AppData\\Roaming\\Python\\Python39\\site-packages\\sklearn\\cluster\\_kmeans.py:870: FutureWarning: The default value of `n_init` will change from 10 to 'auto' in 1.4. Set the value of `n_init` explicitly to suppress the warning\n",
      "  warnings.warn(\n"
     ]
    },
    {
     "name": "stdout",
     "output_type": "stream",
     "text": [
      "16\n"
     ]
    },
    {
     "name": "stderr",
     "output_type": "stream",
     "text": [
      "C:\\Users\\Diametrix\\AppData\\Roaming\\Python\\Python39\\site-packages\\sklearn\\cluster\\_kmeans.py:870: FutureWarning: The default value of `n_init` will change from 10 to 'auto' in 1.4. Set the value of `n_init` explicitly to suppress the warning\n",
      "  warnings.warn(\n"
     ]
    },
    {
     "name": "stdout",
     "output_type": "stream",
     "text": [
      "17\n"
     ]
    },
    {
     "name": "stderr",
     "output_type": "stream",
     "text": [
      "C:\\Users\\Diametrix\\AppData\\Roaming\\Python\\Python39\\site-packages\\sklearn\\cluster\\_kmeans.py:870: FutureWarning: The default value of `n_init` will change from 10 to 'auto' in 1.4. Set the value of `n_init` explicitly to suppress the warning\n",
      "  warnings.warn(\n"
     ]
    },
    {
     "name": "stdout",
     "output_type": "stream",
     "text": [
      "18\n"
     ]
    },
    {
     "name": "stderr",
     "output_type": "stream",
     "text": [
      "C:\\Users\\Diametrix\\AppData\\Roaming\\Python\\Python39\\site-packages\\sklearn\\cluster\\_kmeans.py:870: FutureWarning: The default value of `n_init` will change from 10 to 'auto' in 1.4. Set the value of `n_init` explicitly to suppress the warning\n",
      "  warnings.warn(\n"
     ]
    },
    {
     "name": "stdout",
     "output_type": "stream",
     "text": [
      "19\n"
     ]
    },
    {
     "name": "stderr",
     "output_type": "stream",
     "text": [
      "C:\\Users\\Diametrix\\AppData\\Roaming\\Python\\Python39\\site-packages\\sklearn\\cluster\\_kmeans.py:870: FutureWarning: The default value of `n_init` will change from 10 to 'auto' in 1.4. Set the value of `n_init` explicitly to suppress the warning\n",
      "  warnings.warn(\n"
     ]
    }
   ],
   "source": [
    "from sklearn.metrics import silhouette_score ,calinski_harabasz_score\n",
    "inertias=[]\n",
    "score=[]\n",
    "index=[]\n",
    "for k in range(2,20):\n",
    "    print(k)\n",
    "    cluster=KMeans(n_clusters=k,random_state=123)\n",
    "    cluster.fit(transformed_data)\n",
    "   \n",
    "\n",
    "    prediction=cluster.predict(transformed_data)\n",
    "    inertias.append(cluster.inertia_)\n",
    "    score.append(silhouette_score(transformed_data,prediction))\n",
    "    index.append(calinski_harabasz_score(transformed_data,prediction))"
   ]
  },
  {
   "cell_type": "code",
   "execution_count": 156,
   "id": "19c34b14",
   "metadata": {
    "ExecuteTime": {
     "end_time": "2023-06-16T13:09:06.231283Z",
     "start_time": "2023-06-16T13:09:06.083975Z"
    }
   },
   "outputs": [
    {
     "data": {
      "image/png": "[encoded data removed]",
      "text/plain": [
       "<Figure size 432x288 with 1 Axes>"
      ]
     },
     "metadata": {},
     "output_type": "display_data"
    }
   ],
   "source": [
    "%matplotlib inline\n",
    "plt.style.use('ggplot')\n",
    "plt.plot([i for i in range(2,20)],score)\n",
    "plt.xlabel(\"K\")\n",
    "plt.ylabel(\"silhouette\")\n",
    "plt.title('silhouette score')\n",
    "plt.show()"
   ]
  },
  {
   "cell_type": "code",
   "execution_count": 157,
   "id": "977d376c",
   "metadata": {
    "ExecuteTime": {
     "end_time": "2023-06-16T13:09:09.940978Z",
     "start_time": "2023-06-16T13:09:09.793557Z"
    }
   },
   "outputs": [
    {
     "data": {
      "image/png": "[encoded data removed]",
      "text/plain": [
       "<Figure size 432x288 with 1 Axes>"
      ]
     },
     "metadata": {},
     "output_type": "display_data"
    }
   ],
   "source": [
    "plt.plot([i for i in range(2,20)],inertias)\n",
    "plt.xlabel(\"K\")\n",
    "plt.title('Interia')\n",
    "plt.ylabel('Interia')\n",
    "plt.show()"
   ]
  },
  {
   "cell_type": "code",
   "execution_count": 158,
   "id": "7886c156",
   "metadata": {
    "ExecuteTime": {
     "end_time": "2023-06-16T13:09:10.784339Z",
     "start_time": "2023-06-16T13:09:10.639939Z"
    }
   },
   "outputs": [
    {
     "data": {
      "image/png": "[encoded data removed]",
      "text/plain": [
       "<Figure size 432x288 with 1 Axes>"
      ]
     },
     "metadata": {},
     "output_type": "display_data"
    }
   ],
   "source": [
    "plt.plot([i for i in range(2,20)],index)\n",
    "plt.xlabel(\"K\")\n",
    "plt.title('calinski harabasz score')\n",
    "plt.ylabel('calinski harabasz score')\n",
    "plt.show()"
   ]
  },
  {
   "cell_type": "code",
   "execution_count": 162,
   "id": "a1cf9110",
   "metadata": {
    "ExecuteTime": {
     "end_time": "2023-06-16T13:09:46.534425Z",
     "start_time": "2023-06-16T13:09:46.518047Z"
    }
   },
   "outputs": [],
   "source": [
    "k=7"
   ]
  },
  {
   "cell_type": "code",
   "execution_count": 163,
   "id": "b62abe1e",
   "metadata": {
    "ExecuteTime": {
     "end_time": "2023-06-16T13:09:48.934162Z",
     "start_time": "2023-06-16T13:09:46.916342Z"
    }
   },
   "outputs": [
    {
     "name": "stderr",
     "output_type": "stream",
     "text": [
      "C:\\Users\\Diametrix\\AppData\\Roaming\\Python\\Python39\\site-packages\\sklearn\\cluster\\_kmeans.py:870: FutureWarning: The default value of `n_init` will change from 10 to 'auto' in 1.4. Set the value of `n_init` explicitly to suppress the warning\n",
      "  warnings.warn(\n"
     ]
    },
    {
     "name": "stdout",
     "output_type": "stream",
     "text": [
      "265719.85917281336\n",
      "0.2095974627811993\n",
      "1529.1795779672043\n"
     ]
    }
   ],
   "source": [
    "cluster=KMeans(n_clusters=k,random_state=123)\n",
    "cluster.fit(transformed_data)\n",
    "   \n",
    "\n",
    "prediction=cluster.predict(transformed_data)\n",
    "print(cluster.inertia_)\n",
    "print(silhouette_score(transformed_data,prediction))\n",
    "print(calinski_harabasz_score(transformed_data,prediction))"
   ]
  },
  {
   "cell_type": "code",
   "execution_count": 196,
   "id": "52aba0b5",
   "metadata": {
    "ExecuteTime": {
     "end_time": "2023-06-16T14:52:10.014570Z",
     "start_time": "2023-06-16T14:52:09.988640Z"
    }
   },
   "outputs": [
    {
     "data": {
      "text/plain": [
       "0    5343\n",
       "4    3499\n",
       "1    1273\n",
       "2     572\n",
       "3     281\n",
       "5     236\n",
       "6      27\n",
       "dtype: int64"
      ]
     },
     "execution_count": 196,
     "metadata": {},
     "output_type": "execute_result"
    }
   ],
   "source": [
    "pd.Series(prediction).value_counts()"
   ]
  },
  {
   "cell_type": "code",
   "execution_count": 165,
   "id": "189720d5",
   "metadata": {
    "ExecuteTime": {
     "end_time": "2023-06-16T13:10:00.001697Z",
     "start_time": "2023-06-16T13:09:59.984723Z"
    }
   },
   "outputs": [],
   "source": [
    "columns_socio=['C17_MEN',\n",
    "       'C17_MEN_CS1', 'C17_MEN_CS2', 'C17_MEN_CS3', 'C17_MEN_CS4',\n",
    "       'C17_MEN_CS5', 'C17_MEN_CS6', 'C17_MEN_CS7', 'C17_MEN_CS8', 'P17_POP',\n",
    "       'P17_POP0002', 'P17_POP0305', 'P17_POP0610', 'P17_POP1117',\n",
    "       'P17_POP1824', 'P17_POP2539', 'P17_POP4054', 'P17_POP5564',\n",
    "       'P17_POP6579', 'P17_POP80P', 'P17_POP15P']\n",
    "moyenne=data.drop(columns_socio,axis=1).mean()\n",
    "moyenne_socio=data[columns_socio].mean()"
   ]
  },
  {
   "cell_type": "code",
   "execution_count": 181,
   "id": "bf7307de",
   "metadata": {
    "ExecuteTime": {
     "end_time": "2023-06-16T13:17:49.845438Z",
     "start_time": "2023-06-16T13:17:49.819314Z"
    }
   },
   "outputs": [],
   "source": [
    "indices=mean_cluster.copy()\n",
    "indices[columns_socio]=mean_cluster[columns_socio]/moyenne_socio\n",
    "indices[[c for c in indices.columns if c not in columns_socio]]=indices[[c for c in indices.columns if c not in columns_socio]]/moyenne"
   ]
  },
  {
   "cell_type": "code",
   "execution_count": 187,
   "id": "4e1c0ecf",
   "metadata": {
    "ExecuteTime": {
     "end_time": "2023-06-16T13:20:56.522015Z",
     "start_time": "2023-06-16T13:20:56.397063Z"
    }
   },
   "outputs": [],
   "source": [
    "indices.transpose().to_excel(r\"Y:\\RECHERCHE ET DEV\\10_Modèle d'attractivite des rues\\\\stats.xlsx\")"
   ]
  },
  {
   "cell_type": "code",
   "execution_count": 195,
   "id": "76b95f7c",
   "metadata": {
    "ExecuteTime": {
     "end_time": "2023-06-16T13:30:17.580500Z",
     "start_time": "2023-06-16T13:30:17.533492Z"
    }
   },
   "outputs": [
    {
     "data": {
      "text/html": [
       "<div style=\"width:100%;\"><div style=\"position:relative;width:100%;height:0;padding-bottom:60%;\"><span style=\"color:#565656\">Make this Notebook Trusted to load map: File -> Trust Notebook</span><iframe srcdoc=\"&lt;!DOCTYPE html&gt;\n",
       "&lt;html&gt;\n",
       "&lt;head&gt;\n",
       "    \n",
       "    &lt;meta http-equiv=&quot;content-type&quot; content=&quot;text/html; charset=UTF-8&quot; /&gt;\n",
       "    \n",
       "        &lt;script&gt;\n",
       "            L_NO_TOUCH = false;\n",
       "            L_DISABLE_3D = false;\n",
       "        &lt;/script&gt;\n",
       "    \n",
       "    &lt;style&gt;html, body {width: 100%;height: 100%;margin: 0;padding: 0;}&lt;/style&gt;\n",
       "    &lt;style&gt;#map {position:absolute;top:0;bottom:0;right:0;left:0;}&lt;/style&gt;\n",
       "    &lt;script src=&quot;https://cdn.jsdelivr.net/npm/leaflet@1.9.3/dist/leaflet.js&quot;&gt;&lt;/script&gt;\n",
       "    &lt;script src=&quot;https://code.jquery.com/jquery-1.12.4.min.js&quot;&gt;&lt;/script&gt;\n",
       "    &lt;script src=&quot;https://cdn.jsdelivr.net/npm/bootstrap@5.2.2/dist/js/bootstrap.bundle.min.js&quot;&gt;&lt;/script&gt;\n",
       "    &lt;script src=&quot;https://cdnjs.cloudflare.com/ajax/libs/Leaflet.awesome-markers/2.0.2/leaflet.awesome-markers.js&quot;&gt;&lt;/script&gt;\n",
       "    &lt;link rel=&quot;stylesheet&quot; href=&quot;https://cdn.jsdelivr.net/npm/leaflet@1.9.3/dist/leaflet.css&quot;/&gt;\n",
       "    &lt;link rel=&quot;stylesheet&quot; href=&quot;https://cdn.jsdelivr.net/npm/bootstrap@5.2.2/dist/css/bootstrap.min.css&quot;/&gt;\n",
       "    &lt;link rel=&quot;stylesheet&quot; href=&quot;https://netdna.bootstrapcdn.com/bootstrap/3.0.0/css/bootstrap.min.css&quot;/&gt;\n",
       "    &lt;link rel=&quot;stylesheet&quot; href=&quot;https://cdn.jsdelivr.net/npm/@fortawesome/fontawesome-free@6.2.0/css/all.min.css&quot;/&gt;\n",
       "    &lt;link rel=&quot;stylesheet&quot; href=&quot;https://cdnjs.cloudflare.com/ajax/libs/Leaflet.awesome-markers/2.0.2/leaflet.awesome-markers.css&quot;/&gt;\n",
       "    &lt;link rel=&quot;stylesheet&quot; href=&quot;https://cdn.jsdelivr.net/gh/python-visualization/folium/folium/templates/leaflet.awesome.rotate.min.css&quot;/&gt;\n",
       "    \n",
       "            &lt;meta name=&quot;viewport&quot; content=&quot;width=device-width,\n",
       "                initial-scale=1.0, maximum-scale=1.0, user-scalable=no&quot; /&gt;\n",
       "            &lt;style&gt;\n",
       "                #map_bdb7468f57154a4994ef7bb4a19cb543 {\n",
       "                    position: relative;\n",
       "                    width: 100.0%;\n",
       "                    height: 100.0%;\n",
       "                    left: 0.0%;\n",
       "                    top: 0.0%;\n",
       "                }\n",
       "                .leaflet-container { font-size: 1rem; }\n",
       "            &lt;/style&gt;\n",
       "        \n",
       "    \n",
       "                    &lt;style&gt;\n",
       "                        .foliumtooltip {\n",
       "                            \n",
       "                        }\n",
       "                       .foliumtooltip table{\n",
       "                            margin: auto;\n",
       "                        }\n",
       "                        .foliumtooltip tr{\n",
       "                            text-align: left;\n",
       "                        }\n",
       "                        .foliumtooltip th{\n",
       "                            padding: 2px; padding-right: 8px;\n",
       "                        }\n",
       "                    &lt;/style&gt;\n",
       "            \n",
       "&lt;/head&gt;\n",
       "&lt;body&gt;\n",
       "    \n",
       "    \n",
       "            &lt;div class=&quot;folium-map&quot; id=&quot;map_bdb7468f57154a4994ef7bb4a19cb543&quot; &gt;&lt;/div&gt;\n",
       "        \n",
       "&lt;/body&gt;\n",
       "&lt;script&gt;\n",
       "    \n",
       "    \n",
       "            var map_bdb7468f57154a4994ef7bb4a19cb543 = L.map(\n",
       "                &quot;map_bdb7468f57154a4994ef7bb4a19cb543&quot;,\n",
       "                {\n",
       "                    center: [48.85268740000001, 2.33318475],\n",
       "                    crs: L.CRS.EPSG3857,\n",
       "                    zoom: 10,\n",
       "                    zoomControl: true,\n",
       "                    preferCanvas: false,\n",
       "                }\n",
       "            );\n",
       "            L.control.scale().addTo(map_bdb7468f57154a4994ef7bb4a19cb543);\n",
       "\n",
       "            \n",
       "\n",
       "        \n",
       "    \n",
       "            var tile_layer_01ce030d6ce649572cdbf20e5b5514cf = L.tileLayer(\n",
       "                &quot;https://{s}.tile.openstreetmap.org/{z}/{x}/{y}.png&quot;,\n",
       "                {&quot;attribution&quot;: &quot;Data by \\u0026copy; \\u003ca target=\\&quot;_blank\\&quot; href=\\&quot;http://openstreetmap.org\\&quot;\\u003eOpenStreetMap\\u003c/a\\u003e, under \\u003ca target=\\&quot;_blank\\&quot; href=\\&quot;http://www.openstreetmap.org/copyright\\&quot;\\u003eODbL\\u003c/a\\u003e.&quot;, &quot;detectRetina&quot;: false, &quot;maxNativeZoom&quot;: 18, &quot;maxZoom&quot;: 18, &quot;minZoom&quot;: 0, &quot;noWrap&quot;: false, &quot;opacity&quot;: 1, &quot;subdomains&quot;: &quot;abc&quot;, &quot;tms&quot;: false}\n",
       "            ).addTo(map_bdb7468f57154a4994ef7bb4a19cb543);\n",
       "        \n",
       "    \n",
       "            map_bdb7468f57154a4994ef7bb4a19cb543.fitBounds(\n",
       "                [[48.81654480000001, 2.2700052], [48.888830000000006, 2.3963643]],\n",
       "                {}\n",
       "            );\n",
       "        \n",
       "    \n",
       "        function geo_json_d7f745121abfc1e9e78d910786720823_styler(feature) {\n",
       "            switch(feature.id) {\n",
       "                default:\n",
       "                    return {&quot;color&quot;: &quot;black&quot;, &quot;fillColor&quot;: &quot;black&quot;, &quot;fillOpacity&quot;: 0.5, &quot;weight&quot;: 2};\n",
       "            }\n",
       "        }\n",
       "        function geo_json_d7f745121abfc1e9e78d910786720823_highlighter(feature) {\n",
       "            switch(feature.id) {\n",
       "                default:\n",
       "                    return {&quot;fillOpacity&quot;: 0.75};\n",
       "            }\n",
       "        }\n",
       "        function geo_json_d7f745121abfc1e9e78d910786720823_pointToLayer(feature, latlng) {\n",
       "            var opts = {&quot;bubblingMouseEvents&quot;: true, &quot;color&quot;: &quot;#3388ff&quot;, &quot;dashArray&quot;: null, &quot;dashOffset&quot;: null, &quot;fill&quot;: true, &quot;fillColor&quot;: &quot;#3388ff&quot;, &quot;fillOpacity&quot;: 0.2, &quot;fillRule&quot;: &quot;evenodd&quot;, &quot;lineCap&quot;: &quot;round&quot;, &quot;lineJoin&quot;: &quot;round&quot;, &quot;opacity&quot;: 1.0, &quot;radius&quot;: 2, &quot;stroke&quot;: true, &quot;weight&quot;: 3};\n",
       "            \n",
       "            let style = geo_json_d7f745121abfc1e9e78d910786720823_styler(feature)\n",
       "            Object.assign(opts, style)\n",
       "            \n",
       "            return new L.CircleMarker(latlng, opts)\n",
       "        }\n",
       "\n",
       "        function geo_json_d7f745121abfc1e9e78d910786720823_onEachFeature(feature, layer) {\n",
       "            layer.on({\n",
       "                mouseout: function(e) {\n",
       "                    if(typeof e.target.setStyle === &quot;function&quot;){\n",
       "                        geo_json_d7f745121abfc1e9e78d910786720823.resetStyle(e.target);\n",
       "                    }\n",
       "                },\n",
       "                mouseover: function(e) {\n",
       "                    if(typeof e.target.setStyle === &quot;function&quot;){\n",
       "                        const highlightStyle = geo_json_d7f745121abfc1e9e78d910786720823_highlighter(e.target.feature)\n",
       "                        e.target.setStyle(highlightStyle);\n",
       "                    }\n",
       "                },\n",
       "            });\n",
       "        };\n",
       "        var geo_json_d7f745121abfc1e9e78d910786720823 = L.geoJson(null, {\n",
       "                onEachFeature: geo_json_d7f745121abfc1e9e78d910786720823_onEachFeature,\n",
       "            \n",
       "                style: geo_json_d7f745121abfc1e9e78d910786720823_styler,\n",
       "                pointToLayer: geo_json_d7f745121abfc1e9e78d910786720823_pointToLayer\n",
       "        });\n",
       "\n",
       "        function geo_json_d7f745121abfc1e9e78d910786720823_add (data) {\n",
       "            geo_json_d7f745121abfc1e9e78d910786720823\n",
       "                .addData(data)\n",
       "                .addTo(map_bdb7468f57154a4994ef7bb4a19cb543);\n",
       "        }\n",
       "            geo_json_d7f745121abfc1e9e78d910786720823_add({&quot;bbox&quot;: [2.2700052, 48.81654480000001, 2.3963643, 48.888830000000006], &quot;features&quot;: [{&quot;bbox&quot;: [2.3621754, 48.8315812, 2.3636624, 48.832738], &quot;geometry&quot;: {&quot;coordinates&quot;: [[2.3621754, 48.832738], [2.3622648, 48.83266239999999], [2.3626819, 48.8323508], [2.3634306999999994, 48.8317901], [2.3635211, 48.8317259], [2.3636047, 48.8316595], [2.3636425, 48.8316165], [2.3636624, 48.8315812]], &quot;type&quot;: &quot;LineString&quot;}, &quot;id&quot;: &quot;38&quot;, &quot;properties&quot;: {&quot;__folium_color&quot;: &quot;black&quot;, &quot;element_type&quot;: null, &quot;highway&quot;: &quot;tertiary&quot;, &quot;name&quot;: &quot;Rue Nationale&quot;, &quot;osmid&quot;: 3630650}, &quot;type&quot;: &quot;Feature&quot;}, {&quot;bbox&quot;: [2.3593391, 48.84204869999999, 2.3641911, 48.84322329999999], &quot;geometry&quot;: {&quot;coordinates&quot;: [[2.3641911, 48.84322329999999], [2.3640252, 48.8432114], [2.363926, 48.843219], [2.3638968, 48.8432212], [2.3638644, 48.8432191], [2.3629788999999994, 48.8429925], [2.3622656999999996, 48.8428113], [2.3615072999999995, 48.8426178], [2.3613861999999997, 48.84258689999999], [2.3595384, 48.842100699999996], [2.3593888999999995, 48.8420613], [2.3593391, 48.84204869999999]], &quot;type&quot;: &quot;LineString&quot;}, &quot;id&quot;: &quot;201&quot;, &quot;properties&quot;: {&quot;__folium_color&quot;: &quot;black&quot;, &quot;element_type&quot;: null, &quot;highway&quot;: &quot;residential&quot;, &quot;name&quot;: &quot;Rue Buffon&quot;, &quot;osmid&quot;: 4039546}, &quot;type&quot;: &quot;Feature&quot;}, {&quot;bbox&quot;: [2.3324652999999995, 48.84703340000001, 2.3325752, 48.84866439999999], &quot;geometry&quot;: {&quot;coordinates&quot;: [[2.3325752, 48.84866439999999], [2.3325658, 48.8485066], [2.3325509999999996, 48.8482526], [2.3325491, 48.8482236], [2.3324719, 48.847136599999985], [2.3324652999999995, 48.84703340000001]], &quot;type&quot;: &quot;LineString&quot;}, &quot;id&quot;: &quot;377&quot;, &quot;properties&quot;: {&quot;__folium_color&quot;: &quot;black&quot;, &quot;element_type&quot;: null, &quot;highway&quot;: &quot;residential&quot;, &quot;name&quot;: &quot;Rue Guynemer&quot;, &quot;osmid&quot;: 4212174}, &quot;type&quot;: &quot;Feature&quot;}, {&quot;bbox&quot;: [2.3232862, 48.846822, 2.3261228, 48.84982519999999], &quot;geometry&quot;: {&quot;coordinates&quot;: [[2.3261228, 48.846822], [2.3261074999999996, 48.846842599999995], [2.3260808, 48.8468729], [2.3252805, 48.8477837], [2.3252295, 48.8478333], [2.3250223, 48.8480665], [2.3249793, 48.8481148], [2.3246491, 48.8484837], [2.3246036, 48.8485392], [2.3245677, 48.84858349999999], [2.3233561999999996, 48.8497579], [2.3232862, 48.84982519999999]], &quot;type&quot;: &quot;LineString&quot;}, &quot;id&quot;: &quot;683&quot;, &quot;properties&quot;: {&quot;__folium_color&quot;: &quot;black&quot;, &quot;element_type&quot;: null, &quot;highway&quot;: &quot;residential&quot;, &quot;name&quot;: &quot;Rue de l\\u0027Abb\\u00e9 Gr\\u00e9goire&quot;, &quot;osmid&quot;: 4262875}, &quot;type&quot;: &quot;Feature&quot;}, {&quot;bbox&quot;: [2.3806909, 48.8597664, 2.3820563, 48.86017559999999], &quot;geometry&quot;: {&quot;coordinates&quot;: [[2.3820563, 48.86017559999999], [2.3819764999999995, 48.8601648], [2.3807539, 48.859785], [2.3806909, 48.8597664]], &quot;type&quot;: &quot;LineString&quot;}, &quot;id&quot;: &quot;1088&quot;, &quot;properties&quot;: {&quot;__folium_color&quot;: &quot;black&quot;, &quot;element_type&quot;: null, &quot;highway&quot;: &quot;living_street&quot;, &quot;name&quot;: &quot;Rue du Morvan&quot;, &quot;osmid&quot;: 5066659}, &quot;type&quot;: &quot;Feature&quot;}, {&quot;bbox&quot;: [2.3282033, 48.83221360000001, 2.330682, 48.8329773], &quot;geometry&quot;: {&quot;coordinates&quot;: [[2.330682, 48.83221360000001], [2.3305075, 48.8322662], [2.3298146, 48.8324808], [2.3297678999999993, 48.832493199999995], [2.3282739999999995, 48.8329554], [2.3282033, 48.8329773]], &quot;type&quot;: &quot;LineString&quot;}, &quot;id&quot;: &quot;1263&quot;, &quot;properties&quot;: {&quot;__folium_color&quot;: &quot;black&quot;, &quot;element_type&quot;: null, &quot;highway&quot;: &quot;residential&quot;, &quot;name&quot;: &quot;Rue Ernest Cresson&quot;, &quot;osmid&quot;: 5210347}, &quot;type&quot;: &quot;Feature&quot;}, {&quot;bbox&quot;: [2.3845844, 48.8852393, 2.3846394, 48.8865207], &quot;geometry&quot;: {&quot;coordinates&quot;: [[2.3846394, 48.8865207], [2.3846294, 48.8864487], [2.3845872, 48.8853184], [2.3845844, 48.8852393]], &quot;type&quot;: &quot;LineString&quot;}, &quot;id&quot;: &quot;1398&quot;, &quot;properties&quot;: {&quot;__folium_color&quot;: &quot;black&quot;, &quot;element_type&quot;: null, &quot;highway&quot;: &quot;unclassified&quot;, &quot;name&quot;: &quot;Rue Andr\\u00e9 Danjon&quot;, &quot;osmid&quot;: 8059202}, &quot;type&quot;: &quot;Feature&quot;}, {&quot;bbox&quot;: [2.2700052, 48.87761179999999, 2.2704285000000004, 48.878269499999995], &quot;geometry&quot;: {&quot;coordinates&quot;: [[2.2704285000000004, 48.878269499999995], [2.2703743, 48.87821350000001], [2.2702586, 48.87809419999999], [2.2701606, 48.8779127], [2.2701524, 48.87789359999999], [2.2701043999999997, 48.877798299999995], [2.2700896, 48.87776879999999], [2.2700052, 48.87761179999999]], &quot;type&quot;: &quot;LineString&quot;}, &quot;id&quot;: &quot;1552&quot;, &quot;properties&quot;: {&quot;__folium_color&quot;: &quot;black&quot;, &quot;element_type&quot;: null, &quot;highway&quot;: &quot;tertiary&quot;, &quot;name&quot;: &quot;Route de la Porte des Sablons \\u00e0 la Porte Maillot&quot;, &quot;osmid&quot;: 8416284}, &quot;type&quot;: &quot;Feature&quot;}, {&quot;bbox&quot;: [2.3698936999999995, 48.88435449999999, 2.3788972, 48.888830000000006], &quot;geometry&quot;: {&quot;coordinates&quot;: [[2.3788972, 48.888830000000006], [2.3787775, 48.888774399999996], [2.3784719999999995, 48.88861909999999], [2.3780751999999996, 48.8884245], [2.3780039, 48.8883895], [2.3773523, 48.888053799999994], [2.3772366999999996, 48.8879985], [2.377123, 48.8879405], [2.3768165000000003, 48.887789399999996], [2.3760102, 48.887391900000004], [2.3755496, 48.8871649], [2.3754844, 48.887132799999996], [2.3753372, 48.88706129999999], [2.3746233, 48.8867133], [2.3745418, 48.8866744], [2.3743969, 48.886602], [2.37322, 48.8860137], [2.3718996999999997, 48.8853537], [2.3718877, 48.8853477], [2.3718383999999997, 48.8853232], [2.371782, 48.88529549999999], [2.3708663, 48.8848446], [2.3705701, 48.884691999999994], [2.3700022, 48.8843996], [2.3698936999999995, 48.88435449999999]], &quot;type&quot;: &quot;LineString&quot;}, &quot;id&quot;: &quot;1708&quot;, &quot;properties&quot;: {&quot;__folium_color&quot;: &quot;black&quot;, &quot;element_type&quot;: null, &quot;highway&quot;: &quot;residential&quot;, &quot;name&quot;: &quot;Quai de la Seine&quot;, &quot;osmid&quot;: 10661337}, &quot;type&quot;: &quot;Feature&quot;}, {&quot;bbox&quot;: [2.3471157999999996, 48.8223447, 2.3502428, 48.823942499999994], &quot;geometry&quot;: {&quot;coordinates&quot;: [[2.3471157999999996, 48.8223447], [2.3472598, 48.8223842], [2.348259, 48.822745499999996], [2.3483099, 48.82276399999999], [2.3485034999999996, 48.8228359], [2.3488677, 48.822970999999995], [2.3488994, 48.8229914], [2.3489757999999994, 48.82304049999999], [2.349462, 48.82335290000001], [2.3502241999999995, 48.8238426], [2.3502377, 48.8238758], [2.3502428, 48.8238885], [2.3502397, 48.8239076], [2.3502340999999998, 48.823942499999994]], &quot;type&quot;: &quot;LineString&quot;}, &quot;id&quot;: &quot;1889&quot;, &quot;properties&quot;: {&quot;__folium_color&quot;: &quot;black&quot;, &quot;element_type&quot;: null, &quot;highway&quot;: &quot;residential&quot;, &quot;name&quot;: &quot;Rue de la Fontaine \\u00e0 Mulard&quot;, &quot;osmid&quot;: 11288440}, &quot;type&quot;: &quot;Feature&quot;}, {&quot;bbox&quot;: [2.3832569, 48.860481199999995, 2.3858318, 48.8611758], &quot;geometry&quot;: {&quot;coordinates&quot;: [[2.3832569, 48.860481199999995], [2.3833446, 48.86050399999999], [2.3850512999999998, 48.86096130000001], [2.3851444999999996, 48.860983299999994], [2.3852301, 48.8610041], [2.3857548000000004, 48.861141599999996], [2.3858318, 48.8611758]], &quot;type&quot;: &quot;LineString&quot;}, &quot;id&quot;: &quot;2280&quot;, &quot;properties&quot;: {&quot;__folium_color&quot;: &quot;black&quot;, &quot;element_type&quot;: null, &quot;highway&quot;: &quot;residential&quot;, &quot;name&quot;: &quot;Rue Duranti&quot;, &quot;osmid&quot;: 15091821}, &quot;type&quot;: &quot;Feature&quot;}, {&quot;bbox&quot;: [2.3644821999999994, 48.85491729999999, 2.3666116, 48.85633479999999], &quot;geometry&quot;: {&quot;coordinates&quot;: [[2.3666116, 48.8560608], [2.3665853, 48.8559927], [2.3663858, 48.85547960000001], [2.3662042, 48.855011899999994], [2.3661674, 48.85491729999999], [2.3653895, 48.8550481], [2.3653266999999993, 48.855058699999994], [2.3652594999999996, 48.85506989999999], [2.3644821999999994, 48.85520079999999], [2.364519, 48.85529629999999], [2.3646995, 48.85576009999999], [2.3648976, 48.85626969999999], [2.3649228, 48.85633479999999]], &quot;type&quot;: &quot;LineString&quot;}, &quot;id&quot;: &quot;2623&quot;, &quot;properties&quot;: {&quot;__folium_color&quot;: &quot;black&quot;, &quot;element_type&quot;: null, &quot;highway&quot;: &quot;residential&quot;, &quot;name&quot;: &quot;Place des Vosges&quot;, &quot;osmid&quot;: 18232134}, &quot;type&quot;: &quot;Feature&quot;}, {&quot;bbox&quot;: [2.3377566999999995, 48.85527859999999, 2.3399175999999997, 48.85643019999999], &quot;geometry&quot;: {&quot;coordinates&quot;: [[2.3399175999999997, 48.85643019999999], [2.3398185999999996, 48.856381799999994], [2.3395288, 48.8562267], [2.3378131, 48.8552986], [2.3377566999999995, 48.85527859999999]], &quot;type&quot;: &quot;LineString&quot;}, &quot;id&quot;: &quot;2974&quot;, &quot;properties&quot;: {&quot;__folium_color&quot;: &quot;black&quot;, &quot;element_type&quot;: null, &quot;highway&quot;: &quot;residential&quot;, &quot;name&quot;: &quot;Rue Gu\\u00e9n\\u00e9gaud&quot;, &quot;osmid&quot;: 22700860}, &quot;type&quot;: &quot;Feature&quot;}, {&quot;bbox&quot;: [2.3066682999999997, 48.8392143, 2.3082689, 48.8411216], &quot;geometry&quot;: {&quot;coordinates&quot;: [[2.3066682999999997, 48.8411216], [2.3067145, 48.8410572], [2.3072276, 48.84043629999999], [2.3082153, 48.8392776], [2.3082689, 48.8392143]], &quot;type&quot;: &quot;LineString&quot;}, &quot;id&quot;: &quot;3219&quot;, &quot;properties&quot;: {&quot;__folium_color&quot;: &quot;black&quot;, &quot;element_type&quot;: null, &quot;highway&quot;: &quot;residential&quot;, &quot;name&quot;: &quot;Rue Mathurin R\\u00e9gnier&quot;, &quot;osmid&quot;: 23141069}, &quot;type&quot;: &quot;Feature&quot;}, {&quot;bbox&quot;: [2.3382137, 48.824469, 2.3386332999999997, 48.826915299999996], &quot;geometry&quot;: {&quot;coordinates&quot;: [[2.3383302, 48.824469], [2.3383146, 48.8245388], [2.3382609, 48.8247747], [2.3382151, 48.825149200000006], [2.3382137, 48.82522139999999], [2.3382205999999996, 48.82537870000001], [2.3382435, 48.8255674], [2.3382768, 48.8257938], [2.3383208, 48.82596199999999], [2.3383663, 48.82610700000001], [2.338409, 48.826221499999996], [2.338479, 48.8264389], [2.3386081, 48.82683759999999], [2.3386332999999997, 48.826915299999996]], &quot;type&quot;: &quot;LineString&quot;}, &quot;id&quot;: &quot;3247&quot;, &quot;properties&quot;: {&quot;__folium_color&quot;: &quot;black&quot;, &quot;element_type&quot;: null, &quot;highway&quot;: &quot;residential&quot;, &quot;name&quot;: &quot;Avenue de la Sibelle&quot;, &quot;osmid&quot;: 23202856}, &quot;type&quot;: &quot;Feature&quot;}, {&quot;bbox&quot;: [2.3427381, 48.88433109999999, 2.3441377, 48.8844116], &quot;geometry&quot;: {&quot;coordinates&quot;: [[2.3441377, 48.8844116], [2.344034, 48.884408099999995], [2.3440117, 48.8844067], [2.34395, 48.884403], [2.3434538, 48.88437399999999], [2.3433841, 48.88436999999999], [2.343297, 48.884364899999994], [2.3432337, 48.884359999999994], [2.3427746, 48.884337499999994], [2.3427381, 48.88433109999999]], &quot;type&quot;: &quot;LineString&quot;}, &quot;id&quot;: &quot;5541&quot;, &quot;properties&quot;: {&quot;__folium_color&quot;: &quot;black&quot;, &quot;element_type&quot;: null, &quot;highway&quot;: &quot;residential&quot;, &quot;name&quot;: &quot;Place Saint-Pierre&quot;, &quot;osmid&quot;: 45189755}, &quot;type&quot;: &quot;Feature&quot;}, {&quot;bbox&quot;: [2.3402538, 48.8460646, 2.3411616, 48.846277300000004], &quot;geometry&quot;: {&quot;coordinates&quot;: [[2.3411616, 48.8460884], [2.3410302, 48.8460646], [2.3409935, 48.8460655], [2.3409476, 48.84607139999999], [2.3405515, 48.8461849], [2.3404017999999995, 48.8462313], [2.3402538, 48.846277300000004]], &quot;type&quot;: &quot;LineString&quot;}, &quot;id&quot;: &quot;7600&quot;, &quot;properties&quot;: {&quot;__folium_color&quot;: &quot;black&quot;, &quot;element_type&quot;: null, &quot;highway&quot;: &quot;residential&quot;, &quot;name&quot;: &quot;Rue Royer-Collard&quot;, &quot;osmid&quot;: 197591097}, &quot;type&quot;: &quot;Feature&quot;}, {&quot;bbox&quot;: [2.3955124, 48.8776652, 2.3958231, 48.8784635], &quot;geometry&quot;: {&quot;coordinates&quot;: [[2.3958231, 48.8784635], [2.3957008, 48.8782767], [2.3955335, 48.877894], [2.3955124, 48.877845199999996], [2.3955172, 48.877803199999995], [2.395542, 48.87775760000001], [2.3956058000000002, 48.8776652]], &quot;type&quot;: &quot;LineString&quot;}, &quot;id&quot;: &quot;8409&quot;, &quot;properties&quot;: {&quot;__folium_color&quot;: &quot;black&quot;, &quot;element_type&quot;: null, &quot;highway&quot;: &quot;residential&quot;, &quot;name&quot;: &quot;Rue des Lilas&quot;, &quot;osmid&quot;: 362917088}, &quot;type&quot;: &quot;Feature&quot;}, {&quot;bbox&quot;: [2.3820563, 48.86017559999999, 2.3832569, 48.860481199999995], &quot;geometry&quot;: {&quot;coordinates&quot;: [[2.3820563, 48.86017559999999], [2.3821474999999994, 48.8601968], [2.3831729, 48.8604591], [2.3832569, 48.860481199999995]], &quot;type&quot;: &quot;LineString&quot;}, &quot;id&quot;: &quot;8641&quot;, &quot;properties&quot;: {&quot;__folium_color&quot;: &quot;black&quot;, &quot;element_type&quot;: null, &quot;highway&quot;: &quot;residential&quot;, &quot;name&quot;: &quot;Rue Duranti&quot;, &quot;osmid&quot;: 437536463}, &quot;type&quot;: &quot;Feature&quot;}, {&quot;bbox&quot;: [2.3832569, 48.858705699999994, 2.3843309999999995, 48.860481199999995], &quot;geometry&quot;: {&quot;coordinates&quot;: [[2.3832569, 48.860481199999995], [2.3832922999999995, 48.86041980000001], [2.3836193999999997, 48.85988699999999], [2.3836495, 48.859838100000005], [2.3837477999999996, 48.85967459999999], [2.3840183999999995, 48.859224399999995], [2.384245, 48.8588479], [2.3842852, 48.858781199999996], [2.3843309999999995, 48.858705699999994]], &quot;type&quot;: &quot;LineString&quot;}, &quot;id&quot;: &quot;8642&quot;, &quot;properties&quot;: {&quot;__folium_color&quot;: &quot;black&quot;, &quot;element_type&quot;: null, &quot;highway&quot;: &quot;residential&quot;, &quot;name&quot;: &quot;Rue Servan&quot;, &quot;osmid&quot;: 437536464}, &quot;type&quot;: &quot;Feature&quot;}, {&quot;bbox&quot;: [2.3536539999999997, 48.87969940000001, 2.3559421999999994, 48.88016619999999], &quot;geometry&quot;: {&quot;coordinates&quot;: [[2.3536539999999997, 48.88016619999999], [2.353794, 48.880127], [2.3544679, 48.8799186], [2.3546849, 48.87986269999999], [2.354965, 48.8798151], [2.3557548999999995, 48.8797231], [2.3558672999999994, 48.87971], [2.3559421999999994, 48.87969940000001]], &quot;type&quot;: &quot;LineString&quot;}, &quot;id&quot;: &quot;8731&quot;, &quot;properties&quot;: {&quot;__folium_color&quot;: &quot;black&quot;, &quot;element_type&quot;: null, &quot;highway&quot;: &quot;living_street&quot;, &quot;name&quot;: &quot;Rue de Dunkerque&quot;, &quot;osmid&quot;: 476563603}, &quot;type&quot;: &quot;Feature&quot;}, {&quot;bbox&quot;: [2.3624471, 48.8226444, 2.3670454999999997, 48.82494749999999], &quot;geometry&quot;: {&quot;coordinates&quot;: [[2.3670454999999997, 48.8226444], [2.3670002999999995, 48.82266679999999], [2.3668517, 48.8227405], [2.3667382000000003, 48.822795], [2.3663428999999994, 48.822992899999996], [2.3657746, 48.823277499999996], [2.365706, 48.823311399999994], [2.3655835999999995, 48.8233736], [2.3652883999999994, 48.82352319999999], [2.3649080999999996, 48.82371479999999], [2.3639312, 48.824208399999996], [2.3637219000000003, 48.82430930000001], [2.363686, 48.82432659999999], [2.3625549, 48.8248953], [2.3624471, 48.82494749999999]], &quot;type&quot;: &quot;LineString&quot;}, &quot;id&quot;: &quot;9433&quot;, &quot;properties&quot;: {&quot;__folium_color&quot;: &quot;black&quot;, &quot;element_type&quot;: null, &quot;highway&quot;: &quot;secondary&quot;, &quot;name&quot;: &quot;Avenue d\\u0027Ivry&quot;, &quot;osmid&quot;: 625914983}, &quot;type&quot;: &quot;Feature&quot;}, {&quot;bbox&quot;: [2.3956058000000002, 48.8776652, 2.3963643, 48.87805929999999], &quot;geometry&quot;: {&quot;coordinates&quot;: [[2.3956058000000002, 48.8776652], [2.3958651, 48.8778262], [2.3959013, 48.87784320000001], [2.3963643, 48.87805929999999]], &quot;type&quot;: &quot;LineString&quot;}, &quot;id&quot;: &quot;10161&quot;, &quot;properties&quot;: {&quot;__folium_color&quot;: &quot;black&quot;, &quot;element_type&quot;: null, &quot;highway&quot;: &quot;residential&quot;, &quot;name&quot;: &quot;Rue du Pr\\u00e9 Saint-Gervais&quot;, &quot;osmid&quot;: 744928062}, &quot;type&quot;: &quot;Feature&quot;}, {&quot;bbox&quot;: [2.3524118, 48.863059799999995, 2.3527426999999994, 48.86368879999999], &quot;geometry&quot;: {&quot;coordinates&quot;: [[2.3527426999999994, 48.86368879999999], [2.3527243, 48.863655999999985], [2.352512, 48.8632503], [2.3524824999999994, 48.8631936], [2.3524600000000007, 48.8631504], [2.3524507999999997, 48.86313280000001], [2.3524118, 48.863059799999995]], &quot;type&quot;: &quot;LineString&quot;}, &quot;id&quot;: &quot;10851&quot;, &quot;properties&quot;: {&quot;__folium_color&quot;: &quot;black&quot;, &quot;element_type&quot;: null, &quot;highway&quot;: &quot;living_street&quot;, &quot;name&quot;: &quot;Rue Saint-Martin&quot;, &quot;osmid&quot;: 1013677573}, &quot;type&quot;: &quot;Feature&quot;}, {&quot;bbox&quot;: [2.2930231999999995, 48.8317152, 2.2933879999999998, 48.8321075], &quot;geometry&quot;: {&quot;coordinates&quot;: [[2.2933879999999998, 48.8321075], [2.2931981, 48.8319033], [2.2930838999999996, 48.8317805], [2.2930231999999995, 48.8317152]], &quot;type&quot;: &quot;LineString&quot;}, &quot;id&quot;: &quot;10907&quot;, &quot;properties&quot;: {&quot;__folium_color&quot;: &quot;black&quot;, &quot;element_type&quot;: null, &quot;highway&quot;: &quot;residential&quot;, &quot;name&quot;: &quot;Rue Olivier de Serres&quot;, &quot;osmid&quot;: 1016156673}, &quot;type&quot;: &quot;Feature&quot;}, {&quot;bbox&quot;: [2.3485412, 48.823942499999994, 2.3502340999999998, 48.824], &quot;geometry&quot;: {&quot;coordinates&quot;: [[2.3502340999999998, 48.823942499999994], [2.3502061, 48.823943400000005], [2.3501281, 48.8239461], [2.3486852, 48.8239951], [2.3485412, 48.824]], &quot;type&quot;: &quot;LineString&quot;}, &quot;id&quot;: &quot;10969&quot;, &quot;properties&quot;: {&quot;__folium_color&quot;: &quot;black&quot;, &quot;element_type&quot;: null, &quot;highway&quot;: &quot;residential&quot;, &quot;name&quot;: &quot;Rue de la Colonie&quot;, &quot;osmid&quot;: 1068436200}, &quot;type&quot;: &quot;Feature&quot;}, {&quot;bbox&quot;: [2.3373663999999996, 48.81654480000001, 2.3433352999999997, 48.8168224], &quot;geometry&quot;: {&quot;coordinates&quot;: [[2.3433352999999997, 48.81654480000001], [2.3418056, 48.8166275], [2.3411998, 48.816654699999994], [2.3401956, 48.816705600000006], [2.3386506, 48.816796], [2.3380756, 48.8168186], [2.3373663999999996, 48.8168224]], &quot;type&quot;: &quot;LineString&quot;}, &quot;id&quot;: &quot;11049&quot;, &quot;properties&quot;: {&quot;__folium_color&quot;: &quot;black&quot;, &quot;element_type&quot;: null, &quot;highway&quot;: &quot;trunk&quot;, &quot;name&quot;: &quot;Boulevard P\\u00e9riph\\u00e9rique Int\\u00e9rieur&quot;, &quot;osmid&quot;: 1095004039}, &quot;type&quot;: &quot;Feature&quot;}], &quot;type&quot;: &quot;FeatureCollection&quot;});\n",
       "\n",
       "        \n",
       "    \n",
       "    geo_json_d7f745121abfc1e9e78d910786720823.bindTooltip(\n",
       "    function(layer){\n",
       "    let div = L.DomUtil.create(&#x27;div&#x27;);\n",
       "    \n",
       "    let handleObject = feature=&gt;typeof(feature)==&#x27;object&#x27; ? JSON.stringify(feature) : feature;\n",
       "    let fields = [&quot;element_type&quot;, &quot;osmid&quot;, &quot;name&quot;, &quot;highway&quot;];\n",
       "    let aliases = [&quot;element_type&quot;, &quot;osmid&quot;, &quot;name&quot;, &quot;highway&quot;];\n",
       "    let table = &#x27;&lt;table&gt;&#x27; +\n",
       "        String(\n",
       "        fields.map(\n",
       "        (v,i)=&gt;\n",
       "        `&lt;tr&gt;\n",
       "            &lt;th&gt;${aliases[i]}&lt;/th&gt;\n",
       "            \n",
       "            &lt;td&gt;${handleObject(layer.feature.properties[v])}&lt;/td&gt;\n",
       "        &lt;/tr&gt;`).join(&#x27;&#x27;))\n",
       "    +&#x27;&lt;/table&gt;&#x27;;\n",
       "    div.innerHTML=table;\n",
       "    \n",
       "    return div\n",
       "    }\n",
       "    ,{&quot;className&quot;: &quot;foliumtooltip&quot;, &quot;sticky&quot;: true});\n",
       "                     \n",
       "&lt;/script&gt;\n",
       "&lt;/html&gt;\" style=\"position:absolute;width:100%;height:100%;left:0;top:0;border:none !important;\" allowfullscreen webkitallowfullscreen mozallowfullscreen></iframe></div></div>"
      ],
      "text/plain": [
       "<folium.folium.Map at 0x18d1af098b0>"
      ]
     },
     "execution_count": 195,
     "metadata": {},
     "output_type": "execute_result"
    }
   ],
   "source": [
    "gpd.GeoDataFrame(other_columns[prediction==6]).set_geometry(\"geometry\").set_crs(\"3857\").explore(color=\"black\")"
   ]
  },
  {
   "cell_type": "code",
   "execution_count": null,
   "id": "b866abae",
   "metadata": {},
   "outputs": [],
   "source": []
  }
 ],
 "metadata": {
  "kernelspec": {
   "display_name": "Python 3 (ipykernel)",
   "language": "python",
   "name": "python3"
  },
  "language_info": {
   "codemirror_mode": {
    "name": "ipython",
    "version": 3
   },
   "file_extension": ".py",
   "mimetype": "text/x-python",
   "name": "python",
   "nbconvert_exporter": "python",
   "pygments_lexer": "ipython3",
   "version": "3.9.12"
  }
 },
 "nbformat": 4,
 "nbformat_minor": 5
}

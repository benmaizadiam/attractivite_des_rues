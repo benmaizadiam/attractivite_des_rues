{
 "cells": [
  {
   "cell_type": "code",
   "execution_count": 28,
   "id": "c8834ffc",
   "metadata": {
    "ExecuteTime": {
     "end_time": "2023-06-07T12:50:55.968314Z",
     "start_time": "2023-06-07T12:50:55.953257Z"
    }
   },
   "outputs": [],
   "source": [
    "import geopandas as gpd\n",
    "import osmnx as ox\n",
    "import xgboost as xgb\n",
    "import pickle\n",
    "import numpy as np\n",
    "from sklearn.model_selection import train_test_split\n",
    "from sklearn.ensemble import RandomForestRegressor,GradientBoostingRegressor,RandomForestClassifier\n",
    "import time \n",
    "import pandas as pd\n",
    "import matplotlib.pyplot as plt\n",
    "from  sklearn.preprocessing import OrdinalEncoder\n",
    "from sklearn.metrics import confusion_matrix,f1_score,ConfusionMatrixDisplay\n",
    "from sklearn.metrics import roc_auc_score,accuracy_score"
   ]
  },
  {
   "cell_type": "code",
   "execution_count": 6,
   "id": "3ebc1cc0",
   "metadata": {
    "ExecuteTime": {
     "end_time": "2023-06-07T12:35:24.551012Z",
     "start_time": "2023-06-07T12:35:24.541042Z"
    }
   },
   "outputs": [],
   "source": [
    "place_name=\"paris\"\n",
    "path=r\"Y:\\RECHERCHE ET DEV\\10_Modèle d'attractivite des rues\\04_données clients (source)\\osm\\\\\"+place_name.lower()\n",
    "dep=75"
   ]
  },
  {
   "cell_type": "code",
   "execution_count": 3,
   "id": "bb3cb48d",
   "metadata": {
    "ExecuteTime": {
     "end_time": "2023-06-07T12:34:16.624119Z",
     "start_time": "2023-06-07T12:32:28.787985Z"
    }
   },
   "outputs": [],
   "source": [
    "iris_data=pd.read_excel(\"Y:\\REFERENTIEL DATA\\RP 2022 FRANCE\\GEODATA - IRIS\\Geodata_IRIS_essentiels.xlsx\").set_index('CODE_IRIS')\n",
    "contour_iris=gpd.read_file(r'Y:\\REFERENTIEL DATA\\RP 2022 FRANCE\\CARTOGRAPHIE\\Cartographie_France_IRIS_2019\\CONTOURS-IRIS_2-1_SHP_LAMB93_FXX-2019\\CONTOURS-IRIS.shp').to_crs('EPSG:3857')\n",
    "building=pd.read_pickle(path+r\"\\\\raw data\\\\building.pkl\").to_crs('EPSG:3857')"
   ]
  },
  {
   "cell_type": "code",
   "execution_count": 4,
   "id": "37c3c949",
   "metadata": {
    "ExecuteTime": {
     "end_time": "2023-06-07T12:34:16.685807Z",
     "start_time": "2023-06-07T12:34:16.626130Z"
    }
   },
   "outputs": [],
   "source": [
    "building_no_na=building[building['building']!=\"yes\"]\n",
    "building_na=building[building['building']==\"yes\"]"
   ]
  },
  {
   "cell_type": "code",
   "execution_count": 7,
   "id": "d2ac5ed3",
   "metadata": {
    "ExecuteTime": {
     "end_time": "2023-06-07T12:35:25.835761Z",
     "start_time": "2023-06-07T12:35:25.811732Z"
    }
   },
   "outputs": [],
   "source": [
    "#get contours of Paris only \n",
    "dep_contour_iris=contour_iris[contour_iris['INSEE_COM'].isin([str(i) for i in range(dep*1000,(dep+1)*1000)])]"
   ]
  },
  {
   "cell_type": "code",
   "execution_count": 8,
   "id": "23fdae30",
   "metadata": {
    "ExecuteTime": {
     "end_time": "2023-06-07T12:35:43.770189Z",
     "start_time": "2023-06-07T12:35:41.467870Z"
    }
   },
   "outputs": [],
   "source": [
    "a=gpd.sjoin(building,dep_contour_iris,predicate=\"intersects\",how=\"left\")\n",
    "a = a[~a.index.duplicated(keep='first')].reset_index()"
   ]
  },
  {
   "cell_type": "code",
   "execution_count": 9,
   "id": "09058835",
   "metadata": {
    "ExecuteTime": {
     "end_time": "2023-06-07T12:35:43.850790Z",
     "start_time": "2023-06-07T12:35:43.772217Z"
    }
   },
   "outputs": [],
   "source": [
    "iris_building_id=a[[\"index_right\",'element_type',\"osmid\"]].copy()\n",
    "iris_building_id=iris_building_id.set_index(['element_type',\"osmid\"])"
   ]
  },
  {
   "cell_type": "code",
   "execution_count": 10,
   "id": "e1864e16",
   "metadata": {
    "ExecuteTime": {
     "end_time": "2023-06-07T12:36:38.314570Z",
     "start_time": "2023-06-07T12:35:49.251825Z"
    }
   },
   "outputs": [],
   "source": [
    "a=gpd.GeoDataFrame(\n",
    "    a[['element_type',\"osmid\",\"CODE_IRIS\"]].merge(contour_iris[['CODE_IRIS',\"geometry\"]]),\n",
    "\n",
    ").set_geometry(\"geometry\").set_crs('EPSG:3857')\n",
    "\n",
    "xx=gpd.sjoin(a,dep_contour_iris,predicate=\"touches\")\n"
   ]
  },
  {
   "cell_type": "code",
   "execution_count": 11,
   "id": "9cdd617e",
   "metadata": {
    "ExecuteTime": {
     "end_time": "2023-06-07T12:36:40.974339Z",
     "start_time": "2023-06-07T12:36:38.314570Z"
    }
   },
   "outputs": [],
   "source": [
    "nearby_buildings=xx[[\"osmid\",'element_type',\"CODE_IRIS_left\",\"index_right\"]].groupby([\"element_type\",'osmid'])['index_right'].apply(list)"
   ]
  },
  {
   "cell_type": "code",
   "execution_count": 12,
   "id": "cb896f4b",
   "metadata": {
    "ExecuteTime": {
     "end_time": "2023-06-07T12:36:41.244756Z",
     "start_time": "2023-06-07T12:36:40.974339Z"
    }
   },
   "outputs": [],
   "source": [
    "nearby_buildings=nearby_buildings.to_dict()"
   ]
  },
  {
   "cell_type": "code",
   "execution_count": 16,
   "id": "df7ed4ad",
   "metadata": {
    "ExecuteTime": {
     "end_time": "2023-06-07T12:37:23.627711Z",
     "start_time": "2023-06-07T12:37:23.605665Z"
    }
   },
   "outputs": [
    {
     "name": "stderr",
     "output_type": "stream",
     "text": [
      "C:\\Users\\Diametrix\\AppData\\Roaming\\Python\\Python39\\site-packages\\geopandas\\geodataframe.py:1538: SettingWithCopyWarning: \n",
      "A value is trying to be set on a copy of a slice from a DataFrame.\n",
      "Try using .loc[row_indexer,col_indexer] = value instead\n",
      "\n",
      "See the caveats in the documentation: https://pandas.pydata.org/pandas-docs/stable/user_guide/indexing.html#returning-a-view-versus-a-copy\n",
      "  super().__setitem__(key, value)\n"
     ]
    }
   ],
   "source": [
    "building_no_na['building']=np.where(building_no_na['building'].isin(['apartments',\"house\",\"residential\"]),1,0)"
   ]
  },
  {
   "cell_type": "code",
   "execution_count": 18,
   "id": "e298425c",
   "metadata": {
    "ExecuteTime": {
     "end_time": "2023-06-07T12:37:43.404101Z",
     "start_time": "2023-06-07T12:37:43.365785Z"
    }
   },
   "outputs": [],
   "source": [
    "train,test =train_test_split(building_no_na,random_state=123)"
   ]
  },
  {
   "cell_type": "markdown",
   "id": "517997f1",
   "metadata": {},
   "source": [
    "# constant (mode)"
   ]
  },
  {
   "cell_type": "code",
   "execution_count": 17,
   "id": "d1d79ec8",
   "metadata": {
    "ExecuteTime": {
     "end_time": "2023-06-07T12:37:25.082557Z",
     "start_time": "2023-06-07T12:37:25.069591Z"
    }
   },
   "outputs": [
    {
     "data": {
      "text/plain": [
       "1    22547\n",
       "0     5587\n",
       "Name: building, dtype: int64"
      ]
     },
     "execution_count": 17,
     "metadata": {},
     "output_type": "execute_result"
    }
   ],
   "source": [
    "building_no_na['building'].value_counts()"
   ]
  },
  {
   "cell_type": "code",
   "execution_count": 19,
   "id": "578ac35c",
   "metadata": {
    "ExecuteTime": {
     "end_time": "2023-06-07T12:37:52.309347Z",
     "start_time": "2023-06-07T12:37:52.284284Z"
    }
   },
   "outputs": [],
   "source": [
    "prediction=[train['building'].mode().values[0]]*len(test)"
   ]
  },
  {
   "cell_type": "code",
   "execution_count": 24,
   "id": "edca8657",
   "metadata": {
    "ExecuteTime": {
     "end_time": "2023-06-07T12:38:34.876452Z",
     "start_time": "2023-06-07T12:38:34.854091Z"
    }
   },
   "outputs": [
    {
     "data": {
      "text/plain": [
       "0.5"
      ]
     },
     "execution_count": 24,
     "metadata": {},
     "output_type": "execute_result"
    }
   ],
   "source": [
    "roc_auc_score(test['building'],prediction,average=None)"
   ]
  },
  {
   "cell_type": "code",
   "execution_count": 25,
   "id": "a10a091e",
   "metadata": {
    "ExecuteTime": {
     "end_time": "2023-06-07T12:38:37.861266Z",
     "start_time": "2023-06-07T12:38:37.412869Z"
    }
   },
   "outputs": [
    {
     "data": {
      "text/plain": [
       "<Figure size 1440x1440 with 0 Axes>"
      ]
     },
     "metadata": {},
     "output_type": "display_data"
    },
    {
     "data": {
      "image/png": "[encoded data removed]",
      "text/plain": [
       "<Figure size 1080x1080 with 2 Axes>"
      ]
     },
     "metadata": {
      "needs_background": "light"
     },
     "output_type": "display_data"
    }
   ],
   "source": [
    "import seaborn as sns\n",
    "import matplotlib.pyplot as plt \n",
    "plt.figure(figsize=(20,20))\n",
    "p=ConfusionMatrixDisplay(confusion_matrix(test['building'],prediction))\n",
    "p.plot()\n",
    "fig = p.ax_.get_figure() \n",
    "fig.set_figwidth(15)\n",
    "fig.set_figheight(15)  \n",
    "plt.show()"
   ]
  },
  {
   "cell_type": "markdown",
   "id": "2e010edf",
   "metadata": {},
   "source": [
    "# KNN -mode"
   ]
  },
  {
   "cell_type": "code",
   "execution_count": 44,
   "id": "087fce43",
   "metadata": {
    "ExecuteTime": {
     "end_time": "2023-06-07T16:45:30.244603Z",
     "start_time": "2023-06-07T13:21:48.804170Z"
    },
    "scrolled": true
   },
   "outputs": [
    {
     "name": "stdout",
     "output_type": "stream",
     "text": [
      "K : 1\n",
      "0\n",
      "2000\n",
      "4000\n",
      "6000\n",
      "AUC : 0.8171915332523696\n",
      "Accurcay : 0.8947967017344327\n",
      "K : 2\n",
      "0\n",
      "2000\n",
      "4000\n",
      "6000\n",
      "AUC : 0.8353200094848348\n",
      "Accurcay : 0.858117713960762\n",
      "K : 4\n",
      "0\n",
      "2000\n",
      "4000\n",
      "6000\n",
      "AUC : 0.7755395336897745\n",
      "Accurcay : 0.867785044071652\n",
      "K : 5\n",
      "0\n",
      "2000\n",
      "4000\n",
      "6000\n",
      "AUC : 0.7330305630892844\n",
      "Accurcay : 0.8758885413704862\n",
      "K : 10\n",
      "0\n",
      "2000\n",
      "4000\n",
      "6000\n",
      "AUC : 0.7085997723072968\n",
      "Accurcay : 0.8628092123969292\n"
     ]
    }
   ],
   "source": [
    "prediction=[]\n",
    "for k in [1,2,4,5,10]:\n",
    "    prediction=[]\n",
    "    print(\"K :\",k)\n",
    "    for i in range(len(test)):\n",
    "        if i%2000==0:print(i)\n",
    "        distances=building_no_na.distance(test.iloc[i]['geometry']).sort_values()\n",
    "\n",
    "        distances=distances.drop(test.iloc[i:].index[0])\n",
    "        prediction.append(building_no_na.loc[building_no_na.distance(test.iloc[i]['geometry']).sort_values().iloc[1:k+1].index,\"building\"].mode().values[0] )\n",
    "\n",
    "\n",
    "    print(\"AUC :\",roc_auc_score(test['building'],prediction,average=None))\n",
    "    print(\"Accurcay :\",accuracy_score(test['building'],prediction))"
   ]
  },
  {
   "cell_type": "code",
   "execution_count": 45,
   "id": "540e01e8",
   "metadata": {
    "ExecuteTime": {
     "end_time": "2023-06-08T06:01:50.818315Z",
     "start_time": "2023-06-08T06:01:50.561874Z"
    }
   },
   "outputs": [
    {
     "data": {
      "text/plain": [
       "<Figure size 1440x1440 with 0 Axes>"
      ]
     },
     "metadata": {},
     "output_type": "display_data"
    },
    {
     "data": {
      "image/png": "[encoded data removed]",
      "text/plain": [
       "<Figure size 1080x1080 with 2 Axes>"
      ]
     },
     "metadata": {
      "needs_background": "light"
     },
     "output_type": "display_data"
    }
   ],
   "source": [
    "import seaborn as sns\n",
    "import matplotlib.pyplot as plt \n",
    "plt.figure(figsize=(20,20))\n",
    "p=ConfusionMatrixDisplay(confusion_matrix(test['building'],prediction))\n",
    "p.plot()\n",
    "fig = p.ax_.get_figure() \n",
    "fig.set_figwidth(15)\n",
    "fig.set_figheight(15)  \n",
    "plt.show()"
   ]
  },
  {
   "cell_type": "code",
   "execution_count": null,
   "id": "746ed9fd",
   "metadata": {},
   "outputs": [],
   "source": []
  }
 ],
 "metadata": {
  "kernelspec": {
   "display_name": "Python 3 (ipykernel)",
   "language": "python",
   "name": "python3"
  },
  "language_info": {
   "codemirror_mode": {
    "name": "ipython",
    "version": 3
   },
   "file_extension": ".py",
   "mimetype": "text/x-python",
   "name": "python",
   "nbconvert_exporter": "python",
   "pygments_lexer": "ipython3",
   "version": "3.9.12"
  }
 },
 "nbformat": 4,
 "nbformat_minor": 5
}

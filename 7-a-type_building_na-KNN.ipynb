{
 "cells": [
  {
   "cell_type": "code",
   "execution_count": 1,
   "id": "c8834ffc",
   "metadata": {
    "ExecuteTime": {
     "end_time": "2023-08-21T10:26:18.290982Z",
     "start_time": "2023-08-21T10:26:10.379641Z"
    }
   },
   "outputs": [
    {
     "name": "stderr",
     "output_type": "stream",
     "text": [
      "C:\\Users\\Diametrix\\anaconda3\\lib\\site-packages\\numpy\\_distributor_init.py:30: UserWarning: loaded more than 1 DLL from .libs:\n",
      "C:\\Users\\Diametrix\\anaconda3\\lib\\site-packages\\numpy\\.libs\\libopenblas.FB5AE2TYXYH2IJRDKGDGQ3XBKLKTF43H.gfortran-win_amd64.dll\n",
      "C:\\Users\\Diametrix\\anaconda3\\lib\\site-packages\\numpy\\.libs\\libopenblas.GK7GX5KEQ4F6UYO3P26ULGBQYHGQO7J4.gfortran-win_amd64.dll\n",
      "  warnings.warn(\"loaded more than 1 DLL from .libs:\"\n",
      "C:\\Users\\Diametrix\\AppData\\Roaming\\Python\\Python39\\site-packages\\geopandas\\_compat.py:124: UserWarning: The Shapely GEOS version (3.11.1-CAPI-1.17.1) is incompatible with the GEOS version PyGEOS was compiled with (3.10.4-CAPI-1.16.2). Conversions between both will be slow.\n",
      "  warnings.warn(\n",
      "C:\\Users\\Diametrix\\AppData\\Local\\Temp\\ipykernel_948\\3475871976.py:1: DeprecationWarning: Shapely 2.0 is installed, but because PyGEOS is also installed, GeoPandas still uses PyGEOS by default. However, starting with version 0.14, the default will switch to Shapely. To force to use Shapely 2.0 now, you can either uninstall PyGEOS or set the environment variable USE_PYGEOS=0. You can do this before starting the Python process, or in your code before importing geopandas:\n",
      "\n",
      "import os\n",
      "os.environ['USE_PYGEOS'] = '0'\n",
      "import geopandas\n",
      "\n",
      "In the next release, GeoPandas will switch to using Shapely by default, even if PyGEOS is installed. If you only have PyGEOS installed to get speed-ups, this switch should be smooth. However, if you are using PyGEOS directly (calling PyGEOS functions on geometries from GeoPandas), this will then stop working and you are encouraged to migrate from PyGEOS to Shapely 2.0 (https://shapely.readthedocs.io/en/latest/migration_pygeos.html).\n",
      "  import geopandas as gpd\n"
     ]
    }
   ],
   "source": [
    "import geopandas as gpd\n",
    "import osmnx as ox\n",
    "import xgboost as xgb\n",
    "import pickle\n",
    "import numpy as np\n",
    "from sklearn.model_selection import train_test_split\n",
    "from sklearn.ensemble import RandomForestRegressor,GradientBoostingRegressor,RandomForestClassifier\n",
    "import time \n",
    "import pandas as pd\n",
    "import matplotlib.pyplot as plt\n",
    "from  sklearn.preprocessing import OrdinalEncoder\n",
    "from sklearn.metrics import confusion_matrix,f1_score,ConfusionMatrixDisplay\n",
    "from sklearn.metrics import roc_auc_score,accuracy_score"
   ]
  },
  {
   "cell_type": "code",
   "execution_count": 2,
   "id": "ac7103b8",
   "metadata": {
    "ExecuteTime": {
     "end_time": "2023-08-21T10:26:50.196426Z",
     "start_time": "2023-08-21T10:26:18.296979Z"
    }
   },
   "outputs": [],
   "source": [
    "#load saved data\n",
    "all_building=pickle.load(open(r\"Y:\\RECHERCHE ET DEV\\10_Modèle d'attractivite des rues\\04_données clients (source)\\osm filtre\\\\all_buildings.pkl\",\"rb\"))\n",
    "iris_building_id=pickle.load(open(r\"Y:\\RECHERCHE ET DEV\\10_Modèle d'attractivite des rues\\04_données clients (source)\\osm filtre\\\\iris_building_id.pkl\",\"rb\"))\n",
    "building_no_na=pickle.load(open(r\"Y:\\RECHERCHE ET DEV\\10_Modèle d'attractivite des rues\\04_données clients (source)\\osm filtre\\\\building_no_na_type.pkl\",'rb'))"
   ]
  },
  {
   "cell_type": "code",
   "execution_count": 3,
   "id": "df7ed4ad",
   "metadata": {
    "ExecuteTime": {
     "end_time": "2023-08-21T10:26:50.260260Z",
     "start_time": "2023-08-21T10:26:50.198452Z"
    }
   },
   "outputs": [],
   "source": [
    "building_no_na['building']=np.where(building_no_na['building'].isin(['apartments',\"house\",\"residential\"]),1,0)"
   ]
  },
  {
   "cell_type": "code",
   "execution_count": 4,
   "id": "e298425c",
   "metadata": {
    "ExecuteTime": {
     "end_time": "2023-08-21T10:26:50.973161Z",
     "start_time": "2023-08-21T10:26:50.262254Z"
    }
   },
   "outputs": [],
   "source": [
    "train,test =train_test_split(building_no_na,random_state=123)"
   ]
  },
  {
   "cell_type": "markdown",
   "id": "517997f1",
   "metadata": {},
   "source": [
    "# constant (mode)"
   ]
  },
  {
   "cell_type": "code",
   "execution_count": 7,
   "id": "d1d79ec8",
   "metadata": {
    "ExecuteTime": {
     "end_time": "2023-08-17T13:42:00.607112Z",
     "start_time": "2023-08-17T13:42:00.536071Z"
    }
   },
   "outputs": [],
   "source": [
    "iris_building_id_=iris_building_id.reset_index(\"index_right\")"
   ]
  },
  {
   "cell_type": "code",
   "execution_count": 9,
   "id": "578ac35c",
   "metadata": {
    "ExecuteTime": {
     "end_time": "2023-08-17T13:42:16.707850Z",
     "start_time": "2023-08-17T13:42:12.492553Z"
    }
   },
   "outputs": [],
   "source": [
    "iris_building_id_=iris_building_id_.loc[train.index]\n",
    "iris_building_id_['building_index']=list(iris_building_id_.index)\n",
    "a=iris_building_id_.groupby(\"index_right\")['building_index'].apply(list)"
   ]
  },
  {
   "cell_type": "code",
   "execution_count": 19,
   "id": "edca8657",
   "metadata": {
    "ExecuteTime": {
     "end_time": "2023-08-17T13:56:05.739753Z",
     "start_time": "2023-08-17T13:50:44.191465Z"
    }
   },
   "outputs": [],
   "source": [
    "def g(x):\n",
    "    mode=building_no_na.loc[x[\"building_index\"]]['building'].mode().values[0]\n",
    "    if mode <=0:\n",
    "        return 1\n",
    "    else:\n",
    "        return mode\n",
    "a=a.reset_index()\n",
    "a['mode']=a.apply(lambda x:g(x),axis=1)"
   ]
  },
  {
   "cell_type": "code",
   "execution_count": 22,
   "id": "5d249643",
   "metadata": {
    "ExecuteTime": {
     "end_time": "2023-08-17T13:57:54.790331Z",
     "start_time": "2023-08-17T13:57:53.541397Z"
    }
   },
   "outputs": [],
   "source": [
    "iris_test_index=pd.DataFrame([],index=iris_building_id.index.drop_duplicates()).reset_index(\"index_right\").loc[test.index]['index_right'].values"
   ]
  },
  {
   "cell_type": "code",
   "execution_count": 23,
   "id": "176bdd61",
   "metadata": {
    "ExecuteTime": {
     "end_time": "2023-08-17T13:58:51.944715Z",
     "start_time": "2023-08-17T13:57:54.791972Z"
    }
   },
   "outputs": [],
   "source": [
    "y_pred=[]\n",
    "for ind in iris_test_index:\n",
    "    if ind in a.index:\n",
    "        y_pred.append(a.loc[ind,\"mode\"])\n",
    "        \n",
    "    else:\n",
    "        y_pred.append(building_no_na['building'].mean().round())"
   ]
  },
  {
   "cell_type": "code",
   "execution_count": null,
   "id": "ab1395f0",
   "metadata": {},
   "outputs": [],
   "source": []
  },
  {
   "cell_type": "code",
   "execution_count": 28,
   "id": "a10a091e",
   "metadata": {
    "ExecuteTime": {
     "end_time": "2023-08-17T14:00:50.814972Z",
     "start_time": "2023-08-17T14:00:50.576200Z"
    }
   },
   "outputs": [
    {
     "data": {
      "text/plain": [
       "<Figure size 1440x1440 with 0 Axes>"
      ]
     },
     "metadata": {},
     "output_type": "display_data"
    },
    {
     "data": {
      "image/png": "[encoded data removed]",
      "text/plain": [
       "<Figure size 1080x1080 with 2 Axes>"
      ]
     },
     "metadata": {
      "needs_background": "light"
     },
     "output_type": "display_data"
    }
   ],
   "source": [
    "import seaborn as sns\n",
    "import matplotlib.pyplot as plt \n",
    "plt.figure(figsize=(20,20))\n",
    "p=ConfusionMatrixDisplay(confusion_matrix(test['building'].values,y_pred))\n",
    "p.plot()\n",
    "fig = p.ax_.get_figure() \n",
    "fig.set_figwidth(15)\n",
    "fig.set_figheight(15)  \n",
    "plt.show()"
   ]
  },
  {
   "cell_type": "markdown",
   "id": "2e010edf",
   "metadata": {},
   "source": [
    "# KNN -mode"
   ]
  },
  {
   "cell_type": "code",
   "execution_count": 5,
   "id": "c7714087",
   "metadata": {
    "ExecuteTime": {
     "end_time": "2023-08-21T10:26:51.036788Z",
     "start_time": "2023-08-21T10:26:50.975071Z"
    }
   },
   "outputs": [],
   "source": [
    "iris_building_id=iris_building_id.reset_index('index_right')"
   ]
  },
  {
   "cell_type": "code",
   "execution_count": 6,
   "id": "087fce43",
   "metadata": {
    "ExecuteTime": {
     "end_time": "2023-08-21T10:26:55.672436Z",
     "start_time": "2023-08-21T10:26:51.037789Z"
    },
    "scrolled": true
   },
   "outputs": [],
   "source": [
    "\n",
    "iris_building_group=iris_building_id.copy()\n",
    "iris_building_group['building_index']=list(iris_building_id.index)\n",
    "iris_building_group=iris_building_group.groupby(\"index_right\")['building_index'].apply(list)"
   ]
  },
  {
   "cell_type": "code",
   "execution_count": 27,
   "id": "313f9fab",
   "metadata": {
    "ExecuteTime": {
     "end_time": "2023-08-22T11:23:10.944134Z",
     "start_time": "2023-08-22T11:23:10.224568Z"
    }
   },
   "outputs": [],
   "source": [
    "all_building['building']=np.where(all_building['building'].isin([\"apartments\",\"terrace\",\"semidetached_house\",\"residential\",\"house\",\"hotel\",\"farm\",\"dormitory\",\"detached\"]),1,0)"
   ]
  },
  {
   "cell_type": "code",
   "execution_count": 42,
   "id": "d47bc1f1",
   "metadata": {
    "ExecuteTime": {
     "end_time": "2023-08-22T12:26:08.405278Z",
     "start_time": "2023-08-22T12:26:08.356203Z"
    }
   },
   "outputs": [],
   "source": [
    "sample=building_no_na.sample(n=10000)"
   ]
  },
  {
   "cell_type": "code",
   "execution_count": 43,
   "id": "da21b7e1",
   "metadata": {
    "ExecuteTime": {
     "end_time": "2023-08-22T13:38:22.562221Z",
     "start_time": "2023-08-22T12:26:11.099934Z"
    }
   },
   "outputs": [
    {
     "name": "stdout",
     "output_type": "stream",
     "text": [
      "4331.450138092041\n"
     ]
    }
   ],
   "source": [
    "import warnings\n",
    "\n",
    "def knn(x,k=10):\n",
    "    ind=(x['element_type'],x['osmid'])\n",
    "    iris_=iris_building_id.loc[ind].values[0][0]\n",
    "    warnings.filterwarnings(\"ignore\")\n",
    "    building_same_iris=all_building.loc[iris_building_group.loc[iris_]]\n",
    "    distances=building_same_iris.distance(x['geometry']).sort_values()\n",
    "    distances=distances.drop(ind)\n",
    "    type_building=building_same_iris.loc[distances.index]['building']\n",
    "    type_building=type_building[type_building!=\"yes\"]\n",
    "   \n",
    "    \n",
    "    if len(type_building)==0:return 0\n",
    "    else:return type_building.iloc[:k].mode().values[0]\n",
    "        \n",
    "import time\n",
    "start=time.time()\n",
    "result=sample.reset_index().apply(lambda x:knn(x),axis=1)\n",
    "print(time.time()-start)"
   ]
  },
  {
   "cell_type": "code",
   "execution_count": 45,
   "id": "540e01e8",
   "metadata": {
    "ExecuteTime": {
     "end_time": "2023-08-22T14:14:45.135449Z",
     "start_time": "2023-08-22T14:14:44.637154Z"
    }
   },
   "outputs": [
    {
     "data": {
      "text/plain": [
       "<Figure size 1440x1440 with 0 Axes>"
      ]
     },
     "metadata": {},
     "output_type": "display_data"
    },
    {
     "data": {
      "image/png": "[encoded data removed]",
      "text/plain": [
       "<Figure size 1080x1080 with 2 Axes>"
      ]
     },
     "metadata": {
      "needs_background": "light"
     },
     "output_type": "display_data"
    }
   ],
   "source": [
    "import seaborn as sns\n",
    "import matplotlib.pyplot as plt \n",
    "plt.figure(figsize=(20,20))\n",
    "p=ConfusionMatrixDisplay(confusion_matrix(sample['building'],result))\n",
    "p.plot()\n",
    "fig = p.ax_.get_figure() \n",
    "fig.set_figwidth(15)\n",
    "fig.set_figheight(15)  \n",
    "plt.show()"
   ]
  },
  {
   "cell_type": "code",
   "execution_count": 46,
   "id": "0379806e",
   "metadata": {
    "ExecuteTime": {
     "end_time": "2023-08-22T14:17:57.124850Z",
     "start_time": "2023-08-22T14:17:57.084505Z"
    }
   },
   "outputs": [
    {
     "data": {
      "text/html": [
       "<div>\n",
       "<style scoped>\n",
       "    .dataframe tbody tr th:only-of-type {\n",
       "        vertical-align: middle;\n",
       "    }\n",
       "\n",
       "    .dataframe tbody tr th {\n",
       "        vertical-align: top;\n",
       "    }\n",
       "\n",
       "    .dataframe thead th {\n",
       "        text-align: right;\n",
       "    }\n",
       "</style>\n",
       "<table border=\"1\" class=\"dataframe\">\n",
       "  <thead>\n",
       "    <tr style=\"text-align: right;\">\n",
       "      <th></th>\n",
       "      <th></th>\n",
       "      <th>geometry</th>\n",
       "      <th>building</th>\n",
       "      <th>shop</th>\n",
       "      <th>building:levels</th>\n",
       "      <th>amenity</th>\n",
       "      <th>name</th>\n",
       "      <th>addr:street</th>\n",
       "      <th>addr:city</th>\n",
       "      <th>addr:housenumber</th>\n",
       "      <th>addr:postcode</th>\n",
       "    </tr>\n",
       "    <tr>\n",
       "      <th>element_type</th>\n",
       "      <th>osmid</th>\n",
       "      <th></th>\n",
       "      <th></th>\n",
       "      <th></th>\n",
       "      <th></th>\n",
       "      <th></th>\n",
       "      <th></th>\n",
       "      <th></th>\n",
       "      <th></th>\n",
       "      <th></th>\n",
       "      <th></th>\n",
       "    </tr>\n",
       "  </thead>\n",
       "  <tbody>\n",
       "    <tr>\n",
       "      <th rowspan=\"9\" valign=\"top\">way</th>\n",
       "      <th>78149779</th>\n",
       "      <td>POLYGON ((547418.360 5759209.807, 547410.067 5...</td>\n",
       "      <td>0</td>\n",
       "      <td>NaN</td>\n",
       "      <td>2.0</td>\n",
       "      <td>NaN</td>\n",
       "      <td>NaN</td>\n",
       "      <td>NaN</td>\n",
       "      <td>NaN</td>\n",
       "      <td>19</td>\n",
       "      <td>NaN</td>\n",
       "    </tr>\n",
       "    <tr>\n",
       "      <th>78149812</th>\n",
       "      <td>POLYGON ((547600.858 5759996.703, 547585.073 5...</td>\n",
       "      <td>0</td>\n",
       "      <td>NaN</td>\n",
       "      <td>4.0</td>\n",
       "      <td>NaN</td>\n",
       "      <td>NaN</td>\n",
       "      <td>NaN</td>\n",
       "      <td>NaN</td>\n",
       "      <td>NaN</td>\n",
       "      <td>NaN</td>\n",
       "    </tr>\n",
       "    <tr>\n",
       "      <th>78149829</th>\n",
       "      <td>POLYGON ((550511.094 5753205.122, 550507.432 5...</td>\n",
       "      <td>0</td>\n",
       "      <td>NaN</td>\n",
       "      <td>2.0</td>\n",
       "      <td>place_of_worship</td>\n",
       "      <td>Église de l'Immaculée Conception</td>\n",
       "      <td>NaN</td>\n",
       "      <td>NaN</td>\n",
       "      <td>NaN</td>\n",
       "      <td>NaN</td>\n",
       "    </tr>\n",
       "    <tr>\n",
       "      <th>78149831</th>\n",
       "      <td>POLYGON ((546440.920 5758540.666, 546404.062 5...</td>\n",
       "      <td>0</td>\n",
       "      <td>NaN</td>\n",
       "      <td>1.0</td>\n",
       "      <td>NaN</td>\n",
       "      <td>NaN</td>\n",
       "      <td>NaN</td>\n",
       "      <td>NaN</td>\n",
       "      <td>NaN</td>\n",
       "      <td>NaN</td>\n",
       "    </tr>\n",
       "    <tr>\n",
       "      <th>78149871</th>\n",
       "      <td>POLYGON ((547365.840 5758995.472, 547353.105 5...</td>\n",
       "      <td>0</td>\n",
       "      <td>NaN</td>\n",
       "      <td>1.0</td>\n",
       "      <td>NaN</td>\n",
       "      <td>NaN</td>\n",
       "      <td>NaN</td>\n",
       "      <td>NaN</td>\n",
       "      <td>3</td>\n",
       "      <td>NaN</td>\n",
       "    </tr>\n",
       "    <tr>\n",
       "      <th>...</th>\n",
       "      <td>...</td>\n",
       "      <td>...</td>\n",
       "      <td>...</td>\n",
       "      <td>...</td>\n",
       "      <td>...</td>\n",
       "      <td>...</td>\n",
       "      <td>...</td>\n",
       "      <td>...</td>\n",
       "      <td>...</td>\n",
       "      <td>...</td>\n",
       "    </tr>\n",
       "    <tr>\n",
       "      <th>1060293441</th>\n",
       "      <td>POLYGON ((267490.039 6275617.467, 267481.088 6...</td>\n",
       "      <td>1</td>\n",
       "      <td>NaN</td>\n",
       "      <td>6.0</td>\n",
       "      <td>NaN</td>\n",
       "      <td>NaN</td>\n",
       "      <td>NaN</td>\n",
       "      <td>NaN</td>\n",
       "      <td>NaN</td>\n",
       "      <td>NaN</td>\n",
       "    </tr>\n",
       "    <tr>\n",
       "      <th>1064444549</th>\n",
       "      <td>POLYGON ((265683.524 6276015.664, 265668.295 6...</td>\n",
       "      <td>0</td>\n",
       "      <td>NaN</td>\n",
       "      <td>3.0</td>\n",
       "      <td>NaN</td>\n",
       "      <td>NaN</td>\n",
       "      <td>NaN</td>\n",
       "      <td>NaN</td>\n",
       "      <td>NaN</td>\n",
       "      <td>NaN</td>\n",
       "    </tr>\n",
       "    <tr>\n",
       "      <th>1092185388</th>\n",
       "      <td>POLYGON ((265291.189 6276508.935, 265315.056 6...</td>\n",
       "      <td>1</td>\n",
       "      <td>NaN</td>\n",
       "      <td>2.0</td>\n",
       "      <td>NaN</td>\n",
       "      <td>NaN</td>\n",
       "      <td>NaN</td>\n",
       "      <td>NaN</td>\n",
       "      <td>NaN</td>\n",
       "      <td>NaN</td>\n",
       "    </tr>\n",
       "    <tr>\n",
       "      <th rowspan=\"2\" valign=\"top\">relation</th>\n",
       "      <th>5160713</th>\n",
       "      <td>POLYGON ((265689.168 6275149.938, 265687.620 6...</td>\n",
       "      <td>0</td>\n",
       "      <td>NaN</td>\n",
       "      <td>4.0</td>\n",
       "      <td>NaN</td>\n",
       "      <td>NaN</td>\n",
       "      <td>NaN</td>\n",
       "      <td>NaN</td>\n",
       "      <td>NaN</td>\n",
       "      <td>NaN</td>\n",
       "    </tr>\n",
       "    <tr>\n",
       "      <th>5160715</th>\n",
       "      <td>POLYGON ((267720.904 6275289.149, 267735.776 6...</td>\n",
       "      <td>0</td>\n",
       "      <td>NaN</td>\n",
       "      <td>2.0</td>\n",
       "      <td>NaN</td>\n",
       "      <td>Centre de Formation et d'Aprentissage IMA</td>\n",
       "      <td>Avenue Pierre Semard</td>\n",
       "      <td>Villiers-le-Bel</td>\n",
       "      <td>43</td>\n",
       "      <td>95400</td>\n",
       "    </tr>\n",
       "  </tbody>\n",
       "</table>\n",
       "<p>557446 rows × 10 columns</p>\n",
       "</div>"
      ],
      "text/plain": [
       "                                                                  geometry  \\\n",
       "element_type osmid                                                           \n",
       "way          78149779    POLYGON ((547418.360 5759209.807, 547410.067 5...   \n",
       "             78149812    POLYGON ((547600.858 5759996.703, 547585.073 5...   \n",
       "             78149829    POLYGON ((550511.094 5753205.122, 550507.432 5...   \n",
       "             78149831    POLYGON ((546440.920 5758540.666, 546404.062 5...   \n",
       "             78149871    POLYGON ((547365.840 5758995.472, 547353.105 5...   \n",
       "...                                                                    ...   \n",
       "             1060293441  POLYGON ((267490.039 6275617.467, 267481.088 6...   \n",
       "             1064444549  POLYGON ((265683.524 6276015.664, 265668.295 6...   \n",
       "             1092185388  POLYGON ((265291.189 6276508.935, 265315.056 6...   \n",
       "relation     5160713     POLYGON ((265689.168 6275149.938, 265687.620 6...   \n",
       "             5160715     POLYGON ((267720.904 6275289.149, 267735.776 6...   \n",
       "\n",
       "                         building shop building:levels           amenity  \\\n",
       "element_type osmid                                                         \n",
       "way          78149779           0  NaN             2.0               NaN   \n",
       "             78149812           0  NaN             4.0               NaN   \n",
       "             78149829           0  NaN             2.0  place_of_worship   \n",
       "             78149831           0  NaN             1.0               NaN   \n",
       "             78149871           0  NaN             1.0               NaN   \n",
       "...                           ...  ...             ...               ...   \n",
       "             1060293441         1  NaN             6.0               NaN   \n",
       "             1064444549         0  NaN             3.0               NaN   \n",
       "             1092185388         1  NaN             2.0               NaN   \n",
       "relation     5160713            0  NaN             4.0               NaN   \n",
       "             5160715            0  NaN             2.0               NaN   \n",
       "\n",
       "                                                              name  \\\n",
       "element_type osmid                                                   \n",
       "way          78149779                                          NaN   \n",
       "             78149812                                          NaN   \n",
       "             78149829             Église de l'Immaculée Conception   \n",
       "             78149831                                          NaN   \n",
       "             78149871                                          NaN   \n",
       "...                                                            ...   \n",
       "             1060293441                                        NaN   \n",
       "             1064444549                                        NaN   \n",
       "             1092185388                                        NaN   \n",
       "relation     5160713                                           NaN   \n",
       "             5160715     Centre de Formation et d'Aprentissage IMA   \n",
       "\n",
       "                                  addr:street        addr:city  \\\n",
       "element_type osmid                                               \n",
       "way          78149779                     NaN              NaN   \n",
       "             78149812                     NaN              NaN   \n",
       "             78149829                     NaN              NaN   \n",
       "             78149831                     NaN              NaN   \n",
       "             78149871                     NaN              NaN   \n",
       "...                                       ...              ...   \n",
       "             1060293441                   NaN              NaN   \n",
       "             1064444549                   NaN              NaN   \n",
       "             1092185388                   NaN              NaN   \n",
       "relation     5160713                      NaN              NaN   \n",
       "             5160715     Avenue Pierre Semard  Villiers-le-Bel   \n",
       "\n",
       "                        addr:housenumber addr:postcode  \n",
       "element_type osmid                                      \n",
       "way          78149779                 19           NaN  \n",
       "             78149812                NaN           NaN  \n",
       "             78149829                NaN           NaN  \n",
       "             78149831                NaN           NaN  \n",
       "             78149871                  3           NaN  \n",
       "...                                  ...           ...  \n",
       "             1060293441              NaN           NaN  \n",
       "             1064444549              NaN           NaN  \n",
       "             1092185388              NaN           NaN  \n",
       "relation     5160713                 NaN           NaN  \n",
       "             5160715                  43         95400  \n",
       "\n",
       "[557446 rows x 10 columns]"
      ]
     },
     "execution_count": 46,
     "metadata": {},
     "output_type": "execute_result"
    }
   ],
   "source": [
    "building_no_na"
   ]
  },
  {
   "cell_type": "code",
   "execution_count": null,
   "id": "746ed9fd",
   "metadata": {},
   "outputs": [],
   "source": []
  }
 ],
 "metadata": {
  "kernelspec": {
   "display_name": "Python 3 (ipykernel)",
   "language": "python",
   "name": "python3"
  },
  "language_info": {
   "codemirror_mode": {
    "name": "ipython",
    "version": 3
   },
   "file_extension": ".py",
   "mimetype": "text/x-python",
   "name": "python",
   "nbconvert_exporter": "python",
   "pygments_lexer": "ipython3",
   "version": "3.9.12"
  }
 },
 "nbformat": 4,
 "nbformat_minor": 5
}

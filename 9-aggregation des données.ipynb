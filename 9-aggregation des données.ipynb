{
 "cells": [
  {
   "cell_type": "code",
   "execution_count": 1219,
   "id": "e619cb08",
   "metadata": {
    "ExecuteTime": {
     "end_time": "2023-06-26T09:24:25.117151Z",
     "start_time": "2023-06-26T09:24:25.106182Z"
    }
   },
   "outputs": [],
   "source": [
    "import geopandas as gpd\n",
    "import pandas as pd\n",
    "import osmnx as ox\n",
    "import pickle\n",
    "from shapely import LineString,MultiLineString\n",
    "from shapely import geometry, ops\n",
    "import numpy as np"
   ]
  },
  {
   "cell_type": "code",
   "execution_count": 1220,
   "id": "8eae5851",
   "metadata": {
    "ExecuteTime": {
     "end_time": "2023-06-26T09:25:53.127115Z",
     "start_time": "2023-06-26T09:24:25.260796Z"
    }
   },
   "outputs": [],
   "source": [
    "iris_data=pd.read_excel(r\"Y:\\REFERENTIEL DATA\\RP 2022 FRANCE\\GEODATA - IRIS\\\\Geodata_IRIS_essentiels.xlsx\")\n",
    "contour_iris=gpd.read_file(r'Y:\\REFERENTIEL DATA\\RP 2022 FRANCE\\CARTOGRAPHIE\\Cartographie_France_IRIS_2019\\CONTOURS-IRIS_2-1_SHP_LAMB93_FXX-2019\\CONTOURS-IRIS.shp').to_crs(\"3857\")"
   ]
  },
  {
   "cell_type": "code",
   "execution_count": 1285,
   "id": "9044821e",
   "metadata": {
    "ExecuteTime": {
     "end_time": "2023-06-26T09:55:16.164757Z",
     "start_time": "2023-06-26T09:55:14.228571Z"
    }
   },
   "outputs": [],
   "source": [
    "highways=pd.read_pickle(r\"Y:\\RECHERCHE ET DEV\\10_Modèle d'attractivite des rues\\04_données clients (source)\\osm\\paris\\raw data\\\\ways.pkl\").to_crs(\"3857\")\n",
    "batiments=pd.read_pickle(r\"Y:\\RECHERCHE ET DEV\\10_Modèle d'attractivite des rues\\04_données clients (source)\\osm\\paris\\processed data\\\\buildings_est_pop.pkl\").to_crs(\"3857\")\n",
    "shops=pd.read_pickle(r\"Y:\\RECHERCHE ET DEV\\10_Modèle d'attractivite des rues\\04_données clients (source)\\osm\\paris\\raw data\\\\shops.pkl\").to_crs(\"3857\")\n",
    "gsa_comp=pd.read_pickle(r\"Y:\\RECHERCHE ET DEV\\10_Modèle d'attractivite des rues\\04_données clients (source)\\osm\\paris\\processed data\\\\gsa_comp.pkl\").to_crs(\"3857\")\n",
    "gss_comp=pd.read_pickle(r\"Y:\\RECHERCHE ET DEV\\10_Modèle d'attractivite des rues\\04_données clients (source)\\osm\\paris\\processed data\\\\gss_comp.pkl\").to_crs(\"3857\")"
   ]
  },
  {
   "cell_type": "code",
   "execution_count": 1222,
   "id": "d32d0c5f",
   "metadata": {
    "ExecuteTime": {
     "end_time": "2023-06-26T09:25:55.563640Z",
     "start_time": "2023-06-26T09:25:54.614525Z"
    }
   },
   "outputs": [],
   "source": [
    "loisire=pd.read_pickle(r\"Y:\\RECHERCHE ET DEV\\10_Modèle d'attractivite des rues\\04_données clients (source)\\osm\\paris\\raw data\\\\leisure.pkl\").to_crs(\"3857\")\n",
    "tourism=pd.read_pickle(r\"Y:\\RECHERCHE ET DEV\\10_Modèle d'attractivite des rues\\04_données clients (source)\\osm\\paris\\raw data\\\\tourism.pkl\").to_crs(\"3857\")\n",
    "public_transport=pd.read_pickle(r\"Y:\\RECHERCHE ET DEV\\10_Modèle d'attractivite des rues\\04_données clients (source)\\osm\\paris\\raw data\\\\public_transport.pkl\").to_crs(\"3857\")\n",
    "amenity=pd.read_pickle(r\"Y:\\RECHERCHE ET DEV\\10_Modèle d'attractivite des rues\\04_données clients (source)\\osm\\paris\\raw data\\\\amenity.pkl\").to_crs(\"3857\")"
   ]
  },
  {
   "cell_type": "code",
   "execution_count": 1223,
   "id": "7b55b198",
   "metadata": {
    "ExecuteTime": {
     "end_time": "2023-06-26T09:25:55.911677Z",
     "start_time": "2023-06-26T09:25:55.565632Z"
    }
   },
   "outputs": [],
   "source": [
    "indicateurs=pd.read_excel(r\"Y:\\RECHERCHE ET DEV\\10_Modèle d'attractivite des rues\\\\Données_OSM_métie1.xlsx\",sheet_name='shops')\n",
    "indicateurs=indicateurs[indicateurs['à garder']==1]\n",
    "indicateurs=indicateurs.set_index(\"shop\")"
   ]
  },
  {
   "cell_type": "code",
   "execution_count": 1224,
   "id": "508cee75",
   "metadata": {
    "ExecuteTime": {
     "end_time": "2023-06-26T09:25:56.230489Z",
     "start_time": "2023-06-26T09:25:55.913672Z"
    }
   },
   "outputs": [],
   "source": [
    "indicateurs_amenity=pd.read_excel(r\"Y:\\RECHERCHE ET DEV\\10_Modèle d'attractivite des rues\\\\Données_OSM_métie1.xlsx\",sheet_name='amenity')\n",
    "indicateurs_amenity=indicateurs_amenity[indicateurs_amenity['à garder']==1]\n",
    "indicateurs_amenity=indicateurs_amenity.set_index('amenity')"
   ]
  },
  {
   "cell_type": "code",
   "execution_count": 1225,
   "id": "13a7b160",
   "metadata": {
    "ExecuteTime": {
     "end_time": "2023-06-26T09:25:56.572203Z",
     "start_time": "2023-06-26T09:25:56.230489Z"
    }
   },
   "outputs": [],
   "source": [
    "indicateurs_loisire=pd.read_excel(r\"Y:\\RECHERCHE ET DEV\\10_Modèle d'attractivite des rues\\\\Données_OSM_métie1.xlsx\",sheet_name='leisure')\n",
    "indicateurs_loisire=indicateurs_loisire[indicateurs_loisire['à garder']==1]\n",
    "indicateurs_loisire=indicateurs_loisire.set_index('loisire')"
   ]
  },
  {
   "cell_type": "code",
   "execution_count": 1226,
   "id": "101d69c4",
   "metadata": {
    "ExecuteTime": {
     "end_time": "2023-06-26T09:25:56.582297Z",
     "start_time": "2023-06-26T09:25:56.574219Z"
    }
   },
   "outputs": [],
   "source": [
    "columns_socio=['C17_MEN',\n",
    "       'C17_MEN_CS1', 'C17_MEN_CS2', 'C17_MEN_CS3', 'C17_MEN_CS4',\n",
    "       'C17_MEN_CS5', 'C17_MEN_CS6', 'C17_MEN_CS7', 'C17_MEN_CS8', 'P17_POP',\n",
    "       'P17_POP0002', 'P17_POP0305', 'P17_POP0610', 'P17_POP1117',\n",
    "       'P17_POP1824', 'P17_POP2539', 'P17_POP4054', 'P17_POP5564',\n",
    "       'P17_POP6579', 'P17_POP80P', 'P17_POP15P']"
   ]
  },
  {
   "cell_type": "code",
   "execution_count": 1334,
   "id": "796c9386",
   "metadata": {
    "ExecuteTime": {
     "end_time": "2023-06-26T11:22:37.494476Z",
     "start_time": "2023-06-26T11:22:37.444411Z"
    }
   },
   "outputs": [],
   "source": [
    "max_distance=25\n",
    "def f(x):\n",
    "\n",
    "    if x['leisure'] in indicateurs_loisire.index:\n",
    "        return indicateurs_loisire.loc[x['leisure']]['attracteur'] \n",
    "    else :\n",
    "        return \"Attracteur pour tous -loisire\"\n",
    "def g(x):\n",
    "    if x['shop'] in indicateurs.index:\n",
    "        return indicateurs.loc[x['shop']]['secteurs'] \n",
    "    else :\n",
    "        return \"Autre\"\n",
    "batiments_affectes=set()\n",
    "tourism_affectes=set()\n",
    "loisire_affectes=set()\n",
    "\n",
    "public_transport_affectes=set()\n",
    "shop_affectes=set()\n",
    "amenity_affectes=set()\n",
    "gsa_affectes=set()\n",
    "gss_affectes=set()\n",
    "\n",
    "def get_KPI(row):\n",
    "    \n",
    "    if \"Avenue\" in row['name'] or \"Quai\" in row['name'] or \"Boulevard\" in row['name']:\n",
    "        max_distance=75\n",
    "    else:max_distance=25\n",
    "        \n",
    "    socio_demo=batiments[batiments.intersects(row['geometry'].buffer(max_distance))][columns_socio]\n",
    "    #sauvegarder les batimenets affectés à un segement\n",
    "    batiments_affectes.update(list(socio_demo.index))\n",
    "   \n",
    "    socio_demo_index=list(socio_demo.index)\n",
    "    #agregation\n",
    "    socio_demo=socio_demo.sum()\n",
    "    \n",
    "    \n",
    "    #tourism\n",
    "    tourism_seg=tourism[tourism.intersects(row['geometry'].buffer(max_distance))]\n",
    "    #sauvegarder les \"tourisme\" affectés à un segement\n",
    "    tourism_affectes.update(list(tourism_seg.index))\n",
    "    \n",
    "    #loisir\n",
    "    loisire_seg=loisire[loisire.intersects(row['geometry'].buffer(max_distance))]\n",
    "    loisire_seg[\"attracteur\"]=loisire_seg.apply(lambda x:f(x),axis=1)\n",
    "    #sauvegarder les \"loisire\" affectés à un segement\n",
    "    loisire_affectes.update(list(loisire_seg.index))\n",
    "    \n",
    " \n",
    "    #transport \n",
    "    public_transport_seg=public_transport[public_transport.intersects(row['geometry'].buffer(max_distance))]\n",
    "    metro=public_transport_seg[~public_transport_seg['subway'].isna()].drop_duplicates('name')\n",
    "    tram=public_transport_seg[public_transport_seg['railway']==\"tram_stop\"].drop_duplicates('name')\n",
    "    reste_transport=len(public_transport_seg)-len(metro)-len(tram)\n",
    "    #sauvegarder les \"transport\" affectés à un segement\n",
    "    public_transport_affectes.update(list(public_transport_seg.index))\n",
    "    \n",
    "    #info shops\n",
    "    shop_seg=shops[shops.intersects(row['geometry'].buffer(max_distance))]\n",
    "    #sauvegarder les \"shops\" affectés à un segement\n",
    "    shop_affectes.update(list(shop_seg.index))\n",
    "\n",
    "    shop_seg=shop_seg[shop_seg['shop'].isin(indicateurs.index)]\n",
    "    shop_seg['secteur']=shop_seg.apply(lambda x:g(x),axis=1)\n",
    "\n",
    "\n",
    "    #### gsa_comp_info  \n",
    "    gsa_comp_info=gsa_comp[gsa_comp.intersects(row['geometry'].buffer(max_distance))]\n",
    "    #sauvegarder les \"gsa\" affectés à un segement\n",
    "    gsa_affectes.update(list(gsa_comp_info.index))\n",
    "    \n",
    "    #### gss_comp_info\n",
    "    gss_comp_info=gss_comp[gss_comp.intersects(row['geometry'].buffer(max_distance))]\n",
    "    gss_affectes.update(list(gss_comp_info.index))\n",
    "    \n",
    "    #amenity\n",
    "    amenity_seg=amenity[amenity.intersects(row['geometry'].buffer(max_distance))]\n",
    "    amenity_affectes.update(list(amenity_seg.index))\n",
    "    amenity_seg=amenity_seg[amenity_seg['amenity'].isin(indicateurs_amenity.index)]\n",
    "    amenity_seg['attracteur']=indicateurs_amenity.loc[amenity_seg['amenity'].values]['attracteur'].values\n",
    "    \n",
    "    \n",
    "    \n",
    "    output=socio_demo.to_dict()\n",
    "    output[\"Attracteur_tourisme\"]=len(tourism_seg)\n",
    "    output=output|loisire_seg.groupby(\"attracteur\").size().to_dict()\n",
    "    output[\"metro\"]=len(metro)\n",
    "    output[\"tram\"]=len(tram)\n",
    "    output[\"transport\"]=reste_transport\n",
    "    output=output|shop_seg.groupby(\"secteur\").size().to_dict()\n",
    "    output=output|amenity_seg.groupby(\"attracteur\").size().to_dict()\n",
    "    output=output|row.to_dict()\n",
    "    \n",
    "    if \"GSA\" in output.keys():output['GSA']+=len(gsa_comp_info)\n",
    "    else:output['GSA']=len(gsa_comp_info)\n",
    "        \n",
    "    \n",
    "    if \"Sport\" in output.keys():output['Sport']+=len(gss_comp_info[gss_comp_info['Type_Mag']==\"Sport\"])\n",
    "    else:output['Sport']=len(gss_comp_info[gss_comp_info['Type_Mag']==\"Sport\"])\n",
    "    \n",
    "    \n",
    "    if \"Equipement maison\" in output.keys():output['Equipement maison']+=len(gss_comp_info[gss_comp_info['Type_Mag']==\"Négoce\"])+len(gss_comp_info[gss_comp_info['Type_Mag']==\"Discount Bazar\"])+len(gss_comp_info[gss_comp_info['Type_Mag']==\"Electrodomestique\"])+len(gss_comp_info[gss_comp_info['Type_Mag']==\"GMS Bricolage\"])+len(gss_comp_info[gss_comp_info['Type_Mag']==\"Jardinerie\"])\n",
    "    else:output['Equipement maison']=len(gss_comp_info[gss_comp_info['Type_Mag']==\"Négoce\"])+len(gss_comp_info[gss_comp_info['Type_Mag']==\"Discount Bazar\"])+len(gss_comp_info[gss_comp_info['Type_Mag']==\"Electrodomestique\"])+len(gss_comp_info[gss_comp_info['Type_Mag']==\"GMS Bricolage\"])+len(gss_comp_info[gss_comp_info['Type_Mag']==\"Jardinerie\"])\n",
    "     \n",
    "    \n",
    "    if \"Equipement Personne\" in output.keys():output['Equipement Personne']+=len(gss_comp_info[gss_comp_info['Type_Mag']==\"GMS Textile Habillement\"])\n",
    "    else:output['Equipement Personne']=len(gss_comp_info[gss_comp_info['Type_Mag']==\"GMS Textile Habillement\"])\n",
    "        \n",
    "    if \"Culture Loisir\" in output.keys():output[\"Culture Loisir\"]+=len(gss_comp_info[gss_comp_info['Type_Mag']==\"Jouets\"])+len(gss_comp_info[gss_comp_info['Type_Mag']==\"Culture Loisirs\"])\n",
    "    else:output[\"Culture Loisir\"]=len(gss_comp_info[gss_comp_info['Type_Mag']==\"Jouets\"])+len(gss_comp_info[gss_comp_info['Type_Mag']==\"Culture Loisirs\"])\n",
    "    \n",
    "    return output ,socio_demo_index,list(tourism_seg.index),list(loisire_seg.index),list(public_transport_seg.index),list(shop_seg.index),list(amenity_seg.index),list(gsa_comp_info.index),list(gss_comp_info.index)\n",
    "    \n",
    "    "
   ]
  },
  {
   "cell_type": "code",
   "execution_count": 1335,
   "id": "2d707087",
   "metadata": {
    "ExecuteTime": {
     "end_time": "2023-06-26T11:34:09.739209Z",
     "start_time": "2023-06-26T11:22:38.450318Z"
    }
   },
   "outputs": [],
   "source": [
    "output=highways.apply(get_KPI,axis=1)"
   ]
  },
  {
   "cell_type": "markdown",
   "id": "9f453cf9",
   "metadata": {},
   "source": [
    "# Resultat"
   ]
  },
  {
   "cell_type": "code",
   "execution_count": 1336,
   "id": "b766936a",
   "metadata": {
    "ExecuteTime": {
     "end_time": "2023-06-26T11:34:10.021489Z",
     "start_time": "2023-06-26T11:34:09.741207Z"
    }
   },
   "outputs": [],
   "source": [
    "\n",
    "result=pd.DataFrame.from_dict([output.values[i][0] for i in range(len(output))]).set_index(output.index)\n",
    "\n",
    "socio_demo_index=pd.DataFrame({\"indices\":[output.values[i][1] for i in range(len(output))]}).set_index(output.index)\n",
    "tourism_seg_index=pd.DataFrame({\"indices\":[output.values[i][2] for i in range(len(output))]}).set_index(output.index)\n",
    "loisire_seg_index=pd.DataFrame({\"indices\":[output.values[i][3] for i in range(len(output))]}).set_index(output.index)\n",
    "public_transport_seg_index=pd.DataFrame({\"indices\":[output.values[i][4] for i in range(len(output))]}).set_index(output.index)\n",
    "shop_seg_index=pd.DataFrame({\"indices\":[output.values[i][5] for i in range(len(output))]}).set_index(output.index)\n",
    "amenity_seg_index=pd.DataFrame({\"indices\":[output.values[i][6] for i in range(len(output))]}).set_index(output.index)\n",
    "gsa_seg_index=pd.DataFrame({\"indices\":[output.values[i][7] for i in range(len(output))]}).set_index(output.index)\n",
    "gss_seg_index=pd.DataFrame({\"indices\":[output.values[i][8] for i in range(len(output))]}).set_index(output.index)"
   ]
  },
  {
   "cell_type": "code",
   "execution_count": 1337,
   "id": "f04196c8",
   "metadata": {
    "ExecuteTime": {
     "end_time": "2023-06-26T11:34:10.037443Z",
     "start_time": "2023-06-26T11:34:10.023449Z"
    }
   },
   "outputs": [],
   "source": [
    "result=result.fillna(0)"
   ]
  },
  {
   "cell_type": "markdown",
   "id": "5fa74245",
   "metadata": {},
   "source": [
    "## Affectation des batiments"
   ]
  },
  {
   "cell_type": "code",
   "execution_count": 1338,
   "id": "b37f57e5",
   "metadata": {
    "ExecuteTime": {
     "end_time": "2023-06-26T11:36:44.819258Z",
     "start_time": "2023-06-26T11:34:10.039407Z"
    }
   },
   "outputs": [],
   "source": [
    "#selectionner les batiments non affectés à un segement\n",
    "batiments_non_aff=batiments.loc[list(batiments.index.difference(list(batiments_affectes)))]\n",
    "#centre du batiment\n",
    "centre=batiments_non_aff.centroid\n",
    "#l'indice (position) du segment le plus proche à un batiment\n",
    "index=[highways.distance(centre.iloc[i]).argmin() for i in range(len(centre))]\n",
    "\n",
    "batiments_non_aff['seg']=list(index)\n",
    "a=batiments_non_aff.groupby(\"seg\")[columns_socio].sum()\n",
    "result.loc[highways.iloc[a.index].index,columns_socio]=result.iloc[a.index][columns_socio].values+a.values"
   ]
  },
  {
   "cell_type": "code",
   "execution_count": 1339,
   "id": "f7481952",
   "metadata": {
    "ExecuteTime": {
     "end_time": "2023-06-26T11:36:45.462370Z",
     "start_time": "2023-06-26T11:36:44.821253Z"
    }
   },
   "outputs": [],
   "source": [
    "#l'indice reel du segement associé à ce batiment\n",
    "batiments_non_aff['seg_index']=list(highways.iloc[batiments_non_aff.seg].index)\n",
    "#rendre l'indice du batiment une colonne\n",
    "batiments_non_aff=batiments_non_aff.reset_index()\n",
    "batiments_non_aff['bat_index']=batiments_non_aff.apply(lambda row:(row['element_type'],row['osmid']),axis=1)\n",
    "#regrouper les batiments dans une list par segement \n",
    "batiments_non_aff=batiments_non_aff[[\"bat_index\",\"seg_index\"]].groupby('seg_index')['bat_index'].apply(list)\n",
    "socio_demo_index.loc[batiments_non_aff.index,'indices']+=pd.DataFrame(batiments_non_aff)['bat_index']"
   ]
  },
  {
   "cell_type": "code",
   "execution_count": null,
   "id": "fbd2a02a",
   "metadata": {},
   "outputs": [],
   "source": []
  },
  {
   "cell_type": "markdown",
   "id": "8c9afb65",
   "metadata": {},
   "source": [
    "## Affectation des loisire"
   ]
  },
  {
   "cell_type": "code",
   "execution_count": 1340,
   "id": "ba9ec02d",
   "metadata": {
    "ExecuteTime": {
     "end_time": "2023-06-26T11:37:09.195347Z",
     "start_time": "2023-06-26T11:36:45.464366Z"
    }
   },
   "outputs": [
    {
     "name": "stderr",
     "output_type": "stream",
     "text": [
      "C:\\Users\\Diametrix\\AppData\\Local\\Temp\\ipykernel_14836\\2452846591.py:8: FutureWarning: In a future version of pandas all arguments of DataFrame.pivot will be keyword-only.\n",
      "  a=loisire_non_aff.groupby([\"seg\",\"attracteur\"]).size().reset_index().pivot(\"seg\",'attracteur',0).fillna(0)\n"
     ]
    }
   ],
   "source": [
    "#centroid des \"loisire\" non affectés \n",
    "loisire_non_aff=loisire.loc[list(loisire.index.difference(list(loisire_affectes)))]\n",
    "centre=loisire_non_aff.centroid\n",
    "index=[highways.distance(centre.iloc[i]).argmin() for i in range(len(centre))]\n",
    "\n",
    "loisire_non_aff['seg']=list(index)\n",
    "loisire_non_aff[\"attracteur\"]=loisire_non_aff.apply(lambda x:f(x),axis=1)\n",
    "a=loisire_non_aff.groupby([\"seg\",\"attracteur\"]).size().reset_index().pivot(\"seg\",'attracteur',0).fillna(0)\n",
    "result.loc[highways.iloc[a.index].index,a.columns]=result.iloc[a.index][a.columns].values+a.values"
   ]
  },
  {
   "cell_type": "code",
   "execution_count": 1341,
   "id": "11c443c0",
   "metadata": {
    "ExecuteTime": {
     "end_time": "2023-06-26T11:37:09.320016Z",
     "start_time": "2023-06-26T11:37:09.196316Z"
    }
   },
   "outputs": [],
   "source": [
    "\n",
    "#l'indice reel du segement associé à ce batiment\n",
    "loisire_non_aff['seg_index']=list(highways.iloc[loisire_non_aff.seg].index)\n",
    "#rendre l'indice du batiment une colonne\n",
    "loisire_non_aff=loisire_non_aff.reset_index()\n",
    "loisire_non_aff['loisire_index']=loisire_non_aff.apply(lambda row:(row['element_type'],row['osmid']),axis=1)\n",
    "#regrouper les batiments dans une list par segement \n",
    "loisire_non_aff=loisire_non_aff[[\"loisire_index\",\"seg_index\"]].groupby('seg_index')['loisire_index'].apply(list)\n",
    "loisire_seg_index.loc[loisire_non_aff.index,'indices']+=pd.DataFrame(loisire_non_aff)['loisire_index']"
   ]
  },
  {
   "cell_type": "markdown",
   "id": "647599d4",
   "metadata": {
    "ExecuteTime": {
     "end_time": "2023-06-19T12:40:48.051942Z",
     "start_time": "2023-06-19T12:40:48.007741Z"
    }
   },
   "source": [
    "## Affectation des tourismes"
   ]
  },
  {
   "cell_type": "code",
   "execution_count": 1342,
   "id": "ce76e5fb",
   "metadata": {
    "ExecuteTime": {
     "end_time": "2023-06-26T11:37:29.697585Z",
     "start_time": "2023-06-26T11:37:09.321981Z"
    }
   },
   "outputs": [],
   "source": [
    "#centroid des \"tourisme\" non affectés \n",
    "tourisme_non_aff=tourism.loc[list(tourism.index.difference(list(tourism_affectes)))]\n",
    "centre=tourisme_non_aff.centroid\n",
    "index=[highways.distance(centre.iloc[i]).argmin() for i in range(len(centre))]\n",
    "\n",
    "tourisme_non_aff['seg']=list(index)\n",
    "a=tourisme_non_aff.groupby(\"seg\").size()\n",
    "result.loc[highways.iloc[a.index].index,\"Attracteur_tourisme\"]=result.iloc[a.index][\"Attracteur_tourisme\"].values+a.values"
   ]
  },
  {
   "cell_type": "code",
   "execution_count": 1343,
   "id": "2db52952",
   "metadata": {
    "ExecuteTime": {
     "end_time": "2023-06-26T11:37:29.783213Z",
     "start_time": "2023-06-26T11:37:29.699548Z"
    }
   },
   "outputs": [],
   "source": [
    "\n",
    "#l'indice reel du segement associé à ce batiment\n",
    "tourisme_non_aff['seg_index']=list(highways.iloc[tourisme_non_aff.seg].index)\n",
    "#rendre l'indice du batiment une colonne\n",
    "tourisme_non_aff=tourisme_non_aff.reset_index()\n",
    "tourisme_non_aff['tourisme_index']=tourisme_non_aff.apply(lambda row:(row['element_type'],row['osmid']),axis=1)\n",
    "#regrouper les batiments dans une list par segement \n",
    "tourisme_non_aff=tourisme_non_aff[[\"tourisme_index\",\"seg_index\"]].groupby('seg_index')['tourisme_index'].apply(list)\n",
    "tourism_seg_index.loc[tourisme_non_aff.index,'indices']+=pd.DataFrame(tourisme_non_aff)['tourisme_index']"
   ]
  },
  {
   "cell_type": "markdown",
   "id": "c687b9c7",
   "metadata": {},
   "source": [
    "## Affectation des transport publiques"
   ]
  },
  {
   "cell_type": "code",
   "execution_count": 1344,
   "id": "10a02ed3",
   "metadata": {
    "ExecuteTime": {
     "end_time": "2023-06-26T11:37:35.481183Z",
     "start_time": "2023-06-26T11:37:29.785226Z"
    }
   },
   "outputs": [],
   "source": [
    "#centroid des \"public_transport_affectes\" non affectés \n",
    "public_transport_non_aff=public_transport.loc[list(public_transport.index.difference(list(public_transport_affectes)))]\n",
    "centre=public_transport_non_aff.centroid\n",
    "index=[highways.distance(centre.iloc[i]).argmin() for i in range(len(centre))]\n",
    "\n",
    "public_transport_non_aff['seg']=list(index)\n",
    "\n",
    "metro=public_transport_non_aff[~public_transport_non_aff['subway'].isna()].drop_duplicates('name').groupby(\"seg\").size()\n",
    "tram=public_transport_non_aff[public_transport_non_aff['railway']==\"tram_stop\"].drop_duplicates('name').groupby(\"seg\").size()\n",
    "transport=public_transport_non_aff.groupby(\"seg\").size().sub(tram,fill_value=0).sub(metro,fill_value=0)\n",
    "\n",
    "result.loc[highways.iloc[metro.index].index,\"metro\"]=result.iloc[metro.index][\"metro\"].values+metro.values\n",
    "result.loc[highways.iloc[tram.index].index,\"tram\"]=result.iloc[tram.index][\"tram\"].values+tram.values\n",
    "result.loc[highways.iloc[transport.index].index,\"transport\"]=result.iloc[transport.index][\"transport\"].values+transport.values"
   ]
  },
  {
   "cell_type": "code",
   "execution_count": 1345,
   "id": "0a241293",
   "metadata": {
    "ExecuteTime": {
     "end_time": "2023-06-26T11:37:35.543111Z",
     "start_time": "2023-06-26T11:37:35.483161Z"
    }
   },
   "outputs": [],
   "source": [
    "\n",
    "#l'indice reel du segement associé à ce batiment\n",
    "public_transport_non_aff['seg_index']=list(highways.iloc[public_transport_non_aff.seg].index)\n",
    "#rendre l'indice du batiment une colonne\n",
    "public_transport_non_aff=public_transport_non_aff.reset_index()\n",
    "public_transport_non_aff['transport_index']=public_transport_non_aff.apply(lambda row:(row['element_type'],row['osmid']),axis=1)\n",
    "#regrouper les batiments dans une list par segement \n",
    "public_transport_non_aff=public_transport_non_aff[[\"transport_index\",\"seg_index\"]].groupby('seg_index')['transport_index'].apply(list)\n",
    "public_transport_seg_index.loc[public_transport_non_aff.index,'indices']+=pd.DataFrame(public_transport_non_aff)['transport_index']"
   ]
  },
  {
   "cell_type": "markdown",
   "id": "bafc0f91",
   "metadata": {},
   "source": [
    "## Affectation des Shops"
   ]
  },
  {
   "cell_type": "code",
   "execution_count": 1346,
   "id": "e31fa0eb",
   "metadata": {
    "ExecuteTime": {
     "end_time": "2023-06-26T11:37:52.125135Z",
     "start_time": "2023-06-26T11:37:35.544110Z"
    }
   },
   "outputs": [
    {
     "name": "stderr",
     "output_type": "stream",
     "text": [
      "C:\\Users\\Diametrix\\AppData\\Local\\Temp\\ipykernel_14836\\451859671.py:10: FutureWarning: In a future version of pandas all arguments of DataFrame.pivot will be keyword-only.\n",
      "  a=shop_non_aff.groupby([\"seg\",\"secteur\"]).size().reset_index().pivot(\"seg\",'secteur',0).fillna(0)\n"
     ]
    }
   ],
   "source": [
    "#centroid des \"shops\" non affectés \n",
    "shop_non_aff=shops.loc[list(shops.index.difference(list(shop_affectes)))]\n",
    "centre=shop_non_aff.centroid\n",
    "index=[highways.distance(centre.iloc[i]).argmin() for i in range(len(centre))]\n",
    "\n",
    "shop_non_aff['seg']=list(index)\n",
    "shop_non_aff=shop_non_aff[shop_non_aff['shop'].isin(indicateurs.index)]\n",
    "shop_non_aff['secteur']=shop_non_aff.apply(lambda x:g(x),axis=1)\n",
    "\n",
    "a=shop_non_aff.groupby([\"seg\",\"secteur\"]).size().reset_index().pivot(\"seg\",'secteur',0).fillna(0)\n",
    "result.loc[highways.iloc[a.index].index,a.columns]=result.iloc[a.index][a.columns].values+a.values"
   ]
  },
  {
   "cell_type": "code",
   "execution_count": 1347,
   "id": "b3c8e4a2",
   "metadata": {
    "ExecuteTime": {
     "end_time": "2023-06-26T11:37:52.220594Z",
     "start_time": "2023-06-26T11:37:52.125135Z"
    }
   },
   "outputs": [],
   "source": [
    "\n",
    "#l'indice reel du segement associé à ce batiment\n",
    "shop_non_aff['seg_index']=list(highways.iloc[shop_non_aff.seg].index)\n",
    "#rendre l'indice du batiment une colonne\n",
    "shop_non_aff=shop_non_aff.reset_index()\n",
    "shop_non_aff['shop_index']=shop_non_aff.apply(lambda row:(row['element_type'],row['osmid']),axis=1)\n",
    "#regrouper les batiments dans une list par segement \n",
    "shop_non_aff=shop_non_aff[[\"shop_index\",\"seg_index\"]].groupby('seg_index')['shop_index'].apply(list)\n",
    "shop_seg_index.loc[shop_non_aff.index,'indices']+=pd.DataFrame(shop_non_aff)['shop_index']"
   ]
  },
  {
   "cell_type": "markdown",
   "id": "8bea003a",
   "metadata": {},
   "source": [
    "## Affectation des amenities"
   ]
  },
  {
   "cell_type": "code",
   "execution_count": 1348,
   "id": "fc8f7a39",
   "metadata": {
    "ExecuteTime": {
     "end_time": "2023-06-26T11:39:52.460578Z",
     "start_time": "2023-06-26T11:37:52.221565Z"
    }
   },
   "outputs": [
    {
     "name": "stderr",
     "output_type": "stream",
     "text": [
      "C:\\Users\\Diametrix\\AppData\\Local\\Temp\\ipykernel_14836\\1307367824.py:9: FutureWarning: In a future version of pandas all arguments of DataFrame.pivot will be keyword-only.\n",
      "  a=amenity_non_aff.groupby(['seg','attracteur']).size().reset_index().pivot(\"seg\",'attracteur',0).fillna(0)\n"
     ]
    }
   ],
   "source": [
    "#centroid des \"amenity\" non affectés \n",
    "amenity_non_aff=amenity.loc[list(amenity.index.difference(list(amenity_affectes)))]\n",
    "centre=amenity_non_aff.centroid\n",
    "index=[highways.distance(centre.iloc[i]).argmin() for i in range(len(centre))]\n",
    "\n",
    "amenity_non_aff['seg']=list(index)\n",
    "amenity_non_aff=amenity_non_aff[amenity_non_aff['amenity'].isin(indicateurs_amenity.index)]\n",
    "amenity_non_aff['attracteur']=indicateurs_amenity.loc[amenity_non_aff['amenity'].values]['attracteur'].values\n",
    "a=amenity_non_aff.groupby(['seg','attracteur']).size().reset_index().pivot(\"seg\",'attracteur',0).fillna(0)\n",
    "result.loc[highways.iloc[a.index].index,a.columns]=result.iloc[a.index][a.columns].values+a.values"
   ]
  },
  {
   "cell_type": "code",
   "execution_count": 1349,
   "id": "804a6840",
   "metadata": {
    "ExecuteTime": {
     "end_time": "2023-06-26T11:39:52.605869Z",
     "start_time": "2023-06-26T11:39:52.460578Z"
    }
   },
   "outputs": [],
   "source": [
    "#l'indice reel du segement associé à ce batiment\n",
    "amenity_non_aff['seg_index']=list(highways.iloc[amenity_non_aff.seg].index)\n",
    "#rendre l'indice du batiment une colonne\n",
    "amenity_non_aff=amenity_non_aff.reset_index()\n",
    "amenity_non_aff['amenity_index']=amenity_non_aff.apply(lambda row:(row['element_type'],row['osmid']),axis=1)\n",
    "#regrouper les batiments dans une list par segement \n",
    "amenity_non_aff=amenity_non_aff[[\"amenity_index\",\"seg_index\"]].groupby('seg_index')['amenity_index'].apply(list)\n",
    "amenity_seg_index.loc[amenity_non_aff.index,'indices']+=pd.DataFrame(amenity_non_aff)['amenity_index']"
   ]
  },
  {
   "cell_type": "markdown",
   "id": "7cbcbfa4",
   "metadata": {},
   "source": [
    "## Affectation des GSA"
   ]
  },
  {
   "cell_type": "code",
   "execution_count": 1350,
   "id": "1c13976d",
   "metadata": {
    "ExecuteTime": {
     "end_time": "2023-06-26T11:39:52.783052Z",
     "start_time": "2023-06-26T11:39:52.606867Z"
    }
   },
   "outputs": [],
   "source": [
    "#centroid des \"gsa\" non affectés \n",
    "gsa_non_aff=gsa_comp.loc[list(gsa_comp.index.difference(list(gsa_affectes)))]\n",
    "centre=gsa_non_aff.centroid\n",
    "index=[highways.distance(centre.iloc[i]).argmin() for i in range(len(centre))]\n",
    "\n",
    "gsa_non_aff['seg']=list(index)\n",
    "a=gsa_non_aff.groupby('seg').size()\n",
    "result.loc[highways.iloc[a.index].index,\"GSA\"]+=a.values"
   ]
  },
  {
   "cell_type": "code",
   "execution_count": 1351,
   "id": "a82b5ce4",
   "metadata": {
    "ExecuteTime": {
     "end_time": "2023-06-26T11:39:52.813996Z",
     "start_time": "2023-06-26T11:39:52.784050Z"
    }
   },
   "outputs": [],
   "source": [
    "#l'indice reel du segement associé à ce batiment\n",
    "gsa_non_aff['seg_index']=list(highways.iloc[gsa_non_aff.seg].index)\n",
    "gsa_non_aff=gsa_non_aff.reset_index()\n",
    "gsa_non_aff=gsa_non_aff[[\"index\",\"seg_index\"]].groupby('seg_index')['index'].apply(list)\n",
    "gsa_seg_index.loc[gsa_non_aff.index,'indices']+=pd.DataFrame(gsa_non_aff)['index']"
   ]
  },
  {
   "cell_type": "markdown",
   "id": "19ab31de",
   "metadata": {},
   "source": [
    "## Affectation des GSS"
   ]
  },
  {
   "cell_type": "code",
   "execution_count": 1352,
   "id": "350eedd9",
   "metadata": {
    "ExecuteTime": {
     "end_time": "2023-06-26T11:39:52.923975Z",
     "start_time": "2023-06-26T11:39:52.815963Z"
    }
   },
   "outputs": [
    {
     "name": "stderr",
     "output_type": "stream",
     "text": [
      "C:\\Users\\Diametrix\\AppData\\Local\\Temp\\ipykernel_14836\\1294819167.py:17: FutureWarning: In a future version of pandas all arguments of DataFrame.pivot will be keyword-only.\n",
      "  a=gss_non_aff.groupby(['seg','Type_Mag']).size().reset_index().pivot(\"seg\",'Type_Mag',0).fillna(0)\n"
     ]
    }
   ],
   "source": [
    "#centroid des \"gss\" non affectés \n",
    "gss_non_aff=gss_comp.loc[list(gss_comp.index.difference(list(gss_affectes)))]\n",
    "centre=gss_non_aff.centroid\n",
    "index=[highways.distance(centre.iloc[i]).argmin() for i in range(len(centre))]\n",
    "\n",
    "gss_non_aff['seg']=list(index)\n",
    "#else:output['Equipement maison']=len(gss_comp_info[gss_comp_info['Type_Mag']==\"Jardinerie\"])\n",
    "gss_non_aff[\"Type_Mag\"]=gss_non_aff[\"Type_Mag\"].replace(\"Négoce\",\"Equipement maison\")\n",
    "gss_non_aff[\"Type_Mag\"]=gss_non_aff[\"Type_Mag\"].replace(\"Discount Bazar\",\"Equipement maison\")\n",
    "gss_non_aff[\"Type_Mag\"]=gss_non_aff[\"Type_Mag\"].replace(\"Electrodomestique\",\"Equipement maison\")\n",
    "gss_non_aff[\"Type_Mag\"]=gss_non_aff[\"Type_Mag\"].replace(\"GMS Bricolage\",\"Equipement maison\")\n",
    "gss_non_aff[\"Type_Mag\"]=gss_non_aff[\"Type_Mag\"].replace(\"Jardinerie\",\"Equipement maison\")\n",
    "gss_non_aff[\"Type_Mag\"]=gss_non_aff[\"Type_Mag\"].replace(\"GMS Textile Habillement\",\"Equipement Personne\")\n",
    "gss_non_aff[\"Type_Mag\"]=gss_non_aff[\"Type_Mag\"].replace(\"Jouets\",\"Culture Loisir\")\n",
    "gss_non_aff[\"Type_Mag\"]=gss_non_aff[\"Type_Mag\"].replace(\"Jouets\",\"Culture Loisirs\")      \n",
    "\n",
    "a=gss_non_aff.groupby(['seg','Type_Mag']).size().reset_index().pivot(\"seg\",'Type_Mag',0).fillna(0)  \n",
    "result.loc[highways.iloc[a.index].index,a.columns]=result.iloc[a.index][a.columns].values+a.values"
   ]
  },
  {
   "cell_type": "code",
   "execution_count": 1353,
   "id": "d7a82a8b",
   "metadata": {
    "ExecuteTime": {
     "end_time": "2023-06-26T11:39:52.955097Z",
     "start_time": "2023-06-26T11:39:52.926174Z"
    }
   },
   "outputs": [],
   "source": [
    "#l'indice reel du segement associé à ce batiment\n",
    "gss_non_aff['seg_index']=list(highways.iloc[gss_non_aff.seg].index)\n",
    "gss_non_aff=gss_non_aff.reset_index()\n",
    "gss_non_aff=gss_non_aff[[\"index\",\"seg_index\"]].groupby('seg_index')['index'].apply(list)\n",
    "gss_seg_index.loc[gss_non_aff.index,'indices']+=pd.DataFrame(gss_non_aff)['index']"
   ]
  },
  {
   "cell_type": "code",
   "execution_count": 1354,
   "id": "7354b6b6",
   "metadata": {
    "ExecuteTime": {
     "end_time": "2023-06-26T11:39:52.971054Z",
     "start_time": "2023-06-26T11:39:52.956096Z"
    }
   },
   "outputs": [],
   "source": [
    "data_viz_path=r\"Y:\\RECHERCHE ET DEV\\10_Modèle d'attractivite des rues\\04_données clients (source)\\osm\\paris\\viz data\\\\\""
   ]
  },
  {
   "cell_type": "code",
   "execution_count": 1355,
   "id": "fbacb946",
   "metadata": {
    "ExecuteTime": {
     "end_time": "2023-06-26T11:39:54.695236Z",
     "start_time": "2023-06-26T11:39:52.972052Z"
    }
   },
   "outputs": [],
   "source": [
    "\n",
    "socio_demo_index.to_csv(data_viz_path+\"socio_demo_index.csv\")\n",
    "tourism_seg_index.to_csv(data_viz_path+\"tourism_seg_index.csv\")\n",
    "loisire_seg_index.to_csv(data_viz_path+\"loisire_seg_index.csv\")\n",
    "public_transport_seg_index.to_csv(data_viz_path+\"public_transport_seg_index.csv\")\n",
    "shop_seg_index.to_csv(data_viz_path+\"shop_seg_index.csv\")\n",
    "amenity_seg_index.to_csv(data_viz_path+\"amenity_seg_index.csv\")\n",
    "gsa_seg_index.to_csv(data_viz_path+\"gsa_seg_index.csv\")\n",
    "gss_seg_index.to_csv(data_viz_path+\"gss_seg_index.csv\")"
   ]
  },
  {
   "cell_type": "code",
   "execution_count": 1369,
   "id": "2d935ed7",
   "metadata": {
    "ExecuteTime": {
     "end_time": "2023-06-26T11:44:05.157196Z",
     "start_time": "2023-06-26T11:43:56.721457Z"
    }
   },
   "outputs": [],
   "source": [
    "result.to_excel(r\"Y:\\RECHERCHE ET DEV\\10_Modèle d'attractivite des rues\\\\Données_OSM_métie.xlsx\")"
   ]
  },
  {
   "cell_type": "code",
   "execution_count": 1358,
   "id": "4d93dc5a",
   "metadata": {
    "ExecuteTime": {
     "end_time": "2023-06-26T11:43:35.298707Z",
     "start_time": "2023-06-26T11:43:35.283729Z"
    }
   },
   "outputs": [],
   "source": [
    "cols=list(result.columns)\n",
    "cols.remove('geometry')\n",
    "cols.remove('name')\n",
    "cols.remove('highway')"
   ]
  },
  {
   "cell_type": "code",
   "execution_count": 1359,
   "id": "09f97383",
   "metadata": {
    "ExecuteTime": {
     "end_time": "2023-06-26T11:43:35.707140Z",
     "start_time": "2023-06-26T11:43:35.697057Z"
    }
   },
   "outputs": [],
   "source": [
    "result_=result.copy()"
   ]
  },
  {
   "cell_type": "code",
   "execution_count": 1360,
   "id": "fd5c5939",
   "metadata": {
    "ExecuteTime": {
     "end_time": "2023-06-26T11:43:36.020924Z",
     "start_time": "2023-06-26T11:43:36.000979Z"
    }
   },
   "outputs": [],
   "source": [
    "result=result_.copy()"
   ]
  },
  {
   "cell_type": "code",
   "execution_count": 1361,
   "id": "b6c7fa81",
   "metadata": {
    "ExecuteTime": {
     "end_time": "2023-06-26T11:43:37.298572Z",
     "start_time": "2023-06-26T11:43:37.193235Z"
    }
   },
   "outputs": [],
   "source": [
    "result=result_.copy()\n",
    "for c in cols:\n",
    "    result[c]=pd.cut(result[c],10,labels=False)\n",
    "result[cols]+=1"
   ]
  },
  {
   "cell_type": "code",
   "execution_count": 1363,
   "id": "7b58cd0e",
   "metadata": {
    "ExecuteTime": {
     "end_time": "2023-06-26T11:43:40.988046Z",
     "start_time": "2023-06-26T11:43:40.977075Z"
    }
   },
   "outputs": [],
   "source": [
    "result['metro']=result['metro'].replace(\n",
    "    {0:1,\n",
    "     1:8,\n",
    "     2:8.5,3:9,4:9.5,\n",
    "     5:10}\n",
    ")\n",
    "result['tram']=result['tram'].replace({0:1,1:9,2:10})"
   ]
  },
  {
   "cell_type": "code",
   "execution_count": 1364,
   "id": "8d843f6b",
   "metadata": {
    "ExecuteTime": {
     "end_time": "2023-06-26T11:43:41.366005Z",
     "start_time": "2023-06-26T11:43:41.361017Z"
    }
   },
   "outputs": [],
   "source": [
    "selected_columns=['Attracteur_tourisme',  'transport', 'Mobilité',\n",
    "       'Service public', \"pt d'intérert\", 'restauration',  'GSA', 'Sport', 'Equipement maison',\n",
    "       'Equipement Personne', 'Culture Loisir', 'Alimentaire', 'Medical',\n",
    "       'Soin Personne', 'Soin de la personne et Médical -amenity',\n",
    "       'Culture loisir -loisire', 'tous -amenity', 'Culture loisir -amenity',\n",
    "       'Sport -loisire', 'Attracteur pour tous -loisire']"
   ]
  },
  {
   "cell_type": "code",
   "execution_count": 1365,
   "id": "61194025",
   "metadata": {
    "ExecuteTime": {
     "end_time": "2023-06-26T11:43:41.700939Z",
     "start_time": "2023-06-26T11:43:41.689969Z"
    }
   },
   "outputs": [],
   "source": [
    "min_score=[7,7,6,7,7,7,9,7,7,7,7,7,7,7,7,7,7,7,7,7]"
   ]
  },
  {
   "cell_type": "code",
   "execution_count": 1366,
   "id": "efeadeb7",
   "metadata": {
    "ExecuteTime": {
     "end_time": "2023-06-26T11:43:43.367574Z",
     "start_time": "2023-06-26T11:43:43.314318Z"
    }
   },
   "outputs": [],
   "source": [
    "for i,c in enumerate(selected_columns):\n",
    "    min=min_score[i]\n",
    "    replacement={0:1}\n",
    "    a=np.array(result[c].value_counts().index[1:])\n",
    "    replacement.update(dict(zip(a.squeeze(),pd.qcut(a,10,labels=False)/9*(10-min)+min)))\n",
    "    result[c]=result[c].replace(replacement)"
   ]
  },
  {
   "cell_type": "code",
   "execution_count": 1367,
   "id": "226f7133",
   "metadata": {
    "ExecuteTime": {
     "end_time": "2023-06-26T11:43:47.529008Z",
     "start_time": "2023-06-26T11:43:47.266253Z"
    }
   },
   "outputs": [],
   "source": [
    "result.describe().to_excel(r\"Y:\\RECHERCHE ET DEV\\10_Modèle d'attractivite des rues\\\\stat.xlsx\")"
   ]
  },
  {
   "cell_type": "code",
   "execution_count": null,
   "id": "37684cfd",
   "metadata": {},
   "outputs": [],
   "source": []
  }
 ],
 "metadata": {
  "kernelspec": {
   "display_name": "Python 3 (ipykernel)",
   "language": "python",
   "name": "python3"
  },
  "language_info": {
   "codemirror_mode": {
    "name": "ipython",
    "version": 3
   },
   "file_extension": ".py",
   "mimetype": "text/x-python",
   "name": "python",
   "nbconvert_exporter": "python",
   "pygments_lexer": "ipython3",
   "version": "3.9.12"
  }
 },
 "nbformat": 4,
 "nbformat_minor": 5
}

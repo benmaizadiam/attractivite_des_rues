{
 "cells": [
  {
   "cell_type": "code",
   "execution_count": 111,
   "id": "df3bcb58",
   "metadata": {
    "ExecuteTime": {
     "end_time": "2023-06-28T13:03:32.055467Z",
     "start_time": "2023-06-28T13:03:31.329065Z"
    }
   },
   "outputs": [],
   "source": [
    "import geopandas as gpd\n",
    "import pandas as pd\n",
    "import osmnx as ox\n",
    "import pickle\n",
    "import pandas as pd\n",
    "import matplotlib.pyplot as plt\n",
    "import numpy as np\n",
    "import warnings\n",
    "import os\n",
    "warnings.filterwarnings(\"ignore\")"
   ]
  },
  {
   "cell_type": "code",
   "execution_count": 112,
   "id": "c8b48c02",
   "metadata": {
    "ExecuteTime": {
     "end_time": "2023-06-28T13:03:34.914136Z",
     "start_time": "2023-06-28T13:03:32.076507Z"
    }
   },
   "outputs": [],
   "source": [
    "list_departement=pd.read_excel(r\"Y:\\RECHERCHE ET DEV\\10_Modèle d'attractivite des rues\\\\Liste-Excel-des-departements-francais.xlsx\")\n"
   ]
  },
  {
   "cell_type": "code",
   "execution_count": 113,
   "id": "36cb22b8",
   "metadata": {
    "ExecuteTime": {
     "end_time": "2023-06-28T13:03:37.895651Z",
     "start_time": "2023-06-28T13:03:34.916134Z"
    }
   },
   "outputs": [],
   "source": [
    "path=r\"Y:\\REFERENTIEL DATA\\RP 2022 FRANCE\\GEODATA - Reseaux de distibution\\GSA_GSS 2020\"\n",
    "gsa=pd.read_csv(path+r\"\\GSA_2022_clean.csv\")\n",
    "gsa = gpd.GeoDataFrame(\n",
    "    gsa, geometry=gpd.points_from_xy(gsa.X__WGS84_, gsa.Y__WGS84_)).set_crs(\"EPSG:4326\").to_crs(\"EPSG:2154\")\n",
    "gss=pd.read_pickle(path+r\"\\GSA_GSS_actif_iris_2020_geo_gss.pkl\")\n",
    "gss = gpd.GeoDataFrame(\n",
    "    gss, geometry=gpd.points_from_xy(gss.X__WGS84_, gss.Y__WGS84_)).set_crs(\"EPSG:4326\").to_crs(\"EPSG:2154\")"
   ]
  },
  {
   "cell_type": "code",
   "execution_count": 114,
   "id": "db3c0894",
   "metadata": {
    "ExecuteTime": {
     "end_time": "2023-06-28T13:03:48.518250Z",
     "start_time": "2023-06-28T13:03:47.166135Z"
    }
   },
   "outputs": [],
   "source": [
    "logs=pickle.load(open(r\"Y:\\RECHERCHE ET DEV\\10_Modèle d'attractivite des rues\\04_données clients (source)\\\\logs.pkl\",\"rb\"))"
   ]
  },
  {
   "cell_type": "code",
   "execution_count": 115,
   "id": "8d5ab817",
   "metadata": {
    "ExecuteTime": {
     "end_time": "2023-06-28T13:06:06.938069Z",
     "start_time": "2023-06-28T13:06:05.954398Z"
    }
   },
   "outputs": [],
   "source": [
    "for i ,row in list_departement.iterrows():\n",
    "    if row[\"Département\"].lower()==\"rhône\":\n",
    "        try:\n",
    "            try:\n",
    "                dep=int(row['N°'])\n",
    "                gsa_dep=gsa[gsa['CP'].isin([i for i in range(dep*1000,(dep+1)*1000) ])]\n",
    "                gss_dep=gss[gss['CP'].isin([i for i in range(dep*1000,(dep+1)*1000) ])]\n",
    "            except:\n",
    "                gsa_dep=gsa.copy()\n",
    "                gss_dep=gss.copy()\n",
    "            place_name=row[\"Département\"].lower().strip()\n",
    "            path=r\"Y:\\RECHERCHE ET DEV\\10_Modèle d'attractivite des rues\\04_données clients (source)\\osm\\\\\"+row['Région'].lower()+r\"\\\\\"+row[\"Département\"].lower()\n",
    "\n",
    "            try:gsa_ass=pickle.load(open(path+r\"\\\\association\\\\GSA_association.pkl\",\"rb\"))\n",
    "            except:pass\n",
    "\n",
    "            try:gss_ass=pickle.load(open(path+r\"\\\\association\\\\GSS_association.pkl\",\"rb\"))\n",
    "            except:pass\n",
    "\n",
    "            gsa_dep=gsa[gsa['CP'].isin([i for i in range(dep*1000,(dep+1)*1000) ])]\n",
    "            gss_dep=gss[gss['CP'].isin([i for i in range(dep*1000,(dep+1)*1000) ])]\n",
    "\n",
    "            if len(gsa_dep)>0:\n",
    "                shops=pickle.load(open(path+r\"\\\\raw data\\\\shops.pkl\",'rb')).to_crs('EPSG:2154')\n",
    "                gsa_comp=gsa_dep.iloc[[i for i in range(len(gsa_dep)) if i not in gsa_ass['gsa'].values]][['Type_Mag' ,  'Nom_Enseigne' ,'CP' ,\"N__Nom_de_voie\",\"geometry\"]].to_crs('EPSG:4326')\n",
    "                pickle.dump(gsa_comp,open(path+r\"\\\\processed data\\\\gsa_comp.pkl\",\"wb\"))\n",
    "                logs[place_name].update({\"gsa_comp\":len(gsa_comp)})\n",
    "            if  len(gss_dep)>0:\n",
    "                shops=pickle.load(open(path+r\"\\\\raw data\\\\shops.pkl\",'rb')).to_crs('EPSG:2154')\n",
    "                gss_comp=gss_dep.iloc[[i for i in range(len(gss_dep)) if i not in gss_ass['gss'].values]][['Type_Mag' ,  'Nom_Enseigne' ,'CP' ,\"N__Nom_de_voie\",\"geometry\"]].to_crs('EPSG:4326')\n",
    "                pickle.dump(gss_comp,open(path+r\"\\\\processed data\\\\gss_comp.pkl\",\"wb\"))\n",
    "                logs[place_name].update({\"gss_comp\":len(gss_comp)})\n",
    "        except:\n",
    "            print(place_name)\n"
   ]
  },
  {
   "cell_type": "code",
   "execution_count": null,
   "id": "e5a6224e",
   "metadata": {},
   "outputs": [],
   "source": []
  }
 ],
 "metadata": {
  "kernelspec": {
   "display_name": "Python 3 (ipykernel)",
   "language": "python",
   "name": "python3"
  },
  "language_info": {
   "codemirror_mode": {
    "name": "ipython",
    "version": 3
   },
   "file_extension": ".py",
   "mimetype": "text/x-python",
   "name": "python",
   "nbconvert_exporter": "python",
   "pygments_lexer": "ipython3",
   "version": "3.9.12"
  }
 },
 "nbformat": 4,
 "nbformat_minor": 5
}

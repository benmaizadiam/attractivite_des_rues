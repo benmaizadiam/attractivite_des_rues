{
 "cells": [
  {
   "cell_type": "code",
   "execution_count": 132,
   "id": "35966288",
   "metadata": {
    "ExecuteTime": {
     "end_time": "2023-06-29T08:05:49.302897Z",
     "start_time": "2023-06-29T08:05:49.269518Z"
    }
   },
   "outputs": [],
   "source": [
    "import geopandas as gpd\n",
    "import osmnx as ox\n",
    "import xgboost as xgb\n",
    "import pickle\n",
    "import numpy as np\n",
    "from sklearn.model_selection import train_test_split\n",
    "from sklearn.ensemble import RandomForestRegressor,GradientBoostingRegressor\n",
    "import time \n",
    "import warnings\n",
    "import time\n",
    "import pandas as pd\n",
    "import matplotlib.pyplot as plt"
   ]
  },
  {
   "cell_type": "code",
   "execution_count": 139,
   "id": "12151e5f",
   "metadata": {
    "ExecuteTime": {
     "end_time": "2023-06-29T08:10:35.062124Z",
     "start_time": "2023-06-29T08:10:34.934609Z"
    }
   },
   "outputs": [],
   "source": [
    "path=r\"Y:\\RECHERCHE ET DEV\\10_Modèle d'attractivite des rues\\04_données clients (source)\\osm filtre\\batiment\"\n",
    "list_departement=pd.read_excel(r\"Y:\\RECHERCHE ET DEV\\10_Modèle d'attractivite des rues\\\\Liste-Excel-des-departements-francais.xlsx\")"
   ]
  },
  {
   "cell_type": "code",
   "execution_count": 136,
   "id": "b1909223",
   "metadata": {
    "ExecuteTime": {
     "end_time": "2023-06-29T08:09:00.889444Z",
     "start_time": "2023-06-29T08:07:16.148352Z"
    }
   },
   "outputs": [],
   "source": [
    "iris_data=pd.read_excel(\"Y:\\REFERENTIEL DATA\\RP 2022 FRANCE\\GEODATA - IRIS\\Geodata_IRIS_essentiels.xlsx\")\n",
    "contour_iris=gpd.read_file(r'Y:\\REFERENTIEL DATA\\RP 2022 FRANCE\\CARTOGRAPHIE\\Cartographie_France_IRIS_2019\\CONTOURS-IRIS_2-1_SHP_LAMB93_FXX-2019\\CONTOURS-IRIS.shp').to_crs('EPSG:3857')"
   ]
  },
  {
   "cell_type": "code",
   "execution_count": 140,
   "id": "27c7e87a",
   "metadata": {
    "ExecuteTime": {
     "end_time": "2023-06-29T08:10:40.112114Z",
     "start_time": "2023-06-29T08:10:36.728432Z"
    }
   },
   "outputs": [],
   "source": [
    "building_no_na=building[~building['building:levels'].isna()]\n",
    "building_na=building[building['building:levels'].isna()]\n",
    "\n",
    "#get contours of the departement only \n",
    "dep_contour_iris=contour_iris[contour_iris['INSEE_COM'].isin([str(i) for i in range(dep*1000,dep*1000+1000)])]"
   ]
  },
  {
   "cell_type": "code",
   "execution_count": 82,
   "id": "6df17478",
   "metadata": {
    "ExecuteTime": {
     "end_time": "2023-06-14T14:20:21.266041Z",
     "start_time": "2023-06-14T14:20:19.842484Z"
    }
   },
   "outputs": [],
   "source": [
    "a=gpd.sjoin(building,dep_contour_iris,predicate=\"intersects\",how=\"left\")\n",
    "a = a[~a.index.duplicated(keep='first')].reset_index()"
   ]
  },
  {
   "cell_type": "code",
   "execution_count": 83,
   "id": "14ad840b",
   "metadata": {
    "ExecuteTime": {
     "end_time": "2023-06-14T14:20:21.306684Z",
     "start_time": "2023-06-14T14:20:21.268093Z"
    }
   },
   "outputs": [],
   "source": [
    "iris_building_id=a[[\"index_right\",'element_type',\"osmid\"]].copy()\n",
    "iris_building_id=iris_building_id.set_index(['element_type',\"osmid\"])"
   ]
  },
  {
   "cell_type": "code",
   "execution_count": 84,
   "id": "3fb18c8b",
   "metadata": {
    "ExecuteTime": {
     "end_time": "2023-06-14T14:20:58.005901Z",
     "start_time": "2023-06-14T14:20:21.306684Z"
    }
   },
   "outputs": [],
   "source": [
    "a=gpd.GeoDataFrame(\n",
    "    a[['element_type',\"osmid\",\"CODE_IRIS\"]].merge(contour_iris[['CODE_IRIS',\"geometry\"]]),\n",
    "\n",
    ").set_geometry(\"geometry\").set_crs('EPSG:3857')\n",
    "\n",
    "xx=gpd.sjoin(a,dep_contour_iris,predicate=\"touches\")"
   ]
  },
  {
   "cell_type": "code",
   "execution_count": 85,
   "id": "1d911691",
   "metadata": {
    "ExecuteTime": {
     "end_time": "2023-06-14T14:21:00.154118Z",
     "start_time": "2023-06-14T14:20:58.007914Z"
    }
   },
   "outputs": [],
   "source": [
    "nearby_buildings=xx[[\"osmid\",'element_type',\"CODE_IRIS_left\",\"index_right\"]].groupby([\"element_type\",'osmid'])['index_right'].apply(list)"
   ]
  },
  {
   "cell_type": "code",
   "execution_count": 86,
   "id": "181d6d0d",
   "metadata": {
    "ExecuteTime": {
     "end_time": "2023-06-14T14:21:00.254307Z",
     "start_time": "2023-06-14T14:21:00.154118Z"
    }
   },
   "outputs": [],
   "source": [
    "nearby_buildings=nearby_buildings.to_dict()"
   ]
  },
  {
   "cell_type": "markdown",
   "id": "012d1a93",
   "metadata": {},
   "source": [
    "# ML"
   ]
  },
  {
   "cell_type": "code",
   "execution_count": 87,
   "id": "efc9a666",
   "metadata": {
    "ExecuteTime": {
     "end_time": "2023-06-14T14:21:00.285728Z",
     "start_time": "2023-06-14T14:21:00.254307Z"
    }
   },
   "outputs": [],
   "source": [
    "sample=building_no_na.sample(frac=1,random_state=123)"
   ]
  },
  {
   "cell_type": "code",
   "execution_count": 88,
   "id": "c57dbf2c",
   "metadata": {
    "ExecuteTime": {
     "end_time": "2023-06-14T14:21:00.306650Z",
     "start_time": "2023-06-14T14:21:00.286726Z"
    }
   },
   "outputs": [],
   "source": [
    "def f (x):\n",
    "    if x!=x:\n",
    "        return -100\n",
    "    else:\n",
    "        return float(x.split(';')[0])"
   ]
  },
  {
   "cell_type": "code",
   "execution_count": 89,
   "id": "682a287d",
   "metadata": {
    "ExecuteTime": {
     "end_time": "2023-06-14T15:10:15.502067Z",
     "start_time": "2023-06-14T14:21:00.306650Z"
    }
   },
   "outputs": [
    {
     "name": "stdout",
     "output_type": "stream",
     "text": [
      "number of rows :58625\n",
      "0\n",
      "1000\n",
      "2000\n",
      "3000\n",
      "4000\n",
      "5000\n",
      "6000\n",
      "7000\n",
      "8000\n",
      "9000\n",
      "10000\n",
      "11000\n",
      "12000\n",
      "13000\n",
      "14000\n",
      "15000\n",
      "16000\n",
      "17000\n",
      "18000\n",
      "19000\n",
      "20000\n",
      "21000\n",
      "22000\n",
      "23000\n",
      "24000\n",
      "25000\n",
      "26000\n",
      "27000\n",
      "28000\n",
      "29000\n",
      "30000\n",
      "31000\n",
      "32000\n",
      "33000\n",
      "34000\n",
      "35000\n",
      "36000\n",
      "37000\n",
      "38000\n",
      "39000\n",
      "40000\n",
      "41000\n",
      "42000\n",
      "43000\n",
      "44000\n",
      "45000\n",
      "46000\n",
      "47000\n",
      "48000\n",
      "49000\n",
      "50000\n",
      "51000\n",
      "52000\n",
      "53000\n",
      "54000\n",
      "55000\n",
      "56000\n",
      "57000\n",
      "58000\n",
      "2955.161912918091\n"
     ]
    }
   ],
   "source": [
    "data_no=None\n",
    "#pour l'affichage\n",
    "j=0\n",
    "\n",
    "start=time.time()\n",
    "warnings.filterwarnings(\"ignore\")\n",
    "k=10\n",
    "#y_true\n",
    "building_level=[]\n",
    "\n",
    "print('number of rows :'+str(len(sample)))\n",
    "for i ,row in sample.iterrows():\n",
    "    if j%1000==0:\n",
    "        print(j)\n",
    "    building_level.append(row['building:levels'])\n",
    "        \n",
    "    #get the distance between all buildings and the current buildingi\n",
    "    ## get the com nearby of the building i\n",
    "    if i in nearby_buildings.keys() and nearby_buildings[i][0] is not None:\n",
    "        current_iris_index=iris_building_id.loc[i]['index_right']\n",
    "        iris_ids=list(nearby_buildings[i])\n",
    "        iris_ids.append(current_iris_index)\n",
    "        indices=list(iris_building_id[iris_building_id['index_right'].isin(iris_ids)].index)\n",
    "        \n",
    "    else:\n",
    "        #indices=building.index\n",
    "        indices=list(building_no_na.index)\n",
    "        \n",
    "    \n",
    "    #considerer que les batiment dont on connait leurs nombre d'étages\n",
    "\n",
    "    indices = building_no_na.index.intersection(indices)\n",
    "    distance=building_no_na.loc[indices].distance(row['geometry']).sort_values()\n",
    "    \n",
    "    #remove the current building from the distance dataframe (distance will be 0 ofc)\n",
    "    distance=distance.drop(i)\n",
    "\n",
    "    #take the k nearest neighboors\n",
    "    a=building_no_na.loc[distance.index].iloc[:k]\n",
    "\n",
    "    #buildings nearby\n",
    "    areas=a.area.to_numpy()\n",
    "    distances=distance.iloc[:k].to_numpy()\n",
    "    types=a['building'].to_numpy()\n",
    "    levels=np.vectorize (f )(a['building:levels'].to_numpy())\n",
    "    \n",
    "    if len(areas)<k:\n",
    "        areas=np.append(areas,[np.nan for _ in range(k-len(a))])\n",
    "    if len(distances)<k:distances=np.append(distances,[np.nan for _ in range(k-len(a))])\n",
    "    if len(types)<k:types=np.append(types,[np.nan for _ in range(k-len(a))])\n",
    "    if len(levels)<k:levels=np.append(levels,[np.nan for _ in range(k-len(a))])\n",
    "    \n",
    "    #information about the iris\n",
    "    iris=contour_iris[contour_iris.intersects(row['geometry'])].iloc[0]\n",
    "    if iris['TYP_IRIS'] ==iris['TYP_IRIS']:\n",
    "        iris_type=np.array([iris['TYP_IRIS']])\n",
    "    else:\n",
    "        iris_type=None\n",
    "        \n",
    "    iris_area=np.array([iris['geometry'].area])\n",
    "    \n",
    "    #information about the building itself\n",
    "    type_building=np.array([row['building']])\n",
    "    area_building=np.array([row['geometry'].area])\n",
    "    \n",
    "    #densité \n",
    "    area=iris[\"geometry\"].area/10**6\n",
    "    iris=iris_data[iris_data['CODE_IRIS']==iris[\"CODE_IRIS\"]]\n",
    "    pop=iris['P17_POP'].iloc[0]\n",
    "    densite=[pop/area]\n",
    "\n",
    "    \n",
    "\n",
    "    if data_no is None:\n",
    "        \n",
    "        data_no=np.concatenate([type_building,area_building,iris_type,iris_area,densite,areas,types,levels,distances])\n",
    "    else:\n",
    "        \n",
    "        data_no=np.vstack([data_no,np.concatenate([type_building,area_building,iris_type,iris_area,densite,areas,types,levels,distances])])\n",
    "\n",
    "        \n",
    "            \n",
    "    j+=1\n",
    "end=time.time()\n",
    "print(end-start)"
   ]
  },
  {
   "cell_type": "code",
   "execution_count": 90,
   "id": "2169a582",
   "metadata": {
    "ExecuteTime": {
     "end_time": "2023-06-14T15:10:15.533316Z",
     "start_time": "2023-06-14T15:10:15.502067Z"
    }
   },
   "outputs": [
    {
     "data": {
      "text/html": [
       "<div>\n",
       "<style scoped>\n",
       "    .dataframe tbody tr th:only-of-type {\n",
       "        vertical-align: middle;\n",
       "    }\n",
       "\n",
       "    .dataframe tbody tr th {\n",
       "        vertical-align: top;\n",
       "    }\n",
       "\n",
       "    .dataframe thead th {\n",
       "        text-align: right;\n",
       "    }\n",
       "</style>\n",
       "<table border=\"1\" class=\"dataframe\">\n",
       "  <thead>\n",
       "    <tr style=\"text-align: right;\">\n",
       "      <th></th>\n",
       "      <th>type_building</th>\n",
       "      <th>area_building</th>\n",
       "      <th>iris_type</th>\n",
       "      <th>iris_area</th>\n",
       "      <th>iris_densite</th>\n",
       "      <th>areas0</th>\n",
       "      <th>areas1</th>\n",
       "      <th>areas2</th>\n",
       "      <th>areas3</th>\n",
       "      <th>areas4</th>\n",
       "      <th>...</th>\n",
       "      <th>distances0</th>\n",
       "      <th>distances1</th>\n",
       "      <th>distances2</th>\n",
       "      <th>distances3</th>\n",
       "      <th>distances4</th>\n",
       "      <th>distances5</th>\n",
       "      <th>distances6</th>\n",
       "      <th>distances7</th>\n",
       "      <th>distances8</th>\n",
       "      <th>distances9</th>\n",
       "    </tr>\n",
       "  </thead>\n",
       "  <tbody>\n",
       "    <tr>\n",
       "      <th>0</th>\n",
       "      <td>apartments</td>\n",
       "      <td>524.472914</td>\n",
       "      <td>H</td>\n",
       "      <td>95817.583049</td>\n",
       "      <td>22640.846933</td>\n",
       "      <td>447.019561</td>\n",
       "      <td>220.198506</td>\n",
       "      <td>435.068407</td>\n",
       "      <td>586.947648</td>\n",
       "      <td>690.433694</td>\n",
       "      <td>...</td>\n",
       "      <td>0.0</td>\n",
       "      <td>22.733941</td>\n",
       "      <td>31.053644</td>\n",
       "      <td>31.863299</td>\n",
       "      <td>40.188677</td>\n",
       "      <td>49.75681</td>\n",
       "      <td>54.952447</td>\n",
       "      <td>56.857179</td>\n",
       "      <td>66.0365</td>\n",
       "      <td>67.889794</td>\n",
       "    </tr>\n",
       "    <tr>\n",
       "      <th>1</th>\n",
       "      <td>apartments</td>\n",
       "      <td>315.317166</td>\n",
       "      <td>H</td>\n",
       "      <td>113245.430628</td>\n",
       "      <td>18981.442776</td>\n",
       "      <td>229.96435</td>\n",
       "      <td>506.046641</td>\n",
       "      <td>336.842886</td>\n",
       "      <td>216.908724</td>\n",
       "      <td>272.477788</td>\n",
       "      <td>...</td>\n",
       "      <td>0.0</td>\n",
       "      <td>0.0</td>\n",
       "      <td>13.111436</td>\n",
       "      <td>13.991268</td>\n",
       "      <td>15.145654</td>\n",
       "      <td>15.148969</td>\n",
       "      <td>15.539586</td>\n",
       "      <td>17.19743</td>\n",
       "      <td>19.93448</td>\n",
       "      <td>21.371818</td>\n",
       "    </tr>\n",
       "    <tr>\n",
       "      <th>2</th>\n",
       "      <td>yes</td>\n",
       "      <td>547.87119</td>\n",
       "      <td>H</td>\n",
       "      <td>323613.170988</td>\n",
       "      <td>13913.789769</td>\n",
       "      <td>404.249459</td>\n",
       "      <td>372.147857</td>\n",
       "      <td>36.326792</td>\n",
       "      <td>404.095655</td>\n",
       "      <td>1610.150961</td>\n",
       "      <td>...</td>\n",
       "      <td>0.0</td>\n",
       "      <td>0.0</td>\n",
       "      <td>8.280352</td>\n",
       "      <td>12.538186</td>\n",
       "      <td>12.801741</td>\n",
       "      <td>13.582031</td>\n",
       "      <td>26.460503</td>\n",
       "      <td>34.300625</td>\n",
       "      <td>35.516815</td>\n",
       "      <td>43.068984</td>\n",
       "    </tr>\n",
       "    <tr>\n",
       "      <th>3</th>\n",
       "      <td>yes</td>\n",
       "      <td>436.288912</td>\n",
       "      <td>H</td>\n",
       "      <td>103590.242518</td>\n",
       "      <td>15277.502621</td>\n",
       "      <td>925.280686</td>\n",
       "      <td>68.784896</td>\n",
       "      <td>464.310302</td>\n",
       "      <td>375.911824</td>\n",
       "      <td>372.737956</td>\n",
       "      <td>...</td>\n",
       "      <td>0.0</td>\n",
       "      <td>2.312798</td>\n",
       "      <td>19.794707</td>\n",
       "      <td>19.851513</td>\n",
       "      <td>27.793037</td>\n",
       "      <td>36.804469</td>\n",
       "      <td>39.865849</td>\n",
       "      <td>40.444343</td>\n",
       "      <td>43.746732</td>\n",
       "      <td>47.781417</td>\n",
       "    </tr>\n",
       "    <tr>\n",
       "      <th>4</th>\n",
       "      <td>yes</td>\n",
       "      <td>74.652713</td>\n",
       "      <td>H</td>\n",
       "      <td>247002.138863</td>\n",
       "      <td>12007.645378</td>\n",
       "      <td>3967.225881</td>\n",
       "      <td>241.74481</td>\n",
       "      <td>617.659218</td>\n",
       "      <td>218.862945</td>\n",
       "      <td>126.634351</td>\n",
       "      <td>...</td>\n",
       "      <td>23.798155</td>\n",
       "      <td>45.442932</td>\n",
       "      <td>80.660596</td>\n",
       "      <td>82.761556</td>\n",
       "      <td>87.588175</td>\n",
       "      <td>91.793512</td>\n",
       "      <td>94.672215</td>\n",
       "      <td>104.409465</td>\n",
       "      <td>115.789509</td>\n",
       "      <td>116.832409</td>\n",
       "    </tr>\n",
       "  </tbody>\n",
       "</table>\n",
       "<p>5 rows × 45 columns</p>\n",
       "</div>"
      ],
      "text/plain": [
       "  type_building area_building iris_type      iris_area  iris_densite  \\\n",
       "0    apartments    524.472914         H   95817.583049  22640.846933   \n",
       "1    apartments    315.317166         H  113245.430628  18981.442776   \n",
       "2           yes     547.87119         H  323613.170988  13913.789769   \n",
       "3           yes    436.288912         H  103590.242518  15277.502621   \n",
       "4           yes     74.652713         H  247002.138863  12007.645378   \n",
       "\n",
       "        areas0      areas1      areas2      areas3       areas4  ...  \\\n",
       "0   447.019561  220.198506  435.068407  586.947648   690.433694  ...   \n",
       "1    229.96435  506.046641  336.842886  216.908724   272.477788  ...   \n",
       "2   404.249459  372.147857   36.326792  404.095655  1610.150961  ...   \n",
       "3   925.280686   68.784896  464.310302  375.911824   372.737956  ...   \n",
       "4  3967.225881   241.74481  617.659218  218.862945   126.634351  ...   \n",
       "\n",
       "  distances0 distances1 distances2 distances3 distances4 distances5  \\\n",
       "0        0.0  22.733941  31.053644  31.863299  40.188677   49.75681   \n",
       "1        0.0        0.0  13.111436  13.991268  15.145654  15.148969   \n",
       "2        0.0        0.0   8.280352  12.538186  12.801741  13.582031   \n",
       "3        0.0   2.312798  19.794707  19.851513  27.793037  36.804469   \n",
       "4  23.798155  45.442932  80.660596  82.761556  87.588175  91.793512   \n",
       "\n",
       "  distances6  distances7  distances8  distances9  \n",
       "0  54.952447   56.857179     66.0365   67.889794  \n",
       "1  15.539586    17.19743    19.93448   21.371818  \n",
       "2  26.460503   34.300625   35.516815   43.068984  \n",
       "3  39.865849   40.444343   43.746732   47.781417  \n",
       "4  94.672215  104.409465  115.789509  116.832409  \n",
       "\n",
       "[5 rows x 45 columns]"
      ]
     },
     "execution_count": 90,
     "metadata": {},
     "output_type": "execute_result"
    }
   ],
   "source": [
    "#create a dataframe\n",
    "\n",
    "columns=[\"type_building\",\"area_building\",\"iris_type\",\"iris_area\",\"iris_densite\"]\n",
    "for j in [\"areas\",\"types\",\"levels\",\"distances\"]:\n",
    "    for i in range(k):\n",
    "        columns.append(j+str(i))\n",
    "\n",
    "data_no=pd.DataFrame(data_no,columns=columns)\n",
    "data_no.head()"
   ]
  },
  {
   "cell_type": "code",
   "execution_count": 91,
   "id": "e95a4a21",
   "metadata": {
    "ExecuteTime": {
     "end_time": "2023-06-14T15:10:16.219913Z",
     "start_time": "2023-06-14T15:10:15.533316Z"
    }
   },
   "outputs": [
    {
     "data": {
      "text/plain": [
       "(58625,)"
      ]
     },
     "execution_count": 91,
     "metadata": {},
     "output_type": "execute_result"
    }
   ],
   "source": [
    "#building_level is the true label Y\n",
    "building_level=np.array([float(i.split(';')[0]) for i in building_level])\n",
    "building_level=building_level[~data_no.isna().any(axis=1)]\n",
    "building_level.shape"
   ]
  },
  {
   "cell_type": "code",
   "execution_count": 93,
   "id": "c52e3322",
   "metadata": {
    "ExecuteTime": {
     "end_time": "2023-06-14T15:10:18.312015Z",
     "start_time": "2023-06-14T15:10:16.926150Z"
    }
   },
   "outputs": [],
   "source": [
    "#convert columns from object to int\n",
    "for c in data_no:\n",
    "    if \"area\" in c or \"levels\" in c or \"distances\" in c or \"iris_densite\" in c:\n",
    "        data_no[c]=data_no[c].astype(np.int)"
   ]
  },
  {
   "cell_type": "code",
   "execution_count": 94,
   "id": "317a7592",
   "metadata": {
    "ExecuteTime": {
     "end_time": "2023-06-14T15:10:18.660465Z",
     "start_time": "2023-06-14T15:10:18.314031Z"
    }
   },
   "outputs": [
    {
     "name": "stdout",
     "output_type": "stream",
     "text": [
      "type_building\n",
      "iris_type\n",
      "types0\n",
      "types1\n",
      "types2\n",
      "types3\n",
      "types4\n",
      "types5\n",
      "types6\n",
      "types7\n",
      "types8\n",
      "types9\n"
     ]
    }
   ],
   "source": [
    "list_encoders=[]\n",
    "from sklearn.preprocessing import OrdinalEncoder\n",
    "for c in data_no.columns:\n",
    "    if data_no[c].dtype==\"O\":\n",
    "        print(c)\n",
    "        enc = OrdinalEncoder()\n",
    "        data_no[c]=enc.fit_transform(data_no[c].to_numpy().reshape(-1,1) ).squeeze().astype(np.int)\n",
    "        list_encoders.append(enc)\n",
    "        "
   ]
  },
  {
   "cell_type": "code",
   "execution_count": 95,
   "id": "5e3d35f5",
   "metadata": {
    "ExecuteTime": {
     "end_time": "2023-06-14T15:10:18.707434Z",
     "start_time": "2023-06-14T15:10:18.660465Z"
    }
   },
   "outputs": [],
   "source": [
    "X_train, X_test, y_train, y_test =train_test_split(data_no,building_level,random_state=123)"
   ]
  },
  {
   "cell_type": "markdown",
   "id": "889fe03e",
   "metadata": {},
   "source": [
    "# XGBoost"
   ]
  },
  {
   "cell_type": "code",
   "execution_count": 96,
   "id": "16d006aa",
   "metadata": {
    "ExecuteTime": {
     "end_time": "2023-06-14T15:10:18.776330Z",
     "start_time": "2023-06-14T15:10:18.707434Z"
    }
   },
   "outputs": [],
   "source": [
    "dtrain = xgb.DMatrix(X_train, label=y_train)\n",
    "dtest = xgb.DMatrix(X_test, label=y_test)"
   ]
  },
  {
   "cell_type": "code",
   "execution_count": 97,
   "id": "b9bfd4f6",
   "metadata": {
    "ExecuteTime": {
     "end_time": "2023-06-14T15:10:18.791949Z",
     "start_time": "2023-06-14T15:10:18.776330Z"
    }
   },
   "outputs": [],
   "source": [
    "param = {'max_depth': 5, 'eta': 0.1, 'objective': 'reg:squarederror',\"gamma\":2,\"lambda\":4,\"verbosity\":0}\n",
    "param['nthread'] = 4\n",
    "param['eval_metric'] = [\"mae\"]\n",
    "param['verbosity']=0\n",
    "evallist = [(dtrain, 'train'), (dtest, 'eval')]\n",
    "num_round = 500"
   ]
  },
  {
   "cell_type": "code",
   "execution_count": 98,
   "id": "d414b23a",
   "metadata": {
    "ExecuteTime": {
     "end_time": "2023-06-14T15:10:31.500349Z",
     "start_time": "2023-06-14T15:10:18.791949Z"
    }
   },
   "outputs": [
    {
     "name": "stdout",
     "output_type": "stream",
     "text": [
      "The error is :1.170430511018626\n",
      "Train error is :0.9168258733624454\n",
      "Std train error: 1.0162976900441545\n",
      "Std test error: 1.4044895456264517\n",
      "Median Abs error  1.4044895456264517\n",
      "Train time 12.569924116134644\n"
     ]
    }
   ],
   "source": [
    "start=time.time()\n",
    "model = xgb.train(param, dtrain, num_round)\n",
    "### ADDD Other metrics STD and mediane absolute error\n",
    "end=time.time()\n",
    "ypred = model.predict(dtest)\n",
    "print('The error is :'+str(np.sum(np.abs(model.predict(dtest).round()-y_test))/len(y_test)))\n",
    "print('Train error is :'+str(np.sum(np.abs(model.predict(dtrain).round()-y_train))/len(y_train)))\n",
    "\n",
    "print(\"Std train error:\",np.std(np.abs(model.predict(dtrain).round()-y_train)))\n",
    "print(\"Std test error:\",np.std(np.abs(model.predict(dtest).round()-y_test)))\n",
    "\n",
    "print(\"Median Abs error \",np.std(np.abs(model.predict(dtest).round()-y_test)))\n",
    "print('Train time '+str(end-start))"
   ]
  },
  {
   "cell_type": "code",
   "execution_count": 100,
   "id": "74735a83",
   "metadata": {
    "ExecuteTime": {
     "end_time": "2023-06-14T15:10:45.349139Z",
     "start_time": "2023-06-14T15:10:45.321442Z"
    }
   },
   "outputs": [],
   "source": [
    "pickle.dump(model, open(place_name.lower()+\".model.pkl\",\"wb\"))"
   ]
  },
  {
   "cell_type": "markdown",
   "id": "94aa90ea",
   "metadata": {},
   "source": [
    "# Stats"
   ]
  },
  {
   "cell_type": "code",
   "execution_count": 101,
   "id": "4728adf6",
   "metadata": {
    "ExecuteTime": {
     "end_time": "2023-06-14T15:10:47.949387Z",
     "start_time": "2023-06-14T15:10:47.933986Z"
    }
   },
   "outputs": [],
   "source": [
    "intervals=[5,10,15,20]"
   ]
  },
  {
   "cell_type": "code",
   "execution_count": 102,
   "id": "d7ca5996",
   "metadata": {
    "ExecuteTime": {
     "end_time": "2023-06-14T15:10:48.403372Z",
     "start_time": "2023-06-14T15:10:48.392401Z"
    }
   },
   "outputs": [],
   "source": [
    "ypred=model.predict(dtest)"
   ]
  },
  {
   "cell_type": "code",
   "execution_count": 103,
   "id": "4b787eaa",
   "metadata": {
    "ExecuteTime": {
     "end_time": "2023-06-14T15:10:48.948989Z",
     "start_time": "2023-06-14T15:10:48.921490Z"
    }
   },
   "outputs": [
    {
     "name": "stdout",
     "output_type": "stream",
     "text": [
      "For intervale [0,5] The error is :1.3916999201915403\n",
      "For intervale [5,10] The error is :0.8746166114587167\n",
      "For intervale [10,15] The error is :4.461928934010152\n",
      "For intervale [+infini,15] The error is :12.428571428571429\n"
     ]
    }
   ],
   "source": [
    "for i,el in enumerate(intervals):\n",
    "    \n",
    "    if i ==0:\n",
    "        a=\"0\"\n",
    "        b=str(el)\n",
    "        mask=y_test<=el\n",
    "    elif i ==len(intervals)-1:\n",
    "        a=\"+infini\"\n",
    "        mask=y_test>el\n",
    "    else:\n",
    "        a=str(intervals[i-1])\n",
    "        b=str(el)\n",
    "        mask=np.logical_and(y_test<=el , y_test>intervals[i-1])\n",
    "\n",
    "    print('For intervale ['+a+\",\"+b+\"] The error is :\"+str(np.sum(np.abs(ypred[mask].round()-y_test[mask]))/len(y_test[mask])))\n",
    "        "
   ]
  },
  {
   "cell_type": "code",
   "execution_count": 104,
   "id": "5d60387f",
   "metadata": {
    "ExecuteTime": {
     "end_time": "2023-06-14T15:10:58.188963Z",
     "start_time": "2023-06-14T15:10:58.118410Z"
    }
   },
   "outputs": [],
   "source": [
    "da=pd.DataFrame([],columns=[\"level\",\"error\",'frequency'])\n",
    "for i,el in enumerate(pd.Series(y_test).value_counts().index):\n",
    "    mask=y_test==el\n",
    "    da.loc[len(da)]=[el,np.sum(np.abs(ypred[mask].round()-y_test[mask]))/len(y_test[mask]),pd.Series(y_test).value_counts()[el]]"
   ]
  },
  {
   "cell_type": "code",
   "execution_count": 105,
   "id": "b4b0b37c",
   "metadata": {
    "ExecuteTime": {
     "end_time": "2023-06-14T15:11:01.237479Z",
     "start_time": "2023-06-14T15:11:01.208781Z"
    }
   },
   "outputs": [
    {
     "data": {
      "text/html": [
       "<div>\n",
       "<style scoped>\n",
       "    .dataframe tbody tr th:only-of-type {\n",
       "        vertical-align: middle;\n",
       "    }\n",
       "\n",
       "    .dataframe tbody tr th {\n",
       "        vertical-align: top;\n",
       "    }\n",
       "\n",
       "    .dataframe thead th {\n",
       "        text-align: right;\n",
       "    }\n",
       "</style>\n",
       "<table border=\"1\" class=\"dataframe\">\n",
       "  <thead>\n",
       "    <tr style=\"text-align: right;\">\n",
       "      <th></th>\n",
       "      <th>level</th>\n",
       "      <th>error</th>\n",
       "      <th>frequency</th>\n",
       "    </tr>\n",
       "  </thead>\n",
       "  <tbody>\n",
       "    <tr>\n",
       "      <th>1</th>\n",
       "      <td>6.0</td>\n",
       "      <td>0.669509</td>\n",
       "      <td>2463.0</td>\n",
       "    </tr>\n",
       "    <tr>\n",
       "      <th>0</th>\n",
       "      <td>7.0</td>\n",
       "      <td>0.694388</td>\n",
       "      <td>3956.0</td>\n",
       "    </tr>\n",
       "    <tr>\n",
       "      <th>2</th>\n",
       "      <td>5.0</td>\n",
       "      <td>0.895136</td>\n",
       "      <td>1583.0</td>\n",
       "    </tr>\n",
       "    <tr>\n",
       "      <th>5</th>\n",
       "      <td>4.0</td>\n",
       "      <td>1.272040</td>\n",
       "      <td>1191.0</td>\n",
       "    </tr>\n",
       "    <tr>\n",
       "      <th>4</th>\n",
       "      <td>8.0</td>\n",
       "      <td>1.281432</td>\n",
       "      <td>1201.0</td>\n",
       "    </tr>\n",
       "    <tr>\n",
       "      <th>7</th>\n",
       "      <td>3.0</td>\n",
       "      <td>1.467118</td>\n",
       "      <td>1034.0</td>\n",
       "    </tr>\n",
       "    <tr>\n",
       "      <th>23</th>\n",
       "      <td>2.5</td>\n",
       "      <td>1.500000</td>\n",
       "      <td>2.0</td>\n",
       "    </tr>\n",
       "    <tr>\n",
       "      <th>6</th>\n",
       "      <td>2.0</td>\n",
       "      <td>1.645777</td>\n",
       "      <td>1101.0</td>\n",
       "    </tr>\n",
       "    <tr>\n",
       "      <th>3</th>\n",
       "      <td>1.0</td>\n",
       "      <td>1.809382</td>\n",
       "      <td>1343.0</td>\n",
       "    </tr>\n",
       "    <tr>\n",
       "      <th>8</th>\n",
       "      <td>9.0</td>\n",
       "      <td>1.967005</td>\n",
       "      <td>394.0</td>\n",
       "    </tr>\n",
       "  </tbody>\n",
       "</table>\n",
       "</div>"
      ],
      "text/plain": [
       "    level     error  frequency\n",
       "1     6.0  0.669509     2463.0\n",
       "0     7.0  0.694388     3956.0\n",
       "2     5.0  0.895136     1583.0\n",
       "5     4.0  1.272040     1191.0\n",
       "4     8.0  1.281432     1201.0\n",
       "7     3.0  1.467118     1034.0\n",
       "23    2.5  1.500000        2.0\n",
       "6     2.0  1.645777     1101.0\n",
       "3     1.0  1.809382     1343.0\n",
       "8     9.0  1.967005      394.0"
      ]
     },
     "execution_count": 105,
     "metadata": {},
     "output_type": "execute_result"
    }
   ],
   "source": [
    "da.sort_values('error').head(10)"
   ]
  },
  {
   "cell_type": "code",
   "execution_count": 106,
   "id": "13e5c046",
   "metadata": {
    "ExecuteTime": {
     "end_time": "2023-06-14T15:11:12.409735Z",
     "start_time": "2023-06-14T15:11:12.400758Z"
    }
   },
   "outputs": [
    {
     "data": {
      "text/html": [
       "<div>\n",
       "<style scoped>\n",
       "    .dataframe tbody tr th:only-of-type {\n",
       "        vertical-align: middle;\n",
       "    }\n",
       "\n",
       "    .dataframe tbody tr th {\n",
       "        vertical-align: top;\n",
       "    }\n",
       "\n",
       "    .dataframe thead th {\n",
       "        text-align: right;\n",
       "    }\n",
       "</style>\n",
       "<table border=\"1\" class=\"dataframe\">\n",
       "  <thead>\n",
       "    <tr style=\"text-align: right;\">\n",
       "      <th></th>\n",
       "      <th>level</th>\n",
       "      <th>error</th>\n",
       "      <th>frequency</th>\n",
       "    </tr>\n",
       "  </thead>\n",
       "  <tbody>\n",
       "    <tr>\n",
       "      <th>level</th>\n",
       "      <td>1.000000</td>\n",
       "      <td>0.785100</td>\n",
       "      <td>-0.455676</td>\n",
       "    </tr>\n",
       "    <tr>\n",
       "      <th>error</th>\n",
       "      <td>0.785100</td>\n",
       "      <td>1.000000</td>\n",
       "      <td>-0.458828</td>\n",
       "    </tr>\n",
       "    <tr>\n",
       "      <th>frequency</th>\n",
       "      <td>-0.455676</td>\n",
       "      <td>-0.458828</td>\n",
       "      <td>1.000000</td>\n",
       "    </tr>\n",
       "  </tbody>\n",
       "</table>\n",
       "</div>"
      ],
      "text/plain": [
       "              level     error  frequency\n",
       "level      1.000000  0.785100  -0.455676\n",
       "error      0.785100  1.000000  -0.458828\n",
       "frequency -0.455676 -0.458828   1.000000"
      ]
     },
     "execution_count": 106,
     "metadata": {},
     "output_type": "execute_result"
    }
   ],
   "source": [
    "da.sort_values('error').corr()"
   ]
  },
  {
   "cell_type": "markdown",
   "id": "7377ca5f",
   "metadata": {},
   "source": [
    "**Conclusion**\n",
    "L'erreur est trés bas pour lorsque le nombre d'étage est dans l'intervale [5-7] qui correpond au nombre d'étage moyen à Paris.\n",
    "Les erreurs apparaissent pour les buildings ayant un trés grand nombre d'étage."
   ]
  },
  {
   "cell_type": "markdown",
   "id": "91d554d0",
   "metadata": {},
   "source": [
    "# Prediction des valeurs manquantes"
   ]
  },
  {
   "cell_type": "code",
   "execution_count": 107,
   "id": "e73679f8",
   "metadata": {
    "ExecuteTime": {
     "end_time": "2023-06-14T15:36:20.534175Z",
     "start_time": "2023-06-14T15:12:39.858320Z"
    }
   },
   "outputs": [
    {
     "name": "stdout",
     "output_type": "stream",
     "text": [
      "number of rows :34917\n",
      "0\n",
      "1000\n",
      "2000\n",
      "3000\n",
      "4000\n",
      "5000\n",
      "6000\n",
      "7000\n",
      "8000\n",
      "9000\n",
      "10000\n",
      "11000\n",
      "12000\n",
      "13000\n",
      "14000\n",
      "15000\n",
      "16000\n",
      "17000\n",
      "18000\n",
      "19000\n",
      "20000\n",
      "21000\n",
      "22000\n",
      "23000\n",
      "24000\n",
      "25000\n",
      "26000\n",
      "27000\n",
      "28000\n",
      "29000\n",
      "30000\n",
      "31000\n",
      "32000\n",
      "33000\n",
      "34000\n"
     ]
    }
   ],
   "source": [
    "data_no_pred=None\n",
    "j=0\n",
    "import warnings\n",
    "warnings.filterwarnings(\"ignore\")\n",
    "k=10\n",
    "#the value to predict\n",
    "building_level=[]\n",
    "print('number of rows :'+str(len(building_na)))\n",
    "for i ,row in building_na.iterrows():\n",
    "    if j%1000==0:\n",
    "        print(j)\n",
    "\n",
    "        \n",
    "    #get the distance between all buildings and our building\n",
    "    ## get com nearby of the building\n",
    "    if i in nearby_buildings.keys() and nearby_buildings[i][0] is not None:\n",
    "        current_iris_index=iris_building_id.loc[i]['index_right']\n",
    "        iris_ids=list(nearby_buildings[i])\n",
    "        iris_ids.append(current_iris_index)\n",
    "        indices=list(iris_building_id[iris_building_id['index_right'].isin(iris_ids)].index)\n",
    "        \n",
    "    else:\n",
    "        #indices=building.index\n",
    "        indices=list(building_no_na.index)\n",
    "    \n",
    "    #considerer que les batiment dont on connait leurs nombre d'étages\n",
    "\n",
    "    indices = building_no_na.index.intersection(indices)\n",
    "    distance=building_no_na.loc[indices].distance(row['geometry']).sort_values()\n",
    "\n",
    "\n",
    "    #take the k nearest neighboors\n",
    "    a=building_no_na.loc[distance.index].iloc[:k]\n",
    "    \n",
    "    \n",
    "    \n",
    "    \n",
    "    #buildings nearby\n",
    "    areas=a.area.to_numpy()\n",
    "    distances=distance.iloc[:k].to_numpy()\n",
    "    types=a['building'].to_numpy()\n",
    "    levels=np.vectorize (f )(a['building:levels'].to_numpy())\n",
    "    if len(areas)<k:\n",
    "        areas=np.append(areas,[np.nan for _ in range(k-len(a))])\n",
    "    if len(distances)<k:distances=np.append(distances,[np.nan for _ in range(k-len(a))])\n",
    "    if len(types)<k:types=np.append(types,[np.nan for _ in range(k-len(a))])\n",
    "    if len(levels)<k:levels=np.append(levels,[np.nan for _ in range(k-len(a))])\n",
    "    \n",
    "    #information about the iris\n",
    "    iris=contour_iris[contour_iris.intersects(row['geometry'])].iloc[0]\n",
    "    if iris['TYP_IRIS'] ==iris['TYP_IRIS']:\n",
    "        iris_type=np.array([iris['TYP_IRIS']])\n",
    "    else:\n",
    "        iris_type=None\n",
    "        \n",
    "    iris_area=np.array([iris['geometry'].area])\n",
    "    \n",
    "    #densité \n",
    "    area=iris[\"geometry\"].area/10**6\n",
    "    iris=iris_data[iris_data['CODE_IRIS']==iris[\"CODE_IRIS\"]]\n",
    "    pop=iris['P17_POP'].iloc[0]\n",
    "    densite=[pop/area]\n",
    "\n",
    "    #information about the building itself\n",
    "    type_building=np.array([row['building']])\n",
    "    area_building=np.array([row['geometry'].area])\n",
    "\n",
    "    if data_no_pred is None:\n",
    "        \n",
    "        data_no_pred=np.concatenate([type_building,area_building,iris_type,iris_area,densite,areas,types,levels,distances])\n",
    "    else:\n",
    "    \n",
    "        data_no_pred=np.vstack([data_no_pred,np.concatenate([type_building,area_building,iris_type,iris_area,densite,areas,types,levels,distances])])\n",
    "\n",
    "        \n",
    "            \n",
    "    j+=1\n",
    "    "
   ]
  },
  {
   "cell_type": "code",
   "execution_count": 108,
   "id": "ea4d0a07",
   "metadata": {
    "ExecuteTime": {
     "end_time": "2023-06-14T15:36:20.554322Z",
     "start_time": "2023-06-14T15:36:20.536220Z"
    }
   },
   "outputs": [
    {
     "data": {
      "text/html": [
       "<div>\n",
       "<style scoped>\n",
       "    .dataframe tbody tr th:only-of-type {\n",
       "        vertical-align: middle;\n",
       "    }\n",
       "\n",
       "    .dataframe tbody tr th {\n",
       "        vertical-align: top;\n",
       "    }\n",
       "\n",
       "    .dataframe thead th {\n",
       "        text-align: right;\n",
       "    }\n",
       "</style>\n",
       "<table border=\"1\" class=\"dataframe\">\n",
       "  <thead>\n",
       "    <tr style=\"text-align: right;\">\n",
       "      <th></th>\n",
       "      <th>type_building</th>\n",
       "      <th>area_building</th>\n",
       "      <th>iris_type</th>\n",
       "      <th>iris_area</th>\n",
       "      <th>iris_densite</th>\n",
       "      <th>areas0</th>\n",
       "      <th>areas1</th>\n",
       "      <th>areas2</th>\n",
       "      <th>areas3</th>\n",
       "      <th>areas4</th>\n",
       "      <th>...</th>\n",
       "      <th>distances0</th>\n",
       "      <th>distances1</th>\n",
       "      <th>distances2</th>\n",
       "      <th>distances3</th>\n",
       "      <th>distances4</th>\n",
       "      <th>distances5</th>\n",
       "      <th>distances6</th>\n",
       "      <th>distances7</th>\n",
       "      <th>distances8</th>\n",
       "      <th>distances9</th>\n",
       "    </tr>\n",
       "  </thead>\n",
       "  <tbody>\n",
       "    <tr>\n",
       "      <th>0</th>\n",
       "      <td>tower</td>\n",
       "      <td>22541.645496</td>\n",
       "      <td>D</td>\n",
       "      <td>634132.521678</td>\n",
       "      <td>0.0</td>\n",
       "      <td>45.33129</td>\n",
       "      <td>84.284943</td>\n",
       "      <td>829.063573</td>\n",
       "      <td>1577.863334</td>\n",
       "      <td>771.138474</td>\n",
       "      <td>...</td>\n",
       "      <td>9.063766</td>\n",
       "      <td>92.598661</td>\n",
       "      <td>129.539554</td>\n",
       "      <td>129.680164</td>\n",
       "      <td>139.985452</td>\n",
       "      <td>154.729647</td>\n",
       "      <td>172.136503</td>\n",
       "      <td>188.776462</td>\n",
       "      <td>188.965767</td>\n",
       "      <td>194.235301</td>\n",
       "    </tr>\n",
       "    <tr>\n",
       "      <th>1</th>\n",
       "      <td>yes</td>\n",
       "      <td>4133.14538</td>\n",
       "      <td>H</td>\n",
       "      <td>190461.466524</td>\n",
       "      <td>16711.021643</td>\n",
       "      <td>646.271123</td>\n",
       "      <td>70.621419</td>\n",
       "      <td>269.381765</td>\n",
       "      <td>238.106493</td>\n",
       "      <td>217.060702</td>\n",
       "      <td>...</td>\n",
       "      <td>7.65226</td>\n",
       "      <td>7.95732</td>\n",
       "      <td>13.490055</td>\n",
       "      <td>20.338188</td>\n",
       "      <td>21.509935</td>\n",
       "      <td>21.58861</td>\n",
       "      <td>23.444724</td>\n",
       "      <td>26.815201</td>\n",
       "      <td>32.391041</td>\n",
       "      <td>40.297783</td>\n",
       "    </tr>\n",
       "    <tr>\n",
       "      <th>2</th>\n",
       "      <td>yes</td>\n",
       "      <td>7583.947859</td>\n",
       "      <td>H</td>\n",
       "      <td>269819.368861</td>\n",
       "      <td>16651.734306</td>\n",
       "      <td>329.18327</td>\n",
       "      <td>136.613253</td>\n",
       "      <td>2436.999333</td>\n",
       "      <td>522.035164</td>\n",
       "      <td>351.205214</td>\n",
       "      <td>...</td>\n",
       "      <td>9.305743</td>\n",
       "      <td>11.151359</td>\n",
       "      <td>12.838446</td>\n",
       "      <td>22.697683</td>\n",
       "      <td>23.115129</td>\n",
       "      <td>26.828584</td>\n",
       "      <td>27.02731</td>\n",
       "      <td>27.172772</td>\n",
       "      <td>28.682577</td>\n",
       "      <td>29.999008</td>\n",
       "    </tr>\n",
       "    <tr>\n",
       "      <th>3</th>\n",
       "      <td>church</td>\n",
       "      <td>3695.142465</td>\n",
       "      <td>H</td>\n",
       "      <td>116038.103453</td>\n",
       "      <td>15022.211203</td>\n",
       "      <td>499.193999</td>\n",
       "      <td>838.442338</td>\n",
       "      <td>370.745416</td>\n",
       "      <td>790.170421</td>\n",
       "      <td>513.089647</td>\n",
       "      <td>...</td>\n",
       "      <td>16.963922</td>\n",
       "      <td>21.328591</td>\n",
       "      <td>29.532356</td>\n",
       "      <td>37.998404</td>\n",
       "      <td>51.471611</td>\n",
       "      <td>60.054584</td>\n",
       "      <td>60.162066</td>\n",
       "      <td>60.613656</td>\n",
       "      <td>63.931068</td>\n",
       "      <td>87.103173</td>\n",
       "    </tr>\n",
       "    <tr>\n",
       "      <th>4</th>\n",
       "      <td>yes</td>\n",
       "      <td>8109.101385</td>\n",
       "      <td>H</td>\n",
       "      <td>239523.351589</td>\n",
       "      <td>10080.484602</td>\n",
       "      <td>3482.801258</td>\n",
       "      <td>3589.270482</td>\n",
       "      <td>784.506622</td>\n",
       "      <td>171.798862</td>\n",
       "      <td>5613.529801</td>\n",
       "      <td>...</td>\n",
       "      <td>22.599454</td>\n",
       "      <td>22.741726</td>\n",
       "      <td>73.917944</td>\n",
       "      <td>74.692231</td>\n",
       "      <td>74.924919</td>\n",
       "      <td>75.6431</td>\n",
       "      <td>76.682008</td>\n",
       "      <td>79.534656</td>\n",
       "      <td>85.013466</td>\n",
       "      <td>91.246005</td>\n",
       "    </tr>\n",
       "  </tbody>\n",
       "</table>\n",
       "<p>5 rows × 45 columns</p>\n",
       "</div>"
      ],
      "text/plain": [
       "  type_building area_building iris_type      iris_area  iris_densite  \\\n",
       "0         tower  22541.645496         D  634132.521678           0.0   \n",
       "1           yes    4133.14538         H  190461.466524  16711.021643   \n",
       "2           yes   7583.947859         H  269819.368861  16651.734306   \n",
       "3        church   3695.142465         H  116038.103453  15022.211203   \n",
       "4           yes   8109.101385         H  239523.351589  10080.484602   \n",
       "\n",
       "        areas0       areas1       areas2       areas3       areas4  ...  \\\n",
       "0     45.33129    84.284943   829.063573  1577.863334   771.138474  ...   \n",
       "1   646.271123    70.621419   269.381765   238.106493   217.060702  ...   \n",
       "2    329.18327   136.613253  2436.999333   522.035164   351.205214  ...   \n",
       "3   499.193999   838.442338   370.745416   790.170421   513.089647  ...   \n",
       "4  3482.801258  3589.270482   784.506622   171.798862  5613.529801  ...   \n",
       "\n",
       "  distances0 distances1  distances2  distances3  distances4  distances5  \\\n",
       "0   9.063766  92.598661  129.539554  129.680164  139.985452  154.729647   \n",
       "1    7.65226    7.95732   13.490055   20.338188   21.509935    21.58861   \n",
       "2   9.305743  11.151359   12.838446   22.697683   23.115129   26.828584   \n",
       "3  16.963922  21.328591   29.532356   37.998404   51.471611   60.054584   \n",
       "4  22.599454  22.741726   73.917944   74.692231   74.924919     75.6431   \n",
       "\n",
       "   distances6  distances7  distances8  distances9  \n",
       "0  172.136503  188.776462  188.965767  194.235301  \n",
       "1   23.444724   26.815201   32.391041   40.297783  \n",
       "2    27.02731   27.172772   28.682577   29.999008  \n",
       "3   60.162066   60.613656   63.931068   87.103173  \n",
       "4   76.682008   79.534656   85.013466   91.246005  \n",
       "\n",
       "[5 rows x 45 columns]"
      ]
     },
     "execution_count": 108,
     "metadata": {},
     "output_type": "execute_result"
    }
   ],
   "source": [
    "#create a dataframe\n",
    "columns=[\"type_building\",\"area_building\",\"iris_type\",\"iris_area\",\"iris_densite\"]\n",
    "for j in [\"areas\",\"types\",\"levels\",\"distances\"]:\n",
    "    for i in range(k):\n",
    "        columns.append(j+str(i))\n",
    "\n",
    "data_no_pred=pd.DataFrame(data_no_pred,columns=columns)\n",
    "data_no_pred.head()"
   ]
  },
  {
   "cell_type": "code",
   "execution_count": 109,
   "id": "120cc7d8",
   "metadata": {
    "ExecuteTime": {
     "end_time": "2023-06-14T15:36:20.685854Z",
     "start_time": "2023-06-14T15:36:20.554322Z"
    }
   },
   "outputs": [],
   "source": [
    "data_no_pred_backup=data_no_pred.copy()"
   ]
  },
  {
   "cell_type": "code",
   "execution_count": 110,
   "id": "6a5fd9fd",
   "metadata": {
    "ExecuteTime": {
     "end_time": "2023-06-14T15:36:21.391051Z",
     "start_time": "2023-06-14T15:36:20.685854Z"
    }
   },
   "outputs": [],
   "source": [
    "#convert columns from object to int\n",
    "for c in data_no_pred:\n",
    "    if \"area\" in c or \"levels\" in c or \"distances\" in c or \"iris_densite\" in c:\n",
    "        data_no_pred[c]=data_no_pred[c].astype(np.int)"
   ]
  },
  {
   "cell_type": "code",
   "execution_count": 111,
   "id": "f46d2c12",
   "metadata": {
    "ExecuteTime": {
     "end_time": "2023-06-14T15:36:21.615260Z",
     "start_time": "2023-06-14T15:36:21.393098Z"
    }
   },
   "outputs": [],
   "source": [
    "i=0\n",
    "for c in data_no_pred.columns:\n",
    "    if data_no_pred[c].dtype==\"O\":\n",
    "\n",
    "        \n",
    "        enc=list_encoders[i]\n",
    "        enc.set_params(encoded_missing_value=-1,handle_unknown=\"use_encoded_value\")\n",
    "\n",
    "        data_no_pred[c]=enc.transform(data_no_pred[c].to_numpy().reshape(-1,1) ).squeeze().astype(np.int)\n",
    "        i+=1\n",
    "        "
   ]
  },
  {
   "cell_type": "code",
   "execution_count": 112,
   "id": "0a43c0bb",
   "metadata": {
    "ExecuteTime": {
     "end_time": "2023-06-14T15:36:21.656510Z",
     "start_time": "2023-06-14T15:36:21.615260Z"
    }
   },
   "outputs": [],
   "source": [
    "data_no_pred=xgb.DMatrix(data_no_pred)"
   ]
  },
  {
   "cell_type": "code",
   "execution_count": 113,
   "id": "6b50f98d",
   "metadata": {
    "ExecuteTime": {
     "end_time": "2023-06-14T15:36:21.741124Z",
     "start_time": "2023-06-14T15:36:21.656510Z"
    }
   },
   "outputs": [],
   "source": [
    "prediction=model.predict(data_no_pred).round()"
   ]
  },
  {
   "cell_type": "code",
   "execution_count": 116,
   "id": "2688998a",
   "metadata": {
    "ExecuteTime": {
     "end_time": "2023-06-14T15:36:34.780261Z",
     "start_time": "2023-06-14T15:36:34.748983Z"
    }
   },
   "outputs": [
    {
     "data": {
      "text/plain": [
       " 6.0     10081\n",
       " 7.0      6493\n",
       " 5.0      6073\n",
       " 4.0      3038\n",
       " 2.0      2630\n",
       " 3.0      2269\n",
       " 1.0      2137\n",
       " 8.0      1102\n",
       " 0.0       404\n",
       " 9.0       330\n",
       " 10.0      147\n",
       " 11.0       67\n",
       " 12.0       43\n",
       "-1.0        18\n",
       " 15.0       17\n",
       " 14.0       15\n",
       " 13.0       15\n",
       " 18.0       11\n",
       " 16.0        9\n",
       " 20.0        6\n",
       " 17.0        3\n",
       " 28.0        2\n",
       " 21.0        2\n",
       "-2.0         1\n",
       " 23.0        1\n",
       " 22.0        1\n",
       " 32.0        1\n",
       " 25.0        1\n",
       "dtype: int64"
      ]
     },
     "execution_count": 116,
     "metadata": {},
     "output_type": "execute_result"
    }
   ],
   "source": [
    "pd.Series(prediction).value_counts()"
   ]
  },
  {
   "cell_type": "code",
   "execution_count": 114,
   "id": "14ffdd5b",
   "metadata": {
    "ExecuteTime": {
     "end_time": "2023-06-14T15:36:33.827286Z",
     "start_time": "2023-06-14T15:36:21.741124Z"
    }
   },
   "outputs": [],
   "source": [
    "\n",
    "\n",
    "j=0\n",
    "for i , row in building.loc[building['building:levels'].isna()].iterrows():\n",
    "    building.loc[i,\"building:levels\"]=str(prediction[j])\n",
    "    j+=1"
   ]
  },
  {
   "cell_type": "code",
   "execution_count": 119,
   "id": "1fbb7933",
   "metadata": {
    "ExecuteTime": {
     "end_time": "2023-06-15T07:45:06.164655Z",
     "start_time": "2023-06-15T07:45:05.086421Z"
    }
   },
   "outputs": [],
   "source": [
    "pickle.dump(building,open(r\"Y:\\RECHERCHE ET DEV\\10_Modèle d'attractivite des rues\\04_données clients (source)\\osm\\\\\"+place_name.lower()+\"\\\\processed data\\\\building_level_filled.pkl\",'wb'))"
   ]
  },
  {
   "cell_type": "code",
   "execution_count": null,
   "id": "2e35d425",
   "metadata": {},
   "outputs": [],
   "source": []
  }
 ],
 "metadata": {
  "kernelspec": {
   "display_name": "Python 3 (ipykernel)",
   "language": "python",
   "name": "python3"
  },
  "language_info": {
   "codemirror_mode": {
    "name": "ipython",
    "version": 3
   },
   "file_extension": ".py",
   "mimetype": "text/x-python",
   "name": "python",
   "nbconvert_exporter": "python",
   "pygments_lexer": "ipython3",
   "version": "3.9.12"
  }
 },
 "nbformat": 4,
 "nbformat_minor": 5
}

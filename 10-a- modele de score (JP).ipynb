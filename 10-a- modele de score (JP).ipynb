{
 "cells": [
  {
   "cell_type": "code",
   "execution_count": 117,
   "id": "ff0271b0",
   "metadata": {
    "ExecuteTime": {
     "end_time": "2023-06-26T11:45:49.146780Z",
     "start_time": "2023-06-26T11:45:49.122737Z"
    }
   },
   "outputs": [],
   "source": [
    "import geopandas as gpd\n",
    "import pandas as pd\n",
    "import osmnx as ox\n",
    "import pickle\n",
    "from shapely import LineString,MultiLineString\n",
    "from shapely import geometry, ops\n",
    "import numpy as np"
   ]
  },
  {
   "cell_type": "code",
   "execution_count": 119,
   "id": "6b24c94f",
   "metadata": {
    "ExecuteTime": {
     "end_time": "2023-06-26T11:46:15.688368Z",
     "start_time": "2023-06-26T11:46:09.643034Z"
    }
   },
   "outputs": [],
   "source": [
    "data=pd.read_excel(r\"Y:\\RECHERCHE ET DEV\\10_Modèle d'attractivite des rues\\\\Données_OSM_métie1.xlsx\",index_col=[0,1],sheet_name=\"KPI_quantifie\")"
   ]
  },
  {
   "cell_type": "code",
   "execution_count": 120,
   "id": "197126dc",
   "metadata": {
    "ExecuteTime": {
     "end_time": "2023-06-26T11:46:16.023335Z",
     "start_time": "2023-06-26T11:46:15.690252Z"
    }
   },
   "outputs": [],
   "source": [
    "matrice_pond=pd.read_excel(r\"Y:\\RECHERCHE ET DEV\\10_Modèle d'attractivite des rues\\\\Données_OSM_métie1.xlsx\",sheet_name=\"matrice de pondération\")\n",
    "matrice_pond=matrice_pond.iloc[1:,1:]\n",
    "matrice_pond.columns=matrice_pond.iloc[0,:].values\n",
    "matrice_pond=matrice_pond.iloc[1:,:].fillna(0)\n",
    "matrice_pond=matrice_pond.set_index(' ')\n",
    "matrice_pond=matrice_pond.drop(0)"
   ]
  },
  {
   "cell_type": "code",
   "execution_count": 121,
   "id": "c0da2a37",
   "metadata": {
    "ExecuteTime": {
     "end_time": "2023-06-26T11:46:16.945558Z",
     "start_time": "2023-06-26T11:46:16.922437Z"
    }
   },
   "outputs": [],
   "source": [
    "scores=(data[matrice_pond.index].values@matrice_pond/100)"
   ]
  },
  {
   "cell_type": "code",
   "execution_count": 122,
   "id": "14002822",
   "metadata": {
    "ExecuteTime": {
     "end_time": "2023-06-26T11:46:20.405777Z",
     "start_time": "2023-06-26T11:46:18.938171Z"
    }
   },
   "outputs": [],
   "source": [
    "scores.to_excel(r\"Y:\\RECHERCHE ET DEV\\10_Modèle d'attractivite des rues\\\\score.xlsx\")"
   ]
  },
  {
   "cell_type": "code",
   "execution_count": 123,
   "id": "de9505a2",
   "metadata": {
    "ExecuteTime": {
     "end_time": "2023-06-26T11:46:23.927119Z",
     "start_time": "2023-06-26T11:46:23.857936Z"
    }
   },
   "outputs": [],
   "source": [
    "scores.describe().to_excel(r\"Y:\\RECHERCHE ET DEV\\10_Modèle d'attractivite des rues\\\\stats.xlsx\")"
   ]
  },
  {
   "cell_type": "code",
   "execution_count": null,
   "id": "6c7628c9",
   "metadata": {},
   "outputs": [],
   "source": []
  }
 ],
 "metadata": {
  "kernelspec": {
   "display_name": "Python 3 (ipykernel)",
   "language": "python",
   "name": "python3"
  },
  "language_info": {
   "codemirror_mode": {
    "name": "ipython",
    "version": 3
   },
   "file_extension": ".py",
   "mimetype": "text/x-python",
   "name": "python",
   "nbconvert_exporter": "python",
   "pygments_lexer": "ipython3",
   "version": "3.9.12"
  }
 },
 "nbformat": 4,
 "nbformat_minor": 5
}

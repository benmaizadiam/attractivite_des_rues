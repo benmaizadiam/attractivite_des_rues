{
 "cells": [
  {
   "cell_type": "code",
   "execution_count": 101,
   "id": "ff0271b0",
   "metadata": {
    "ExecuteTime": {
     "end_time": "2023-08-26T19:51:31.722102Z",
     "start_time": "2023-08-26T19:51:31.715087Z"
    }
   },
   "outputs": [],
   "source": [
    "import geopandas as gpd\n",
    "import pandas as pd\n",
    "import osmnx as ox\n",
    "import pickle\n",
    "from shapely import LineString,MultiLineString\n",
    "from shapely import geometry, ops\n",
    "import numpy as np"
   ]
  },
  {
   "cell_type": "code",
   "execution_count": 115,
   "id": "30e8afc1",
   "metadata": {
    "ExecuteTime": {
     "end_time": "2023-08-26T20:05:37.352662Z",
     "start_time": "2023-08-26T20:05:36.283876Z"
    }
   },
   "outputs": [],
   "source": [
    "data=pickle.load(open(r\"Y:\\RECHERCHE ET DEV\\10_Modèle d'attractivite des rues\\04_données clients (source)\\osm filtre\\batiments_levels_types\\\\essonne_buildings.pkl\",'rb'))"
   ]
  },
  {
   "cell_type": "code",
   "execution_count": 120,
   "id": "db9d33a1",
   "metadata": {
    "ExecuteTime": {
     "end_time": "2023-08-26T20:06:56.571428Z",
     "start_time": "2023-08-26T20:06:56.083468Z"
    }
   },
   "outputs": [],
   "source": [
    "data=data[data.intersects(contour_iris[contour_iris.INSEE_COM==\"91377\"].unary_union)]"
   ]
  },
  {
   "cell_type": "code",
   "execution_count": 121,
   "id": "f0a6d423",
   "metadata": {
    "ExecuteTime": {
     "end_time": "2023-08-26T20:06:59.151759Z",
     "start_time": "2023-08-26T20:06:57.913762Z"
    }
   },
   "outputs": [],
   "source": [
    "data.explore('building').save(r\"Y:\\RECHERCHE ET DEV\\10_Modèle d'attractivite des rues\\04_données clients (source)\\osm filtre\\batiments_levels_types\\\\map.html\")"
   ]
  },
  {
   "cell_type": "code",
   "execution_count": 58,
   "id": "167f2c9a",
   "metadata": {
    "ExecuteTime": {
     "end_time": "2023-08-25T19:42:11.790920Z",
     "start_time": "2023-08-25T19:40:35.390106Z"
    }
   },
   "outputs": [],
   "source": [
    "iris_data=pd.read_excel(r\"Y:\\REFERENTIEL DATA\\RP 2022 FRANCE\\GEODATA - IRIS\\\\Geodata_IRIS_essentiels.xlsx\")\n",
    "contour_iris=gpd.read_file(r'Y:\\REFERENTIEL DATA\\RP 2022 FRANCE\\CARTOGRAPHIE\\Cartographie_France_IRIS_2019\\CONTOURS-IRIS_2-1_SHP_LAMB93_FXX-2019\\CONTOURS-IRIS.shp').to_crs(\"3857\")"
   ]
  },
  {
   "cell_type": "code",
   "execution_count": 59,
   "id": "503801e8",
   "metadata": {
    "ExecuteTime": {
     "end_time": "2023-08-25T19:42:11.883853Z",
     "start_time": "2023-08-25T19:42:11.792912Z"
    }
   },
   "outputs": [],
   "source": [
    "path=r\"Y:\\RECHERCHE ET DEV\\10_Modèle d'attractivite des rues\\04_données clients (source)\\osm filtre\\\\\"\n",
    "list_departement=pd.read_excel(r\"Y:\\RECHERCHE ET DEV\\10_Modèle d'attractivite des rues\\\\Liste-Excel-des-departements-francais.xlsx\")"
   ]
  },
  {
   "cell_type": "code",
   "execution_count": 60,
   "id": "6b24c94f",
   "metadata": {
    "ExecuteTime": {
     "end_time": "2023-08-25T19:42:25.441424Z",
     "start_time": "2023-08-25T19:42:11.884824Z"
    }
   },
   "outputs": [],
   "source": [
    "final_result=None\n",
    "for j ,row in list_departement.iterrows():\n",
    "    try:\n",
    "        place_name=row['Département']\n",
    "        result=pickle.load(open(r\"Y:\\RECHERCHE ET DEV\\10_Modèle d'attractivite des rues\\04_données clients (source)\\finale data\\data\\\\\"+place_name.lower()+\".pkl\",\"rb\"))\n",
    "    except:\n",
    "        continue\n",
    "    if final_result is None:\n",
    "        final_result=result\n",
    "    else:\n",
    "        final_result=pd.concat([final_result,result])"
   ]
  },
  {
   "cell_type": "code",
   "execution_count": 61,
   "id": "824cb46a",
   "metadata": {
    "ExecuteTime": {
     "end_time": "2023-08-25T19:42:34.801911Z",
     "start_time": "2023-08-25T19:42:25.443419Z"
    }
   },
   "outputs": [],
   "source": [
    "final_result=gpd.GeoDataFrame(final_result, crs=\"EPSG:3857\", geometry=\"geometry\")"
   ]
  },
  {
   "cell_type": "code",
   "execution_count": 62,
   "id": "53f3ed59",
   "metadata": {
    "ExecuteTime": {
     "end_time": "2023-08-25T19:42:34.817126Z",
     "start_time": "2023-08-25T19:42:34.803798Z"
    }
   },
   "outputs": [],
   "source": [
    "cols=['C17_MEN', 'C17_MEN_CS1', 'C17_MEN_CS2', 'C17_MEN_CS3', 'C17_MEN_CS4',\n",
    "       'C17_MEN_CS5', 'C17_MEN_CS6', 'C17_MEN_CS7', 'C17_MEN_CS8', 'P17_POP',\n",
    "       'P17_POP0002', 'P17_POP0305', 'P17_POP0610', 'P17_POP1117',\n",
    "       'P17_POP1824', 'P17_POP2539', 'P17_POP4054', 'P17_POP5564',\n",
    "       'P17_POP6579', 'P17_POP80P', 'P17_POP15P', 'Attracteur_tourisme',\n",
    "       'metro', 'tram', 'transport',  'GSA',\n",
    "       'Sport', 'Equipement maison', 'Equipement Personne', 'Culture Loisir',\n",
    "       'Mobilité', 'Culture loisir -loisire', 'Sport -loisire',\n",
    "       'Culture loisir -amenity', 'restauration', 'Soin Personne',\n",
    "       'Soin de la personne et Médical -amenity', 'Alimentaire',\n",
    "       'Service public', \"pt d'intérert\", 'Medical', 'tous -amenity',\n",
    "       'Surface_de_vente_GSA', 'Attracteur pour tous -loisire']"
   ]
  },
  {
   "cell_type": "code",
   "execution_count": 63,
   "id": "c2f48452",
   "metadata": {
    "ExecuteTime": {
     "end_time": "2023-08-25T19:42:34.832937Z",
     "start_time": "2023-08-25T19:42:34.818060Z"
    }
   },
   "outputs": [],
   "source": [
    "pd.set_option('display.max_columns', 500)"
   ]
  },
  {
   "cell_type": "markdown",
   "id": "bea7d0a9",
   "metadata": {},
   "source": [
    "# Transformation en qualitatif"
   ]
  },
  {
   "cell_type": "markdown",
   "id": "0d6bb4e6",
   "metadata": {},
   "source": [
    "## Varibale de population"
   ]
  },
  {
   "cell_type": "code",
   "execution_count": 64,
   "id": "3609fbc7",
   "metadata": {
    "ExecuteTime": {
     "end_time": "2023-08-25T19:42:35.368708Z",
     "start_time": "2023-08-25T19:42:34.837965Z"
    }
   },
   "outputs": [
    {
     "data": {
      "text/html": [
       "<div>\n",
       "<style scoped>\n",
       "    .dataframe tbody tr th:only-of-type {\n",
       "        vertical-align: middle;\n",
       "    }\n",
       "\n",
       "    .dataframe tbody tr th {\n",
       "        vertical-align: top;\n",
       "    }\n",
       "\n",
       "    .dataframe thead th {\n",
       "        text-align: right;\n",
       "    }\n",
       "</style>\n",
       "<table border=\"1\" class=\"dataframe\">\n",
       "  <thead>\n",
       "    <tr style=\"text-align: right;\">\n",
       "      <th></th>\n",
       "      <th>C17_MEN</th>\n",
       "      <th>C17_MEN_CS1</th>\n",
       "      <th>C17_MEN_CS2</th>\n",
       "      <th>C17_MEN_CS3</th>\n",
       "      <th>C17_MEN_CS4</th>\n",
       "      <th>C17_MEN_CS5</th>\n",
       "      <th>C17_MEN_CS6</th>\n",
       "      <th>C17_MEN_CS7</th>\n",
       "      <th>C17_MEN_CS8</th>\n",
       "      <th>P17_POP</th>\n",
       "      <th>P17_POP0002</th>\n",
       "      <th>P17_POP0305</th>\n",
       "      <th>P17_POP0610</th>\n",
       "      <th>P17_POP1117</th>\n",
       "      <th>P17_POP1824</th>\n",
       "      <th>P17_POP2539</th>\n",
       "      <th>P17_POP4054</th>\n",
       "      <th>P17_POP5564</th>\n",
       "      <th>P17_POP6579</th>\n",
       "      <th>P17_POP80P</th>\n",
       "      <th>P17_POP15P</th>\n",
       "      <th>Attracteur_tourisme</th>\n",
       "      <th>metro</th>\n",
       "      <th>tram</th>\n",
       "      <th>transport</th>\n",
       "      <th>GSA</th>\n",
       "      <th>Sport</th>\n",
       "      <th>Equipement maison</th>\n",
       "      <th>Equipement Personne</th>\n",
       "      <th>Culture Loisir</th>\n",
       "      <th>Mobilité</th>\n",
       "      <th>Culture loisir -loisire</th>\n",
       "      <th>Sport -loisire</th>\n",
       "      <th>Culture loisir -amenity</th>\n",
       "      <th>restauration</th>\n",
       "      <th>Soin Personne</th>\n",
       "      <th>Soin de la personne et Médical -amenity</th>\n",
       "      <th>Alimentaire</th>\n",
       "      <th>Service public</th>\n",
       "      <th>pt d'intérert</th>\n",
       "      <th>Medical</th>\n",
       "      <th>tous -amenity</th>\n",
       "      <th>Surface_de_vente_GSA</th>\n",
       "      <th>Attracteur pour tous -loisire</th>\n",
       "    </tr>\n",
       "  </thead>\n",
       "  <tbody>\n",
       "    <tr>\n",
       "      <th>count</th>\n",
       "      <td>418771.000000</td>\n",
       "      <td>418771.000000</td>\n",
       "      <td>418771.000000</td>\n",
       "      <td>418771.000000</td>\n",
       "      <td>418771.000000</td>\n",
       "      <td>418771.000000</td>\n",
       "      <td>418771.000000</td>\n",
       "      <td>418771.000000</td>\n",
       "      <td>418771.000000</td>\n",
       "      <td>418771.000000</td>\n",
       "      <td>418771.000000</td>\n",
       "      <td>418771.000000</td>\n",
       "      <td>418771.000000</td>\n",
       "      <td>418771.000000</td>\n",
       "      <td>418771.000000</td>\n",
       "      <td>418771.000000</td>\n",
       "      <td>418771.000000</td>\n",
       "      <td>418771.000000</td>\n",
       "      <td>418771.000000</td>\n",
       "      <td>418771.000000</td>\n",
       "      <td>418771.000000</td>\n",
       "      <td>418771.000000</td>\n",
       "      <td>418771.000000</td>\n",
       "      <td>418771.000000</td>\n",
       "      <td>418771.000000</td>\n",
       "      <td>418771.000000</td>\n",
       "      <td>418771.000000</td>\n",
       "      <td>418771.000000</td>\n",
       "      <td>418771.000000</td>\n",
       "      <td>418771.000000</td>\n",
       "      <td>418749.000000</td>\n",
       "      <td>418771.000000</td>\n",
       "      <td>418771.000000</td>\n",
       "      <td>418749.000000</td>\n",
       "      <td>418749.000000</td>\n",
       "      <td>418749.000000</td>\n",
       "      <td>418749.000000</td>\n",
       "      <td>418749.000000</td>\n",
       "      <td>418749.000000</td>\n",
       "      <td>418749.000000</td>\n",
       "      <td>418749.000000</td>\n",
       "      <td>418749.000000</td>\n",
       "      <td>418771.000000</td>\n",
       "      <td>418771.000000</td>\n",
       "    </tr>\n",
       "    <tr>\n",
       "      <th>mean</th>\n",
       "      <td>57.331696</td>\n",
       "      <td>0.032646</td>\n",
       "      <td>2.214761</td>\n",
       "      <td>10.149756</td>\n",
       "      <td>9.609266</td>\n",
       "      <td>9.984688</td>\n",
       "      <td>6.485718</td>\n",
       "      <td>13.608362</td>\n",
       "      <td>5.246499</td>\n",
       "      <td>124.347246</td>\n",
       "      <td>4.650958</td>\n",
       "      <td>4.625855</td>\n",
       "      <td>7.498086</td>\n",
       "      <td>9.967794</td>\n",
       "      <td>13.356199</td>\n",
       "      <td>26.617432</td>\n",
       "      <td>23.582467</td>\n",
       "      <td>13.521004</td>\n",
       "      <td>13.987643</td>\n",
       "      <td>6.539809</td>\n",
       "      <td>101.877052</td>\n",
       "      <td>0.091838</td>\n",
       "      <td>0.004081</td>\n",
       "      <td>0.009186</td>\n",
       "      <td>0.011641</td>\n",
       "      <td>0.045591</td>\n",
       "      <td>0.006896</td>\n",
       "      <td>0.063882</td>\n",
       "      <td>0.095952</td>\n",
       "      <td>0.041925</td>\n",
       "      <td>1.268930</td>\n",
       "      <td>0.831423</td>\n",
       "      <td>0.056308</td>\n",
       "      <td>0.058383</td>\n",
       "      <td>0.313906</td>\n",
       "      <td>0.086696</td>\n",
       "      <td>0.107566</td>\n",
       "      <td>0.146770</td>\n",
       "      <td>0.110255</td>\n",
       "      <td>0.173531</td>\n",
       "      <td>0.023472</td>\n",
       "      <td>0.044745</td>\n",
       "      <td>21.681695</td>\n",
       "      <td>0.002085</td>\n",
       "    </tr>\n",
       "    <tr>\n",
       "      <th>std</th>\n",
       "      <td>106.507611</td>\n",
       "      <td>0.133668</td>\n",
       "      <td>4.454606</td>\n",
       "      <td>28.238456</td>\n",
       "      <td>18.243688</td>\n",
       "      <td>19.435873</td>\n",
       "      <td>13.027241</td>\n",
       "      <td>24.807351</td>\n",
       "      <td>13.247249</td>\n",
       "      <td>226.463801</td>\n",
       "      <td>9.496361</td>\n",
       "      <td>9.251237</td>\n",
       "      <td>14.556173</td>\n",
       "      <td>18.700458</td>\n",
       "      <td>28.324217</td>\n",
       "      <td>54.517488</td>\n",
       "      <td>43.483078</td>\n",
       "      <td>24.138831</td>\n",
       "      <td>25.469269</td>\n",
       "      <td>12.808927</td>\n",
       "      <td>185.446290</td>\n",
       "      <td>0.581486</td>\n",
       "      <td>0.066286</td>\n",
       "      <td>0.103011</td>\n",
       "      <td>0.134736</td>\n",
       "      <td>0.251763</td>\n",
       "      <td>0.100481</td>\n",
       "      <td>0.383605</td>\n",
       "      <td>0.949287</td>\n",
       "      <td>0.295960</td>\n",
       "      <td>6.861544</td>\n",
       "      <td>2.424589</td>\n",
       "      <td>0.296730</td>\n",
       "      <td>0.391842</td>\n",
       "      <td>1.329621</td>\n",
       "      <td>0.469937</td>\n",
       "      <td>0.404825</td>\n",
       "      <td>0.699831</td>\n",
       "      <td>0.378537</td>\n",
       "      <td>0.522526</td>\n",
       "      <td>0.197079</td>\n",
       "      <td>0.227058</td>\n",
       "      <td>334.486278</td>\n",
       "      <td>0.054485</td>\n",
       "    </tr>\n",
       "    <tr>\n",
       "      <th>min</th>\n",
       "      <td>0.000000</td>\n",
       "      <td>0.000000</td>\n",
       "      <td>0.000000</td>\n",
       "      <td>0.000000</td>\n",
       "      <td>0.000000</td>\n",
       "      <td>0.000000</td>\n",
       "      <td>0.000000</td>\n",
       "      <td>0.000000</td>\n",
       "      <td>0.000000</td>\n",
       "      <td>0.000000</td>\n",
       "      <td>0.000000</td>\n",
       "      <td>0.000000</td>\n",
       "      <td>0.000000</td>\n",
       "      <td>0.000000</td>\n",
       "      <td>0.000000</td>\n",
       "      <td>0.000000</td>\n",
       "      <td>0.000000</td>\n",
       "      <td>0.000000</td>\n",
       "      <td>0.000000</td>\n",
       "      <td>0.000000</td>\n",
       "      <td>0.000000</td>\n",
       "      <td>0.000000</td>\n",
       "      <td>0.000000</td>\n",
       "      <td>0.000000</td>\n",
       "      <td>0.000000</td>\n",
       "      <td>0.000000</td>\n",
       "      <td>0.000000</td>\n",
       "      <td>0.000000</td>\n",
       "      <td>0.000000</td>\n",
       "      <td>0.000000</td>\n",
       "      <td>0.000000</td>\n",
       "      <td>0.000000</td>\n",
       "      <td>0.000000</td>\n",
       "      <td>0.000000</td>\n",
       "      <td>0.000000</td>\n",
       "      <td>0.000000</td>\n",
       "      <td>0.000000</td>\n",
       "      <td>0.000000</td>\n",
       "      <td>0.000000</td>\n",
       "      <td>0.000000</td>\n",
       "      <td>0.000000</td>\n",
       "      <td>0.000000</td>\n",
       "      <td>0.000000</td>\n",
       "      <td>0.000000</td>\n",
       "    </tr>\n",
       "    <tr>\n",
       "      <th>25%</th>\n",
       "      <td>7.872901</td>\n",
       "      <td>0.000000</td>\n",
       "      <td>0.285095</td>\n",
       "      <td>0.804690</td>\n",
       "      <td>1.299177</td>\n",
       "      <td>1.162912</td>\n",
       "      <td>0.723485</td>\n",
       "      <td>2.074292</td>\n",
       "      <td>0.238027</td>\n",
       "      <td>18.736149</td>\n",
       "      <td>0.546175</td>\n",
       "      <td>0.609444</td>\n",
       "      <td>1.084053</td>\n",
       "      <td>1.570737</td>\n",
       "      <td>1.370705</td>\n",
       "      <td>3.053859</td>\n",
       "      <td>3.694676</td>\n",
       "      <td>2.293381</td>\n",
       "      <td>2.272188</td>\n",
       "      <td>0.811652</td>\n",
       "      <td>15.338680</td>\n",
       "      <td>0.000000</td>\n",
       "      <td>0.000000</td>\n",
       "      <td>0.000000</td>\n",
       "      <td>0.000000</td>\n",
       "      <td>0.000000</td>\n",
       "      <td>0.000000</td>\n",
       "      <td>0.000000</td>\n",
       "      <td>0.000000</td>\n",
       "      <td>0.000000</td>\n",
       "      <td>0.000000</td>\n",
       "      <td>0.000000</td>\n",
       "      <td>0.000000</td>\n",
       "      <td>0.000000</td>\n",
       "      <td>0.000000</td>\n",
       "      <td>0.000000</td>\n",
       "      <td>0.000000</td>\n",
       "      <td>0.000000</td>\n",
       "      <td>0.000000</td>\n",
       "      <td>0.000000</td>\n",
       "      <td>0.000000</td>\n",
       "      <td>0.000000</td>\n",
       "      <td>0.000000</td>\n",
       "      <td>0.000000</td>\n",
       "    </tr>\n",
       "    <tr>\n",
       "      <th>50%</th>\n",
       "      <td>22.660523</td>\n",
       "      <td>0.000000</td>\n",
       "      <td>0.865207</td>\n",
       "      <td>2.733229</td>\n",
       "      <td>3.849771</td>\n",
       "      <td>3.662003</td>\n",
       "      <td>2.409348</td>\n",
       "      <td>5.952409</td>\n",
       "      <td>0.982876</td>\n",
       "      <td>52.427449</td>\n",
       "      <td>1.671548</td>\n",
       "      <td>1.776364</td>\n",
       "      <td>3.058447</td>\n",
       "      <td>4.332272</td>\n",
       "      <td>4.258905</td>\n",
       "      <td>9.397113</td>\n",
       "      <td>10.195009</td>\n",
       "      <td>6.202716</td>\n",
       "      <td>6.304462</td>\n",
       "      <td>2.599526</td>\n",
       "      <td>42.912754</td>\n",
       "      <td>0.000000</td>\n",
       "      <td>0.000000</td>\n",
       "      <td>0.000000</td>\n",
       "      <td>0.000000</td>\n",
       "      <td>0.000000</td>\n",
       "      <td>0.000000</td>\n",
       "      <td>0.000000</td>\n",
       "      <td>0.000000</td>\n",
       "      <td>0.000000</td>\n",
       "      <td>0.000000</td>\n",
       "      <td>0.000000</td>\n",
       "      <td>0.000000</td>\n",
       "      <td>0.000000</td>\n",
       "      <td>0.000000</td>\n",
       "      <td>0.000000</td>\n",
       "      <td>0.000000</td>\n",
       "      <td>0.000000</td>\n",
       "      <td>0.000000</td>\n",
       "      <td>0.000000</td>\n",
       "      <td>0.000000</td>\n",
       "      <td>0.000000</td>\n",
       "      <td>0.000000</td>\n",
       "      <td>0.000000</td>\n",
       "    </tr>\n",
       "    <tr>\n",
       "      <th>75%</th>\n",
       "      <td>61.984363</td>\n",
       "      <td>0.003337</td>\n",
       "      <td>2.322632</td>\n",
       "      <td>8.224340</td>\n",
       "      <td>10.381780</td>\n",
       "      <td>10.503803</td>\n",
       "      <td>6.759041</td>\n",
       "      <td>14.947355</td>\n",
       "      <td>4.118558</td>\n",
       "      <td>136.234897</td>\n",
       "      <td>4.678380</td>\n",
       "      <td>4.728173</td>\n",
       "      <td>7.819937</td>\n",
       "      <td>10.723128</td>\n",
       "      <td>13.102383</td>\n",
       "      <td>27.304280</td>\n",
       "      <td>25.575088</td>\n",
       "      <td>14.971742</td>\n",
       "      <td>15.357531</td>\n",
       "      <td>6.976779</td>\n",
       "      <td>111.940835</td>\n",
       "      <td>0.000000</td>\n",
       "      <td>0.000000</td>\n",
       "      <td>0.000000</td>\n",
       "      <td>0.000000</td>\n",
       "      <td>0.000000</td>\n",
       "      <td>0.000000</td>\n",
       "      <td>0.000000</td>\n",
       "      <td>0.000000</td>\n",
       "      <td>0.000000</td>\n",
       "      <td>1.000000</td>\n",
       "      <td>1.000000</td>\n",
       "      <td>0.000000</td>\n",
       "      <td>0.000000</td>\n",
       "      <td>0.000000</td>\n",
       "      <td>0.000000</td>\n",
       "      <td>0.000000</td>\n",
       "      <td>0.000000</td>\n",
       "      <td>0.000000</td>\n",
       "      <td>0.000000</td>\n",
       "      <td>0.000000</td>\n",
       "      <td>0.000000</td>\n",
       "      <td>0.000000</td>\n",
       "      <td>0.000000</td>\n",
       "    </tr>\n",
       "    <tr>\n",
       "      <th>max</th>\n",
       "      <td>5253.237649</td>\n",
       "      <td>10.635825</td>\n",
       "      <td>186.253621</td>\n",
       "      <td>2219.129516</td>\n",
       "      <td>1135.478899</td>\n",
       "      <td>810.027405</td>\n",
       "      <td>685.216819</td>\n",
       "      <td>1044.676166</td>\n",
       "      <td>709.233178</td>\n",
       "      <td>11651.340382</td>\n",
       "      <td>729.874530</td>\n",
       "      <td>592.289296</td>\n",
       "      <td>678.182905</td>\n",
       "      <td>848.504930</td>\n",
       "      <td>2543.529626</td>\n",
       "      <td>4474.871519</td>\n",
       "      <td>1973.384686</td>\n",
       "      <td>1094.403856</td>\n",
       "      <td>1083.890003</td>\n",
       "      <td>590.689468</td>\n",
       "      <td>9290.869451</td>\n",
       "      <td>85.000000</td>\n",
       "      <td>3.000000</td>\n",
       "      <td>4.000000</td>\n",
       "      <td>8.000000</td>\n",
       "      <td>8.000000</td>\n",
       "      <td>7.000000</td>\n",
       "      <td>46.000000</td>\n",
       "      <td>97.000000</td>\n",
       "      <td>35.000000</td>\n",
       "      <td>1100.000000</td>\n",
       "      <td>311.000000</td>\n",
       "      <td>19.000000</td>\n",
       "      <td>51.000000</td>\n",
       "      <td>77.000000</td>\n",
       "      <td>24.000000</td>\n",
       "      <td>14.000000</td>\n",
       "      <td>49.000000</td>\n",
       "      <td>7.000000</td>\n",
       "      <td>13.000000</td>\n",
       "      <td>10.000000</td>\n",
       "      <td>9.000000</td>\n",
       "      <td>22058.000000</td>\n",
       "      <td>9.000000</td>\n",
       "    </tr>\n",
       "  </tbody>\n",
       "</table>\n",
       "</div>"
      ],
      "text/plain": [
       "             C17_MEN    C17_MEN_CS1    C17_MEN_CS2    C17_MEN_CS3  \\\n",
       "count  418771.000000  418771.000000  418771.000000  418771.000000   \n",
       "mean       57.331696       0.032646       2.214761      10.149756   \n",
       "std       106.507611       0.133668       4.454606      28.238456   \n",
       "min         0.000000       0.000000       0.000000       0.000000   \n",
       "25%         7.872901       0.000000       0.285095       0.804690   \n",
       "50%        22.660523       0.000000       0.865207       2.733229   \n",
       "75%        61.984363       0.003337       2.322632       8.224340   \n",
       "max      5253.237649      10.635825     186.253621    2219.129516   \n",
       "\n",
       "         C17_MEN_CS4    C17_MEN_CS5    C17_MEN_CS6    C17_MEN_CS7  \\\n",
       "count  418771.000000  418771.000000  418771.000000  418771.000000   \n",
       "mean        9.609266       9.984688       6.485718      13.608362   \n",
       "std        18.243688      19.435873      13.027241      24.807351   \n",
       "min         0.000000       0.000000       0.000000       0.000000   \n",
       "25%         1.299177       1.162912       0.723485       2.074292   \n",
       "50%         3.849771       3.662003       2.409348       5.952409   \n",
       "75%        10.381780      10.503803       6.759041      14.947355   \n",
       "max      1135.478899     810.027405     685.216819    1044.676166   \n",
       "\n",
       "         C17_MEN_CS8        P17_POP    P17_POP0002    P17_POP0305  \\\n",
       "count  418771.000000  418771.000000  418771.000000  418771.000000   \n",
       "mean        5.246499     124.347246       4.650958       4.625855   \n",
       "std        13.247249     226.463801       9.496361       9.251237   \n",
       "min         0.000000       0.000000       0.000000       0.000000   \n",
       "25%         0.238027      18.736149       0.546175       0.609444   \n",
       "50%         0.982876      52.427449       1.671548       1.776364   \n",
       "75%         4.118558     136.234897       4.678380       4.728173   \n",
       "max       709.233178   11651.340382     729.874530     592.289296   \n",
       "\n",
       "         P17_POP0610    P17_POP1117    P17_POP1824    P17_POP2539  \\\n",
       "count  418771.000000  418771.000000  418771.000000  418771.000000   \n",
       "mean        7.498086       9.967794      13.356199      26.617432   \n",
       "std        14.556173      18.700458      28.324217      54.517488   \n",
       "min         0.000000       0.000000       0.000000       0.000000   \n",
       "25%         1.084053       1.570737       1.370705       3.053859   \n",
       "50%         3.058447       4.332272       4.258905       9.397113   \n",
       "75%         7.819937      10.723128      13.102383      27.304280   \n",
       "max       678.182905     848.504930    2543.529626    4474.871519   \n",
       "\n",
       "         P17_POP4054    P17_POP5564    P17_POP6579     P17_POP80P  \\\n",
       "count  418771.000000  418771.000000  418771.000000  418771.000000   \n",
       "mean       23.582467      13.521004      13.987643       6.539809   \n",
       "std        43.483078      24.138831      25.469269      12.808927   \n",
       "min         0.000000       0.000000       0.000000       0.000000   \n",
       "25%         3.694676       2.293381       2.272188       0.811652   \n",
       "50%        10.195009       6.202716       6.304462       2.599526   \n",
       "75%        25.575088      14.971742      15.357531       6.976779   \n",
       "max      1973.384686    1094.403856    1083.890003     590.689468   \n",
       "\n",
       "          P17_POP15P  Attracteur_tourisme          metro           tram  \\\n",
       "count  418771.000000        418771.000000  418771.000000  418771.000000   \n",
       "mean      101.877052             0.091838       0.004081       0.009186   \n",
       "std       185.446290             0.581486       0.066286       0.103011   \n",
       "min         0.000000             0.000000       0.000000       0.000000   \n",
       "25%        15.338680             0.000000       0.000000       0.000000   \n",
       "50%        42.912754             0.000000       0.000000       0.000000   \n",
       "75%       111.940835             0.000000       0.000000       0.000000   \n",
       "max      9290.869451            85.000000       3.000000       4.000000   \n",
       "\n",
       "           transport            GSA          Sport  Equipement maison  \\\n",
       "count  418771.000000  418771.000000  418771.000000      418771.000000   \n",
       "mean        0.011641       0.045591       0.006896           0.063882   \n",
       "std         0.134736       0.251763       0.100481           0.383605   \n",
       "min         0.000000       0.000000       0.000000           0.000000   \n",
       "25%         0.000000       0.000000       0.000000           0.000000   \n",
       "50%         0.000000       0.000000       0.000000           0.000000   \n",
       "75%         0.000000       0.000000       0.000000           0.000000   \n",
       "max         8.000000       8.000000       7.000000          46.000000   \n",
       "\n",
       "       Equipement Personne  Culture Loisir       Mobilité  \\\n",
       "count        418771.000000   418771.000000  418749.000000   \n",
       "mean              0.095952        0.041925       1.268930   \n",
       "std               0.949287        0.295960       6.861544   \n",
       "min               0.000000        0.000000       0.000000   \n",
       "25%               0.000000        0.000000       0.000000   \n",
       "50%               0.000000        0.000000       0.000000   \n",
       "75%               0.000000        0.000000       1.000000   \n",
       "max              97.000000       35.000000    1100.000000   \n",
       "\n",
       "       Culture loisir -loisire  Sport -loisire  Culture loisir -amenity  \\\n",
       "count            418771.000000   418771.000000            418749.000000   \n",
       "mean                  0.831423        0.056308                 0.058383   \n",
       "std                   2.424589        0.296730                 0.391842   \n",
       "min                   0.000000        0.000000                 0.000000   \n",
       "25%                   0.000000        0.000000                 0.000000   \n",
       "50%                   0.000000        0.000000                 0.000000   \n",
       "75%                   1.000000        0.000000                 0.000000   \n",
       "max                 311.000000       19.000000                51.000000   \n",
       "\n",
       "        restauration  Soin Personne  Soin de la personne et Médical -amenity  \\\n",
       "count  418749.000000  418749.000000                            418749.000000   \n",
       "mean        0.313906       0.086696                                 0.107566   \n",
       "std         1.329621       0.469937                                 0.404825   \n",
       "min         0.000000       0.000000                                 0.000000   \n",
       "25%         0.000000       0.000000                                 0.000000   \n",
       "50%         0.000000       0.000000                                 0.000000   \n",
       "75%         0.000000       0.000000                                 0.000000   \n",
       "max        77.000000      24.000000                                14.000000   \n",
       "\n",
       "         Alimentaire  Service public  pt d'intérert        Medical  \\\n",
       "count  418749.000000   418749.000000  418749.000000  418749.000000   \n",
       "mean        0.146770        0.110255       0.173531       0.023472   \n",
       "std         0.699831        0.378537       0.522526       0.197079   \n",
       "min         0.000000        0.000000       0.000000       0.000000   \n",
       "25%         0.000000        0.000000       0.000000       0.000000   \n",
       "50%         0.000000        0.000000       0.000000       0.000000   \n",
       "75%         0.000000        0.000000       0.000000       0.000000   \n",
       "max        49.000000        7.000000      13.000000      10.000000   \n",
       "\n",
       "       tous -amenity  Surface_de_vente_GSA  Attracteur pour tous -loisire  \n",
       "count  418749.000000         418771.000000                  418771.000000  \n",
       "mean        0.044745             21.681695                       0.002085  \n",
       "std         0.227058            334.486278                       0.054485  \n",
       "min         0.000000              0.000000                       0.000000  \n",
       "25%         0.000000              0.000000                       0.000000  \n",
       "50%         0.000000              0.000000                       0.000000  \n",
       "75%         0.000000              0.000000                       0.000000  \n",
       "max         9.000000          22058.000000                       9.000000  "
      ]
     },
     "execution_count": 64,
     "metadata": {},
     "output_type": "execute_result"
    }
   ],
   "source": [
    "final_result.describe()"
   ]
  },
  {
   "cell_type": "code",
   "execution_count": 65,
   "id": "b857c89f",
   "metadata": {
    "ExecuteTime": {
     "end_time": "2023-08-25T19:42:35.479667Z",
     "start_time": "2023-08-25T19:42:35.369678Z"
    }
   },
   "outputs": [],
   "source": [
    "copy_result=final_result.copy()"
   ]
  },
  {
   "cell_type": "code",
   "execution_count": 66,
   "id": "c7a5c4b9",
   "metadata": {
    "ExecuteTime": {
     "end_time": "2023-08-25T19:42:36.637034Z",
     "start_time": "2023-08-25T19:42:35.481540Z"
    }
   },
   "outputs": [],
   "source": [
    "for c in ['C17_MEN', 'C17_MEN_CS2', 'C17_MEN_CS3', 'C17_MEN_CS4',\n",
    "       'C17_MEN_CS5', 'C17_MEN_CS6', 'C17_MEN_CS7', 'C17_MEN_CS8', 'P17_POP',\n",
    "       'P17_POP0002', 'P17_POP0305', 'P17_POP0610', 'P17_POP1117',\n",
    "       'P17_POP1824', 'P17_POP2539', 'P17_POP4054', 'P17_POP5564',\n",
    "       'P17_POP6579', 'P17_POP80P', 'P17_POP15P']:\n",
    "    \n",
    "    final_result[c]=pd.qcut(final_result[c],10,labels=False)+1"
   ]
  },
  {
   "cell_type": "code",
   "execution_count": 67,
   "id": "51a11f99",
   "metadata": {
    "ExecuteTime": {
     "end_time": "2023-08-25T19:42:36.683261Z",
     "start_time": "2023-08-25T19:42:36.640029Z"
    }
   },
   "outputs": [],
   "source": [
    "final_result[\"C17_MEN_CS1\"]=pd.cut(final_result[\"C17_MEN_CS1\"],10,labels=False)+1"
   ]
  },
  {
   "cell_type": "markdown",
   "id": "3e3fd8b3",
   "metadata": {},
   "source": [
    "## Le reste"
   ]
  },
  {
   "cell_type": "code",
   "execution_count": 68,
   "id": "ff88928e",
   "metadata": {
    "ExecuteTime": {
     "end_time": "2023-08-25T19:42:36.714761Z",
     "start_time": "2023-08-25T19:42:36.685260Z"
    }
   },
   "outputs": [],
   "source": [
    "#Attracteur_tourisme\n",
    "final_result['Attracteur_tourisme']=final_result['Attracteur_tourisme'].clip(lower=1, upper=10)\n"
   ]
  },
  {
   "cell_type": "code",
   "execution_count": 69,
   "id": "8acda736",
   "metadata": {
    "ExecuteTime": {
     "end_time": "2023-08-25T19:42:36.826736Z",
     "start_time": "2023-08-25T19:42:36.716758Z"
    }
   },
   "outputs": [],
   "source": [
    "#metro\n",
    "final_result.loc[(final_result['metro']>2).values,\"metro\"]=10\n",
    "final_result[['metro']]=final_result[['metro']].replace({ 1: 8, 2: 9,0:1})"
   ]
  },
  {
   "cell_type": "code",
   "execution_count": 70,
   "id": "bec5177c",
   "metadata": {
    "ExecuteTime": {
     "end_time": "2023-08-25T19:42:36.936581Z",
     "start_time": "2023-08-25T19:42:36.828615Z"
    }
   },
   "outputs": [],
   "source": [
    "#tram\n",
    "final_result.loc[(final_result['tram']>2).values,\"tram\"]=10\n",
    "final_result[['tram']]=final_result[['tram']].replace({ 1: 8, 2: 8,2:9,0:1})"
   ]
  },
  {
   "cell_type": "code",
   "execution_count": 71,
   "id": "fd97992f",
   "metadata": {
    "ExecuteTime": {
     "end_time": "2023-08-25T19:42:37.045843Z",
     "start_time": "2023-08-25T19:42:36.938468Z"
    }
   },
   "outputs": [],
   "source": [
    "#transport\n",
    "final_result.loc[(final_result['transport']>2).values,\"transport\"]=10\n",
    "final_result[['transport']]=final_result[['transport']].replace({ 1: 8, 2: 9,0:1})"
   ]
  },
  {
   "cell_type": "code",
   "execution_count": 72,
   "id": "6c7150b6",
   "metadata": {
    "ExecuteTime": {
     "end_time": "2023-08-25T19:42:37.156689Z",
     "start_time": "2023-08-25T19:42:37.047840Z"
    }
   },
   "outputs": [],
   "source": [
    "#GSA\n",
    "final_result.loc[(final_result['GSA']>2).values,\"GSA\"]=10\n",
    "final_result[['GSA']]=final_result[['GSA']].replace({ 1: 8, 2: 9,0:1})"
   ]
  },
  {
   "cell_type": "code",
   "execution_count": 73,
   "id": "00c53e21",
   "metadata": {
    "ExecuteTime": {
     "end_time": "2023-08-25T19:42:37.235164Z",
     "start_time": "2023-08-25T19:42:37.157691Z"
    }
   },
   "outputs": [],
   "source": [
    "#Sport\n",
    "final_result.loc[(final_result['Sport']>2).values,\"Sport\"]=10\n",
    "final_result[['Sport']]=final_result[['Sport']].replace({ 1: 8, 2: 9,0:1})"
   ]
  },
  {
   "cell_type": "code",
   "execution_count": 74,
   "id": "996b71ca",
   "metadata": {
    "ExecuteTime": {
     "end_time": "2023-08-25T19:42:37.314132Z",
     "start_time": "2023-08-25T19:42:37.237068Z"
    }
   },
   "outputs": [],
   "source": [
    "#Equipement maison\n",
    "final_result.loc[(final_result['Equipement maison']>2).values,\"Equipement maison\"]=10\n",
    "#final_result[['Equipement maison']]=final_result[['Equipement maison']].replace({ 1: 6, 2: 7,3:8,4:9,0:1})\n",
    "final_result[['Equipement maison']]=final_result[['Equipement maison']].replace({ 1: 8, 2: 9,0:1})"
   ]
  },
  {
   "cell_type": "code",
   "execution_count": 75,
   "id": "22117c1d",
   "metadata": {
    "ExecuteTime": {
     "end_time": "2023-08-25T19:42:37.408504Z",
     "start_time": "2023-08-25T19:42:37.316039Z"
    }
   },
   "outputs": [],
   "source": [
    "#Equipement Personne\n",
    "final_result.loc[(final_result['Equipement Personne']>2).values,\"Equipement Personne\"]=10\n",
    "final_result[['Equipement Personne']]=final_result[['Equipement Personne']].replace({ 1: 8, 2: 9,0:1})\n",
    "#.replace({ 1: 5, 2: 6,3:7,4:8,5:9,0:1})"
   ]
  },
  {
   "cell_type": "code",
   "execution_count": 76,
   "id": "73b112de",
   "metadata": {
    "ExecuteTime": {
     "end_time": "2023-08-25T19:42:37.519246Z",
     "start_time": "2023-08-25T19:42:37.413534Z"
    }
   },
   "outputs": [],
   "source": [
    "#Culture Loisir\n",
    "final_result.loc[(final_result['Culture Loisir']>2).values,\"Culture Loisir\"]=10\n",
    "final_result[['Culture Loisir']]=final_result[['Culture Loisir']].replace({ 1: 8, 2: 9,0:1})\n",
    "#.replace({ 1: 5, 2: 6,3:7,4:8,5:9,0:1})"
   ]
  },
  {
   "cell_type": "code",
   "execution_count": 77,
   "id": "1e0694f4",
   "metadata": {
    "ExecuteTime": {
     "end_time": "2023-08-25T19:42:37.598962Z",
     "start_time": "2023-08-25T19:42:37.520212Z"
    }
   },
   "outputs": [],
   "source": [
    "#Mobilité\n",
    "final_result[['Mobilité']]=final_result[['Mobilité']].clip(1,10)"
   ]
  },
  {
   "cell_type": "code",
   "execution_count": 78,
   "id": "0a1fc35d",
   "metadata": {
    "ExecuteTime": {
     "end_time": "2023-08-25T19:42:37.679000Z",
     "start_time": "2023-08-25T19:42:37.599963Z"
    }
   },
   "outputs": [],
   "source": [
    "#Culture loisir -loisire\n",
    "final_result.loc[(final_result['Culture loisir -loisire']>2).values,\"Culture loisir -loisire\"]=10\n",
    "final_result[['Culture loisir -loisire']]=final_result[['Culture loisir -loisire']].replace({ 1: 7, 2: 8,3:9,0:1})"
   ]
  },
  {
   "cell_type": "code",
   "execution_count": 79,
   "id": "da96c14d",
   "metadata": {
    "ExecuteTime": {
     "end_time": "2023-08-25T19:42:37.772952Z",
     "start_time": "2023-08-25T19:42:37.682925Z"
    }
   },
   "outputs": [],
   "source": [
    "#Sport -loisire\n",
    "final_result.loc[(final_result['Sport -loisire']>3).values,\"Sport -loisire\"]=10\n",
    "final_result[['Sport -loisire']]=final_result[['Sport -loisire']].replace({ 1: 7, 2: 8,3:9,0:1})"
   ]
  },
  {
   "cell_type": "code",
   "execution_count": 80,
   "id": "df1a0b56",
   "metadata": {
    "ExecuteTime": {
     "end_time": "2023-08-25T19:42:37.868071Z",
     "start_time": "2023-08-25T19:42:37.774867Z"
    }
   },
   "outputs": [],
   "source": [
    "#Culture loisir -amenity\n",
    "final_result.loc[(final_result['Culture loisir -amenity']>3).values,\"Culture loisir -amenity\"]=10\n",
    "final_result[['Culture loisir -amenity']]=final_result[['Culture loisir -amenity']].replace({ 1: 7, 2: 8,3:9,0:1})"
   ]
  },
  {
   "cell_type": "code",
   "execution_count": 81,
   "id": "b9e91a77",
   "metadata": {
    "ExecuteTime": {
     "end_time": "2023-08-25T19:42:37.961046Z",
     "start_time": "2023-08-25T19:42:37.869068Z"
    }
   },
   "outputs": [],
   "source": [
    "#restauration\n",
    "final_result.loc[(final_result['restauration']>2).values,\"restauration\"]=10\n",
    "final_result[['restauration']]=final_result[['restauration']].replace({ 1: 8, 2: 9,0:1})\n",
    "#.replace({ 1: 7, 2: 8,3:9,0:1})"
   ]
  },
  {
   "cell_type": "code",
   "execution_count": 82,
   "id": "a66a2054",
   "metadata": {
    "ExecuteTime": {
     "end_time": "2023-08-25T19:42:38.053131Z",
     "start_time": "2023-08-25T19:42:37.964078Z"
    }
   },
   "outputs": [],
   "source": [
    "#Soin Personne\n",
    "final_result.loc[(final_result['Soin Personne']>2).values,\"Soin Personne\"]=10\n",
    "final_result[['Soin Personne']]=final_result[['Soin Personne']].replace({ 1: 8, 2: 9,0:1})\n",
    "#.replace({ 1: 5, 2: 6,3:7,4:8,5:9,0:1})"
   ]
  },
  {
   "cell_type": "code",
   "execution_count": 83,
   "id": "23faf28f",
   "metadata": {
    "ExecuteTime": {
     "end_time": "2023-08-25T19:42:38.160597Z",
     "start_time": "2023-08-25T19:42:38.055128Z"
    }
   },
   "outputs": [],
   "source": [
    "#Soin Personne amenity\n",
    "final_result.loc[(final_result['Soin de la personne et Médical -amenity']>5).values,\"Soin de la personne et Médical -amenity\"]=10\n",
    "final_result[['Soin de la personne et Médical -amenity']]=final_result[['Soin de la personne et Médical -amenity']].replace({ 1: 5, 2: 6,3:7,4:8,5:9,0:1})"
   ]
  },
  {
   "cell_type": "code",
   "execution_count": 84,
   "id": "0fae57ae",
   "metadata": {
    "ExecuteTime": {
     "end_time": "2023-08-25T19:42:38.254677Z",
     "start_time": "2023-08-25T19:42:38.162595Z"
    }
   },
   "outputs": [],
   "source": [
    "#Alimentaire\n",
    "final_result.loc[(final_result['Alimentaire']>5).values,\"Alimentaire\"]=10\n",
    "final_result[['Alimentaire']]=final_result[['Alimentaire']].replace({ 1: 5, 2: 6,3:7,4:8,5:9,0:1})"
   ]
  },
  {
   "cell_type": "code",
   "execution_count": 85,
   "id": "d4cb9594",
   "metadata": {
    "ExecuteTime": {
     "end_time": "2023-08-25T19:42:38.333579Z",
     "start_time": "2023-08-25T19:42:38.258702Z"
    }
   },
   "outputs": [],
   "source": [
    "#Service public\n",
    "final_result.loc[(final_result['Service public']>2).values,\"Service public\"]=10\n",
    "final_result[['Service public']]=final_result[['Service public']].replace({ 1: 8, 2: 9,0:1})\n",
    "#.replace({ 1: 5, 2: 6,3:7,4:8,5:9,0:1})"
   ]
  },
  {
   "cell_type": "code",
   "execution_count": 86,
   "id": "71528b37",
   "metadata": {
    "ExecuteTime": {
     "end_time": "2023-08-25T19:42:38.428546Z",
     "start_time": "2023-08-25T19:42:38.335465Z"
    }
   },
   "outputs": [],
   "source": [
    "#pt d'intérert\n",
    "final_result.loc[(final_result[\"pt d'intérert\"]>2).values,\"pt d'intérert\"]=10\n",
    "final_result[[\"pt d'intérert\"]]=final_result[[\"pt d'intérert\"]].replace({ 1: 8, 2: 9,0:1})\n",
    "#.replace({ 1: 5, 2: 6,3:7,4:8,5:9,0:1})"
   ]
  },
  {
   "cell_type": "code",
   "execution_count": 87,
   "id": "aab6976f",
   "metadata": {
    "ExecuteTime": {
     "end_time": "2023-08-25T19:42:38.508450Z",
     "start_time": "2023-08-25T19:42:38.429548Z"
    }
   },
   "outputs": [],
   "source": [
    "#Medical\n",
    "final_result.loc[(final_result[\"Medical\"]>2).values,\"Medical\"]=10\n",
    "final_result[[\"Medical\"]]=final_result[[\"Medical\"]].replace({ 1: 8, 2: 9,0:1})\n",
    "#.replace({ 1: 7, 2: 8,3:9,0:1})"
   ]
  },
  {
   "cell_type": "code",
   "execution_count": 88,
   "id": "72af4d46",
   "metadata": {
    "ExecuteTime": {
     "end_time": "2023-08-25T19:42:38.620068Z",
     "start_time": "2023-08-25T19:42:38.510333Z"
    }
   },
   "outputs": [],
   "source": [
    "#tous -amenity\n",
    "final_result.loc[(final_result[\"tous -amenity\"]>5).values,\"tous -amenity\"]=10\n",
    "final_result[[\"tous -amenity\"]]=final_result[[\"tous -amenity\"]].replace({ 1: 5, 2: 6,3:7,4:8,5:9,0:1})"
   ]
  },
  {
   "cell_type": "code",
   "execution_count": 89,
   "id": "39d9d337",
   "metadata": {
    "ExecuteTime": {
     "end_time": "2023-08-25T19:42:38.714002Z",
     "start_time": "2023-08-25T19:42:38.622063Z"
    }
   },
   "outputs": [],
   "source": [
    "#Attracteur pour tous -loisire\n",
    "final_result.loc[(final_result[\"Attracteur pour tous -loisire\"]>5).values,\"Attracteur pour tous -loisire\"]=10\n",
    "final_result[[\"Attracteur pour tous -loisire\"]]=final_result[[\"Attracteur pour tous -loisire\"]].replace({ 1: 5, 2: 6,3:7,4:8,5:9,0:1})"
   ]
  },
  {
   "cell_type": "code",
   "execution_count": 90,
   "id": "38116575",
   "metadata": {
    "ExecuteTime": {
     "end_time": "2023-08-25T19:42:38.746071Z",
     "start_time": "2023-08-25T19:42:38.715004Z"
    }
   },
   "outputs": [],
   "source": [
    "#Surface_de_vente_GSA\n",
    "final_result.loc[(final_result[\"Surface_de_vente_GSA\"]<=0).values,\"Surface_de_vente_GSA\"]=1\n",
    "final_result.loc[((final_result[\"Surface_de_vente_GSA\"]<=1000) & (final_result[\"Surface_de_vente_GSA\"]>0) ).values,\"Surface_de_vente_GSA\"]=7\n",
    "final_result.loc[((final_result[\"Surface_de_vente_GSA\"]<=5000) & (final_result[\"Surface_de_vente_GSA\"]>1000) ).values,\"Surface_de_vente_GSA\"]=8\n",
    "final_result.loc[((final_result[\"Surface_de_vente_GSA\"]<=10000) & (final_result[\"Surface_de_vente_GSA\"]>5000) ).values,\"Surface_de_vente_GSA\"]=9\n",
    "final_result.loc[(final_result[\"Surface_de_vente_GSA\"]>10000) .values,\"Surface_de_vente_GSA\"]=10"
   ]
  },
  {
   "cell_type": "code",
   "execution_count": 91,
   "id": "197126dc",
   "metadata": {
    "ExecuteTime": {
     "end_time": "2023-08-25T19:42:39.725948Z",
     "start_time": "2023-08-25T19:42:38.747068Z"
    }
   },
   "outputs": [],
   "source": [
    "matrice_pond=pd.read_excel(r\"Y:\\RECHERCHE ET DEV\\10_Modèle d'attractivite des rues\\\\Données_OSM_métie1.xlsx\",sheet_name=\"matrice de pondération\")\n",
    "matrice_pond=matrice_pond.iloc[1:,1:]\n",
    "matrice_pond.columns=matrice_pond.iloc[0,:].values\n",
    "matrice_pond=matrice_pond.iloc[1:,:].fillna(0)\n",
    "matrice_pond=matrice_pond.set_index(' ')\n",
    "matrice_pond=matrice_pond.drop(0)"
   ]
  },
  {
   "cell_type": "code",
   "execution_count": 92,
   "id": "be79c0fa",
   "metadata": {
    "ExecuteTime": {
     "end_time": "2023-08-25T19:42:40.050968Z",
     "start_time": "2023-08-25T19:42:39.726843Z"
    }
   },
   "outputs": [],
   "source": [
    "copy=final_result.copy()"
   ]
  },
  {
   "cell_type": "code",
   "execution_count": 93,
   "id": "c0da2a37",
   "metadata": {
    "ExecuteTime": {
     "end_time": "2023-08-25T19:42:40.222453Z",
     "start_time": "2023-08-25T19:42:40.052969Z"
    }
   },
   "outputs": [],
   "source": [
    "scores=(copy[matrice_pond.index].values@matrice_pond/100)"
   ]
  },
  {
   "cell_type": "code",
   "execution_count": 94,
   "id": "cfcf5d7b",
   "metadata": {
    "ExecuteTime": {
     "end_time": "2023-08-25T19:42:40.238109Z",
     "start_time": "2023-08-25T19:42:40.224331Z"
    }
   },
   "outputs": [
    {
     "data": {
      "text/plain": [
       "'from sklearn.preprocessing import MinMaxScaler\\nscaler=MinMaxScaler()\\nscores.loc[:,:]=scaler.fit_transform(scores)*10'"
      ]
     },
     "execution_count": 94,
     "metadata": {},
     "output_type": "execute_result"
    }
   ],
   "source": [
    "'''from sklearn.preprocessing import MinMaxScaler\n",
    "scaler=MinMaxScaler()\n",
    "scores.loc[:,:]=scaler.fit_transform(scores)*10'''"
   ]
  },
  {
   "cell_type": "code",
   "execution_count": 95,
   "id": "131de537",
   "metadata": {
    "ExecuteTime": {
     "end_time": "2023-08-25T19:42:40.269353Z",
     "start_time": "2023-08-25T19:42:40.239137Z"
    }
   },
   "outputs": [],
   "source": [
    "scores=scores.round(2)"
   ]
  },
  {
   "cell_type": "code",
   "execution_count": 96,
   "id": "beb8b05e",
   "metadata": {
    "ExecuteTime": {
     "end_time": "2023-08-25T19:42:40.694937Z",
     "start_time": "2023-08-25T19:42:40.271350Z"
    }
   },
   "outputs": [],
   "source": [
    "final_result.loc[:,[\"score \"+i for i in  scores.columns]]=scores.values\n",
    "final_result.loc[:,\"Score Globale\"]=scores.mean(axis=1).values"
   ]
  },
  {
   "cell_type": "code",
   "execution_count": 97,
   "id": "88b447f9",
   "metadata": {
    "ExecuteTime": {
     "end_time": "2023-08-25T19:47:42.986296Z",
     "start_time": "2023-08-25T19:42:40.696904Z"
    }
   },
   "outputs": [],
   "source": [
    "pickle.dump(final_result,open(r\"Y:\\RECHERCHE ET DEV\\10_Modèle d'attractivite des rues\\\\scores_données.pkl\",\"wb\"))\n",
    "final_result.to_excel(r\"Y:\\RECHERCHE ET DEV\\10_Modèle d'attractivite des rues\\\\scores_données.xlsx\")"
   ]
  },
  {
   "cell_type": "code",
   "execution_count": 98,
   "id": "0f34c1c7",
   "metadata": {
    "ExecuteTime": {
     "end_time": "2023-08-25T19:47:43.002228Z",
     "start_time": "2023-08-25T19:47:42.988174Z"
    }
   },
   "outputs": [],
   "source": [
    "cols_display=['P17_POP',\"Attracteur_tourisme\" , \"metro\",  \"tram\",\"transport\",\"GSA\",  \"Sport\",\n",
    "             \n",
    "             \"Equipement maison\",  \"Equipement Personne\",\n",
    "              \"Culture Loisir\" , \"Culture loisir -loisire\",  \n",
    "\n",
    "                        \"Sport -loisire\" , \"Alimentaire\" , \"Mobilité\",  \n",
    "\n",
    "                       'Soin de la personne et Médical -amenity' , \n",
    "\n",
    "                        \"pt d'intérert\",  \"Medical\",  \"restauration\" , \"Soin Personne\" ,  \n",
    "\n",
    "                        \"Service public\"  ,\"tous -amenity\"  ,\n",
    "\n",
    "                        \"Culture loisir -amenity\",  \n",
    "\n",
    "\n",
    "                        \"Attracteur pour tous -loisire\",  \"Surface_de_vente_GSA\",\"geometry\",\"name\" ,\"Score Globale\" \n",
    "              \n",
    "             ]\n",
    "cols_display.extend([\"score \"+i for i in  scores.columns])"
   ]
  },
  {
   "cell_type": "code",
   "execution_count": 99,
   "id": "1f0a33e2",
   "metadata": {
    "ExecuteTime": {
     "end_time": "2023-08-25T19:47:43.476077Z",
     "start_time": "2023-08-25T19:47:43.003135Z"
    }
   },
   "outputs": [],
   "source": [
    "final_result=copy_result.copy()\n",
    "final_result.loc[:,[\"score \"+i for i in  scores.columns]]=scores.values\n",
    "final_result.loc[:,\"Score Globale\"]=scores.mean(axis=1).values"
   ]
  },
  {
   "cell_type": "code",
   "execution_count": 100,
   "id": "c626e7bf",
   "metadata": {
    "ExecuteTime": {
     "end_time": "2023-08-25T19:47:56.034810Z",
     "start_time": "2023-08-25T19:47:43.480013Z"
    }
   },
   "outputs": [],
   "source": [
    "for c in scores:\n",
    "    final_result[cols_display].iloc[scores[scores[c]>=7].index].explore(\"score \"+c,cmap=\"Reds\").save(r\"Y:\\RECHERCHE ET DEV\\10_Modèle d'attractivite des rues\\cartes_scores\\score 7\\\\\"+c+\"_score.html\")"
   ]
  },
  {
   "cell_type": "code",
   "execution_count": 529,
   "id": "6b80ed7c",
   "metadata": {
    "ExecuteTime": {
     "end_time": "2023-08-10T12:08:53.932161Z",
     "start_time": "2023-08-10T12:08:09.438602Z"
    }
   },
   "outputs": [],
   "source": [
    "for c in scores:\n",
    "    final_result[cols_display].iloc[scores[scores[c]>=5].index].explore(\"score \"+c).save(r\"Y:\\RECHERCHE ET DEV\\10_Modèle d'attractivite des rues\\cartes_scores\\score 5\\\\\"+c+\"_score.html\")"
   ]
  },
  {
   "cell_type": "code",
   "execution_count": 530,
   "id": "7e9d34d3",
   "metadata": {
    "ExecuteTime": {
     "end_time": "2023-08-10T12:08:53.996025Z",
     "start_time": "2023-08-10T12:08:53.933985Z"
    }
   },
   "outputs": [],
   "source": [
    "final_result.loc[((scores>=7).all(axis=1)).values].explore(color=\"black\").save(r\"Y:\\RECHERCHE ET DEV\\10_Modèle d'attractivite des rues\\\\best.html\")"
   ]
  },
  {
   "cell_type": "code",
   "execution_count": 574,
   "id": "48ccac76",
   "metadata": {
    "ExecuteTime": {
     "end_time": "2023-08-10T12:16:16.063751Z",
     "start_time": "2023-08-10T12:16:15.685808Z"
    }
   },
   "outputs": [],
   "source": [
    "final_result[final_result['Score Globale']>=7].explore('Score Globale').save(r\"Y:\\RECHERCHE ET DEV\\10_Modèle d'attractivite des rues\\\\best_scores_globale.html\")"
   ]
  },
  {
   "cell_type": "code",
   "execution_count": 532,
   "id": "f67d98dc",
   "metadata": {
    "ExecuteTime": {
     "end_time": "2023-08-10T12:08:54.321498Z",
     "start_time": "2023-08-10T12:08:54.215584Z"
    }
   },
   "outputs": [],
   "source": [
    "final_result[final_result.name==\"Rue du Commerce\"].loc[:,cols_display].explore().save(r\"Y:\\RECHERCHE ET DEV\\10_Modèle d'attractivite des rues\\cartes_scores\\\\rue du commerce.html\")"
   ]
  },
  {
   "cell_type": "code",
   "execution_count": 533,
   "id": "d347cf26",
   "metadata": {
    "ExecuteTime": {
     "end_time": "2023-08-10T12:08:54.428635Z",
     "start_time": "2023-08-10T12:08:54.325438Z"
    }
   },
   "outputs": [],
   "source": [
    "final_result[final_result.name==\"Rue des Blanchers\"].loc[:,cols_display].explore().save(r\"Y:\\RECHERCHE ET DEV\\10_Modèle d'attractivite des rues\\cartes_scores\\\\rue des blanchers.html\")\n"
   ]
  },
  {
   "cell_type": "code",
   "execution_count": 578,
   "id": "80b9d8fa",
   "metadata": {
    "ExecuteTime": {
     "end_time": "2023-08-10T12:23:44.782525Z",
     "start_time": "2023-08-10T12:23:44.756594Z"
    }
   },
   "outputs": [
    {
     "data": {
      "text/plain": [
       "(33, 56)"
      ]
     },
     "execution_count": 578,
     "metadata": {},
     "output_type": "execute_result"
    }
   ],
   "source": [
    "final_result.loc[((scores>=7).all(axis=1)).values].shape"
   ]
  },
  {
   "cell_type": "code",
   "execution_count": 579,
   "id": "ecc15628",
   "metadata": {
    "ExecuteTime": {
     "end_time": "2023-08-10T12:24:39.901387Z",
     "start_time": "2023-08-10T12:24:39.893382Z"
    }
   },
   "outputs": [
    {
     "data": {
      "text/plain": [
       "512"
      ]
     },
     "execution_count": 579,
     "metadata": {},
     "output_type": "execute_result"
    }
   ],
   "source": [
    "(final_result['Score Globale']>=7).sum()"
   ]
  },
  {
   "cell_type": "code",
   "execution_count": null,
   "id": "f42d14da",
   "metadata": {},
   "outputs": [],
   "source": []
  }
 ],
 "metadata": {
  "kernelspec": {
   "display_name": "Python 3 (ipykernel)",
   "language": "python",
   "name": "python3"
  },
  "language_info": {
   "codemirror_mode": {
    "name": "ipython",
    "version": 3
   },
   "file_extension": ".py",
   "mimetype": "text/x-python",
   "name": "python",
   "nbconvert_exporter": "python",
   "pygments_lexer": "ipython3",
   "version": "3.9.12"
  }
 },
 "nbformat": 4,
 "nbformat_minor": 5
}

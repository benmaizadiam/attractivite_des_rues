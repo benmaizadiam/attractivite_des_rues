{
 "cells": [
  {
   "cell_type": "code",
   "execution_count": 2,
   "id": "8a297761",
   "metadata": {
    "ExecuteTime": {
     "end_time": "2023-04-13T13:07:04.501370Z",
     "start_time": "2023-04-13T13:07:02.228021Z"
    },
    "scrolled": true
   },
   "outputs": [
    {
     "name": "stdout",
     "output_type": "stream",
     "text": [
      "Collecting package\n",
      "  Downloading package-0.1.1.tar.gz (13 kB)\n",
      "  Preparing metadata (setup.py): started\n",
      "  Preparing metadata (setup.py): finished with status 'error'\n"
     ]
    },
    {
     "name": "stderr",
     "output_type": "stream",
     "text": [
      "WARNING: Ignoring invalid distribution -yproj (c:\\users\\diametrix\\anaconda3\\lib\\site-packages)\n",
      "  error: subprocess-exited-with-error\n",
      "  \n",
      "  python setup.py egg_info did not run successfully.\n",
      "  exit code: 1\n",
      "  \n",
      "  [7 lines of output]\n",
      "  Traceback (most recent call last):\n",
      "    File \"<string>\", line 2, in <module>\n",
      "    File \"<pip-setuptools-caller>\", line 34, in <module>\n",
      "    File \"C:\\Users\\Diametrix\\AppData\\Local\\Temp\\pip-install-jv9d93nz\\package_091a0ac4d5cf4347aae8463f028dc294\\setup.py\", line 4\n",
      "      print \"\"\"\n",
      "            ^\n",
      "  SyntaxError: Missing parentheses in call to 'print'. Did you mean print(\"\"\")?\n",
      "  [end of output]\n",
      "  \n",
      "  note: This error originates from a subprocess, and is likely not a problem with pip.\n",
      "error: metadata-generation-failed\n",
      "\n",
      "Encountered error while generating package metadata.\n",
      "\n",
      "See above for output.\n",
      "\n",
      "note: This is an issue with the package mentioned above, not pip.\n",
      "hint: See above for details.\n",
      "\n",
      "[notice] A new release of pip available: 22.2.2 -> 23.0.1\n",
      "[notice] To update, run: python.exe -m pip install --upgrade pip\n"
     ]
    }
   ],
   "source": [
    "!pip install \"package\" --user"
   ]
  },
  {
   "cell_type": "code",
   "execution_count": 4,
   "id": "810d1650",
   "metadata": {
    "ExecuteTime": {
     "end_time": "2023-04-13T14:49:11.188537Z",
     "start_time": "2023-04-13T14:49:07.075143Z"
    }
   },
   "outputs": [
    {
     "name": "stdout",
     "output_type": "stream",
     "text": [
      "Collecting osmnx\n",
      "  Using cached osmnx-1.3.0-py3-none-any.whl (93 kB)\n",
      "Requirement already satisfied: networkx>=2.8 in c:\\users\\diametrix\\appdata\\roaming\\python\\python39\\site-packages (from osmnx) (2.8.5)\n",
      "Requirement already satisfied: pandas>=1.5 in c:\\users\\diametrix\\appdata\\roaming\\python\\python39\\site-packages (from osmnx) (2.0.0)\n",
      "Requirement already satisfied: python-dateutil>=2.8 in c:\\users\\diametrix\\anaconda3\\lib\\site-packages (from osmnx) (2.8.2)\n",
      "Requirement already satisfied: Shapely>=2.0 in c:\\users\\diametrix\\anaconda3\\lib\\site-packages (from osmnx) (2.0.1)\n",
      "Requirement already satisfied: pyproj>=3.4 in c:\\users\\diametrix\\appdata\\roaming\\python\\python39\\site-packages (from osmnx) (3.5.0)\n",
      "Requirement already satisfied: matplotlib>=3.5 in c:\\users\\diametrix\\appdata\\roaming\\python\\python39\\site-packages (from osmnx) (3.5.3)\n",
      "Collecting geopandas>=0.12\n",
      "  Using cached geopandas-0.12.2-py3-none-any.whl (1.1 MB)\n",
      "Requirement already satisfied: numpy>=1.23 in c:\\users\\diametrix\\appdata\\roaming\\python\\python39\\site-packages (from osmnx) (1.23.3)\n",
      "Requirement already satisfied: requests>=2.28 in c:\\users\\diametrix\\appdata\\roaming\\python\\python39\\site-packages (from osmnx) (2.28.1)\n",
      "Requirement already satisfied: packaging in c:\\users\\diametrix\\anaconda3\\lib\\site-packages (from geopandas>=0.12->osmnx) (21.3)\n",
      "Requirement already satisfied: fiona>=1.8 in c:\\users\\diametrix\\appdata\\roaming\\python\\python39\\site-packages (from geopandas>=0.12->osmnx) (1.8.21)\n",
      "Requirement already satisfied: cycler>=0.10 in c:\\users\\diametrix\\anaconda3\\lib\\site-packages (from matplotlib>=3.5->osmnx) (0.11.0)\n",
      "Requirement already satisfied: kiwisolver>=1.0.1 in c:\\users\\diametrix\\appdata\\roaming\\python\\python39\\site-packages (from matplotlib>=3.5->osmnx) (1.4.4)\n",
      "Requirement already satisfied: fonttools>=4.22.0 in c:\\users\\diametrix\\anaconda3\\lib\\site-packages (from matplotlib>=3.5->osmnx) (4.25.0)\n",
      "Requirement already satisfied: pyparsing>=2.2.1 in c:\\users\\diametrix\\appdata\\roaming\\python\\python39\\site-packages (from matplotlib>=3.5->osmnx) (3.0.9)\n",
      "Requirement already satisfied: pillow>=6.2.0 in c:\\users\\diametrix\\appdata\\roaming\\python\\python39\\site-packages (from matplotlib>=3.5->osmnx) (9.2.0)\n",
      "Requirement already satisfied: tzdata>=2022.1 in c:\\users\\diametrix\\anaconda3\\lib\\site-packages (from pandas>=1.5->osmnx) (2023.3)\n",
      "Requirement already satisfied: pytz>=2020.1 in c:\\users\\diametrix\\appdata\\roaming\\python\\python39\\site-packages (from pandas>=1.5->osmnx) (2022.1)\n",
      "Requirement already satisfied: certifi in c:\\users\\diametrix\\anaconda3\\lib\\site-packages (from pyproj>=3.4->osmnx) (2021.10.8)\n",
      "Requirement already satisfied: six>=1.5 in c:\\users\\diametrix\\appdata\\roaming\\python\\python39\\site-packages (from python-dateutil>=2.8->osmnx) (1.16.0)\n",
      "Requirement already satisfied: charset-normalizer<3,>=2 in c:\\users\\diametrix\\appdata\\roaming\\python\\python39\\site-packages (from requests>=2.28->osmnx) (2.1.1)\n",
      "Requirement already satisfied: urllib3<1.27,>=1.21.1 in c:\\users\\diametrix\\anaconda3\\lib\\site-packages (from requests>=2.28->osmnx) (1.26.12)\n",
      "Requirement already satisfied: idna<4,>=2.5 in c:\\users\\diametrix\\appdata\\roaming\\python\\python39\\site-packages (from requests>=2.28->osmnx) (2.10)\n",
      "Requirement already satisfied: munch in c:\\users\\diametrix\\appdata\\roaming\\python\\python39\\site-packages (from fiona>=1.8->geopandas>=0.12->osmnx) (2.5.0)\n",
      "Requirement already satisfied: attrs>=17 in c:\\users\\diametrix\\appdata\\roaming\\python\\python39\\site-packages (from fiona>=1.8->geopandas>=0.12->osmnx) (22.1.0)\n",
      "Requirement already satisfied: cligj>=0.5 in c:\\users\\diametrix\\appdata\\roaming\\python\\python39\\site-packages (from fiona>=1.8->geopandas>=0.12->osmnx) (0.7.2)\n",
      "Requirement already satisfied: click>=4.0 in c:\\users\\diametrix\\appdata\\roaming\\python\\python39\\site-packages (from fiona>=1.8->geopandas>=0.12->osmnx) (8.1.3)\n",
      "Requirement already satisfied: gdal~=3.4.3 in c:\\users\\diametrix\\appdata\\roaming\\python\\python39\\site-packages (from fiona>=1.8->geopandas>=0.12->osmnx) (3.4.3)\n",
      "Requirement already satisfied: setuptools in c:\\users\\diametrix\\appdata\\roaming\\python\\python39\\site-packages (from fiona>=1.8->geopandas>=0.12->osmnx) (63.2.0)\n",
      "Requirement already satisfied: click-plugins>=1.0 in c:\\users\\diametrix\\appdata\\roaming\\python\\python39\\site-packages (from fiona>=1.8->geopandas>=0.12->osmnx) (1.1.1)\n",
      "Requirement already satisfied: colorama in c:\\users\\diametrix\\appdata\\roaming\\python\\python39\\site-packages (from click>=4.0->fiona>=1.8->geopandas>=0.12->osmnx) (0.4.5)\n",
      "Installing collected packages: geopandas, osmnx\n",
      "  Attempting uninstall: geopandas\n",
      "    Found existing installation: geopandas 0.11.1\n",
      "    Uninstalling geopandas-0.11.1:\n",
      "      Successfully uninstalled geopandas-0.11.1\n",
      "Successfully installed geopandas-0.12.2 osmnx-1.3.0\n"
     ]
    },
    {
     "name": "stderr",
     "output_type": "stream",
     "text": [
      "WARNING: Ignoring invalid distribution -yproj (c:\\users\\diametrix\\anaconda3\\lib\\site-packages)\n",
      "WARNING: Ignoring invalid distribution -yproj (c:\\users\\diametrix\\anaconda3\\lib\\site-packages)\n",
      "WARNING: Ignoring invalid distribution -yproj (c:\\users\\diametrix\\anaconda3\\lib\\site-packages)\n",
      "WARNING: Ignoring invalid distribution -yproj (c:\\users\\diametrix\\anaconda3\\lib\\site-packages)\n",
      "\n",
      "[notice] A new release of pip available: 22.2.2 -> 23.0.1\n",
      "[notice] To update, run: python.exe -m pip install --upgrade pip\n"
     ]
    }
   ],
   "source": [
    "!pip install -U osmnx "
   ]
  },
  {
   "cell_type": "code",
   "execution_count": 21,
   "id": "9e041d54",
   "metadata": {
    "ExecuteTime": {
     "end_time": "2023-06-21T15:25:39.067034Z",
     "start_time": "2023-06-21T15:25:39.058058Z"
    }
   },
   "outputs": [],
   "source": [
    "import geopandas as gpd\n",
    "import pandas as pd\n",
    "import osmnx as ox\n",
    "import pickle\n",
    "from shapely import LineString,MultiLineString\n",
    "import numpy as np\n",
    "import difflib"
   ]
  },
  {
   "cell_type": "code",
   "execution_count": 276,
   "id": "23a6b974",
   "metadata": {
    "ExecuteTime": {
     "end_time": "2023-06-28T11:37:54.054295Z",
     "start_time": "2023-06-28T11:37:54.042331Z"
    }
   },
   "outputs": [],
   "source": [
    "path=r\"Y:\\RECHERCHE ET DEV\\10_Modèle d'attractivite des rues\\04_données clients (source)\\osm\""
   ]
  },
  {
   "cell_type": "code",
   "execution_count": 144,
   "id": "8a61b8d8",
   "metadata": {
    "ExecuteTime": {
     "end_time": "2023-06-26T14:35:28.671001Z",
     "start_time": "2023-06-26T14:34:24.365386Z"
    }
   },
   "outputs": [],
   "source": [
    "iris_data=pd.read_excel('Y:\\REFERENTIEL DATA\\RP 2022 FRANCE\\GEODATA - IRIS\\\\Geodata_IRIS_essentiels.xlsx')"
   ]
  },
  {
   "cell_type": "code",
   "execution_count": 145,
   "id": "0f6c17a4",
   "metadata": {
    "ExecuteTime": {
     "end_time": "2023-06-26T14:35:39.042274Z",
     "start_time": "2023-06-26T14:35:28.672964Z"
    }
   },
   "outputs": [],
   "source": [
    "contour_iris=gpd.read_file(r'Y:\\REFERENTIEL DATA\\RP 2022 FRANCE\\CARTOGRAPHIE\\Cartographie_France_IRIS_2019\\CONTOURS-IRIS_2-1_SHP_LAMB93_FXX-2019\\CONTOURS-IRIS.shp')"
   ]
  },
  {
   "cell_type": "code",
   "execution_count": 25,
   "id": "7f5fc08c",
   "metadata": {
    "ExecuteTime": {
     "end_time": "2023-06-21T15:26:59.226339Z",
     "start_time": "2023-06-21T15:26:59.211349Z"
    }
   },
   "outputs": [],
   "source": [
    "regions=[\"Auvergne-Rhône-Alpes\",\n",
    "    \"Bourgogne-Franche-Comté\",\n",
    "    \"Bretagne\",\n",
    "    \"Centre-Val de Loire\",\n",
    "    \"Corse\",\n",
    "    \"Grand Est\",\n",
    "    'Hauts-de-France',\n",
    "    \"Ile-de-France\",\n",
    "    \"Normandie\",\n",
    "    \"Nouvelle-Aquitaine\",\n",
    "    \"Occitanie\",\n",
    "    'Pays de la Loire',\n",
    "    \"Provence-Alpes-Côte d'Azur\"]\n"
   ]
  },
  {
   "cell_type": "code",
   "execution_count": 296,
   "id": "642c09bc",
   "metadata": {
    "ExecuteTime": {
     "end_time": "2023-06-28T12:10:28.466703Z",
     "start_time": "2023-06-28T12:10:28.451744Z"
    }
   },
   "outputs": [],
   "source": [
    "lyon_metropole=[\"Lyon\",\n",
    "\"Albigny-sur-Saône\",\n",
    "\"Bron\",\n",
    "\"Cailloux-sur-Fontaines\",\n",
    "\"Caluire-et-Cuire\",\n",
    "\"Champagne-au-Mont-d'Or\",\n",
    "\"Charbonnières-les-Bains\",\n",
    "\"Charly\",\n",
    "\"Chassieu\",\n",
    "\"Collonges-au-Mont-d'Or\",\n",
    "\"Corbas\",\n",
    "\"Couzon-au-Mont-d'Or\",\n",
    "\"Craponne\",\n",
    "\"Curis-au-Mont-d'Or\",\n",
    "\"Dardilly\",\n",
    "\"Décines-Charpieu\",\n",
    "\"Écully\",\n",
    "\"Feyzin\",\n",
    "\"Fleurieu-sur-Saône\",\n",
    "\"Fontaines-Saint-Martin\",\n",
    "\"Fontaines-sur-Saône\",\n",
    "\"Francheville\",\n",
    "\"Genay\",\n",
    "\"Givors\",\n",
    "\"Grigny\",\n",
    "\"Irigny\",\n",
    "\"Jonage\",\n",
    "\"Limonest\",\n",
    "\"Lissieu\",\n",
    "\"Marcy-l'Étoile\",\n",
    "\"Meyzieu\",\n",
    "\"Mions\",\n",
    "\"Montanay\",\n",
    "\"La Mulatière\",\n",
    "\"Neuville-sur-Saône\",\n",
    "\"Oullins\",\n",
    "\"Pierre-Bénite\",\n",
    "\"Poleymieux-au-Mont-d'Or\",\n",
    "\"Quincieux\",\n",
    "\"Rillieux-la-Pape\",\n",
    "\"Rochetaillée-sur-Saône\",\n",
    "\"Saint-Cyr-au-Mont-d'Or\",\n",
    "\"Saint-Didier-au-Mont-d'Or\",\n",
    "\"Sainte-Foy-lès-Lyon\",\n",
    "\"Saint-Fons\",\n",
    "\"Saint-Genis-Laval\",\n",
    "\"Saint-Genis-les-Ollières\",\n",
    "\"Saint-Germain-au-Mont-d'Or\",\n",
    "\"Saint-Priest\",\n",
    "\"Saint-Romain-au-Mont-d'Or\",\n",
    "\"Sathonay-Camp\",\n",
    "\"Sathonay-Village\",\n",
    "\"Solaize\",\n",
    "\"Tassin-la-Demi-Lune\",\n",
    "\"La Tour-de-Salvagny\",\n",
    "\"Vaulx-en-Velin\",\n",
    "\"Vénissieux\",\n",
    "\"Vernaison\",\n",
    "\"Villeurbanne\"]"
   ]
  },
  {
   "cell_type": "code",
   "execution_count": 26,
   "id": "569ac14d",
   "metadata": {
    "ExecuteTime": {
     "end_time": "2023-06-21T15:26:59.349014Z",
     "start_time": "2023-06-21T15:26:59.228306Z"
    }
   },
   "outputs": [],
   "source": [
    "list_departement=pd.read_excel(r\"Y:\\RECHERCHE ET DEV\\10_Modèle d'attractivite des rues\\\\Liste-Excel-des-departements-francais.xlsx\")"
   ]
  },
  {
   "cell_type": "code",
   "execution_count": 27,
   "id": "2137fb99",
   "metadata": {
    "ExecuteTime": {
     "end_time": "2023-06-21T15:26:59.364968Z",
     "start_time": "2023-06-21T15:26:59.350980Z"
    }
   },
   "outputs": [],
   "source": [
    "list_departement=list_departement[list_departement[\"Région\"].isin(regions)]"
   ]
  },
  {
   "cell_type": "code",
   "execution_count": null,
   "id": "32f2d472",
   "metadata": {},
   "outputs": [],
   "source": []
  },
  {
   "cell_type": "markdown",
   "id": "21deded9",
   "metadata": {},
   "source": [
    "# Batiments"
   ]
  },
  {
   "cell_type": "code",
   "execution_count": 314,
   "id": "9e312608",
   "metadata": {
    "ExecuteTime": {
     "end_time": "2023-06-28T12:33:45.346145Z",
     "start_time": "2023-06-28T12:33:45.336153Z"
    }
   },
   "outputs": [],
   "source": [
    "def get_buildings(place_name,region):\n",
    "    tags = {\"building\":True }\n",
    "    \n",
    "    if place_name.lower()!=\"rhône\": \n",
    "        try:\n",
    "            buildings = ox.geometries_from_place(place_name+\", France\", tags)\n",
    "        except:\n",
    "            buildings = ox.geometries_from_place(place_name, tags)\n",
    "    else:\n",
    "        buildings = ox.geometries_from_place([place_name,\"métropole de Lyon\"], tags)\n",
    "        \n",
    "    selected_columns=[\"geometry\" ,\"building\", \"shop\" , \"building:levels\",\"amenity\",\"name\"]\n",
    "    buildings=buildings[selected_columns]\n",
    "    pickle.dump(buildings,open(path+\"\\\\\"+region.lower()+\"\\\\\"+place_name.lower()+\"\\\\raw data\\\\buildings.pkl\",'wb'))   \n",
    "    return buildings"
   ]
  },
  {
   "cell_type": "markdown",
   "id": "9cab611b",
   "metadata": {},
   "source": [
    "# amenity (hopital , école ...)"
   ]
  },
  {
   "cell_type": "code",
   "execution_count": 306,
   "id": "2f227e13",
   "metadata": {
    "ExecuteTime": {
     "end_time": "2023-06-28T12:33:16.766342Z",
     "start_time": "2023-06-28T12:33:16.747392Z"
    }
   },
   "outputs": [],
   "source": [
    "def get_amenity(place_name,region):\n",
    "    tags = {\"amenity\":True }\n",
    "    if place_name.lower()!=\"rhône\": \n",
    "        try:\n",
    "            amenity = ox.geometries_from_place(place_name+\", France\", tags)\n",
    "        except:\n",
    "            amenity = ox.geometries_from_place(place_name, tags)\n",
    "    else:\n",
    "        amenity = ox.geometries_from_place([place_name,\"métropole de Lyon\"], tags)\n",
    "    selected_columns=[\"geometry\" ,\"building\", \"shop\" , \"building:levels\",\"amenity\",\"name\"]\n",
    "    amenity=amenity[selected_columns]\n",
    "    \n",
    "    pickle.dump(amenity,open(path+\"\\\\\"+region.lower()+\"\\\\\"+place_name.lower()+\"\\\\raw data\\\\amenity.pkl\",\"wb\"))"
   ]
  },
  {
   "cell_type": "markdown",
   "id": "709af544",
   "metadata": {},
   "source": [
    "# Natural"
   ]
  },
  {
   "cell_type": "code",
   "execution_count": 307,
   "id": "a37012fe",
   "metadata": {
    "ExecuteTime": {
     "end_time": "2023-06-28T12:33:17.593225Z",
     "start_time": "2023-06-28T12:33:17.573227Z"
    }
   },
   "outputs": [],
   "source": [
    "def get_natural (place_name,region):\n",
    "    tags = {\"natural\":True }   \n",
    "    if place_name.lower()!=\"rhône\": \n",
    "        try:\n",
    "            natural = ox.geometries_from_place(place_name+\", France\", tags)\n",
    "        except:\n",
    "            natural = ox.geometries_from_place(place_name, tags)\n",
    "    else:\n",
    "        natural = ox.geometries_from_place([place_name,\"métropole de Lyon\"], tags)\n",
    "        \n",
    "    natural=natural[[\"geometry\",'natural','name']]\n",
    "    pickle.dump(natural,open(path+\"\\\\\"+region.lower()+\"\\\\\"+place_name.lower()+\"\\\\raw data\\\\natural.pkl\",\"wb\"))"
   ]
  },
  {
   "cell_type": "markdown",
   "id": "5f52117a",
   "metadata": {},
   "source": [
    "# Landuse"
   ]
  },
  {
   "cell_type": "code",
   "execution_count": 308,
   "id": "15a294e9",
   "metadata": {
    "ExecuteTime": {
     "end_time": "2023-06-28T12:33:18.541273Z",
     "start_time": "2023-06-28T12:33:18.527311Z"
    }
   },
   "outputs": [],
   "source": [
    "def get_landuse(place_name,region):\n",
    "    tags = {\"landuse\":True } \n",
    "    if place_name.lower()!=\"rhône\": \n",
    "        try:\n",
    "            landuse = ox.geometries_from_place(place_name+\", France\", tags)\n",
    "        except:\n",
    "            landuse = ox.geometries_from_place(place_name, tags)\n",
    "    else:\n",
    "        landuse = ox.geometries_from_place([place_name,\"métropole de Lyon\"], tags)\n",
    "    landuse=landuse[[\"geometry\",'landuse','name']]\n",
    "    pickle.dump(landuse,open(path+\"\\\\\"+region.lower()+\"\\\\\"+place_name.lower()+\"\\\\raw data\\\\landuse.pkl\",\"wb\"))"
   ]
  },
  {
   "cell_type": "markdown",
   "id": "83e8a616",
   "metadata": {},
   "source": [
    "# Shops (restaurant ,Vêtements...)"
   ]
  },
  {
   "cell_type": "code",
   "execution_count": 309,
   "id": "6b5c6f19",
   "metadata": {
    "ExecuteTime": {
     "end_time": "2023-06-28T12:33:19.505651Z",
     "start_time": "2023-06-28T12:33:19.480942Z"
    }
   },
   "outputs": [],
   "source": [
    "def get_shops (place_name,region):\n",
    "    tags = {\"shop\":True }   \n",
    "    if place_name.lower()!=\"rhône\": \n",
    "        try:\n",
    "            shops = ox.geometries_from_place(place_name+\", France\", tags)\n",
    "        except:\n",
    "            shops = ox.geometries_from_place(place_name, tags)\n",
    "    else:\n",
    "        shops = ox.geometries_from_place([place_name,\"métropole de Lyon\"], tags)\n",
    "        \n",
    "    selected_columns=[\"geometry\" ,\"building\", \"shop\" ,\"amenity\",\"name\", ]\n",
    "    shops=shops[selected_columns]\n",
    "    pickle.dump(shops,open(path+\"\\\\\"+region.lower()+\"\\\\\"+place_name.lower()+\"\\\\raw data\\\\shops.pkl\",\"wb\"))"
   ]
  },
  {
   "cell_type": "markdown",
   "id": "7f3783ac",
   "metadata": {},
   "source": [
    "# Transport"
   ]
  },
  {
   "cell_type": "code",
   "execution_count": 310,
   "id": "87ee6c44",
   "metadata": {
    "ExecuteTime": {
     "end_time": "2023-06-28T12:33:20.590682Z",
     "start_time": "2023-06-28T12:33:20.565203Z"
    }
   },
   "outputs": [],
   "source": [
    "def get_transport(place_name,region):\n",
    "    tags = {\"railway\":[\"station\",'tram_stop'],\"station\":\"subway\"}\n",
    "    if place_name.lower()!=\"rhône\": \n",
    "        try:\n",
    "            public_transports = ox.geometries_from_place(place_name+\", France\", tags=tags)\n",
    "        except:\n",
    "            public_transports = ox.geometries_from_place(place_name, tags=tags)\n",
    "    else:\n",
    "        public_transports = ox.geometries_from_place([place_name,\"métropole de Lyon\"], tags)\n",
    "        \n",
    "    selected_columns=['geometry' ,'public_transport','name']\n",
    "    public_transports=public_transports[selected_columns]\n",
    "    pickle.dump(public_transports,open(path+\"\\\\\"+region.lower()+\"\\\\\"+place_name.lower()+\"\\\\raw data\\\\public_transports.pkl\",\"wb\"))"
   ]
  },
  {
   "cell_type": "markdown",
   "id": "d1441274",
   "metadata": {},
   "source": [
    "# Rues"
   ]
  },
  {
   "cell_type": "code",
   "execution_count": 311,
   "id": "cb8e06bf",
   "metadata": {
    "ExecuteTime": {
     "end_time": "2023-06-28T12:33:21.802329Z",
     "start_time": "2023-06-28T12:33:21.793325Z"
    }
   },
   "outputs": [],
   "source": [
    "\n",
    "def get_highway(place_name,region):\n",
    "    tags = {\"highway\":True }\n",
    "    \n",
    "    if place_name.lower()!=\"rhône\":  \n",
    "        try:\n",
    "            highways = ox.geometries_from_place(place_name+\", France\", tags)\n",
    "        except:\n",
    "            highways = ox.geometries_from_place(place_name, tags)\n",
    "    else:\n",
    "\n",
    "        highways = ox.geometries_from_place([place_name,\"métropole de Lyon\"], tags)\n",
    "    selected_columns=['geometry' ,'highway','name']\n",
    "    highways=highways[selected_columns]\n",
    "    pickle.dump(highways,open(path+\"\\\\\"+region.lower()+\"\\\\\"+place_name.lower()+\"\\\\raw data\\\\highways.pkl\",\"wb\"))\n",
    "    return highways"
   ]
  },
  {
   "cell_type": "markdown",
   "id": "e605d6f5",
   "metadata": {},
   "source": [
    "# Tourism"
   ]
  },
  {
   "cell_type": "code",
   "execution_count": 312,
   "id": "a47b8368",
   "metadata": {
    "ExecuteTime": {
     "end_time": "2023-06-28T12:33:23.062021Z",
     "start_time": "2023-06-28T12:33:23.044036Z"
    }
   },
   "outputs": [],
   "source": [
    "def get_tourism(place_name,region):\n",
    "    tags = {\"tourism\":True }   \n",
    "    if place_name.lower()!=\"rhône\": \n",
    "        try:\n",
    "            tourism = ox.geometries_from_place(place_name+\", France\", tags)\n",
    "        except:\n",
    "            tourism = ox.geometries_from_place(place_name, tags)\n",
    "    else:\n",
    "        tourism = ox.geometries_from_place([place_name,\"métropole de Lyon\"], tags)\n",
    "    selected_columns=[\"name\", \"geometry\",\"tourism\",\"stars\"]\n",
    "    tourism=tourism[selected_columns]\n",
    "    pickle.dump(tourism,open(path+\"\\\\\"+region.lower()+\"\\\\\"+place_name.lower()+\"\\\\raw data\\\\tourism.pkl\",\"wb\"))"
   ]
  },
  {
   "cell_type": "markdown",
   "id": "c5e78100",
   "metadata": {},
   "source": [
    "# Loisir"
   ]
  },
  {
   "cell_type": "code",
   "execution_count": 313,
   "id": "25b821e5",
   "metadata": {
    "ExecuteTime": {
     "end_time": "2023-06-28T12:33:24.255618Z",
     "start_time": "2023-06-28T12:33:24.242652Z"
    }
   },
   "outputs": [],
   "source": [
    "def get_leisure(place_name,region):\n",
    "    tags = {\"leisure\":True }\n",
    "    if place_name.lower()!=\"rhône\": \n",
    "        try:\n",
    "            leisure = ox.geometries_from_place(place_name+\", France\", tags)\n",
    "        except:\n",
    "            leisure = ox.geometries_from_place(place_name, tags)\n",
    "    else:\n",
    "        leisure = ox.geometries_from_place([place_name,\"métropole de Lyon\"], tags)\n",
    "        \n",
    "        \n",
    "    selected_columns=[\"name\", \"geometry\",\"leisure\"]\n",
    "    leisure=leisure[selected_columns]\n",
    "    pickle.dump(leisure,open(path+\"\\\\\"+region.lower()+\"\\\\\"+place_name.lower()+\"\\\\raw data\\\\leisure.pkl\",\"wb\"))"
   ]
  },
  {
   "cell_type": "code",
   "execution_count": null,
   "id": "315f583a",
   "metadata": {},
   "outputs": [],
   "source": []
  },
  {
   "cell_type": "markdown",
   "id": "895ba182",
   "metadata": {
    "ExecuteTime": {
     "end_time": "2023-04-18T08:08:32.073327Z",
     "start_time": "2023-04-18T08:08:32.031027Z"
    }
   },
   "source": [
    "# For Loop"
   ]
  },
  {
   "cell_type": "code",
   "execution_count": 161,
   "id": "69316ae9",
   "metadata": {
    "ExecuteTime": {
     "end_time": "2023-06-20T08:31:27.412980Z",
     "start_time": "2023-06-20T08:31:26.604307Z"
    }
   },
   "outputs": [],
   "source": [
    "#creation des dossiers\n",
    "from pathlib import Path\n",
    "\n",
    "for i,row in list_departement.iterrows():\n",
    "\n",
    "        Path(r\"Y:\\RECHERCHE ET DEV\\10_Modèle d'attractivite des rues\\04_données clients (source)\\osm\\\\\"+row['Région'].lower()+\"\\\\\"+row[\"Département\"].lower()+\"\\\\raw data\").mkdir(parents=True, exist_ok=True)\n",
    "        Path(r\"Y:\\RECHERCHE ET DEV\\10_Modèle d'attractivite des rues\\04_données clients (source)\\osm\\\\\"+row['Région'].lower()+\"\\\\\"+row[\"Département\"].lower()+\"\\\\processed data\").mkdir(parents=True, exist_ok=True)\n",
    "        Path(r\"Y:\\RECHERCHE ET DEV\\10_Modèle d'attractivite des rues\\04_données clients (source)\\osm\\\\\"+row['Région'].lower()+\"\\\\\"+row[\"Département\"].lower()+\"\\\\association\").mkdir(parents=True, exist_ok=True)\n"
   ]
  },
  {
   "cell_type": "code",
   "execution_count": 315,
   "id": "5accf400",
   "metadata": {
    "ExecuteTime": {
     "end_time": "2023-06-28T12:40:20.333522Z",
     "start_time": "2023-06-28T12:33:57.870231Z"
    }
   },
   "outputs": [
    {
     "name": "stderr",
     "output_type": "stream",
     "text": [
      "C:\\Users\\Diametrix\\AppData\\Local\\Temp\\ipykernel_24408\\3480682846.py:14: ResourceWarning: unclosed file <_io.BufferedWriter name=\"Y:\\\\RECHERCHE ET DEV\\\\10_Modèle d'attractivite des rues\\\\04_données clients (source)\\\\osm\\\\auvergne-rhône-alpes\\\\rhône\\\\raw data\\\\buildings.pkl\">\n",
      "  pickle.dump(buildings,open(path+\"\\\\\"+region.lower()+\"\\\\\"+place_name.lower()+\"\\\\raw data\\\\buildings.pkl\",'wb'))\n",
      "ResourceWarning: Enable tracemalloc to get the object allocation traceback\n",
      "C:\\Users\\Diametrix\\AppData\\Local\\Temp\\ipykernel_24408\\3579390011.py:13: ResourceWarning: unclosed file <_io.BufferedWriter name=\"Y:\\\\RECHERCHE ET DEV\\\\10_Modèle d'attractivite des rues\\\\04_données clients (source)\\\\osm\\\\auvergne-rhône-alpes\\\\rhône\\\\raw data\\\\amenity.pkl\">\n",
      "  pickle.dump(amenity,open(path+\"\\\\\"+region.lower()+\"\\\\\"+place_name.lower()+\"\\\\raw data\\\\amenity.pkl\",\"wb\"))\n",
      "ResourceWarning: Enable tracemalloc to get the object allocation traceback\n",
      "C:\\Users\\Diametrix\\AppData\\Local\\Temp\\ipykernel_24408\\4119075942.py:12: ResourceWarning: unclosed file <_io.BufferedWriter name=\"Y:\\\\RECHERCHE ET DEV\\\\10_Modèle d'attractivite des rues\\\\04_données clients (source)\\\\osm\\\\auvergne-rhône-alpes\\\\rhône\\\\raw data\\\\natural.pkl\">\n",
      "  pickle.dump(natural,open(path+\"\\\\\"+region.lower()+\"\\\\\"+place_name.lower()+\"\\\\raw data\\\\natural.pkl\",\"wb\"))\n",
      "ResourceWarning: Enable tracemalloc to get the object allocation traceback\n",
      "C:\\Users\\Diametrix\\AppData\\Local\\Temp\\ipykernel_24408\\3740203859.py:11: ResourceWarning: unclosed file <_io.BufferedWriter name=\"Y:\\\\RECHERCHE ET DEV\\\\10_Modèle d'attractivite des rues\\\\04_données clients (source)\\\\osm\\\\auvergne-rhône-alpes\\\\rhône\\\\raw data\\\\landuse.pkl\">\n",
      "  pickle.dump(landuse,open(path+\"\\\\\"+region.lower()+\"\\\\\"+place_name.lower()+\"\\\\raw data\\\\landuse.pkl\",\"wb\"))\n",
      "ResourceWarning: Enable tracemalloc to get the object allocation traceback\n",
      "C:\\Users\\Diametrix\\AppData\\Local\\Temp\\ipykernel_24408\\19217706.py:13: ResourceWarning: unclosed file <_io.BufferedWriter name=\"Y:\\\\RECHERCHE ET DEV\\\\10_Modèle d'attractivite des rues\\\\04_données clients (source)\\\\osm\\\\auvergne-rhône-alpes\\\\rhône\\\\raw data\\\\shops.pkl\">\n",
      "  pickle.dump(shops,open(path+\"\\\\\"+region.lower()+\"\\\\\"+place_name.lower()+\"\\\\raw data\\\\shops.pkl\",\"wb\"))\n",
      "ResourceWarning: Enable tracemalloc to get the object allocation traceback\n",
      "C:\\Users\\Diametrix\\AppData\\Local\\Temp\\ipykernel_24408\\2048745538.py:12: ResourceWarning: unclosed file <_io.BufferedWriter name=\"Y:\\\\RECHERCHE ET DEV\\\\10_Modèle d'attractivite des rues\\\\04_données clients (source)\\\\osm\\\\auvergne-rhône-alpes\\\\rhône\\\\raw data\\\\tourism.pkl\">\n",
      "  pickle.dump(tourism,open(path+\"\\\\\"+region.lower()+\"\\\\\"+place_name.lower()+\"\\\\raw data\\\\tourism.pkl\",\"wb\"))\n",
      "ResourceWarning: Enable tracemalloc to get the object allocation traceback\n",
      "C:\\Users\\Diametrix\\AppData\\Local\\Temp\\ipykernel_24408\\4294375942.py:14: ResourceWarning: unclosed file <_io.BufferedWriter name=\"Y:\\\\RECHERCHE ET DEV\\\\10_Modèle d'attractivite des rues\\\\04_données clients (source)\\\\osm\\\\auvergne-rhône-alpes\\\\rhône\\\\raw data\\\\highways.pkl\">\n",
      "  pickle.dump(highways,open(path+\"\\\\\"+region.lower()+\"\\\\\"+place_name.lower()+\"\\\\raw data\\\\highways.pkl\",\"wb\"))\n",
      "ResourceWarning: Enable tracemalloc to get the object allocation traceback\n",
      "C:\\Users\\Diametrix\\AppData\\Local\\Temp\\ipykernel_24408\\2234947840.py:13: ResourceWarning: unclosed file <_io.BufferedWriter name=\"Y:\\\\RECHERCHE ET DEV\\\\10_Modèle d'attractivite des rues\\\\04_données clients (source)\\\\osm\\\\auvergne-rhône-alpes\\\\rhône\\\\raw data\\\\public_transports.pkl\">\n",
      "  pickle.dump(public_transports,open(path+\"\\\\\"+region.lower()+\"\\\\\"+place_name.lower()+\"\\\\raw data\\\\public_transports.pkl\",\"wb\"))\n",
      "ResourceWarning: Enable tracemalloc to get the object allocation traceback\n",
      "C:\\Users\\Diametrix\\AppData\\Local\\Temp\\ipykernel_24408\\2721105420.py:14: ResourceWarning: unclosed file <_io.BufferedWriter name=\"Y:\\\\RECHERCHE ET DEV\\\\10_Modèle d'attractivite des rues\\\\04_données clients (source)\\\\osm\\\\auvergne-rhône-alpes\\\\rhône\\\\raw data\\\\leisure.pkl\">\n",
      "  pickle.dump(leisure,open(path+\"\\\\\"+region.lower()+\"\\\\\"+place_name.lower()+\"\\\\raw data\\\\leisure.pkl\",\"wb\"))\n",
      "ResourceWarning: Enable tracemalloc to get the object allocation traceback\n"
     ]
    }
   ],
   "source": [
    "for i,row in list_departement.iterrows():\n",
    "    place_name=row['Département']\n",
    "  \n",
    "    if place_name.lower()==\"rhône\":\n",
    "        bat=get_buildings(place_name,row[\"Région\"])\n",
    "        get_amenity(place_name,row[\"Région\"])\n",
    "        get_natural(place_name,row[\"Région\"])\n",
    "        get_landuse(place_name,row[\"Région\"])\n",
    "        get_shops(place_name,row[\"Région\"])\n",
    "        get_tourism(place_name,row[\"Région\"])\n",
    "        get_highway(place_name,row[\"Région\"])\n",
    "        get_transport(place_name,row[\"Région\"])\n",
    "        get_leisure(place_name,row[\"Région\"])\n",
    "\n",
    "\n",
    "        "
   ]
  },
  {
   "cell_type": "code",
   "execution_count": 317,
   "id": "fbd804ae",
   "metadata": {
    "ExecuteTime": {
     "end_time": "2023-06-28T12:52:32.788638Z",
     "start_time": "2023-06-28T12:52:31.921949Z"
    }
   },
   "outputs": [],
   "source": [
    "import os\n",
    "index=[]\n",
    "for i,f in enumerate(list_departement.apply(lambda x:x[\"Région\"].lower()+\"\\\\\"+x['Département'].lower()+\"\\\\raw data\",axis=1).values):\n",
    "    if len(os.listdir(r\"Y:\\RECHERCHE ET DEV\\10_Modèle d'attractivite des rues\\04_données clients (source)\\osm\\\\\"+f)) !=9:\n",
    "        index.append(i)\n"
   ]
  },
  {
   "cell_type": "code",
   "execution_count": 318,
   "id": "fd1bcc11",
   "metadata": {
    "ExecuteTime": {
     "end_time": "2023-06-28T12:52:32.929289Z",
     "start_time": "2023-06-28T12:52:32.789634Z"
    }
   },
   "outputs": [
    {
     "data": {
      "text/html": [
       "<div>\n",
       "<style scoped>\n",
       "    .dataframe tbody tr th:only-of-type {\n",
       "        vertical-align: middle;\n",
       "    }\n",
       "\n",
       "    .dataframe tbody tr th {\n",
       "        vertical-align: top;\n",
       "    }\n",
       "\n",
       "    .dataframe thead th {\n",
       "        text-align: right;\n",
       "    }\n",
       "</style>\n",
       "<table border=\"1\" class=\"dataframe\">\n",
       "  <thead>\n",
       "    <tr style=\"text-align: right;\">\n",
       "      <th></th>\n",
       "      <th>N°</th>\n",
       "      <th>Département</th>\n",
       "      <th>Chef-lieu</th>\n",
       "      <th>Région</th>\n",
       "    </tr>\n",
       "  </thead>\n",
       "  <tbody>\n",
       "    <tr>\n",
       "      <th>65</th>\n",
       "      <td>65</td>\n",
       "      <td>Hautes-Pyrénées</td>\n",
       "      <td>Tarbes</td>\n",
       "      <td>Occitanie</td>\n",
       "    </tr>\n",
       "    <tr>\n",
       "      <th>66</th>\n",
       "      <td>66</td>\n",
       "      <td>Pyrénées-Orientales</td>\n",
       "      <td>Perpignan</td>\n",
       "      <td>Occitanie</td>\n",
       "    </tr>\n",
       "    <tr>\n",
       "      <th>67</th>\n",
       "      <td>67</td>\n",
       "      <td>Bas-Rhin</td>\n",
       "      <td>Strasbourg</td>\n",
       "      <td>Grand Est</td>\n",
       "    </tr>\n",
       "    <tr>\n",
       "      <th>68</th>\n",
       "      <td>68</td>\n",
       "      <td>Haut-Rhin</td>\n",
       "      <td>Colmar</td>\n",
       "      <td>Grand Est</td>\n",
       "    </tr>\n",
       "    <tr>\n",
       "      <th>74</th>\n",
       "      <td>74</td>\n",
       "      <td>Haute-Savoie</td>\n",
       "      <td>Annecy</td>\n",
       "      <td>Auvergne-Rhône-Alpes</td>\n",
       "    </tr>\n",
       "    <tr>\n",
       "      <th>90</th>\n",
       "      <td>90</td>\n",
       "      <td>Territoire-de-Belfort</td>\n",
       "      <td>Belfort</td>\n",
       "      <td>Bourgogne-Franche-Comté</td>\n",
       "    </tr>\n",
       "  </tbody>\n",
       "</table>\n",
       "</div>"
      ],
      "text/plain": [
       "    N°            Département   Chef-lieu                   Région\n",
       "65  65        Hautes-Pyrénées      Tarbes                Occitanie\n",
       "66  66    Pyrénées-Orientales   Perpignan                Occitanie\n",
       "67  67               Bas-Rhin  Strasbourg                Grand Est\n",
       "68  68              Haut-Rhin      Colmar                Grand Est\n",
       "74  74           Haute-Savoie      Annecy     Auvergne-Rhône-Alpes\n",
       "90  90  Territoire-de-Belfort     Belfort  Bourgogne-Franche-Comté"
      ]
     },
     "execution_count": 318,
     "metadata": {},
     "output_type": "execute_result"
    }
   ],
   "source": [
    "err_dep=list_departement.iloc[index]\n",
    "err_dep"
   ]
  },
  {
   "cell_type": "markdown",
   "id": "c13f3de1",
   "metadata": {},
   "source": [
    "# Traitement des données"
   ]
  },
  {
   "cell_type": "code",
   "execution_count": 31,
   "id": "1cf5842b",
   "metadata": {
    "ExecuteTime": {
     "end_time": "2023-06-26T07:08:11.167257Z",
     "start_time": "2023-06-26T07:08:11.147281Z"
    }
   },
   "outputs": [],
   "source": [
    "import pickle \n",
    "import pandas as pd\n",
    "import numpy as np"
   ]
  },
  {
   "cell_type": "code",
   "execution_count": 320,
   "id": "9f3ddd4d",
   "metadata": {
    "ExecuteTime": {
     "end_time": "2023-06-28T13:00:51.395213Z",
     "start_time": "2023-06-28T13:00:07.291285Z"
    }
   },
   "outputs": [
    {
     "name": "stderr",
     "output_type": "stream",
     "text": [
      "C:\\Users\\Diametrix\\AppData\\Local\\Temp\\ipykernel_24408\\513618213.py:11: ResourceWarning: unclosed file <_io.BufferedReader name=\"Y:\\\\RECHERCHE ET DEV\\\\10_Modèle d'attractivite des rues\\\\04_données clients (source)\\\\osm\\\\\\\\auvergne-rhône-alpes\\\\\\\\rhône\\\\\\\\raw data\\\\buildings.pkl\">\n",
      "  data=pickle.load(open(path+r\"\\\\raw data\\buildings.pkl\",\"rb\")).to_crs(\"3857\")\n",
      "ResourceWarning: Enable tracemalloc to get the object allocation traceback\n",
      "C:\\Users\\Diametrix\\AppData\\Local\\Temp\\ipykernel_24408\\513618213.py:14: ResourceWarning: unclosed file <_io.BufferedWriter name=\"Y:\\\\RECHERCHE ET DEV\\\\10_Modèle d'attractivite des rues\\\\04_données clients (source)\\\\osm\\\\\\\\auvergne-rhône-alpes\\\\\\\\rhône\\\\\\\\processed data\\\\buildings.pkl\">\n",
      "  pickle.dump(data,open(path+r\"\\\\processed data\\buildings.pkl\",\"wb\"))\n",
      "ResourceWarning: Enable tracemalloc to get the object allocation traceback\n",
      "C:\\Users\\Diametrix\\AppData\\Local\\Temp\\ipykernel_24408\\513618213.py:29: ResourceWarning: unclosed file <_io.BufferedReader name=\"Y:\\\\RECHERCHE ET DEV\\\\10_Modèle d'attractivite des rues\\\\04_données clients (source)\\\\osm\\\\\\\\auvergne-rhône-alpes\\\\\\\\rhône\\\\\\\\raw data\\\\highways.pkl\">\n",
      "  highways=pickle.load(open(path+r\"\\\\raw data\\highways.pkl\",\"rb\")).to_crs(\"3857\")\n",
      "ResourceWarning: Enable tracemalloc to get the object allocation traceback\n",
      "C:\\Users\\Diametrix\\AppData\\Local\\Temp\\ipykernel_24408\\513618213.py:36: ResourceWarning: unclosed file <_io.BufferedWriter name=\"Y:\\\\RECHERCHE ET DEV\\\\10_Modèle d'attractivite des rues\\\\04_données clients (source)\\\\osm\\\\\\\\auvergne-rhône-alpes\\\\\\\\rhône\\\\\\\\processed data\\\\highways.pkl\">\n",
      "  pickle.dump(highways,open(path+r\"\\\\processed data\\highways.pkl\",\"wb\"))\n",
      "ResourceWarning: Enable tracemalloc to get the object allocation traceback\n",
      "C:\\Users\\Diametrix\\AppData\\Local\\Temp\\ipykernel_24408\\513618213.py:46: ResourceWarning: unclosed file <_io.BufferedReader name=\"Y:\\\\RECHERCHE ET DEV\\\\10_Modèle d'attractivite des rues\\\\04_données clients (source)\\\\osm\\\\\\\\auvergne-rhône-alpes\\\\\\\\rhône\\\\\\\\raw data\\\\tourism.pkl\">\n",
      "  tourism=pickle.load(open(path+r\"\\\\raw data\\tourism.pkl\",\"rb\")).to_crs(\"3857\")\n",
      "ResourceWarning: Enable tracemalloc to get the object allocation traceback\n",
      "C:\\Users\\Diametrix\\AppData\\Local\\Temp\\ipykernel_24408\\513618213.py:49: ResourceWarning: unclosed file <_io.BufferedWriter name=\"Y:\\\\RECHERCHE ET DEV\\\\10_Modèle d'attractivite des rues\\\\04_données clients (source)\\\\osm\\\\\\\\auvergne-rhône-alpes\\\\\\\\rhône\\\\\\\\processed data\\\\tourism.pkl\">\n",
      "  pickle.dump(tourism,open(path+r\"\\\\processed data\\tourism.pkl\",\"wb\"))\n",
      "ResourceWarning: Enable tracemalloc to get the object allocation traceback\n",
      "C:\\Users\\Diametrix\\AppData\\Local\\Temp\\ipykernel_24408\\513618213.py:59: ResourceWarning: unclosed file <_io.BufferedReader name=\"Y:\\\\RECHERCHE ET DEV\\\\10_Modèle d'attractivite des rues\\\\04_données clients (source)\\\\osm\\\\\\\\auvergne-rhône-alpes\\\\\\\\rhône\\\\\\\\raw data\\\\amenity.pkl\">\n",
      "  amenity=pickle.load(open(path+r\"\\\\raw data\\amenity.pkl\",\"rb\")).to_crs(\"3857\")\n",
      "ResourceWarning: Enable tracemalloc to get the object allocation traceback\n",
      "C:\\Users\\Diametrix\\AppData\\Local\\Temp\\ipykernel_24408\\513618213.py:61: ResourceWarning: unclosed file <_io.BufferedReader name=\"Y:\\\\RECHERCHE ET DEV\\\\10_Modèle d'attractivite des rues\\\\04_données clients (source)\\\\osm\\\\\\\\auvergne-rhône-alpes\\\\\\\\rhône\\\\\\\\raw data\\\\leisure.pkl\">\n",
      "  leisure=pickle.load(open(path+r\"\\\\raw data\\leisure.pkl\",\"rb\")).to_crs(\"3857\")\n",
      "ResourceWarning: Enable tracemalloc to get the object allocation traceback\n",
      "C:\\Users\\Diametrix\\AppData\\Local\\Temp\\ipykernel_24408\\513618213.py:65: ResourceWarning: unclosed file <_io.BufferedWriter name=\"Y:\\\\RECHERCHE ET DEV\\\\10_Modèle d'attractivite des rues\\\\04_données clients (source)\\\\osm\\\\\\\\auvergne-rhône-alpes\\\\\\\\rhône\\\\\\\\processed data\\\\amenity.pkl\">\n",
      "  pickle.dump(amenity,open(path+r\"\\\\processed data\\amenity.pkl\",\"wb\"))\n",
      "ResourceWarning: Enable tracemalloc to get the object allocation traceback\n"
     ]
    }
   ],
   "source": [
    "#logs and stats\n",
    "logs={}\n",
    "\n",
    "important_columns=[\"unclassified\", \"residential\",\"service\",\"path\",\"unclassified\", \"pedestrian\",\"primary\" ,\"secondary\" ,\"tertiary\",\"living_street\" ,\"trunk\" ,\"motorway\" ]\n",
    "for i ,row in list_departement.iterrows():\n",
    "    try:\n",
    "        place_name=row[\"Département\"].lower()\n",
    "        path=r\"Y:\\RECHERCHE ET DEV\\10_Modèle d'attractivite des rues\\04_données clients (source)\\osm\\\\\"+row['Région'].lower()+r\"\\\\\"+row[\"Département\"].lower()\n",
    "        if place_name==\"rhône\":\n",
    "            #Batiments\n",
    "            data=pickle.load(open(path+r\"\\\\raw data\\buildings.pkl\",\"rb\")).to_crs(\"3857\")\n",
    "            n=len(data)\n",
    "            data=data[data.area>=30]\n",
    "            pickle.dump(data,open(path+r\"\\\\processed data\\buildings.pkl\",\"wb\"))\n",
    "            #logs\n",
    "            logs[place_name]={\"batiment\":{\n",
    "\n",
    "                \"types\":data['building'].value_counts(),\n",
    "                \"building:levels\":data['building:levels'].isna().sum(),\n",
    "                \"size_raw\":n,\n",
    "                \"size\":len(data),\n",
    "                \"type_yes\":len(data[data['building']==\"yes\"])}\n",
    "            }\n",
    "\n",
    "\n",
    "\n",
    "\n",
    "            #Rues\n",
    "            highways=pickle.load(open(path+r\"\\\\raw data\\highways.pkl\",\"rb\")).to_crs(\"3857\")\n",
    "            n=len(highways)\n",
    "            highways=highways[highways['highway'].isin(important_columns)]\n",
    "            highways=highways[~highways['name'].isna()]\n",
    "            highways=highways[highways['geometry'].apply (lambda x:isinstance(x,(LineString,MultiLineString)))]\n",
    "            highways=highways[ (highways['highway']!=\"service\")]\n",
    "            highways=highways[highways.length>=50]\n",
    "            pickle.dump(highways,open(path+r\"\\\\processed data\\highways.pkl\",\"wb\"))\n",
    "            #logs\n",
    "            logs[place_name].update({\"highways\":{\n",
    "\n",
    "                \"types\":highways['highway'].value_counts(),\n",
    "                \"size_raw\":n,\n",
    "                \"size\":len(highways),\n",
    "            }})\n",
    "\n",
    "            #Tourisme\n",
    "            tourism=pickle.load(open(path+r\"\\\\raw data\\tourism.pkl\",\"rb\")).to_crs(\"3857\")\n",
    "            n=len(tourism)\n",
    "            tourism=tourism[tourism['tourism']!=\"information\"]\n",
    "            pickle.dump(tourism,open(path+r\"\\\\processed data\\tourism.pkl\",\"wb\"))\n",
    "            #logs\n",
    "            logs[place_name].update({\"tourism\":{\n",
    "\n",
    "                \"types\":tourism['tourism'].value_counts(),\n",
    "                \"size_raw\":n,\n",
    "                \"size\":len(tourism),\n",
    "            }})\n",
    "\n",
    "            #Amenity\n",
    "            amenity=pickle.load(open(path+r\"\\\\raw data\\amenity.pkl\",\"rb\")).to_crs(\"3857\")\n",
    "            n=len(amenity)\n",
    "            leisure=pickle.load(open(path+r\"\\\\raw data\\leisure.pkl\",\"rb\")).to_crs(\"3857\")\n",
    "\n",
    "            amenity=amenity.drop(np.intersect1d(np.array(tourism.index),np.array(amenity.index)))\n",
    "            amenity=amenity.drop(np.intersect1d(np.array(leisure.index),np.array(amenity.index)))\n",
    "            pickle.dump(amenity,open(path+r\"\\\\processed data\\amenity.pkl\",\"wb\"))\n",
    "            #logs\n",
    "            logs[place_name].update({\"amenity\":{\n",
    "\n",
    "                \"types\":amenity['amenity'].value_counts(),\n",
    "                \"size_raw\":n,\n",
    "                \"size\":len(amenity),\n",
    "            }})\n",
    "            logs[place_name].update({\"leisure\":{\n",
    "\n",
    "                \"types\":leisure['leisure'].value_counts(),\n",
    "                \"size\":len(amenity),\n",
    "            }})\n",
    "\n",
    "\n",
    "    except:\n",
    "        print(place_name)\n",
    "\n"
   ]
  },
  {
   "cell_type": "code",
   "execution_count": 33,
   "id": "4b5689e8",
   "metadata": {
    "ExecuteTime": {
     "end_time": "2023-06-26T07:24:32.091976Z",
     "start_time": "2023-06-26T07:24:31.975824Z"
    }
   },
   "outputs": [],
   "source": [
    "pickle.dump(logs,open(r\"Y:\\RECHERCHE ET DEV\\10_Modèle d'attractivite des rues\\04_données clients (source)\\\\logs.pkl\",\"wb\"))"
   ]
  },
  {
   "cell_type": "code",
   "execution_count": 324,
   "id": "1f8c7f49",
   "metadata": {
    "ExecuteTime": {
     "end_time": "2023-06-28T13:27:15.041909Z",
     "start_time": "2023-06-28T13:14:15.566120Z"
    }
   },
   "outputs": [
    {
     "ename": "KeyboardInterrupt",
     "evalue": "",
     "output_type": "error",
     "traceback": [
      "\u001b[1;31m---------------------------------------------------------------------------\u001b[0m",
      "\u001b[1;31mKeyboardInterrupt\u001b[0m                         Traceback (most recent call last)",
      "Input \u001b[1;32mIn [324]\u001b[0m, in \u001b[0;36m<cell line: 1>\u001b[1;34m()\u001b[0m\n\u001b[1;32m----> 1\u001b[0m ox\u001b[38;5;241m.\u001b[39mgeometries_from_place([\u001b[38;5;124m\"\u001b[39m\u001b[38;5;124mmétropole de Lyon\u001b[39m\u001b[38;5;124m\"\u001b[39m], {\u001b[38;5;124m\"\u001b[39m\u001b[38;5;124mbuilding\u001b[39m\u001b[38;5;124m\"\u001b[39m:\u001b[38;5;28;01mTrue\u001b[39;00m})\u001b[38;5;241m.\u001b[39mexplore()\n",
      "File \u001b[1;32m~\\anaconda3\\lib\\site-packages\\IPython\\core\\displayhook.py:262\u001b[0m, in \u001b[0;36mDisplayHook.__call__\u001b[1;34m(self, result)\u001b[0m\n\u001b[0;32m    260\u001b[0m \u001b[38;5;28mself\u001b[39m\u001b[38;5;241m.\u001b[39mstart_displayhook()\n\u001b[0;32m    261\u001b[0m \u001b[38;5;28mself\u001b[39m\u001b[38;5;241m.\u001b[39mwrite_output_prompt()\n\u001b[1;32m--> 262\u001b[0m format_dict, md_dict \u001b[38;5;241m=\u001b[39m \u001b[38;5;28;43mself\u001b[39;49m\u001b[38;5;241;43m.\u001b[39;49m\u001b[43mcompute_format_data\u001b[49m\u001b[43m(\u001b[49m\u001b[43mresult\u001b[49m\u001b[43m)\u001b[49m\n\u001b[0;32m    263\u001b[0m \u001b[38;5;28mself\u001b[39m\u001b[38;5;241m.\u001b[39mupdate_user_ns(result)\n\u001b[0;32m    264\u001b[0m \u001b[38;5;28mself\u001b[39m\u001b[38;5;241m.\u001b[39mfill_exec_result(result)\n",
      "File \u001b[1;32m~\\anaconda3\\lib\\site-packages\\IPython\\core\\displayhook.py:151\u001b[0m, in \u001b[0;36mDisplayHook.compute_format_data\u001b[1;34m(self, result)\u001b[0m\n\u001b[0;32m    121\u001b[0m \u001b[38;5;28;01mdef\u001b[39;00m \u001b[38;5;21mcompute_format_data\u001b[39m(\u001b[38;5;28mself\u001b[39m, result):\n\u001b[0;32m    122\u001b[0m     \u001b[38;5;124;03m\"\"\"Compute format data of the object to be displayed.\u001b[39;00m\n\u001b[0;32m    123\u001b[0m \n\u001b[0;32m    124\u001b[0m \u001b[38;5;124;03m    The format data is a generalization of the :func:`repr` of an object.\u001b[39;00m\n\u001b[1;32m   (...)\u001b[0m\n\u001b[0;32m    149\u001b[0m \n\u001b[0;32m    150\u001b[0m \u001b[38;5;124;03m    \"\"\"\u001b[39;00m\n\u001b[1;32m--> 151\u001b[0m     \u001b[38;5;28;01mreturn\u001b[39;00m \u001b[38;5;28;43mself\u001b[39;49m\u001b[38;5;241;43m.\u001b[39;49m\u001b[43mshell\u001b[49m\u001b[38;5;241;43m.\u001b[39;49m\u001b[43mdisplay_formatter\u001b[49m\u001b[38;5;241;43m.\u001b[39;49m\u001b[43mformat\u001b[49m\u001b[43m(\u001b[49m\u001b[43mresult\u001b[49m\u001b[43m)\u001b[49m\n",
      "File \u001b[1;32m~\\anaconda3\\lib\\site-packages\\IPython\\core\\formatters.py:178\u001b[0m, in \u001b[0;36mDisplayFormatter.format\u001b[1;34m(self, obj, include, exclude)\u001b[0m\n\u001b[0;32m    176\u001b[0m md \u001b[38;5;241m=\u001b[39m \u001b[38;5;28;01mNone\u001b[39;00m\n\u001b[0;32m    177\u001b[0m \u001b[38;5;28;01mtry\u001b[39;00m:\n\u001b[1;32m--> 178\u001b[0m     data \u001b[38;5;241m=\u001b[39m \u001b[43mformatter\u001b[49m\u001b[43m(\u001b[49m\u001b[43mobj\u001b[49m\u001b[43m)\u001b[49m\n\u001b[0;32m    179\u001b[0m \u001b[38;5;28;01mexcept\u001b[39;00m:\n\u001b[0;32m    180\u001b[0m     \u001b[38;5;66;03m# FIXME: log the exception\u001b[39;00m\n\u001b[0;32m    181\u001b[0m     \u001b[38;5;28;01mraise\u001b[39;00m\n",
      "File \u001b[1;32m~\\anaconda3\\lib\\site-packages\\decorator.py:232\u001b[0m, in \u001b[0;36mdecorate.<locals>.fun\u001b[1;34m(*args, **kw)\u001b[0m\n\u001b[0;32m    230\u001b[0m \u001b[38;5;28;01mif\u001b[39;00m \u001b[38;5;129;01mnot\u001b[39;00m kwsyntax:\n\u001b[0;32m    231\u001b[0m     args, kw \u001b[38;5;241m=\u001b[39m fix(args, kw, sig)\n\u001b[1;32m--> 232\u001b[0m \u001b[38;5;28;01mreturn\u001b[39;00m caller(func, \u001b[38;5;241m*\u001b[39m(extras \u001b[38;5;241m+\u001b[39m args), \u001b[38;5;241m*\u001b[39m\u001b[38;5;241m*\u001b[39mkw)\n",
      "File \u001b[1;32m~\\anaconda3\\lib\\site-packages\\IPython\\core\\formatters.py:222\u001b[0m, in \u001b[0;36mcatch_format_error\u001b[1;34m(method, self, *args, **kwargs)\u001b[0m\n\u001b[0;32m    220\u001b[0m \u001b[38;5;124;03m\"\"\"show traceback on failed format call\"\"\"\u001b[39;00m\n\u001b[0;32m    221\u001b[0m \u001b[38;5;28;01mtry\u001b[39;00m:\n\u001b[1;32m--> 222\u001b[0m     r \u001b[38;5;241m=\u001b[39m method(\u001b[38;5;28mself\u001b[39m, \u001b[38;5;241m*\u001b[39margs, \u001b[38;5;241m*\u001b[39m\u001b[38;5;241m*\u001b[39mkwargs)\n\u001b[0;32m    223\u001b[0m \u001b[38;5;28;01mexcept\u001b[39;00m \u001b[38;5;167;01mNotImplementedError\u001b[39;00m:\n\u001b[0;32m    224\u001b[0m     \u001b[38;5;66;03m# don't warn on NotImplementedErrors\u001b[39;00m\n\u001b[0;32m    225\u001b[0m     \u001b[38;5;28;01mreturn\u001b[39;00m \u001b[38;5;28mself\u001b[39m\u001b[38;5;241m.\u001b[39m_check_return(\u001b[38;5;28;01mNone\u001b[39;00m, args[\u001b[38;5;241m0\u001b[39m])\n",
      "File \u001b[1;32m~\\anaconda3\\lib\\site-packages\\IPython\\core\\formatters.py:343\u001b[0m, in \u001b[0;36mBaseFormatter.__call__\u001b[1;34m(self, obj)\u001b[0m\n\u001b[0;32m    341\u001b[0m     method \u001b[38;5;241m=\u001b[39m get_real_method(obj, \u001b[38;5;28mself\u001b[39m\u001b[38;5;241m.\u001b[39mprint_method)\n\u001b[0;32m    342\u001b[0m     \u001b[38;5;28;01mif\u001b[39;00m method \u001b[38;5;129;01mis\u001b[39;00m \u001b[38;5;129;01mnot\u001b[39;00m \u001b[38;5;28;01mNone\u001b[39;00m:\n\u001b[1;32m--> 343\u001b[0m         \u001b[38;5;28;01mreturn\u001b[39;00m \u001b[43mmethod\u001b[49m\u001b[43m(\u001b[49m\u001b[43m)\u001b[49m\n\u001b[0;32m    344\u001b[0m     \u001b[38;5;28;01mreturn\u001b[39;00m \u001b[38;5;28;01mNone\u001b[39;00m\n\u001b[0;32m    345\u001b[0m \u001b[38;5;28;01melse\u001b[39;00m:\n",
      "File \u001b[1;32m~\\anaconda3\\lib\\site-packages\\folium\\folium.py:319\u001b[0m, in \u001b[0;36mMap._repr_html_\u001b[1;34m(self, **kwargs)\u001b[0m\n\u001b[0;32m    317\u001b[0m     \u001b[38;5;28mself\u001b[39m\u001b[38;5;241m.\u001b[39m_parent \u001b[38;5;241m=\u001b[39m \u001b[38;5;28;01mNone\u001b[39;00m\n\u001b[0;32m    318\u001b[0m \u001b[38;5;28;01melse\u001b[39;00m:\n\u001b[1;32m--> 319\u001b[0m     out \u001b[38;5;241m=\u001b[39m \u001b[38;5;28mself\u001b[39m\u001b[38;5;241m.\u001b[39m_parent\u001b[38;5;241m.\u001b[39m_repr_html_(\u001b[38;5;241m*\u001b[39m\u001b[38;5;241m*\u001b[39mkwargs)\n\u001b[0;32m    320\u001b[0m \u001b[38;5;28;01mreturn\u001b[39;00m out\n",
      "File \u001b[1;32m~\\anaconda3\\lib\\site-packages\\branca\\element.py:343\u001b[0m, in \u001b[0;36mFigure._repr_html_\u001b[1;34m(self, **kwargs)\u001b[0m\n\u001b[0;32m    341\u001b[0m \u001b[38;5;28;01mdef\u001b[39;00m \u001b[38;5;21m_repr_html_\u001b[39m(\u001b[38;5;28mself\u001b[39m, \u001b[38;5;241m*\u001b[39m\u001b[38;5;241m*\u001b[39mkwargs):\n\u001b[0;32m    342\u001b[0m     \u001b[38;5;124;03m\"\"\"Displays the Figure in a Jupyter notebook.\"\"\"\u001b[39;00m\n\u001b[1;32m--> 343\u001b[0m     html \u001b[38;5;241m=\u001b[39m escape(\u001b[38;5;28mself\u001b[39m\u001b[38;5;241m.\u001b[39mrender(\u001b[38;5;241m*\u001b[39m\u001b[38;5;241m*\u001b[39mkwargs))\n\u001b[0;32m    344\u001b[0m     \u001b[38;5;28;01mif\u001b[39;00m \u001b[38;5;28mself\u001b[39m\u001b[38;5;241m.\u001b[39mheight \u001b[38;5;129;01mis\u001b[39;00m \u001b[38;5;28;01mNone\u001b[39;00m:\n\u001b[0;32m    345\u001b[0m         iframe \u001b[38;5;241m=\u001b[39m (\n\u001b[0;32m    346\u001b[0m             \u001b[38;5;124m'\u001b[39m\u001b[38;5;124m<div style=\u001b[39m\u001b[38;5;124m\"\u001b[39m\u001b[38;5;124mwidth:\u001b[39m\u001b[38;5;132;01m{width}\u001b[39;00m\u001b[38;5;124m;\u001b[39m\u001b[38;5;124m\"\u001b[39m\u001b[38;5;124m>\u001b[39m\u001b[38;5;124m'\u001b[39m\n\u001b[0;32m    347\u001b[0m             \u001b[38;5;124m'\u001b[39m\u001b[38;5;124m<div style=\u001b[39m\u001b[38;5;124m\"\u001b[39m\u001b[38;5;124mposition:relative;width:100\u001b[39m\u001b[38;5;124m%\u001b[39m\u001b[38;5;124m;height:0;padding-bottom:\u001b[39m\u001b[38;5;132;01m{ratio}\u001b[39;00m\u001b[38;5;124m;\u001b[39m\u001b[38;5;124m\"\u001b[39m\u001b[38;5;124m>\u001b[39m\u001b[38;5;124m'\u001b[39m  \u001b[38;5;66;03m# noqa\u001b[39;00m\n\u001b[1;32m   (...)\u001b[0m\n\u001b[0;32m    353\u001b[0m             \u001b[38;5;124m'\u001b[39m\u001b[38;5;124m</div></div>\u001b[39m\u001b[38;5;124m'\u001b[39m\n\u001b[0;32m    354\u001b[0m         )\u001b[38;5;241m.\u001b[39mformat(html\u001b[38;5;241m=\u001b[39mhtml, width\u001b[38;5;241m=\u001b[39m\u001b[38;5;28mself\u001b[39m\u001b[38;5;241m.\u001b[39mwidth, ratio\u001b[38;5;241m=\u001b[39m\u001b[38;5;28mself\u001b[39m\u001b[38;5;241m.\u001b[39mratio)\n",
      "File \u001b[1;32m~\\anaconda3\\lib\\site-packages\\branca\\element.py:338\u001b[0m, in \u001b[0;36mFigure.render\u001b[1;34m(self, **kwargs)\u001b[0m\n\u001b[0;32m    336\u001b[0m \u001b[38;5;124;03m\"\"\"Renders the HTML representation of the element.\"\"\"\u001b[39;00m\n\u001b[0;32m    337\u001b[0m \u001b[38;5;28;01mfor\u001b[39;00m name, child \u001b[38;5;129;01min\u001b[39;00m \u001b[38;5;28mself\u001b[39m\u001b[38;5;241m.\u001b[39m_children\u001b[38;5;241m.\u001b[39mitems():\n\u001b[1;32m--> 338\u001b[0m     child\u001b[38;5;241m.\u001b[39mrender(\u001b[38;5;241m*\u001b[39m\u001b[38;5;241m*\u001b[39mkwargs)\n\u001b[0;32m    339\u001b[0m \u001b[38;5;28;01mreturn\u001b[39;00m \u001b[38;5;28mself\u001b[39m\u001b[38;5;241m.\u001b[39m_template\u001b[38;5;241m.\u001b[39mrender(this\u001b[38;5;241m=\u001b[39m\u001b[38;5;28mself\u001b[39m, kwargs\u001b[38;5;241m=\u001b[39mkwargs)\n",
      "File \u001b[1;32m~\\anaconda3\\lib\\site-packages\\folium\\folium.py:401\u001b[0m, in \u001b[0;36mMap.render\u001b[1;34m(self, **kwargs)\u001b[0m\n\u001b[0;32m    374\u001b[0m figure\u001b[38;5;241m.\u001b[39mheader\u001b[38;5;241m.\u001b[39madd_child(\n\u001b[0;32m    375\u001b[0m     Element(\n\u001b[0;32m    376\u001b[0m         \u001b[38;5;124m\"\u001b[39m\u001b[38;5;124m<style>html, body \u001b[39m\u001b[38;5;124m{\u001b[39m\u001b[38;5;124m\"\u001b[39m\n\u001b[1;32m   (...)\u001b[0m\n\u001b[0;32m    384\u001b[0m     name\u001b[38;5;241m=\u001b[39m\u001b[38;5;124m\"\u001b[39m\u001b[38;5;124mcss_style\u001b[39m\u001b[38;5;124m\"\u001b[39m,\n\u001b[0;32m    385\u001b[0m )\n\u001b[0;32m    387\u001b[0m figure\u001b[38;5;241m.\u001b[39mheader\u001b[38;5;241m.\u001b[39madd_child(\n\u001b[0;32m    388\u001b[0m     Element(\n\u001b[0;32m    389\u001b[0m         \u001b[38;5;124m\"\u001b[39m\u001b[38;5;124m<style>#map \u001b[39m\u001b[38;5;124m{\u001b[39m\u001b[38;5;124m\"\u001b[39m\n\u001b[1;32m   (...)\u001b[0m\n\u001b[0;32m    398\u001b[0m     name\u001b[38;5;241m=\u001b[39m\u001b[38;5;124m\"\u001b[39m\u001b[38;5;124mmap_style\u001b[39m\u001b[38;5;124m\"\u001b[39m,\n\u001b[0;32m    399\u001b[0m )\n\u001b[1;32m--> 401\u001b[0m \u001b[38;5;28msuper\u001b[39m()\u001b[38;5;241m.\u001b[39mrender(\u001b[38;5;241m*\u001b[39m\u001b[38;5;241m*\u001b[39mkwargs)\n",
      "File \u001b[1;32m~\\anaconda3\\lib\\site-packages\\folium\\elements.py:22\u001b[0m, in \u001b[0;36mJSCSSMixin.render\u001b[1;34m(self, **kwargs)\u001b[0m\n\u001b[0;32m     19\u001b[0m \u001b[38;5;28;01mfor\u001b[39;00m name, url \u001b[38;5;129;01min\u001b[39;00m \u001b[38;5;28mself\u001b[39m\u001b[38;5;241m.\u001b[39mdefault_css:\n\u001b[0;32m     20\u001b[0m     figure\u001b[38;5;241m.\u001b[39mheader\u001b[38;5;241m.\u001b[39madd_child(CssLink(url), name\u001b[38;5;241m=\u001b[39mname)\n\u001b[1;32m---> 22\u001b[0m \u001b[38;5;28msuper\u001b[39m()\u001b[38;5;241m.\u001b[39mrender(\u001b[38;5;241m*\u001b[39m\u001b[38;5;241m*\u001b[39mkwargs)\n",
      "File \u001b[1;32m~\\anaconda3\\lib\\site-packages\\branca\\element.py:645\u001b[0m, in \u001b[0;36mMacroElement.render\u001b[1;34m(self, **kwargs)\u001b[0m\n\u001b[0;32m    641\u001b[0m     figure\u001b[38;5;241m.\u001b[39mscript\u001b[38;5;241m.\u001b[39madd_child(Element(script(\u001b[38;5;28mself\u001b[39m, kwargs)),\n\u001b[0;32m    642\u001b[0m                             name\u001b[38;5;241m=\u001b[39m\u001b[38;5;28mself\u001b[39m\u001b[38;5;241m.\u001b[39mget_name())\n\u001b[0;32m    644\u001b[0m \u001b[38;5;28;01mfor\u001b[39;00m name, element \u001b[38;5;129;01min\u001b[39;00m \u001b[38;5;28mself\u001b[39m\u001b[38;5;241m.\u001b[39m_children\u001b[38;5;241m.\u001b[39mitems():\n\u001b[1;32m--> 645\u001b[0m     element\u001b[38;5;241m.\u001b[39mrender(\u001b[38;5;241m*\u001b[39m\u001b[38;5;241m*\u001b[39mkwargs)\n",
      "File \u001b[1;32m~\\anaconda3\\lib\\site-packages\\folium\\features.py:782\u001b[0m, in \u001b[0;36mGeoJson.render\u001b[1;34m(self, **kwargs)\u001b[0m\n\u001b[0;32m    780\u001b[0m     \u001b[38;5;28;01mif\u001b[39;00m \u001b[38;5;28mself\u001b[39m\u001b[38;5;241m.\u001b[39mhighlight:\n\u001b[0;32m    781\u001b[0m         \u001b[38;5;28mself\u001b[39m\u001b[38;5;241m.\u001b[39mhighlight_map \u001b[38;5;241m=\u001b[39m mapper\u001b[38;5;241m.\u001b[39mget_highlight_map(\u001b[38;5;28mself\u001b[39m\u001b[38;5;241m.\u001b[39mhighlight_function)\n\u001b[1;32m--> 782\u001b[0m \u001b[38;5;28;43msuper\u001b[39;49m\u001b[43m(\u001b[49m\u001b[43m)\u001b[49m\u001b[38;5;241;43m.\u001b[39;49m\u001b[43mrender\u001b[49m\u001b[43m(\u001b[49m\u001b[43m)\u001b[49m\n",
      "File \u001b[1;32m~\\anaconda3\\lib\\site-packages\\branca\\element.py:641\u001b[0m, in \u001b[0;36mMacroElement.render\u001b[1;34m(self, **kwargs)\u001b[0m\n\u001b[0;32m    639\u001b[0m script \u001b[38;5;241m=\u001b[39m \u001b[38;5;28mself\u001b[39m\u001b[38;5;241m.\u001b[39m_template\u001b[38;5;241m.\u001b[39mmodule\u001b[38;5;241m.\u001b[39m\u001b[38;5;18m__dict__\u001b[39m\u001b[38;5;241m.\u001b[39mget(\u001b[38;5;124m'\u001b[39m\u001b[38;5;124mscript\u001b[39m\u001b[38;5;124m'\u001b[39m, \u001b[38;5;28;01mNone\u001b[39;00m)\n\u001b[0;32m    640\u001b[0m \u001b[38;5;28;01mif\u001b[39;00m script \u001b[38;5;129;01mis\u001b[39;00m \u001b[38;5;129;01mnot\u001b[39;00m \u001b[38;5;28;01mNone\u001b[39;00m:\n\u001b[1;32m--> 641\u001b[0m     figure\u001b[38;5;241m.\u001b[39mscript\u001b[38;5;241m.\u001b[39madd_child(\u001b[43mElement\u001b[49m\u001b[43m(\u001b[49m\u001b[43mscript\u001b[49m\u001b[43m(\u001b[49m\u001b[38;5;28;43mself\u001b[39;49m\u001b[43m,\u001b[49m\u001b[43m \u001b[49m\u001b[43mkwargs\u001b[49m\u001b[43m)\u001b[49m\u001b[43m)\u001b[49m,\n\u001b[0;32m    642\u001b[0m                             name\u001b[38;5;241m=\u001b[39m\u001b[38;5;28mself\u001b[39m\u001b[38;5;241m.\u001b[39mget_name())\n\u001b[0;32m    644\u001b[0m \u001b[38;5;28;01mfor\u001b[39;00m name, element \u001b[38;5;129;01min\u001b[39;00m \u001b[38;5;28mself\u001b[39m\u001b[38;5;241m.\u001b[39m_children\u001b[38;5;241m.\u001b[39mitems():\n\u001b[0;32m    645\u001b[0m     element\u001b[38;5;241m.\u001b[39mrender(\u001b[38;5;241m*\u001b[39m\u001b[38;5;241m*\u001b[39mkwargs)\n",
      "File \u001b[1;32m~\\anaconda3\\lib\\site-packages\\branca\\element.py:61\u001b[0m, in \u001b[0;36mElement.__init__\u001b[1;34m(self, template, template_name)\u001b[0m\n\u001b[0;32m     58\u001b[0m \u001b[38;5;28mself\u001b[39m\u001b[38;5;241m.\u001b[39m_parent \u001b[38;5;241m=\u001b[39m \u001b[38;5;28;01mNone\u001b[39;00m\n\u001b[0;32m     60\u001b[0m \u001b[38;5;28;01mif\u001b[39;00m template \u001b[38;5;129;01mis\u001b[39;00m \u001b[38;5;129;01mnot\u001b[39;00m \u001b[38;5;28;01mNone\u001b[39;00m:\n\u001b[1;32m---> 61\u001b[0m     \u001b[38;5;28mself\u001b[39m\u001b[38;5;241m.\u001b[39m_template \u001b[38;5;241m=\u001b[39m \u001b[43mTemplate\u001b[49m\u001b[43m(\u001b[49m\u001b[43mtemplate\u001b[49m\u001b[43m)\u001b[49m\n\u001b[0;32m     62\u001b[0m \u001b[38;5;28;01melif\u001b[39;00m template_name \u001b[38;5;129;01mis\u001b[39;00m \u001b[38;5;129;01mnot\u001b[39;00m \u001b[38;5;28;01mNone\u001b[39;00m:\n\u001b[0;32m     63\u001b[0m     \u001b[38;5;28mself\u001b[39m\u001b[38;5;241m.\u001b[39m_template \u001b[38;5;241m=\u001b[39m ENV\u001b[38;5;241m.\u001b[39mget_template(template_name)\n",
      "File \u001b[1;32m~\\anaconda3\\lib\\site-packages\\jinja2\\environment.py:1207\u001b[0m, in \u001b[0;36mTemplate.__new__\u001b[1;34m(cls, source, block_start_string, block_end_string, variable_start_string, variable_end_string, comment_start_string, comment_end_string, line_statement_prefix, line_comment_prefix, trim_blocks, lstrip_blocks, newline_sequence, keep_trailing_newline, extensions, optimized, undefined, finalize, autoescape, enable_async)\u001b[0m\n\u001b[0;32m   1160\u001b[0m \u001b[38;5;28;01mdef\u001b[39;00m \u001b[38;5;21m__new__\u001b[39m(\n\u001b[0;32m   1161\u001b[0m     \u001b[38;5;28mcls\u001b[39m,\n\u001b[0;32m   1162\u001b[0m     source: t\u001b[38;5;241m.\u001b[39mUnion[\u001b[38;5;28mstr\u001b[39m, nodes\u001b[38;5;241m.\u001b[39mTemplate],\n\u001b[1;32m   (...)\u001b[0m\n\u001b[0;32m   1180\u001b[0m     enable_async: \u001b[38;5;28mbool\u001b[39m \u001b[38;5;241m=\u001b[39m \u001b[38;5;28;01mFalse\u001b[39;00m,\n\u001b[0;32m   1181\u001b[0m ) \u001b[38;5;241m-\u001b[39m\u001b[38;5;241m>\u001b[39m \u001b[38;5;124m\"\u001b[39m\u001b[38;5;124mTemplate\u001b[39m\u001b[38;5;124m\"\u001b[39m:\n\u001b[0;32m   1182\u001b[0m     env \u001b[38;5;241m=\u001b[39m get_spontaneous_environment(\n\u001b[0;32m   1183\u001b[0m         \u001b[38;5;28mcls\u001b[39m\u001b[38;5;241m.\u001b[39menvironment_class,  \u001b[38;5;66;03m# type: ignore\u001b[39;00m\n\u001b[0;32m   1184\u001b[0m         block_start_string,\n\u001b[1;32m   (...)\u001b[0m\n\u001b[0;32m   1205\u001b[0m         enable_async,\n\u001b[0;32m   1206\u001b[0m     )\n\u001b[1;32m-> 1207\u001b[0m     \u001b[38;5;28;01mreturn\u001b[39;00m \u001b[43menv\u001b[49m\u001b[38;5;241;43m.\u001b[39;49m\u001b[43mfrom_string\u001b[49m\u001b[43m(\u001b[49m\u001b[43msource\u001b[49m\u001b[43m,\u001b[49m\u001b[43m \u001b[49m\u001b[43mtemplate_class\u001b[49m\u001b[38;5;241;43m=\u001b[39;49m\u001b[38;5;28;43mcls\u001b[39;49m\u001b[43m)\u001b[49m\n",
      "File \u001b[1;32m~\\anaconda3\\lib\\site-packages\\jinja2\\environment.py:1091\u001b[0m, in \u001b[0;36mEnvironment.from_string\u001b[1;34m(self, source, globals, template_class)\u001b[0m\n\u001b[0;32m   1089\u001b[0m gs \u001b[38;5;241m=\u001b[39m \u001b[38;5;28mself\u001b[39m\u001b[38;5;241m.\u001b[39mmake_globals(\u001b[38;5;28mglobals\u001b[39m)\n\u001b[0;32m   1090\u001b[0m \u001b[38;5;28mcls\u001b[39m \u001b[38;5;241m=\u001b[39m template_class \u001b[38;5;129;01mor\u001b[39;00m \u001b[38;5;28mself\u001b[39m\u001b[38;5;241m.\u001b[39mtemplate_class\n\u001b[1;32m-> 1091\u001b[0m \u001b[38;5;28;01mreturn\u001b[39;00m \u001b[38;5;28mcls\u001b[39m\u001b[38;5;241m.\u001b[39mfrom_code(\u001b[38;5;28mself\u001b[39m, \u001b[38;5;28;43mself\u001b[39;49m\u001b[38;5;241;43m.\u001b[39;49m\u001b[43mcompile\u001b[49m\u001b[43m(\u001b[49m\u001b[43msource\u001b[49m\u001b[43m)\u001b[49m, gs, \u001b[38;5;28;01mNone\u001b[39;00m)\n",
      "File \u001b[1;32m~\\anaconda3\\lib\\site-packages\\jinja2\\environment.py:748\u001b[0m, in \u001b[0;36mEnvironment.compile\u001b[1;34m(self, source, name, filename, raw, defer_init)\u001b[0m\n\u001b[0;32m    746\u001b[0m \u001b[38;5;28;01mif\u001b[39;00m \u001b[38;5;28misinstance\u001b[39m(source, \u001b[38;5;28mstr\u001b[39m):\n\u001b[0;32m    747\u001b[0m     source_hint \u001b[38;5;241m=\u001b[39m source\n\u001b[1;32m--> 748\u001b[0m     source \u001b[38;5;241m=\u001b[39m \u001b[38;5;28;43mself\u001b[39;49m\u001b[38;5;241;43m.\u001b[39;49m\u001b[43m_parse\u001b[49m\u001b[43m(\u001b[49m\u001b[43msource\u001b[49m\u001b[43m,\u001b[49m\u001b[43m \u001b[49m\u001b[43mname\u001b[49m\u001b[43m,\u001b[49m\u001b[43m \u001b[49m\u001b[43mfilename\u001b[49m\u001b[43m)\u001b[49m\n\u001b[0;32m    749\u001b[0m source \u001b[38;5;241m=\u001b[39m \u001b[38;5;28mself\u001b[39m\u001b[38;5;241m.\u001b[39m_generate(source, name, filename, defer_init\u001b[38;5;241m=\u001b[39mdefer_init)\n\u001b[0;32m    750\u001b[0m \u001b[38;5;28;01mif\u001b[39;00m raw:\n",
      "File \u001b[1;32m~\\anaconda3\\lib\\site-packages\\jinja2\\environment.py:605\u001b[0m, in \u001b[0;36mEnvironment._parse\u001b[1;34m(self, source, name, filename)\u001b[0m\n\u001b[0;32m    601\u001b[0m \u001b[38;5;28;01mdef\u001b[39;00m \u001b[38;5;21m_parse\u001b[39m(\n\u001b[0;32m    602\u001b[0m     \u001b[38;5;28mself\u001b[39m, source: \u001b[38;5;28mstr\u001b[39m, name: t\u001b[38;5;241m.\u001b[39mOptional[\u001b[38;5;28mstr\u001b[39m], filename: t\u001b[38;5;241m.\u001b[39mOptional[\u001b[38;5;28mstr\u001b[39m]\n\u001b[0;32m    603\u001b[0m ) \u001b[38;5;241m-\u001b[39m\u001b[38;5;241m>\u001b[39m nodes\u001b[38;5;241m.\u001b[39mTemplate:\n\u001b[0;32m    604\u001b[0m     \u001b[38;5;124;03m\"\"\"Internal parsing function used by `parse` and `compile`.\"\"\"\u001b[39;00m\n\u001b[1;32m--> 605\u001b[0m     \u001b[38;5;28;01mreturn\u001b[39;00m \u001b[43mParser\u001b[49m\u001b[43m(\u001b[49m\u001b[38;5;28;43mself\u001b[39;49m\u001b[43m,\u001b[49m\u001b[43m \u001b[49m\u001b[43msource\u001b[49m\u001b[43m,\u001b[49m\u001b[43m \u001b[49m\u001b[43mname\u001b[49m\u001b[43m,\u001b[49m\u001b[43m \u001b[49m\u001b[43mfilename\u001b[49m\u001b[43m)\u001b[49m\u001b[38;5;241m.\u001b[39mparse()\n",
      "File \u001b[1;32m~\\anaconda3\\lib\\site-packages\\jinja2\\parser.py:60\u001b[0m, in \u001b[0;36mParser.__init__\u001b[1;34m(self, environment, source, name, filename, state)\u001b[0m\n\u001b[0;32m     51\u001b[0m \u001b[38;5;28;01mdef\u001b[39;00m \u001b[38;5;21m__init__\u001b[39m(\n\u001b[0;32m     52\u001b[0m     \u001b[38;5;28mself\u001b[39m,\n\u001b[0;32m     53\u001b[0m     environment: \u001b[38;5;124m\"\u001b[39m\u001b[38;5;124mEnvironment\u001b[39m\u001b[38;5;124m\"\u001b[39m,\n\u001b[1;32m   (...)\u001b[0m\n\u001b[0;32m     57\u001b[0m     state: t\u001b[38;5;241m.\u001b[39mOptional[\u001b[38;5;28mstr\u001b[39m] \u001b[38;5;241m=\u001b[39m \u001b[38;5;28;01mNone\u001b[39;00m,\n\u001b[0;32m     58\u001b[0m ) \u001b[38;5;241m-\u001b[39m\u001b[38;5;241m>\u001b[39m \u001b[38;5;28;01mNone\u001b[39;00m:\n\u001b[0;32m     59\u001b[0m     \u001b[38;5;28mself\u001b[39m\u001b[38;5;241m.\u001b[39menvironment \u001b[38;5;241m=\u001b[39m environment\n\u001b[1;32m---> 60\u001b[0m     \u001b[38;5;28mself\u001b[39m\u001b[38;5;241m.\u001b[39mstream \u001b[38;5;241m=\u001b[39m \u001b[43menvironment\u001b[49m\u001b[38;5;241;43m.\u001b[39;49m\u001b[43m_tokenize\u001b[49m\u001b[43m(\u001b[49m\u001b[43msource\u001b[49m\u001b[43m,\u001b[49m\u001b[43m \u001b[49m\u001b[43mname\u001b[49m\u001b[43m,\u001b[49m\u001b[43m \u001b[49m\u001b[43mfilename\u001b[49m\u001b[43m,\u001b[49m\u001b[43m \u001b[49m\u001b[43mstate\u001b[49m\u001b[43m)\u001b[49m\n\u001b[0;32m     61\u001b[0m     \u001b[38;5;28mself\u001b[39m\u001b[38;5;241m.\u001b[39mname \u001b[38;5;241m=\u001b[39m name\n\u001b[0;32m     62\u001b[0m     \u001b[38;5;28mself\u001b[39m\u001b[38;5;241m.\u001b[39mfilename \u001b[38;5;241m=\u001b[39m filename\n",
      "File \u001b[1;32m~\\anaconda3\\lib\\site-packages\\jinja2\\environment.py:655\u001b[0m, in \u001b[0;36mEnvironment._tokenize\u001b[1;34m(self, source, name, filename, state)\u001b[0m\n\u001b[0;32m    651\u001b[0m \u001b[38;5;124;03m\"\"\"Called by the parser to do the preprocessing and filtering\u001b[39;00m\n\u001b[0;32m    652\u001b[0m \u001b[38;5;124;03mfor all the extensions.  Returns a :class:`~jinja2.lexer.TokenStream`.\u001b[39;00m\n\u001b[0;32m    653\u001b[0m \u001b[38;5;124;03m\"\"\"\u001b[39;00m\n\u001b[0;32m    654\u001b[0m source \u001b[38;5;241m=\u001b[39m \u001b[38;5;28mself\u001b[39m\u001b[38;5;241m.\u001b[39mpreprocess(source, name, filename)\n\u001b[1;32m--> 655\u001b[0m stream \u001b[38;5;241m=\u001b[39m \u001b[38;5;28;43mself\u001b[39;49m\u001b[38;5;241;43m.\u001b[39;49m\u001b[43mlexer\u001b[49m\u001b[38;5;241;43m.\u001b[39;49m\u001b[43mtokenize\u001b[49m\u001b[43m(\u001b[49m\u001b[43msource\u001b[49m\u001b[43m,\u001b[49m\u001b[43m \u001b[49m\u001b[43mname\u001b[49m\u001b[43m,\u001b[49m\u001b[43m \u001b[49m\u001b[43mfilename\u001b[49m\u001b[43m,\u001b[49m\u001b[43m \u001b[49m\u001b[43mstate\u001b[49m\u001b[43m)\u001b[49m\n\u001b[0;32m    657\u001b[0m \u001b[38;5;28;01mfor\u001b[39;00m ext \u001b[38;5;129;01min\u001b[39;00m \u001b[38;5;28mself\u001b[39m\u001b[38;5;241m.\u001b[39miter_extensions():\n\u001b[0;32m    658\u001b[0m     stream \u001b[38;5;241m=\u001b[39m ext\u001b[38;5;241m.\u001b[39mfilter_stream(stream)  \u001b[38;5;66;03m# type: ignore\u001b[39;00m\n",
      "File \u001b[1;32m~\\anaconda3\\lib\\site-packages\\jinja2\\lexer.py:612\u001b[0m, in \u001b[0;36mLexer.tokenize\u001b[1;34m(self, source, name, filename, state)\u001b[0m\n\u001b[0;32m    610\u001b[0m \u001b[38;5;124;03m\"\"\"Calls tokeniter + tokenize and wraps it in a token stream.\"\"\"\u001b[39;00m\n\u001b[0;32m    611\u001b[0m stream \u001b[38;5;241m=\u001b[39m \u001b[38;5;28mself\u001b[39m\u001b[38;5;241m.\u001b[39mtokeniter(source, name, filename, state)\n\u001b[1;32m--> 612\u001b[0m \u001b[38;5;28;01mreturn\u001b[39;00m \u001b[43mTokenStream\u001b[49m\u001b[43m(\u001b[49m\u001b[38;5;28;43mself\u001b[39;49m\u001b[38;5;241;43m.\u001b[39;49m\u001b[43mwrap\u001b[49m\u001b[43m(\u001b[49m\u001b[43mstream\u001b[49m\u001b[43m,\u001b[49m\u001b[43m \u001b[49m\u001b[43mname\u001b[49m\u001b[43m,\u001b[49m\u001b[43m \u001b[49m\u001b[43mfilename\u001b[49m\u001b[43m)\u001b[49m\u001b[43m,\u001b[49m\u001b[43m \u001b[49m\u001b[43mname\u001b[49m\u001b[43m,\u001b[49m\u001b[43m \u001b[49m\u001b[43mfilename\u001b[49m\u001b[43m)\u001b[49m\n",
      "File \u001b[1;32m~\\anaconda3\\lib\\site-packages\\jinja2\\lexer.py:334\u001b[0m, in \u001b[0;36mTokenStream.__init__\u001b[1;34m(self, generator, name, filename)\u001b[0m\n\u001b[0;32m    332\u001b[0m \u001b[38;5;28mself\u001b[39m\u001b[38;5;241m.\u001b[39mclosed \u001b[38;5;241m=\u001b[39m \u001b[38;5;28;01mFalse\u001b[39;00m\n\u001b[0;32m    333\u001b[0m \u001b[38;5;28mself\u001b[39m\u001b[38;5;241m.\u001b[39mcurrent \u001b[38;5;241m=\u001b[39m Token(\u001b[38;5;241m1\u001b[39m, TOKEN_INITIAL, \u001b[38;5;124m\"\u001b[39m\u001b[38;5;124m\"\u001b[39m)\n\u001b[1;32m--> 334\u001b[0m \u001b[38;5;28;43mnext\u001b[39;49m\u001b[43m(\u001b[49m\u001b[38;5;28;43mself\u001b[39;49m\u001b[43m)\u001b[49m\n",
      "File \u001b[1;32m~\\anaconda3\\lib\\site-packages\\jinja2\\lexer.py:388\u001b[0m, in \u001b[0;36mTokenStream.__next__\u001b[1;34m(self)\u001b[0m\n\u001b[0;32m    386\u001b[0m \u001b[38;5;28;01melif\u001b[39;00m \u001b[38;5;28mself\u001b[39m\u001b[38;5;241m.\u001b[39mcurrent\u001b[38;5;241m.\u001b[39mtype \u001b[38;5;129;01mis\u001b[39;00m \u001b[38;5;129;01mnot\u001b[39;00m TOKEN_EOF:\n\u001b[0;32m    387\u001b[0m     \u001b[38;5;28;01mtry\u001b[39;00m:\n\u001b[1;32m--> 388\u001b[0m         \u001b[38;5;28mself\u001b[39m\u001b[38;5;241m.\u001b[39mcurrent \u001b[38;5;241m=\u001b[39m \u001b[38;5;28;43mnext\u001b[39;49m\u001b[43m(\u001b[49m\u001b[38;5;28;43mself\u001b[39;49m\u001b[38;5;241;43m.\u001b[39;49m\u001b[43m_iter\u001b[49m\u001b[43m)\u001b[49m\n\u001b[0;32m    389\u001b[0m     \u001b[38;5;28;01mexcept\u001b[39;00m \u001b[38;5;167;01mStopIteration\u001b[39;00m:\n\u001b[0;32m    390\u001b[0m         \u001b[38;5;28mself\u001b[39m\u001b[38;5;241m.\u001b[39mclose()\n",
      "File \u001b[1;32m~\\anaconda3\\lib\\site-packages\\jinja2\\lexer.py:623\u001b[0m, in \u001b[0;36mLexer.wrap\u001b[1;34m(self, stream, name, filename)\u001b[0m\n\u001b[0;32m    614\u001b[0m \u001b[38;5;28;01mdef\u001b[39;00m \u001b[38;5;21mwrap\u001b[39m(\n\u001b[0;32m    615\u001b[0m     \u001b[38;5;28mself\u001b[39m,\n\u001b[0;32m    616\u001b[0m     stream: t\u001b[38;5;241m.\u001b[39mIterable[t\u001b[38;5;241m.\u001b[39mTuple[\u001b[38;5;28mint\u001b[39m, \u001b[38;5;28mstr\u001b[39m, \u001b[38;5;28mstr\u001b[39m]],\n\u001b[0;32m    617\u001b[0m     name: t\u001b[38;5;241m.\u001b[39mOptional[\u001b[38;5;28mstr\u001b[39m] \u001b[38;5;241m=\u001b[39m \u001b[38;5;28;01mNone\u001b[39;00m,\n\u001b[0;32m    618\u001b[0m     filename: t\u001b[38;5;241m.\u001b[39mOptional[\u001b[38;5;28mstr\u001b[39m] \u001b[38;5;241m=\u001b[39m \u001b[38;5;28;01mNone\u001b[39;00m,\n\u001b[0;32m    619\u001b[0m ) \u001b[38;5;241m-\u001b[39m\u001b[38;5;241m>\u001b[39m t\u001b[38;5;241m.\u001b[39mIterator[Token]:\n\u001b[0;32m    620\u001b[0m     \u001b[38;5;124;03m\"\"\"This is called with the stream as returned by `tokenize` and wraps\u001b[39;00m\n\u001b[0;32m    621\u001b[0m \u001b[38;5;124;03m    every token in a :class:`Token` and converts the value.\u001b[39;00m\n\u001b[0;32m    622\u001b[0m \u001b[38;5;124;03m    \"\"\"\u001b[39;00m\n\u001b[1;32m--> 623\u001b[0m     \u001b[38;5;28;01mfor\u001b[39;00m lineno, token, value_str \u001b[38;5;129;01min\u001b[39;00m stream:\n\u001b[0;32m    624\u001b[0m         \u001b[38;5;28;01mif\u001b[39;00m token \u001b[38;5;129;01min\u001b[39;00m ignored_tokens:\n\u001b[0;32m    625\u001b[0m             \u001b[38;5;28;01mcontinue\u001b[39;00m\n",
      "File \u001b[1;32m~\\anaconda3\\lib\\site-packages\\jinja2\\lexer.py:710\u001b[0m, in \u001b[0;36mLexer.tokeniter\u001b[1;34m(self, source, name, filename, state)\u001b[0m\n\u001b[0;32m    708\u001b[0m \u001b[38;5;66;03m# if no match we try again with the next rule\u001b[39;00m\n\u001b[0;32m    709\u001b[0m \u001b[38;5;28;01mif\u001b[39;00m m \u001b[38;5;129;01mis\u001b[39;00m \u001b[38;5;28;01mNone\u001b[39;00m:\n\u001b[1;32m--> 710\u001b[0m     \u001b[38;5;28;01mcontinue\u001b[39;00m\n\u001b[0;32m    712\u001b[0m \u001b[38;5;66;03m# we only match blocks and variables if braces / parentheses\u001b[39;00m\n\u001b[0;32m    713\u001b[0m \u001b[38;5;66;03m# are balanced. continue parsing with the lower rule which\u001b[39;00m\n\u001b[0;32m    714\u001b[0m \u001b[38;5;66;03m# is the operator rule. do this only if the end tags look\u001b[39;00m\n\u001b[0;32m    715\u001b[0m \u001b[38;5;66;03m# like operators\u001b[39;00m\n\u001b[0;32m    716\u001b[0m \u001b[38;5;28;01mif\u001b[39;00m balancing_stack \u001b[38;5;129;01mand\u001b[39;00m tokens \u001b[38;5;129;01min\u001b[39;00m (\n\u001b[0;32m    717\u001b[0m     TOKEN_VARIABLE_END,\n\u001b[0;32m    718\u001b[0m     TOKEN_BLOCK_END,\n\u001b[0;32m    719\u001b[0m     TOKEN_LINESTATEMENT_END,\n\u001b[0;32m    720\u001b[0m ):\n",
      "\u001b[1;31mKeyboardInterrupt\u001b[0m: "
     ]
    }
   ],
   "source": [
    "aa=ox.geometries_from_place([\"métropole de Toulouse\"], {\"building\":True})"
   ]
  },
  {
   "cell_type": "code",
   "execution_count": null,
   "id": "7cf11b63",
   "metadata": {},
   "outputs": [],
   "source": []
  }
 ],
 "metadata": {
  "kernelspec": {
   "display_name": "Python 3 (ipykernel)",
   "language": "python",
   "name": "python3"
  },
  "language_info": {
   "codemirror_mode": {
    "name": "ipython",
    "version": 3
   },
   "file_extension": ".py",
   "mimetype": "text/x-python",
   "name": "python",
   "nbconvert_exporter": "python",
   "pygments_lexer": "ipython3",
   "version": "3.9.12"
  }
 },
 "nbformat": 4,
 "nbformat_minor": 5
}

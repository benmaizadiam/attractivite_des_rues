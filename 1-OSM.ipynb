{
 "cells": [
  {
   "cell_type": "code",
   "execution_count": 2,
   "id": "8a297761",
   "metadata": {
    "ExecuteTime": {
     "end_time": "2023-04-13T13:07:04.501370Z",
     "start_time": "2023-04-13T13:07:02.228021Z"
    },
    "scrolled": true
   },
   "outputs": [
    {
     "name": "stdout",
     "output_type": "stream",
     "text": [
      "Collecting package\n",
      "  Downloading package-0.1.1.tar.gz (13 kB)\n",
      "  Preparing metadata (setup.py): started\n",
      "  Preparing metadata (setup.py): finished with status 'error'\n"
     ]
    },
    {
     "name": "stderr",
     "output_type": "stream",
     "text": [
      "WARNING: Ignoring invalid distribution -yproj (c:\\users\\diametrix\\anaconda3\\lib\\site-packages)\n",
      "  error: subprocess-exited-with-error\n",
      "  \n",
      "  python setup.py egg_info did not run successfully.\n",
      "  exit code: 1\n",
      "  \n",
      "  [7 lines of output]\n",
      "  Traceback (most recent call last):\n",
      "    File \"<string>\", line 2, in <module>\n",
      "    File \"<pip-setuptools-caller>\", line 34, in <module>\n",
      "    File \"C:\\Users\\Diametrix\\AppData\\Local\\Temp\\pip-install-jv9d93nz\\package_091a0ac4d5cf4347aae8463f028dc294\\setup.py\", line 4\n",
      "      print \"\"\"\n",
      "            ^\n",
      "  SyntaxError: Missing parentheses in call to 'print'. Did you mean print(\"\"\")?\n",
      "  [end of output]\n",
      "  \n",
      "  note: This error originates from a subprocess, and is likely not a problem with pip.\n",
      "error: metadata-generation-failed\n",
      "\n",
      "Encountered error while generating package metadata.\n",
      "\n",
      "See above for output.\n",
      "\n",
      "note: This is an issue with the package mentioned above, not pip.\n",
      "hint: See above for details.\n",
      "\n",
      "[notice] A new release of pip available: 22.2.2 -> 23.0.1\n",
      "[notice] To update, run: python.exe -m pip install --upgrade pip\n"
     ]
    }
   ],
   "source": [
    "!pip install \"package\" --user"
   ]
  },
  {
   "cell_type": "code",
   "execution_count": 4,
   "id": "810d1650",
   "metadata": {
    "ExecuteTime": {
     "end_time": "2023-04-13T14:49:11.188537Z",
     "start_time": "2023-04-13T14:49:07.075143Z"
    }
   },
   "outputs": [
    {
     "name": "stdout",
     "output_type": "stream",
     "text": [
      "Collecting osmnx\n",
      "  Using cached osmnx-1.3.0-py3-none-any.whl (93 kB)\n",
      "Requirement already satisfied: networkx>=2.8 in c:\\users\\diametrix\\appdata\\roaming\\python\\python39\\site-packages (from osmnx) (2.8.5)\n",
      "Requirement already satisfied: pandas>=1.5 in c:\\users\\diametrix\\appdata\\roaming\\python\\python39\\site-packages (from osmnx) (2.0.0)\n",
      "Requirement already satisfied: python-dateutil>=2.8 in c:\\users\\diametrix\\anaconda3\\lib\\site-packages (from osmnx) (2.8.2)\n",
      "Requirement already satisfied: Shapely>=2.0 in c:\\users\\diametrix\\anaconda3\\lib\\site-packages (from osmnx) (2.0.1)\n",
      "Requirement already satisfied: pyproj>=3.4 in c:\\users\\diametrix\\appdata\\roaming\\python\\python39\\site-packages (from osmnx) (3.5.0)\n",
      "Requirement already satisfied: matplotlib>=3.5 in c:\\users\\diametrix\\appdata\\roaming\\python\\python39\\site-packages (from osmnx) (3.5.3)\n",
      "Collecting geopandas>=0.12\n",
      "  Using cached geopandas-0.12.2-py3-none-any.whl (1.1 MB)\n",
      "Requirement already satisfied: numpy>=1.23 in c:\\users\\diametrix\\appdata\\roaming\\python\\python39\\site-packages (from osmnx) (1.23.3)\n",
      "Requirement already satisfied: requests>=2.28 in c:\\users\\diametrix\\appdata\\roaming\\python\\python39\\site-packages (from osmnx) (2.28.1)\n",
      "Requirement already satisfied: packaging in c:\\users\\diametrix\\anaconda3\\lib\\site-packages (from geopandas>=0.12->osmnx) (21.3)\n",
      "Requirement already satisfied: fiona>=1.8 in c:\\users\\diametrix\\appdata\\roaming\\python\\python39\\site-packages (from geopandas>=0.12->osmnx) (1.8.21)\n",
      "Requirement already satisfied: cycler>=0.10 in c:\\users\\diametrix\\anaconda3\\lib\\site-packages (from matplotlib>=3.5->osmnx) (0.11.0)\n",
      "Requirement already satisfied: kiwisolver>=1.0.1 in c:\\users\\diametrix\\appdata\\roaming\\python\\python39\\site-packages (from matplotlib>=3.5->osmnx) (1.4.4)\n",
      "Requirement already satisfied: fonttools>=4.22.0 in c:\\users\\diametrix\\anaconda3\\lib\\site-packages (from matplotlib>=3.5->osmnx) (4.25.0)\n",
      "Requirement already satisfied: pyparsing>=2.2.1 in c:\\users\\diametrix\\appdata\\roaming\\python\\python39\\site-packages (from matplotlib>=3.5->osmnx) (3.0.9)\n",
      "Requirement already satisfied: pillow>=6.2.0 in c:\\users\\diametrix\\appdata\\roaming\\python\\python39\\site-packages (from matplotlib>=3.5->osmnx) (9.2.0)\n",
      "Requirement already satisfied: tzdata>=2022.1 in c:\\users\\diametrix\\anaconda3\\lib\\site-packages (from pandas>=1.5->osmnx) (2023.3)\n",
      "Requirement already satisfied: pytz>=2020.1 in c:\\users\\diametrix\\appdata\\roaming\\python\\python39\\site-packages (from pandas>=1.5->osmnx) (2022.1)\n",
      "Requirement already satisfied: certifi in c:\\users\\diametrix\\anaconda3\\lib\\site-packages (from pyproj>=3.4->osmnx) (2021.10.8)\n",
      "Requirement already satisfied: six>=1.5 in c:\\users\\diametrix\\appdata\\roaming\\python\\python39\\site-packages (from python-dateutil>=2.8->osmnx) (1.16.0)\n",
      "Requirement already satisfied: charset-normalizer<3,>=2 in c:\\users\\diametrix\\appdata\\roaming\\python\\python39\\site-packages (from requests>=2.28->osmnx) (2.1.1)\n",
      "Requirement already satisfied: urllib3<1.27,>=1.21.1 in c:\\users\\diametrix\\anaconda3\\lib\\site-packages (from requests>=2.28->osmnx) (1.26.12)\n",
      "Requirement already satisfied: idna<4,>=2.5 in c:\\users\\diametrix\\appdata\\roaming\\python\\python39\\site-packages (from requests>=2.28->osmnx) (2.10)\n",
      "Requirement already satisfied: munch in c:\\users\\diametrix\\appdata\\roaming\\python\\python39\\site-packages (from fiona>=1.8->geopandas>=0.12->osmnx) (2.5.0)\n",
      "Requirement already satisfied: attrs>=17 in c:\\users\\diametrix\\appdata\\roaming\\python\\python39\\site-packages (from fiona>=1.8->geopandas>=0.12->osmnx) (22.1.0)\n",
      "Requirement already satisfied: cligj>=0.5 in c:\\users\\diametrix\\appdata\\roaming\\python\\python39\\site-packages (from fiona>=1.8->geopandas>=0.12->osmnx) (0.7.2)\n",
      "Requirement already satisfied: click>=4.0 in c:\\users\\diametrix\\appdata\\roaming\\python\\python39\\site-packages (from fiona>=1.8->geopandas>=0.12->osmnx) (8.1.3)\n",
      "Requirement already satisfied: gdal~=3.4.3 in c:\\users\\diametrix\\appdata\\roaming\\python\\python39\\site-packages (from fiona>=1.8->geopandas>=0.12->osmnx) (3.4.3)\n",
      "Requirement already satisfied: setuptools in c:\\users\\diametrix\\appdata\\roaming\\python\\python39\\site-packages (from fiona>=1.8->geopandas>=0.12->osmnx) (63.2.0)\n",
      "Requirement already satisfied: click-plugins>=1.0 in c:\\users\\diametrix\\appdata\\roaming\\python\\python39\\site-packages (from fiona>=1.8->geopandas>=0.12->osmnx) (1.1.1)\n",
      "Requirement already satisfied: colorama in c:\\users\\diametrix\\appdata\\roaming\\python\\python39\\site-packages (from click>=4.0->fiona>=1.8->geopandas>=0.12->osmnx) (0.4.5)\n",
      "Installing collected packages: geopandas, osmnx\n",
      "  Attempting uninstall: geopandas\n",
      "    Found existing installation: geopandas 0.11.1\n",
      "    Uninstalling geopandas-0.11.1:\n",
      "      Successfully uninstalled geopandas-0.11.1\n",
      "Successfully installed geopandas-0.12.2 osmnx-1.3.0\n"
     ]
    },
    {
     "name": "stderr",
     "output_type": "stream",
     "text": [
      "WARNING: Ignoring invalid distribution -yproj (c:\\users\\diametrix\\anaconda3\\lib\\site-packages)\n",
      "WARNING: Ignoring invalid distribution -yproj (c:\\users\\diametrix\\anaconda3\\lib\\site-packages)\n",
      "WARNING: Ignoring invalid distribution -yproj (c:\\users\\diametrix\\anaconda3\\lib\\site-packages)\n",
      "WARNING: Ignoring invalid distribution -yproj (c:\\users\\diametrix\\anaconda3\\lib\\site-packages)\n",
      "\n",
      "[notice] A new release of pip available: 22.2.2 -> 23.0.1\n",
      "[notice] To update, run: python.exe -m pip install --upgrade pip\n"
     ]
    }
   ],
   "source": [
    "!pip install -U osmnx "
   ]
  },
  {
   "cell_type": "code",
   "execution_count": 1,
   "id": "9e041d54",
   "metadata": {
    "ExecuteTime": {
     "end_time": "2023-08-02T12:11:08.618820Z",
     "start_time": "2023-08-02T12:11:01.721436Z"
    }
   },
   "outputs": [
    {
     "name": "stderr",
     "output_type": "stream",
     "text": [
      "C:\\Users\\Diametrix\\anaconda3\\lib\\site-packages\\numpy\\_distributor_init.py:30: UserWarning: loaded more than 1 DLL from .libs:\n",
      "C:\\Users\\Diametrix\\anaconda3\\lib\\site-packages\\numpy\\.libs\\libopenblas.FB5AE2TYXYH2IJRDKGDGQ3XBKLKTF43H.gfortran-win_amd64.dll\n",
      "C:\\Users\\Diametrix\\anaconda3\\lib\\site-packages\\numpy\\.libs\\libopenblas.GK7GX5KEQ4F6UYO3P26ULGBQYHGQO7J4.gfortran-win_amd64.dll\n",
      "  warnings.warn(\"loaded more than 1 DLL from .libs:\"\n",
      "C:\\Users\\Diametrix\\AppData\\Roaming\\Python\\Python39\\site-packages\\geopandas\\_compat.py:124: UserWarning: The Shapely GEOS version (3.11.1-CAPI-1.17.1) is incompatible with the GEOS version PyGEOS was compiled with (3.10.4-CAPI-1.16.2). Conversions between both will be slow.\n",
      "  warnings.warn(\n",
      "C:\\Users\\Diametrix\\AppData\\Local\\Temp\\ipykernel_15564\\297388796.py:1: DeprecationWarning: Shapely 2.0 is installed, but because PyGEOS is also installed, GeoPandas still uses PyGEOS by default. However, starting with version 0.14, the default will switch to Shapely. To force to use Shapely 2.0 now, you can either uninstall PyGEOS or set the environment variable USE_PYGEOS=0. You can do this before starting the Python process, or in your code before importing geopandas:\n",
      "\n",
      "import os\n",
      "os.environ['USE_PYGEOS'] = '0'\n",
      "import geopandas\n",
      "\n",
      "In the next release, GeoPandas will switch to using Shapely by default, even if PyGEOS is installed. If you only have PyGEOS installed to get speed-ups, this switch should be smooth. However, if you are using PyGEOS directly (calling PyGEOS functions on geometries from GeoPandas), this will then stop working and you are encouraged to migrate from PyGEOS to Shapely 2.0 (https://shapely.readthedocs.io/en/latest/migration_pygeos.html).\n",
      "  import geopandas as gpd\n"
     ]
    }
   ],
   "source": [
    "import geopandas as gpd\n",
    "import pandas as pd\n",
    "import osmnx as ox\n",
    "import pickle\n",
    "from shapely import LineString,MultiLineString\n",
    "import numpy as np\n",
    "import difflib"
   ]
  },
  {
   "cell_type": "code",
   "execution_count": 2,
   "id": "23a6b974",
   "metadata": {
    "ExecuteTime": {
     "end_time": "2023-07-28T12:42:06.258113Z",
     "start_time": "2023-07-28T12:42:06.242488Z"
    }
   },
   "outputs": [],
   "source": [
    "path=r\"Y:\\RECHERCHE ET DEV\\10_Modèle d'attractivite des rues\\04_données clients (source)\\osm\""
   ]
  },
  {
   "cell_type": "code",
   "execution_count": 3,
   "id": "8a61b8d8",
   "metadata": {
    "ExecuteTime": {
     "end_time": "2023-07-28T12:43:07.804510Z",
     "start_time": "2023-07-28T12:42:06.258113Z"
    }
   },
   "outputs": [],
   "source": [
    "iris_data=pd.read_excel('Y:\\REFERENTIEL DATA\\RP 2022 FRANCE\\GEODATA - IRIS\\\\Geodata_IRIS_essentiels.xlsx')"
   ]
  },
  {
   "cell_type": "code",
   "execution_count": 4,
   "id": "0f6c17a4",
   "metadata": {
    "ExecuteTime": {
     "end_time": "2023-07-28T12:43:17.975163Z",
     "start_time": "2023-07-28T12:43:07.806550Z"
    }
   },
   "outputs": [],
   "source": [
    "contour_iris=gpd.read_file(r'Y:\\REFERENTIEL DATA\\RP 2022 FRANCE\\CARTOGRAPHIE\\Cartographie_France_IRIS_2019\\CONTOURS-IRIS_2-1_SHP_LAMB93_FXX-2019\\CONTOURS-IRIS.shp')"
   ]
  },
  {
   "cell_type": "code",
   "execution_count": 5,
   "id": "7f5fc08c",
   "metadata": {
    "ExecuteTime": {
     "end_time": "2023-07-28T12:43:17.995475Z",
     "start_time": "2023-07-28T12:43:17.975163Z"
    }
   },
   "outputs": [],
   "source": [
    "regions=[\"Auvergne-Rhône-Alpes\",\n",
    "    \"Bourgogne-Franche-Comté\",\n",
    "    \"Bretagne\",\n",
    "    \"Centre-Val de Loire\",\n",
    "    \"Corse\",\n",
    "    \"Grand Est\",\n",
    "    'Hauts-de-France',\n",
    "    \"Ile-de-France\",\n",
    "    \"Normandie\",\n",
    "    \"Nouvelle-Aquitaine\",\n",
    "    \"Occitanie\",\n",
    "    'Pays de la Loire',\n",
    "    \"Provence-Alpes-Côte d'Azur\"]\n"
   ]
  },
  {
   "cell_type": "code",
   "execution_count": 6,
   "id": "642c09bc",
   "metadata": {
    "ExecuteTime": {
     "end_time": "2023-07-28T12:43:18.011101Z",
     "start_time": "2023-07-28T12:43:17.995475Z"
    }
   },
   "outputs": [],
   "source": [
    "lyon_metropole=[\"Lyon\",\n",
    "\"Albigny-sur-Saône\",\n",
    "\"Bron\",\n",
    "\"Cailloux-sur-Fontaines\",\n",
    "\"Caluire-et-Cuire\",\n",
    "\"Champagne-au-Mont-d'Or\",\n",
    "\"Charbonnières-les-Bains\",\n",
    "\"Charly\",\n",
    "\"Chassieu\",\n",
    "\"Collonges-au-Mont-d'Or\",\n",
    "\"Corbas\",\n",
    "\"Couzon-au-Mont-d'Or\",\n",
    "\"Craponne\",\n",
    "\"Curis-au-Mont-d'Or\",\n",
    "\"Dardilly\",\n",
    "\"Décines-Charpieu\",\n",
    "\"Écully\",\n",
    "\"Feyzin\",\n",
    "\"Fleurieu-sur-Saône\",\n",
    "\"Fontaines-Saint-Martin\",\n",
    "\"Fontaines-sur-Saône\",\n",
    "\"Francheville\",\n",
    "\"Genay\",\n",
    "\"Givors\",\n",
    "\"Grigny\",\n",
    "\"Irigny\",\n",
    "\"Jonage\",\n",
    "\"Limonest\",\n",
    "\"Lissieu\",\n",
    "\"Marcy-l'Étoile\",\n",
    "\"Meyzieu\",\n",
    "\"Mions\",\n",
    "\"Montanay\",\n",
    "\"La Mulatière\",\n",
    "\"Neuville-sur-Saône\",\n",
    "\"Oullins\",\n",
    "\"Pierre-Bénite\",\n",
    "\"Poleymieux-au-Mont-d'Or\",\n",
    "\"Quincieux\",\n",
    "\"Rillieux-la-Pape\",\n",
    "\"Rochetaillée-sur-Saône\",\n",
    "\"Saint-Cyr-au-Mont-d'Or\",\n",
    "\"Saint-Didier-au-Mont-d'Or\",\n",
    "\"Sainte-Foy-lès-Lyon\",\n",
    "\"Saint-Fons\",\n",
    "\"Saint-Genis-Laval\",\n",
    "\"Saint-Genis-les-Ollières\",\n",
    "\"Saint-Germain-au-Mont-d'Or\",\n",
    "\"Saint-Priest\",\n",
    "\"Saint-Romain-au-Mont-d'Or\",\n",
    "\"Sathonay-Camp\",\n",
    "\"Sathonay-Village\",\n",
    "\"Solaize\",\n",
    "\"Tassin-la-Demi-Lune\",\n",
    "\"La Tour-de-Salvagny\",\n",
    "\"Vaulx-en-Velin\",\n",
    "\"Vénissieux\",\n",
    "\"Vernaison\",\n",
    "\"Villeurbanne\"]"
   ]
  },
  {
   "cell_type": "code",
   "execution_count": 7,
   "id": "569ac14d",
   "metadata": {
    "ExecuteTime": {
     "end_time": "2023-07-28T12:43:18.042535Z",
     "start_time": "2023-07-28T12:43:18.011101Z"
    }
   },
   "outputs": [],
   "source": [
    "list_departement=pd.read_excel(r\"Y:\\RECHERCHE ET DEV\\10_Modèle d'attractivite des rues\\\\Liste-Excel-des-departements-francais.xlsx\")"
   ]
  },
  {
   "cell_type": "code",
   "execution_count": 8,
   "id": "2137fb99",
   "metadata": {
    "ExecuteTime": {
     "end_time": "2023-07-28T12:43:18.057965Z",
     "start_time": "2023-07-28T12:43:18.042535Z"
    }
   },
   "outputs": [],
   "source": [
    "list_departement=list_departement[list_departement[\"Région\"].isin(regions)]"
   ]
  },
  {
   "cell_type": "code",
   "execution_count": null,
   "id": "32f2d472",
   "metadata": {},
   "outputs": [],
   "source": []
  },
  {
   "cell_type": "markdown",
   "id": "21deded9",
   "metadata": {},
   "source": [
    "# Batiments"
   ]
  },
  {
   "cell_type": "code",
   "execution_count": 14,
   "id": "9e312608",
   "metadata": {
    "ExecuteTime": {
     "end_time": "2023-08-01T12:44:26.106657Z",
     "start_time": "2023-08-01T12:44:26.072242Z"
    }
   },
   "outputs": [],
   "source": [
    "def get_buildings(place_name,region):\n",
    "    tags = {\"building\":True }\n",
    "    \n",
    "    if place_name.lower()!=\"rhône\": \n",
    "        try:\n",
    "            buildings = ox.geometries_from_place(place_name+\", France\", tags)\n",
    "        except:\n",
    "            buildings = ox.geometries_from_place(place_name, tags)\n",
    "    else:\n",
    "        buildings = ox.geometries_from_place([place_name,\"métropole de Lyon\"], tags)\n",
    "        \n",
    "    selected_columns=[\"geometry\" ,\"building\", \"shop\" , \"building:levels\",\"amenity\",\"name\"]\n",
    "    buildings=buildings[selected_columns]\n",
    "    #pickle.dump(buildings,open(path+\"\\\\\"+region.lower()+\"\\\\\"+place_name.lower()+\"\\\\raw data\\\\buildings.pkl\",'wb'))   \n",
    "    return buildings"
   ]
  },
  {
   "cell_type": "code",
   "execution_count": null,
   "id": "3c317599",
   "metadata": {
    "ExecuteTime": {
     "start_time": "2023-08-01T12:44:57.538Z"
    }
   },
   "outputs": [],
   "source": [
    "get_buildings('paris',\"Ile de France\")"
   ]
  },
  {
   "cell_type": "markdown",
   "id": "9cab611b",
   "metadata": {},
   "source": [
    "# amenity (hopital , école ...)"
   ]
  },
  {
   "cell_type": "code",
   "execution_count": 306,
   "id": "2f227e13",
   "metadata": {
    "ExecuteTime": {
     "end_time": "2023-06-28T12:33:16.766342Z",
     "start_time": "2023-06-28T12:33:16.747392Z"
    }
   },
   "outputs": [],
   "source": [
    "def get_amenity(place_name,region):\n",
    "    tags = {\"amenity\":True }\n",
    "    if place_name.lower()!=\"rhône\": \n",
    "        try:\n",
    "            amenity = ox.geometries_from_place(place_name+\", France\", tags)\n",
    "        except:\n",
    "            amenity = ox.geometries_from_place(place_name, tags)\n",
    "    else:\n",
    "        amenity = ox.geometries_from_place([place_name,\"métropole de Lyon\"], tags)\n",
    "    selected_columns=[\"geometry\" ,\"building\", \"shop\" , \"building:levels\",\"amenity\",\"name\"]\n",
    "    amenity=amenity[selected_columns]\n",
    "    \n",
    "    pickle.dump(amenity,open(path+\"\\\\\"+region.lower()+\"\\\\\"+place_name.lower()+\"\\\\raw data\\\\amenity.pkl\",\"wb\"))"
   ]
  },
  {
   "cell_type": "markdown",
   "id": "709af544",
   "metadata": {},
   "source": [
    "# Natural"
   ]
  },
  {
   "cell_type": "code",
   "execution_count": 307,
   "id": "a37012fe",
   "metadata": {
    "ExecuteTime": {
     "end_time": "2023-06-28T12:33:17.593225Z",
     "start_time": "2023-06-28T12:33:17.573227Z"
    }
   },
   "outputs": [],
   "source": [
    "def get_natural (place_name,region):\n",
    "    tags = {\"natural\":True }   \n",
    "    if place_name.lower()!=\"rhône\": \n",
    "        try:\n",
    "            natural = ox.geometries_from_place(place_name+\", France\", tags)\n",
    "        except:\n",
    "            natural = ox.geometries_from_place(place_name, tags)\n",
    "    else:\n",
    "        natural = ox.geometries_from_place([place_name,\"métropole de Lyon\"], tags)\n",
    "        \n",
    "    natural=natural[[\"geometry\",'natural','name']]\n",
    "    pickle.dump(natural,open(path+\"\\\\\"+region.lower()+\"\\\\\"+place_name.lower()+\"\\\\raw data\\\\natural.pkl\",\"wb\"))"
   ]
  },
  {
   "cell_type": "markdown",
   "id": "5f52117a",
   "metadata": {},
   "source": [
    "# Landuse"
   ]
  },
  {
   "cell_type": "code",
   "execution_count": 308,
   "id": "15a294e9",
   "metadata": {
    "ExecuteTime": {
     "end_time": "2023-06-28T12:33:18.541273Z",
     "start_time": "2023-06-28T12:33:18.527311Z"
    }
   },
   "outputs": [],
   "source": [
    "def get_landuse(place_name,region):\n",
    "    tags = {\"landuse\":True } \n",
    "    if place_name.lower()!=\"rhône\": \n",
    "        try:\n",
    "            landuse = ox.geometries_from_place(place_name+\", France\", tags)\n",
    "        except:\n",
    "            landuse = ox.geometries_from_place(place_name, tags)\n",
    "    else:\n",
    "        landuse = ox.geometries_from_place([place_name,\"métropole de Lyon\"], tags)\n",
    "    landuse=landuse[[\"geometry\",'landuse','name']]\n",
    "    pickle.dump(landuse,open(path+\"\\\\\"+region.lower()+\"\\\\\"+place_name.lower()+\"\\\\raw data\\\\landuse.pkl\",\"wb\"))"
   ]
  },
  {
   "cell_type": "markdown",
   "id": "83e8a616",
   "metadata": {},
   "source": [
    "# Shops (restaurant ,Vêtements...)"
   ]
  },
  {
   "cell_type": "code",
   "execution_count": 309,
   "id": "6b5c6f19",
   "metadata": {
    "ExecuteTime": {
     "end_time": "2023-06-28T12:33:19.505651Z",
     "start_time": "2023-06-28T12:33:19.480942Z"
    }
   },
   "outputs": [],
   "source": [
    "def get_shops (place_name,region):\n",
    "    tags = {\"shop\":True }   \n",
    "    if place_name.lower()!=\"rhône\": \n",
    "        try:\n",
    "            shops = ox.geometries_from_place(place_name+\", France\", tags)\n",
    "        except:\n",
    "            shops = ox.geometries_from_place(place_name, tags)\n",
    "    else:\n",
    "        shops = ox.geometries_from_place([place_name,\"métropole de Lyon\"], tags)\n",
    "        \n",
    "    selected_columns=[\"geometry\" ,\"building\", \"shop\" ,\"amenity\",\"name\", ]\n",
    "    shops=shops[selected_columns]\n",
    "    pickle.dump(shops,open(path+\"\\\\\"+region.lower()+\"\\\\\"+place_name.lower()+\"\\\\raw data\\\\shops.pkl\",\"wb\"))"
   ]
  },
  {
   "cell_type": "markdown",
   "id": "7f3783ac",
   "metadata": {},
   "source": [
    "# Transport"
   ]
  },
  {
   "cell_type": "code",
   "execution_count": 12,
   "id": "87ee6c44",
   "metadata": {
    "ExecuteTime": {
     "end_time": "2023-07-28T12:45:34.043470Z",
     "start_time": "2023-07-28T12:45:34.028074Z"
    }
   },
   "outputs": [],
   "source": [
    "def get_transport(place_name,region):\n",
    "    tags = {\"railway\":[\"station\",'tram_stop'],\"station\":\"subway\"}\n",
    "    if place_name.lower()!=\"rhône\": \n",
    "        try:\n",
    "            public_transports = ox.geometries_from_place(place_name+\", France\", tags=tags)\n",
    "        except:\n",
    "            public_transports = ox.geometries_from_place(place_name, tags=tags)\n",
    "    else:\n",
    "        public_transports = ox.geometries_from_place([place_name,\"métropole de Lyon\"], tags)\n",
    "    selected_columns=['geometry' ,'public_transport','name',\"railway\"]\n",
    "    if \"station\" in public_transports.columns:\n",
    "        selected_columns.append('station')\n",
    "    \n",
    "    public_transports=public_transports[selected_columns]\n",
    "    pickle.dump(public_transports,open(path+\"\\\\\"+region.lower()+\"\\\\\"+place_name.lower()+\"\\\\raw data\\\\public_transports.pkl\",\"wb\"))"
   ]
  },
  {
   "cell_type": "markdown",
   "id": "d1441274",
   "metadata": {},
   "source": [
    "# Rues"
   ]
  },
  {
   "cell_type": "code",
   "execution_count": 311,
   "id": "cb8e06bf",
   "metadata": {
    "ExecuteTime": {
     "end_time": "2023-06-28T12:33:21.802329Z",
     "start_time": "2023-06-28T12:33:21.793325Z"
    }
   },
   "outputs": [],
   "source": [
    "\n",
    "def get_highway(place_name,region):\n",
    "    tags = {\"highway\":True }\n",
    "    \n",
    "    if place_name.lower()!=\"rhône\":  \n",
    "        try:\n",
    "            highways = ox.geometries_from_place(place_name+\", France\", tags)\n",
    "        except:\n",
    "            highways = ox.geometries_from_place(place_name, tags)\n",
    "    else:\n",
    "\n",
    "        highways = ox.geometries_from_place([place_name,\"métropole de Lyon\"], tags)\n",
    "    selected_columns=['geometry' ,'highway','name']\n",
    "    highways=highways[selected_columns]\n",
    "    pickle.dump(highways,open(path+\"\\\\\"+region.lower()+\"\\\\\"+place_name.lower()+\"\\\\raw data\\\\highways.pkl\",\"wb\"))\n",
    "    return highways"
   ]
  },
  {
   "cell_type": "markdown",
   "id": "e605d6f5",
   "metadata": {},
   "source": [
    "# Tourism"
   ]
  },
  {
   "cell_type": "code",
   "execution_count": 312,
   "id": "a47b8368",
   "metadata": {
    "ExecuteTime": {
     "end_time": "2023-06-28T12:33:23.062021Z",
     "start_time": "2023-06-28T12:33:23.044036Z"
    }
   },
   "outputs": [],
   "source": [
    "def get_tourism(place_name,region):\n",
    "    tags = {\"tourism\":True }   \n",
    "    if place_name.lower()!=\"rhône\": \n",
    "        try:\n",
    "            tourism = ox.geometries_from_place(place_name+\", France\", tags)\n",
    "        except:\n",
    "            tourism = ox.geometries_from_place(place_name, tags)\n",
    "    else:\n",
    "        tourism = ox.geometries_from_place([place_name,\"métropole de Lyon\"], tags)\n",
    "    selected_columns=[\"name\", \"geometry\",\"tourism\",\"stars\"]\n",
    "    tourism=tourism[selected_columns]\n",
    "    pickle.dump(tourism,open(path+\"\\\\\"+region.lower()+\"\\\\\"+place_name.lower()+\"\\\\raw data\\\\tourism.pkl\",\"wb\"))"
   ]
  },
  {
   "cell_type": "markdown",
   "id": "c5e78100",
   "metadata": {},
   "source": [
    "# Loisir"
   ]
  },
  {
   "cell_type": "code",
   "execution_count": 313,
   "id": "25b821e5",
   "metadata": {
    "ExecuteTime": {
     "end_time": "2023-06-28T12:33:24.255618Z",
     "start_time": "2023-06-28T12:33:24.242652Z"
    }
   },
   "outputs": [],
   "source": [
    "def get_leisure(place_name,region):\n",
    "    tags = {\"leisure\":True }\n",
    "    if place_name.lower()!=\"rhône\": \n",
    "        try:\n",
    "            leisure = ox.geometries_from_place(place_name+\", France\", tags)\n",
    "        except:\n",
    "            leisure = ox.geometries_from_place(place_name, tags)\n",
    "    else:\n",
    "        leisure = ox.geometries_from_place([place_name,\"métropole de Lyon\"], tags)\n",
    "        \n",
    "        \n",
    "    selected_columns=[\"name\", \"geometry\",\"leisure\"]\n",
    "    leisure=leisure[selected_columns]\n",
    "    pickle.dump(leisure,open(path+\"\\\\\"+region.lower()+\"\\\\\"+place_name.lower()+\"\\\\raw data\\\\leisure.pkl\",\"wb\"))"
   ]
  },
  {
   "cell_type": "code",
   "execution_count": null,
   "id": "315f583a",
   "metadata": {},
   "outputs": [],
   "source": []
  },
  {
   "cell_type": "markdown",
   "id": "895ba182",
   "metadata": {
    "ExecuteTime": {
     "end_time": "2023-04-18T08:08:32.073327Z",
     "start_time": "2023-04-18T08:08:32.031027Z"
    }
   },
   "source": [
    "# For Loop"
   ]
  },
  {
   "cell_type": "code",
   "execution_count": 161,
   "id": "69316ae9",
   "metadata": {
    "ExecuteTime": {
     "end_time": "2023-06-20T08:31:27.412980Z",
     "start_time": "2023-06-20T08:31:26.604307Z"
    }
   },
   "outputs": [],
   "source": [
    "#creation des dossiers\n",
    "from pathlib import Path\n",
    "\n",
    "for i,row in list_departement.iterrows():\n",
    "\n",
    "        Path(r\"Y:\\RECHERCHE ET DEV\\10_Modèle d'attractivite des rues\\04_données clients (source)\\osm\\\\\"+row['Région'].lower()+\"\\\\\"+row[\"Département\"].lower()+\"\\\\raw data\").mkdir(parents=True, exist_ok=True)\n",
    "        Path(r\"Y:\\RECHERCHE ET DEV\\10_Modèle d'attractivite des rues\\04_données clients (source)\\osm\\\\\"+row['Région'].lower()+\"\\\\\"+row[\"Département\"].lower()+\"\\\\processed data\").mkdir(parents=True, exist_ok=True)\n",
    "        Path(r\"Y:\\RECHERCHE ET DEV\\10_Modèle d'attractivite des rues\\04_données clients (source)\\osm\\\\\"+row['Région'].lower()+\"\\\\\"+row[\"Département\"].lower()+\"\\\\association\").mkdir(parents=True, exist_ok=True)\n"
   ]
  },
  {
   "cell_type": "code",
   "execution_count": 13,
   "id": "5accf400",
   "metadata": {
    "ExecuteTime": {
     "end_time": "2023-07-28T12:55:25.420632Z",
     "start_time": "2023-07-28T12:45:36.534286Z"
    }
   },
   "outputs": [
    {
     "name": "stderr",
     "output_type": "stream",
     "text": [
      "C:\\Users\\Diametrix\\AppData\\Local\\Temp\\ipykernel_2908\\1413762832.py:15: ResourceWarning: unclosed file <_io.BufferedWriter name=\"Y:\\\\RECHERCHE ET DEV\\\\10_Modèle d'attractivite des rues\\\\04_données clients (source)\\\\osm\\\\auvergne-rhône-alpes\\\\ain\\\\raw data\\\\public_transports.pkl\">\n",
      "  pickle.dump(public_transports,open(path+\"\\\\\"+region.lower()+\"\\\\\"+place_name.lower()+\"\\\\raw data\\\\public_transports.pkl\",\"wb\"))\n",
      "ResourceWarning: Enable tracemalloc to get the object allocation traceback\n",
      "C:\\Users\\Diametrix\\AppData\\Local\\Temp\\ipykernel_2908\\1413762832.py:15: ResourceWarning: unclosed file <_io.BufferedWriter name=\"Y:\\\\RECHERCHE ET DEV\\\\10_Modèle d'attractivite des rues\\\\04_données clients (source)\\\\osm\\\\hauts-de-france\\\\aisne\\\\raw data\\\\public_transports.pkl\">\n",
      "  pickle.dump(public_transports,open(path+\"\\\\\"+region.lower()+\"\\\\\"+place_name.lower()+\"\\\\raw data\\\\public_transports.pkl\",\"wb\"))\n",
      "ResourceWarning: Enable tracemalloc to get the object allocation traceback\n",
      "C:\\Users\\Diametrix\\AppData\\Local\\Temp\\ipykernel_2908\\1413762832.py:15: ResourceWarning: unclosed file <_io.BufferedWriter name=\"Y:\\\\RECHERCHE ET DEV\\\\10_Modèle d'attractivite des rues\\\\04_données clients (source)\\\\osm\\\\auvergne-rhône-alpes\\\\allier\\\\raw data\\\\public_transports.pkl\">\n",
      "  pickle.dump(public_transports,open(path+\"\\\\\"+region.lower()+\"\\\\\"+place_name.lower()+\"\\\\raw data\\\\public_transports.pkl\",\"wb\"))\n",
      "ResourceWarning: Enable tracemalloc to get the object allocation traceback\n",
      "C:\\Users\\Diametrix\\AppData\\Local\\Temp\\ipykernel_2908\\1413762832.py:15: ResourceWarning: unclosed file <_io.BufferedWriter name=\"Y:\\\\RECHERCHE ET DEV\\\\10_Modèle d'attractivite des rues\\\\04_données clients (source)\\\\osm\\\\provence-alpes-côte d'azur\\\\alpes-de-haute-provence\\\\raw data\\\\public_transports.pkl\">\n",
      "  pickle.dump(public_transports,open(path+\"\\\\\"+region.lower()+\"\\\\\"+place_name.lower()+\"\\\\raw data\\\\public_transports.pkl\",\"wb\"))\n",
      "ResourceWarning: Enable tracemalloc to get the object allocation traceback\n",
      "C:\\Users\\Diametrix\\AppData\\Local\\Temp\\ipykernel_2908\\1413762832.py:15: ResourceWarning: unclosed file <_io.BufferedWriter name=\"Y:\\\\RECHERCHE ET DEV\\\\10_Modèle d'attractivite des rues\\\\04_données clients (source)\\\\osm\\\\provence-alpes-côte d'azur\\\\hautes-alpes\\\\raw data\\\\public_transports.pkl\">\n",
      "  pickle.dump(public_transports,open(path+\"\\\\\"+region.lower()+\"\\\\\"+place_name.lower()+\"\\\\raw data\\\\public_transports.pkl\",\"wb\"))\n",
      "ResourceWarning: Enable tracemalloc to get the object allocation traceback\n",
      "C:\\Users\\Diametrix\\AppData\\Local\\Temp\\ipykernel_2908\\1413762832.py:15: ResourceWarning: unclosed file <_io.BufferedWriter name=\"Y:\\\\RECHERCHE ET DEV\\\\10_Modèle d'attractivite des rues\\\\04_données clients (source)\\\\osm\\\\provence-alpes-côte d'azur\\\\alpes-maritimes\\\\raw data\\\\public_transports.pkl\">\n",
      "  pickle.dump(public_transports,open(path+\"\\\\\"+region.lower()+\"\\\\\"+place_name.lower()+\"\\\\raw data\\\\public_transports.pkl\",\"wb\"))\n",
      "ResourceWarning: Enable tracemalloc to get the object allocation traceback\n",
      "C:\\Users\\Diametrix\\AppData\\Local\\Temp\\ipykernel_2908\\1413762832.py:15: ResourceWarning: unclosed file <_io.BufferedWriter name=\"Y:\\\\RECHERCHE ET DEV\\\\10_Modèle d'attractivite des rues\\\\04_données clients (source)\\\\osm\\\\auvergne-rhône-alpes\\\\ardèche\\\\raw data\\\\public_transports.pkl\">\n",
      "  pickle.dump(public_transports,open(path+\"\\\\\"+region.lower()+\"\\\\\"+place_name.lower()+\"\\\\raw data\\\\public_transports.pkl\",\"wb\"))\n",
      "ResourceWarning: Enable tracemalloc to get the object allocation traceback\n",
      "C:\\Users\\Diametrix\\AppData\\Local\\Temp\\ipykernel_2908\\1413762832.py:15: ResourceWarning: unclosed file <_io.BufferedWriter name=\"Y:\\\\RECHERCHE ET DEV\\\\10_Modèle d'attractivite des rues\\\\04_données clients (source)\\\\osm\\\\grand est\\\\ardennes\\\\raw data\\\\public_transports.pkl\">\n",
      "  pickle.dump(public_transports,open(path+\"\\\\\"+region.lower()+\"\\\\\"+place_name.lower()+\"\\\\raw data\\\\public_transports.pkl\",\"wb\"))\n",
      "ResourceWarning: Enable tracemalloc to get the object allocation traceback\n",
      "C:\\Users\\Diametrix\\AppData\\Local\\Temp\\ipykernel_2908\\1413762832.py:15: ResourceWarning: unclosed file <_io.BufferedWriter name=\"Y:\\\\RECHERCHE ET DEV\\\\10_Modèle d'attractivite des rues\\\\04_données clients (source)\\\\osm\\\\occitanie\\\\ariège\\\\raw data\\\\public_transports.pkl\">\n",
      "  pickle.dump(public_transports,open(path+\"\\\\\"+region.lower()+\"\\\\\"+place_name.lower()+\"\\\\raw data\\\\public_transports.pkl\",\"wb\"))\n",
      "ResourceWarning: Enable tracemalloc to get the object allocation traceback\n",
      "C:\\Users\\Diametrix\\AppData\\Local\\Temp\\ipykernel_2908\\1413762832.py:15: ResourceWarning: unclosed file <_io.BufferedWriter name=\"Y:\\\\RECHERCHE ET DEV\\\\10_Modèle d'attractivite des rues\\\\04_données clients (source)\\\\osm\\\\grand est\\\\aube\\\\raw data\\\\public_transports.pkl\">\n",
      "  pickle.dump(public_transports,open(path+\"\\\\\"+region.lower()+\"\\\\\"+place_name.lower()+\"\\\\raw data\\\\public_transports.pkl\",\"wb\"))\n",
      "ResourceWarning: Enable tracemalloc to get the object allocation traceback\n",
      "C:\\Users\\Diametrix\\AppData\\Local\\Temp\\ipykernel_2908\\1413762832.py:15: ResourceWarning: unclosed file <_io.BufferedWriter name=\"Y:\\\\RECHERCHE ET DEV\\\\10_Modèle d'attractivite des rues\\\\04_données clients (source)\\\\osm\\\\occitanie\\\\aude\\\\raw data\\\\public_transports.pkl\">\n",
      "  pickle.dump(public_transports,open(path+\"\\\\\"+region.lower()+\"\\\\\"+place_name.lower()+\"\\\\raw data\\\\public_transports.pkl\",\"wb\"))\n",
      "ResourceWarning: Enable tracemalloc to get the object allocation traceback\n",
      "C:\\Users\\Diametrix\\AppData\\Local\\Temp\\ipykernel_2908\\1413762832.py:15: ResourceWarning: unclosed file <_io.BufferedWriter name=\"Y:\\\\RECHERCHE ET DEV\\\\10_Modèle d'attractivite des rues\\\\04_données clients (source)\\\\osm\\\\occitanie\\\\aveyron\\\\raw data\\\\public_transports.pkl\">\n",
      "  pickle.dump(public_transports,open(path+\"\\\\\"+region.lower()+\"\\\\\"+place_name.lower()+\"\\\\raw data\\\\public_transports.pkl\",\"wb\"))\n",
      "ResourceWarning: Enable tracemalloc to get the object allocation traceback\n",
      "C:\\Users\\Diametrix\\AppData\\Local\\Temp\\ipykernel_2908\\1413762832.py:15: ResourceWarning: unclosed file <_io.BufferedWriter name=\"Y:\\\\RECHERCHE ET DEV\\\\10_Modèle d'attractivite des rues\\\\04_données clients (source)\\\\osm\\\\provence-alpes-côte d'azur\\\\bouches-du-rhône\\\\raw data\\\\public_transports.pkl\">\n",
      "  pickle.dump(public_transports,open(path+\"\\\\\"+region.lower()+\"\\\\\"+place_name.lower()+\"\\\\raw data\\\\public_transports.pkl\",\"wb\"))\n",
      "ResourceWarning: Enable tracemalloc to get the object allocation traceback\n",
      "C:\\Users\\Diametrix\\AppData\\Local\\Temp\\ipykernel_2908\\1413762832.py:15: ResourceWarning: unclosed file <_io.BufferedWriter name=\"Y:\\\\RECHERCHE ET DEV\\\\10_Modèle d'attractivite des rues\\\\04_données clients (source)\\\\osm\\\\normandie\\\\calvados\\\\raw data\\\\public_transports.pkl\">\n",
      "  pickle.dump(public_transports,open(path+\"\\\\\"+region.lower()+\"\\\\\"+place_name.lower()+\"\\\\raw data\\\\public_transports.pkl\",\"wb\"))\n",
      "ResourceWarning: Enable tracemalloc to get the object allocation traceback\n",
      "C:\\Users\\Diametrix\\AppData\\Local\\Temp\\ipykernel_2908\\1413762832.py:15: ResourceWarning: unclosed file <_io.BufferedWriter name=\"Y:\\\\RECHERCHE ET DEV\\\\10_Modèle d'attractivite des rues\\\\04_données clients (source)\\\\osm\\\\auvergne-rhône-alpes\\\\cantal\\\\raw data\\\\public_transports.pkl\">\n",
      "  pickle.dump(public_transports,open(path+\"\\\\\"+region.lower()+\"\\\\\"+place_name.lower()+\"\\\\raw data\\\\public_transports.pkl\",\"wb\"))\n",
      "ResourceWarning: Enable tracemalloc to get the object allocation traceback\n",
      "C:\\Users\\Diametrix\\AppData\\Local\\Temp\\ipykernel_2908\\1413762832.py:15: ResourceWarning: unclosed file <_io.BufferedWriter name=\"Y:\\\\RECHERCHE ET DEV\\\\10_Modèle d'attractivite des rues\\\\04_données clients (source)\\\\osm\\\\nouvelle-aquitaine\\\\charente\\\\raw data\\\\public_transports.pkl\">\n",
      "  pickle.dump(public_transports,open(path+\"\\\\\"+region.lower()+\"\\\\\"+place_name.lower()+\"\\\\raw data\\\\public_transports.pkl\",\"wb\"))\n",
      "ResourceWarning: Enable tracemalloc to get the object allocation traceback\n",
      "C:\\Users\\Diametrix\\AppData\\Local\\Temp\\ipykernel_2908\\1413762832.py:15: ResourceWarning: unclosed file <_io.BufferedWriter name=\"Y:\\\\RECHERCHE ET DEV\\\\10_Modèle d'attractivite des rues\\\\04_données clients (source)\\\\osm\\\\nouvelle-aquitaine\\\\charente-maritime\\\\raw data\\\\public_transports.pkl\">\n",
      "  pickle.dump(public_transports,open(path+\"\\\\\"+region.lower()+\"\\\\\"+place_name.lower()+\"\\\\raw data\\\\public_transports.pkl\",\"wb\"))\n",
      "ResourceWarning: Enable tracemalloc to get the object allocation traceback\n"
     ]
    },
    {
     "name": "stderr",
     "output_type": "stream",
     "text": [
      "C:\\Users\\Diametrix\\AppData\\Local\\Temp\\ipykernel_2908\\1413762832.py:15: ResourceWarning: unclosed file <_io.BufferedWriter name=\"Y:\\\\RECHERCHE ET DEV\\\\10_Modèle d'attractivite des rues\\\\04_données clients (source)\\\\osm\\\\centre-val de loire\\\\cher\\\\raw data\\\\public_transports.pkl\">\n",
      "  pickle.dump(public_transports,open(path+\"\\\\\"+region.lower()+\"\\\\\"+place_name.lower()+\"\\\\raw data\\\\public_transports.pkl\",\"wb\"))\n",
      "ResourceWarning: Enable tracemalloc to get the object allocation traceback\n",
      "C:\\Users\\Diametrix\\AppData\\Local\\Temp\\ipykernel_2908\\1413762832.py:15: ResourceWarning: unclosed file <_io.BufferedWriter name=\"Y:\\\\RECHERCHE ET DEV\\\\10_Modèle d'attractivite des rues\\\\04_données clients (source)\\\\osm\\\\nouvelle-aquitaine\\\\corrèze\\\\raw data\\\\public_transports.pkl\">\n",
      "  pickle.dump(public_transports,open(path+\"\\\\\"+region.lower()+\"\\\\\"+place_name.lower()+\"\\\\raw data\\\\public_transports.pkl\",\"wb\"))\n",
      "ResourceWarning: Enable tracemalloc to get the object allocation traceback\n",
      "C:\\Users\\Diametrix\\AppData\\Local\\Temp\\ipykernel_2908\\1413762832.py:15: ResourceWarning: unclosed file <_io.BufferedWriter name=\"Y:\\\\RECHERCHE ET DEV\\\\10_Modèle d'attractivite des rues\\\\04_données clients (source)\\\\osm\\\\corse\\\\corse-du-sud\\\\raw data\\\\public_transports.pkl\">\n",
      "  pickle.dump(public_transports,open(path+\"\\\\\"+region.lower()+\"\\\\\"+place_name.lower()+\"\\\\raw data\\\\public_transports.pkl\",\"wb\"))\n",
      "ResourceWarning: Enable tracemalloc to get the object allocation traceback\n",
      "C:\\Users\\Diametrix\\AppData\\Local\\Temp\\ipykernel_2908\\1413762832.py:15: ResourceWarning: unclosed file <_io.BufferedWriter name=\"Y:\\\\RECHERCHE ET DEV\\\\10_Modèle d'attractivite des rues\\\\04_données clients (source)\\\\osm\\\\corse\\\\haute-corse\\\\raw data\\\\public_transports.pkl\">\n",
      "  pickle.dump(public_transports,open(path+\"\\\\\"+region.lower()+\"\\\\\"+place_name.lower()+\"\\\\raw data\\\\public_transports.pkl\",\"wb\"))\n",
      "ResourceWarning: Enable tracemalloc to get the object allocation traceback\n",
      "C:\\Users\\Diametrix\\AppData\\Local\\Temp\\ipykernel_2908\\1413762832.py:15: ResourceWarning: unclosed file <_io.BufferedWriter name=\"Y:\\\\RECHERCHE ET DEV\\\\10_Modèle d'attractivite des rues\\\\04_données clients (source)\\\\osm\\\\bourgogne-franche-comté\\\\côte-d'or\\\\raw data\\\\public_transports.pkl\">\n",
      "  pickle.dump(public_transports,open(path+\"\\\\\"+region.lower()+\"\\\\\"+place_name.lower()+\"\\\\raw data\\\\public_transports.pkl\",\"wb\"))\n",
      "ResourceWarning: Enable tracemalloc to get the object allocation traceback\n",
      "C:\\Users\\Diametrix\\AppData\\Local\\Temp\\ipykernel_2908\\1413762832.py:15: ResourceWarning: unclosed file <_io.BufferedWriter name=\"Y:\\\\RECHERCHE ET DEV\\\\10_Modèle d'attractivite des rues\\\\04_données clients (source)\\\\osm\\\\bretagne\\\\côtes d'armor\\\\raw data\\\\public_transports.pkl\">\n",
      "  pickle.dump(public_transports,open(path+\"\\\\\"+region.lower()+\"\\\\\"+place_name.lower()+\"\\\\raw data\\\\public_transports.pkl\",\"wb\"))\n",
      "ResourceWarning: Enable tracemalloc to get the object allocation traceback\n",
      "C:\\Users\\Diametrix\\AppData\\Local\\Temp\\ipykernel_2908\\1413762832.py:15: ResourceWarning: unclosed file <_io.BufferedWriter name=\"Y:\\\\RECHERCHE ET DEV\\\\10_Modèle d'attractivite des rues\\\\04_données clients (source)\\\\osm\\\\nouvelle-aquitaine\\\\creuse\\\\raw data\\\\public_transports.pkl\">\n",
      "  pickle.dump(public_transports,open(path+\"\\\\\"+region.lower()+\"\\\\\"+place_name.lower()+\"\\\\raw data\\\\public_transports.pkl\",\"wb\"))\n",
      "ResourceWarning: Enable tracemalloc to get the object allocation traceback\n",
      "C:\\Users\\Diametrix\\AppData\\Local\\Temp\\ipykernel_2908\\1413762832.py:15: ResourceWarning: unclosed file <_io.BufferedWriter name=\"Y:\\\\RECHERCHE ET DEV\\\\10_Modèle d'attractivite des rues\\\\04_données clients (source)\\\\osm\\\\nouvelle-aquitaine\\\\dordogne\\\\raw data\\\\public_transports.pkl\">\n",
      "  pickle.dump(public_transports,open(path+\"\\\\\"+region.lower()+\"\\\\\"+place_name.lower()+\"\\\\raw data\\\\public_transports.pkl\",\"wb\"))\n",
      "ResourceWarning: Enable tracemalloc to get the object allocation traceback\n",
      "C:\\Users\\Diametrix\\AppData\\Local\\Temp\\ipykernel_2908\\1413762832.py:15: ResourceWarning: unclosed file <_io.BufferedWriter name=\"Y:\\\\RECHERCHE ET DEV\\\\10_Modèle d'attractivite des rues\\\\04_données clients (source)\\\\osm\\\\bourgogne-franche-comté\\\\doubs\\\\raw data\\\\public_transports.pkl\">\n",
      "  pickle.dump(public_transports,open(path+\"\\\\\"+region.lower()+\"\\\\\"+place_name.lower()+\"\\\\raw data\\\\public_transports.pkl\",\"wb\"))\n",
      "ResourceWarning: Enable tracemalloc to get the object allocation traceback\n",
      "C:\\Users\\Diametrix\\AppData\\Local\\Temp\\ipykernel_2908\\1413762832.py:15: ResourceWarning: unclosed file <_io.BufferedWriter name=\"Y:\\\\RECHERCHE ET DEV\\\\10_Modèle d'attractivite des rues\\\\04_données clients (source)\\\\osm\\\\auvergne-rhône-alpes\\\\drôme\\\\raw data\\\\public_transports.pkl\">\n",
      "  pickle.dump(public_transports,open(path+\"\\\\\"+region.lower()+\"\\\\\"+place_name.lower()+\"\\\\raw data\\\\public_transports.pkl\",\"wb\"))\n",
      "ResourceWarning: Enable tracemalloc to get the object allocation traceback\n",
      "C:\\Users\\Diametrix\\AppData\\Local\\Temp\\ipykernel_2908\\1413762832.py:15: ResourceWarning: unclosed file <_io.BufferedWriter name=\"Y:\\\\RECHERCHE ET DEV\\\\10_Modèle d'attractivite des rues\\\\04_données clients (source)\\\\osm\\\\normandie\\\\eure\\\\raw data\\\\public_transports.pkl\">\n",
      "  pickle.dump(public_transports,open(path+\"\\\\\"+region.lower()+\"\\\\\"+place_name.lower()+\"\\\\raw data\\\\public_transports.pkl\",\"wb\"))\n",
      "ResourceWarning: Enable tracemalloc to get the object allocation traceback\n",
      "C:\\Users\\Diametrix\\AppData\\Local\\Temp\\ipykernel_2908\\1413762832.py:15: ResourceWarning: unclosed file <_io.BufferedWriter name=\"Y:\\\\RECHERCHE ET DEV\\\\10_Modèle d'attractivite des rues\\\\04_données clients (source)\\\\osm\\\\centre-val de loire\\\\eure-et-loir\\\\raw data\\\\public_transports.pkl\">\n",
      "  pickle.dump(public_transports,open(path+\"\\\\\"+region.lower()+\"\\\\\"+place_name.lower()+\"\\\\raw data\\\\public_transports.pkl\",\"wb\"))\n",
      "ResourceWarning: Enable tracemalloc to get the object allocation traceback\n",
      "C:\\Users\\Diametrix\\AppData\\Local\\Temp\\ipykernel_2908\\1413762832.py:15: ResourceWarning: unclosed file <_io.BufferedWriter name=\"Y:\\\\RECHERCHE ET DEV\\\\10_Modèle d'attractivite des rues\\\\04_données clients (source)\\\\osm\\\\bretagne\\\\finistère\\\\raw data\\\\public_transports.pkl\">\n",
      "  pickle.dump(public_transports,open(path+\"\\\\\"+region.lower()+\"\\\\\"+place_name.lower()+\"\\\\raw data\\\\public_transports.pkl\",\"wb\"))\n",
      "ResourceWarning: Enable tracemalloc to get the object allocation traceback\n",
      "C:\\Users\\Diametrix\\AppData\\Local\\Temp\\ipykernel_2908\\1413762832.py:15: ResourceWarning: unclosed file <_io.BufferedWriter name=\"Y:\\\\RECHERCHE ET DEV\\\\10_Modèle d'attractivite des rues\\\\04_données clients (source)\\\\osm\\\\occitanie\\\\gard\\\\raw data\\\\public_transports.pkl\">\n",
      "  pickle.dump(public_transports,open(path+\"\\\\\"+region.lower()+\"\\\\\"+place_name.lower()+\"\\\\raw data\\\\public_transports.pkl\",\"wb\"))\n",
      "ResourceWarning: Enable tracemalloc to get the object allocation traceback\n",
      "C:\\Users\\Diametrix\\AppData\\Local\\Temp\\ipykernel_2908\\1413762832.py:15: ResourceWarning: unclosed file <_io.BufferedWriter name=\"Y:\\\\RECHERCHE ET DEV\\\\10_Modèle d'attractivite des rues\\\\04_données clients (source)\\\\osm\\\\occitanie\\\\haute-garonne\\\\raw data\\\\public_transports.pkl\">\n",
      "  pickle.dump(public_transports,open(path+\"\\\\\"+region.lower()+\"\\\\\"+place_name.lower()+\"\\\\raw data\\\\public_transports.pkl\",\"wb\"))\n",
      "ResourceWarning: Enable tracemalloc to get the object allocation traceback\n",
      "C:\\Users\\Diametrix\\AppData\\Local\\Temp\\ipykernel_2908\\1413762832.py:15: ResourceWarning: unclosed file <_io.BufferedWriter name=\"Y:\\\\RECHERCHE ET DEV\\\\10_Modèle d'attractivite des rues\\\\04_données clients (source)\\\\osm\\\\occitanie\\\\gers\\\\raw data\\\\public_transports.pkl\">\n",
      "  pickle.dump(public_transports,open(path+\"\\\\\"+region.lower()+\"\\\\\"+place_name.lower()+\"\\\\raw data\\\\public_transports.pkl\",\"wb\"))\n",
      "ResourceWarning: Enable tracemalloc to get the object allocation traceback\n",
      "C:\\Users\\Diametrix\\AppData\\Local\\Temp\\ipykernel_2908\\1413762832.py:15: ResourceWarning: unclosed file <_io.BufferedWriter name=\"Y:\\\\RECHERCHE ET DEV\\\\10_Modèle d'attractivite des rues\\\\04_données clients (source)\\\\osm\\\\nouvelle-aquitaine\\\\gironde\\\\raw data\\\\public_transports.pkl\">\n",
      "  pickle.dump(public_transports,open(path+\"\\\\\"+region.lower()+\"\\\\\"+place_name.lower()+\"\\\\raw data\\\\public_transports.pkl\",\"wb\"))\n",
      "ResourceWarning: Enable tracemalloc to get the object allocation traceback\n"
     ]
    },
    {
     "name": "stderr",
     "output_type": "stream",
     "text": [
      "C:\\Users\\Diametrix\\AppData\\Local\\Temp\\ipykernel_2908\\1413762832.py:15: ResourceWarning: unclosed file <_io.BufferedWriter name=\"Y:\\\\RECHERCHE ET DEV\\\\10_Modèle d'attractivite des rues\\\\04_données clients (source)\\\\osm\\\\occitanie\\\\hérault\\\\raw data\\\\public_transports.pkl\">\n",
      "  pickle.dump(public_transports,open(path+\"\\\\\"+region.lower()+\"\\\\\"+place_name.lower()+\"\\\\raw data\\\\public_transports.pkl\",\"wb\"))\n",
      "ResourceWarning: Enable tracemalloc to get the object allocation traceback\n",
      "C:\\Users\\Diametrix\\AppData\\Local\\Temp\\ipykernel_2908\\1413762832.py:15: ResourceWarning: unclosed file <_io.BufferedWriter name=\"Y:\\\\RECHERCHE ET DEV\\\\10_Modèle d'attractivite des rues\\\\04_données clients (source)\\\\osm\\\\bretagne\\\\ille-et-vilaine\\\\raw data\\\\public_transports.pkl\">\n",
      "  pickle.dump(public_transports,open(path+\"\\\\\"+region.lower()+\"\\\\\"+place_name.lower()+\"\\\\raw data\\\\public_transports.pkl\",\"wb\"))\n",
      "ResourceWarning: Enable tracemalloc to get the object allocation traceback\n",
      "C:\\Users\\Diametrix\\AppData\\Local\\Temp\\ipykernel_2908\\1413762832.py:15: ResourceWarning: unclosed file <_io.BufferedWriter name=\"Y:\\\\RECHERCHE ET DEV\\\\10_Modèle d'attractivite des rues\\\\04_données clients (source)\\\\osm\\\\centre-val de loire\\\\indre\\\\raw data\\\\public_transports.pkl\">\n",
      "  pickle.dump(public_transports,open(path+\"\\\\\"+region.lower()+\"\\\\\"+place_name.lower()+\"\\\\raw data\\\\public_transports.pkl\",\"wb\"))\n",
      "ResourceWarning: Enable tracemalloc to get the object allocation traceback\n",
      "C:\\Users\\Diametrix\\AppData\\Local\\Temp\\ipykernel_2908\\1413762832.py:15: ResourceWarning: unclosed file <_io.BufferedWriter name=\"Y:\\\\RECHERCHE ET DEV\\\\10_Modèle d'attractivite des rues\\\\04_données clients (source)\\\\osm\\\\centre-val de loire\\\\indre-et-loire\\\\raw data\\\\public_transports.pkl\">\n",
      "  pickle.dump(public_transports,open(path+\"\\\\\"+region.lower()+\"\\\\\"+place_name.lower()+\"\\\\raw data\\\\public_transports.pkl\",\"wb\"))\n",
      "ResourceWarning: Enable tracemalloc to get the object allocation traceback\n",
      "C:\\Users\\Diametrix\\AppData\\Local\\Temp\\ipykernel_2908\\1413762832.py:15: ResourceWarning: unclosed file <_io.BufferedWriter name=\"Y:\\\\RECHERCHE ET DEV\\\\10_Modèle d'attractivite des rues\\\\04_données clients (source)\\\\osm\\\\auvergne-rhône-alpes\\\\isère\\\\raw data\\\\public_transports.pkl\">\n",
      "  pickle.dump(public_transports,open(path+\"\\\\\"+region.lower()+\"\\\\\"+place_name.lower()+\"\\\\raw data\\\\public_transports.pkl\",\"wb\"))\n",
      "ResourceWarning: Enable tracemalloc to get the object allocation traceback\n",
      "C:\\Users\\Diametrix\\AppData\\Local\\Temp\\ipykernel_2908\\1413762832.py:15: ResourceWarning: unclosed file <_io.BufferedWriter name=\"Y:\\\\RECHERCHE ET DEV\\\\10_Modèle d'attractivite des rues\\\\04_données clients (source)\\\\osm\\\\bourgogne-franche-comté\\\\jura\\\\raw data\\\\public_transports.pkl\">\n",
      "  pickle.dump(public_transports,open(path+\"\\\\\"+region.lower()+\"\\\\\"+place_name.lower()+\"\\\\raw data\\\\public_transports.pkl\",\"wb\"))\n",
      "ResourceWarning: Enable tracemalloc to get the object allocation traceback\n",
      "C:\\Users\\Diametrix\\AppData\\Local\\Temp\\ipykernel_2908\\1413762832.py:15: ResourceWarning: unclosed file <_io.BufferedWriter name=\"Y:\\\\RECHERCHE ET DEV\\\\10_Modèle d'attractivite des rues\\\\04_données clients (source)\\\\osm\\\\nouvelle-aquitaine\\\\landes\\\\raw data\\\\public_transports.pkl\">\n",
      "  pickle.dump(public_transports,open(path+\"\\\\\"+region.lower()+\"\\\\\"+place_name.lower()+\"\\\\raw data\\\\public_transports.pkl\",\"wb\"))\n",
      "ResourceWarning: Enable tracemalloc to get the object allocation traceback\n",
      "C:\\Users\\Diametrix\\AppData\\Local\\Temp\\ipykernel_2908\\1413762832.py:15: ResourceWarning: unclosed file <_io.BufferedWriter name=\"Y:\\\\RECHERCHE ET DEV\\\\10_Modèle d'attractivite des rues\\\\04_données clients (source)\\\\osm\\\\centre-val de loire\\\\loir-et-cher\\\\raw data\\\\public_transports.pkl\">\n",
      "  pickle.dump(public_transports,open(path+\"\\\\\"+region.lower()+\"\\\\\"+place_name.lower()+\"\\\\raw data\\\\public_transports.pkl\",\"wb\"))\n",
      "ResourceWarning: Enable tracemalloc to get the object allocation traceback\n",
      "C:\\Users\\Diametrix\\AppData\\Local\\Temp\\ipykernel_2908\\1413762832.py:15: ResourceWarning: unclosed file <_io.BufferedWriter name=\"Y:\\\\RECHERCHE ET DEV\\\\10_Modèle d'attractivite des rues\\\\04_données clients (source)\\\\osm\\\\auvergne-rhône-alpes\\\\loire\\\\raw data\\\\public_transports.pkl\">\n",
      "  pickle.dump(public_transports,open(path+\"\\\\\"+region.lower()+\"\\\\\"+place_name.lower()+\"\\\\raw data\\\\public_transports.pkl\",\"wb\"))\n",
      "ResourceWarning: Enable tracemalloc to get the object allocation traceback\n",
      "C:\\Users\\Diametrix\\AppData\\Local\\Temp\\ipykernel_2908\\1413762832.py:15: ResourceWarning: unclosed file <_io.BufferedWriter name=\"Y:\\\\RECHERCHE ET DEV\\\\10_Modèle d'attractivite des rues\\\\04_données clients (source)\\\\osm\\\\auvergne-rhône-alpes\\\\haute-loire\\\\raw data\\\\public_transports.pkl\">\n",
      "  pickle.dump(public_transports,open(path+\"\\\\\"+region.lower()+\"\\\\\"+place_name.lower()+\"\\\\raw data\\\\public_transports.pkl\",\"wb\"))\n",
      "ResourceWarning: Enable tracemalloc to get the object allocation traceback\n",
      "C:\\Users\\Diametrix\\AppData\\Local\\Temp\\ipykernel_2908\\1413762832.py:15: ResourceWarning: unclosed file <_io.BufferedWriter name=\"Y:\\\\RECHERCHE ET DEV\\\\10_Modèle d'attractivite des rues\\\\04_données clients (source)\\\\osm\\\\pays de la loire\\\\loire-atlantique\\\\raw data\\\\public_transports.pkl\">\n",
      "  pickle.dump(public_transports,open(path+\"\\\\\"+region.lower()+\"\\\\\"+place_name.lower()+\"\\\\raw data\\\\public_transports.pkl\",\"wb\"))\n",
      "ResourceWarning: Enable tracemalloc to get the object allocation traceback\n",
      "C:\\Users\\Diametrix\\AppData\\Local\\Temp\\ipykernel_2908\\1413762832.py:15: ResourceWarning: unclosed file <_io.BufferedWriter name=\"Y:\\\\RECHERCHE ET DEV\\\\10_Modèle d'attractivite des rues\\\\04_données clients (source)\\\\osm\\\\centre-val de loire\\\\loiret\\\\raw data\\\\public_transports.pkl\">\n",
      "  pickle.dump(public_transports,open(path+\"\\\\\"+region.lower()+\"\\\\\"+place_name.lower()+\"\\\\raw data\\\\public_transports.pkl\",\"wb\"))\n",
      "ResourceWarning: Enable tracemalloc to get the object allocation traceback\n",
      "C:\\Users\\Diametrix\\AppData\\Local\\Temp\\ipykernel_2908\\1413762832.py:15: ResourceWarning: unclosed file <_io.BufferedWriter name=\"Y:\\\\RECHERCHE ET DEV\\\\10_Modèle d'attractivite des rues\\\\04_données clients (source)\\\\osm\\\\occitanie\\\\lot\\\\raw data\\\\public_transports.pkl\">\n",
      "  pickle.dump(public_transports,open(path+\"\\\\\"+region.lower()+\"\\\\\"+place_name.lower()+\"\\\\raw data\\\\public_transports.pkl\",\"wb\"))\n",
      "ResourceWarning: Enable tracemalloc to get the object allocation traceback\n",
      "C:\\Users\\Diametrix\\AppData\\Local\\Temp\\ipykernel_2908\\1413762832.py:15: ResourceWarning: unclosed file <_io.BufferedWriter name=\"Y:\\\\RECHERCHE ET DEV\\\\10_Modèle d'attractivite des rues\\\\04_données clients (source)\\\\osm\\\\nouvelle-aquitaine\\\\lot-et-garonne\\\\raw data\\\\public_transports.pkl\">\n",
      "  pickle.dump(public_transports,open(path+\"\\\\\"+region.lower()+\"\\\\\"+place_name.lower()+\"\\\\raw data\\\\public_transports.pkl\",\"wb\"))\n",
      "ResourceWarning: Enable tracemalloc to get the object allocation traceback\n",
      "C:\\Users\\Diametrix\\AppData\\Local\\Temp\\ipykernel_2908\\1413762832.py:15: ResourceWarning: unclosed file <_io.BufferedWriter name=\"Y:\\\\RECHERCHE ET DEV\\\\10_Modèle d'attractivite des rues\\\\04_données clients (source)\\\\osm\\\\occitanie\\\\lozère\\\\raw data\\\\public_transports.pkl\">\n",
      "  pickle.dump(public_transports,open(path+\"\\\\\"+region.lower()+\"\\\\\"+place_name.lower()+\"\\\\raw data\\\\public_transports.pkl\",\"wb\"))\n",
      "ResourceWarning: Enable tracemalloc to get the object allocation traceback\n",
      "C:\\Users\\Diametrix\\AppData\\Local\\Temp\\ipykernel_2908\\1413762832.py:15: ResourceWarning: unclosed file <_io.BufferedWriter name=\"Y:\\\\RECHERCHE ET DEV\\\\10_Modèle d'attractivite des rues\\\\04_données clients (source)\\\\osm\\\\pays de la loire\\\\maine-et-loire\\\\raw data\\\\public_transports.pkl\">\n",
      "  pickle.dump(public_transports,open(path+\"\\\\\"+region.lower()+\"\\\\\"+place_name.lower()+\"\\\\raw data\\\\public_transports.pkl\",\"wb\"))\n",
      "ResourceWarning: Enable tracemalloc to get the object allocation traceback\n",
      "C:\\Users\\Diametrix\\AppData\\Local\\Temp\\ipykernel_2908\\1413762832.py:15: ResourceWarning: unclosed file <_io.BufferedWriter name=\"Y:\\\\RECHERCHE ET DEV\\\\10_Modèle d'attractivite des rues\\\\04_données clients (source)\\\\osm\\\\normandie\\\\manche\\\\raw data\\\\public_transports.pkl\">\n",
      "  pickle.dump(public_transports,open(path+\"\\\\\"+region.lower()+\"\\\\\"+place_name.lower()+\"\\\\raw data\\\\public_transports.pkl\",\"wb\"))\n",
      "ResourceWarning: Enable tracemalloc to get the object allocation traceback\n"
     ]
    },
    {
     "name": "stderr",
     "output_type": "stream",
     "text": [
      "C:\\Users\\Diametrix\\AppData\\Local\\Temp\\ipykernel_2908\\1413762832.py:15: ResourceWarning: unclosed file <_io.BufferedWriter name=\"Y:\\\\RECHERCHE ET DEV\\\\10_Modèle d'attractivite des rues\\\\04_données clients (source)\\\\osm\\\\grand est\\\\marne\\\\raw data\\\\public_transports.pkl\">\n",
      "  pickle.dump(public_transports,open(path+\"\\\\\"+region.lower()+\"\\\\\"+place_name.lower()+\"\\\\raw data\\\\public_transports.pkl\",\"wb\"))\n",
      "ResourceWarning: Enable tracemalloc to get the object allocation traceback\n",
      "C:\\Users\\Diametrix\\AppData\\Local\\Temp\\ipykernel_2908\\1413762832.py:15: ResourceWarning: unclosed file <_io.BufferedWriter name=\"Y:\\\\RECHERCHE ET DEV\\\\10_Modèle d'attractivite des rues\\\\04_données clients (source)\\\\osm\\\\grand est\\\\haute-marne\\\\raw data\\\\public_transports.pkl\">\n",
      "  pickle.dump(public_transports,open(path+\"\\\\\"+region.lower()+\"\\\\\"+place_name.lower()+\"\\\\raw data\\\\public_transports.pkl\",\"wb\"))\n",
      "ResourceWarning: Enable tracemalloc to get the object allocation traceback\n",
      "C:\\Users\\Diametrix\\AppData\\Local\\Temp\\ipykernel_2908\\1413762832.py:15: ResourceWarning: unclosed file <_io.BufferedWriter name=\"Y:\\\\RECHERCHE ET DEV\\\\10_Modèle d'attractivite des rues\\\\04_données clients (source)\\\\osm\\\\pays de la loire\\\\mayenne\\\\raw data\\\\public_transports.pkl\">\n",
      "  pickle.dump(public_transports,open(path+\"\\\\\"+region.lower()+\"\\\\\"+place_name.lower()+\"\\\\raw data\\\\public_transports.pkl\",\"wb\"))\n",
      "ResourceWarning: Enable tracemalloc to get the object allocation traceback\n",
      "C:\\Users\\Diametrix\\AppData\\Local\\Temp\\ipykernel_2908\\1413762832.py:15: ResourceWarning: unclosed file <_io.BufferedWriter name=\"Y:\\\\RECHERCHE ET DEV\\\\10_Modèle d'attractivite des rues\\\\04_données clients (source)\\\\osm\\\\grand est\\\\meurthe-et-moselle\\\\raw data\\\\public_transports.pkl\">\n",
      "  pickle.dump(public_transports,open(path+\"\\\\\"+region.lower()+\"\\\\\"+place_name.lower()+\"\\\\raw data\\\\public_transports.pkl\",\"wb\"))\n",
      "ResourceWarning: Enable tracemalloc to get the object allocation traceback\n",
      "C:\\Users\\Diametrix\\AppData\\Local\\Temp\\ipykernel_2908\\1413762832.py:15: ResourceWarning: unclosed file <_io.BufferedWriter name=\"Y:\\\\RECHERCHE ET DEV\\\\10_Modèle d'attractivite des rues\\\\04_données clients (source)\\\\osm\\\\grand est\\\\meuse\\\\raw data\\\\public_transports.pkl\">\n",
      "  pickle.dump(public_transports,open(path+\"\\\\\"+region.lower()+\"\\\\\"+place_name.lower()+\"\\\\raw data\\\\public_transports.pkl\",\"wb\"))\n",
      "ResourceWarning: Enable tracemalloc to get the object allocation traceback\n",
      "C:\\Users\\Diametrix\\AppData\\Local\\Temp\\ipykernel_2908\\1413762832.py:15: ResourceWarning: unclosed file <_io.BufferedWriter name=\"Y:\\\\RECHERCHE ET DEV\\\\10_Modèle d'attractivite des rues\\\\04_données clients (source)\\\\osm\\\\bretagne\\\\morbihan\\\\raw data\\\\public_transports.pkl\">\n",
      "  pickle.dump(public_transports,open(path+\"\\\\\"+region.lower()+\"\\\\\"+place_name.lower()+\"\\\\raw data\\\\public_transports.pkl\",\"wb\"))\n",
      "ResourceWarning: Enable tracemalloc to get the object allocation traceback\n",
      "C:\\Users\\Diametrix\\AppData\\Local\\Temp\\ipykernel_2908\\1413762832.py:15: ResourceWarning: unclosed file <_io.BufferedWriter name=\"Y:\\\\RECHERCHE ET DEV\\\\10_Modèle d'attractivite des rues\\\\04_données clients (source)\\\\osm\\\\grand est\\\\moselle\\\\raw data\\\\public_transports.pkl\">\n",
      "  pickle.dump(public_transports,open(path+\"\\\\\"+region.lower()+\"\\\\\"+place_name.lower()+\"\\\\raw data\\\\public_transports.pkl\",\"wb\"))\n",
      "ResourceWarning: Enable tracemalloc to get the object allocation traceback\n",
      "C:\\Users\\Diametrix\\AppData\\Local\\Temp\\ipykernel_2908\\1413762832.py:15: ResourceWarning: unclosed file <_io.BufferedWriter name=\"Y:\\\\RECHERCHE ET DEV\\\\10_Modèle d'attractivite des rues\\\\04_données clients (source)\\\\osm\\\\bourgogne-franche-comté\\\\nièvre\\\\raw data\\\\public_transports.pkl\">\n",
      "  pickle.dump(public_transports,open(path+\"\\\\\"+region.lower()+\"\\\\\"+place_name.lower()+\"\\\\raw data\\\\public_transports.pkl\",\"wb\"))\n",
      "ResourceWarning: Enable tracemalloc to get the object allocation traceback\n",
      "C:\\Users\\Diametrix\\AppData\\Local\\Temp\\ipykernel_2908\\1413762832.py:15: ResourceWarning: unclosed file <_io.BufferedWriter name=\"Y:\\\\RECHERCHE ET DEV\\\\10_Modèle d'attractivite des rues\\\\04_données clients (source)\\\\osm\\\\hauts-de-france\\\\nord\\\\raw data\\\\public_transports.pkl\">\n",
      "  pickle.dump(public_transports,open(path+\"\\\\\"+region.lower()+\"\\\\\"+place_name.lower()+\"\\\\raw data\\\\public_transports.pkl\",\"wb\"))\n",
      "ResourceWarning: Enable tracemalloc to get the object allocation traceback\n",
      "C:\\Users\\Diametrix\\AppData\\Local\\Temp\\ipykernel_2908\\1413762832.py:15: ResourceWarning: unclosed file <_io.BufferedWriter name=\"Y:\\\\RECHERCHE ET DEV\\\\10_Modèle d'attractivite des rues\\\\04_données clients (source)\\\\osm\\\\hauts-de-france\\\\oise\\\\raw data\\\\public_transports.pkl\">\n",
      "  pickle.dump(public_transports,open(path+\"\\\\\"+region.lower()+\"\\\\\"+place_name.lower()+\"\\\\raw data\\\\public_transports.pkl\",\"wb\"))\n",
      "ResourceWarning: Enable tracemalloc to get the object allocation traceback\n",
      "C:\\Users\\Diametrix\\AppData\\Local\\Temp\\ipykernel_2908\\1413762832.py:15: ResourceWarning: unclosed file <_io.BufferedWriter name=\"Y:\\\\RECHERCHE ET DEV\\\\10_Modèle d'attractivite des rues\\\\04_données clients (source)\\\\osm\\\\normandie\\\\orne\\\\raw data\\\\public_transports.pkl\">\n",
      "  pickle.dump(public_transports,open(path+\"\\\\\"+region.lower()+\"\\\\\"+place_name.lower()+\"\\\\raw data\\\\public_transports.pkl\",\"wb\"))\n",
      "ResourceWarning: Enable tracemalloc to get the object allocation traceback\n",
      "C:\\Users\\Diametrix\\AppData\\Local\\Temp\\ipykernel_2908\\1413762832.py:15: ResourceWarning: unclosed file <_io.BufferedWriter name=\"Y:\\\\RECHERCHE ET DEV\\\\10_Modèle d'attractivite des rues\\\\04_données clients (source)\\\\osm\\\\hauts-de-france\\\\pas-de-calais\\\\raw data\\\\public_transports.pkl\">\n",
      "  pickle.dump(public_transports,open(path+\"\\\\\"+region.lower()+\"\\\\\"+place_name.lower()+\"\\\\raw data\\\\public_transports.pkl\",\"wb\"))\n",
      "ResourceWarning: Enable tracemalloc to get the object allocation traceback\n",
      "C:\\Users\\Diametrix\\AppData\\Local\\Temp\\ipykernel_2908\\1413762832.py:15: ResourceWarning: unclosed file <_io.BufferedWriter name=\"Y:\\\\RECHERCHE ET DEV\\\\10_Modèle d'attractivite des rues\\\\04_données clients (source)\\\\osm\\\\auvergne-rhône-alpes\\\\puy-de-dôme\\\\raw data\\\\public_transports.pkl\">\n",
      "  pickle.dump(public_transports,open(path+\"\\\\\"+region.lower()+\"\\\\\"+place_name.lower()+\"\\\\raw data\\\\public_transports.pkl\",\"wb\"))\n",
      "ResourceWarning: Enable tracemalloc to get the object allocation traceback\n",
      "C:\\Users\\Diametrix\\AppData\\Local\\Temp\\ipykernel_2908\\1413762832.py:15: ResourceWarning: unclosed file <_io.BufferedWriter name=\"Y:\\\\RECHERCHE ET DEV\\\\10_Modèle d'attractivite des rues\\\\04_données clients (source)\\\\osm\\\\nouvelle-aquitaine\\\\pyrénées-atlantiques\\\\raw data\\\\public_transports.pkl\">\n",
      "  pickle.dump(public_transports,open(path+\"\\\\\"+region.lower()+\"\\\\\"+place_name.lower()+\"\\\\raw data\\\\public_transports.pkl\",\"wb\"))\n",
      "ResourceWarning: Enable tracemalloc to get the object allocation traceback\n",
      "C:\\Users\\Diametrix\\AppData\\Local\\Temp\\ipykernel_2908\\1413762832.py:15: ResourceWarning: unclosed file <_io.BufferedWriter name=\"Y:\\\\RECHERCHE ET DEV\\\\10_Modèle d'attractivite des rues\\\\04_données clients (source)\\\\osm\\\\occitanie\\\\hautes-pyrénées\\\\raw data\\\\public_transports.pkl\">\n",
      "  pickle.dump(public_transports,open(path+\"\\\\\"+region.lower()+\"\\\\\"+place_name.lower()+\"\\\\raw data\\\\public_transports.pkl\",\"wb\"))\n",
      "ResourceWarning: Enable tracemalloc to get the object allocation traceback\n",
      "C:\\Users\\Diametrix\\AppData\\Local\\Temp\\ipykernel_2908\\1413762832.py:15: ResourceWarning: unclosed file <_io.BufferedWriter name=\"Y:\\\\RECHERCHE ET DEV\\\\10_Modèle d'attractivite des rues\\\\04_données clients (source)\\\\osm\\\\occitanie\\\\pyrénées-orientales\\\\raw data\\\\public_transports.pkl\">\n",
      "  pickle.dump(public_transports,open(path+\"\\\\\"+region.lower()+\"\\\\\"+place_name.lower()+\"\\\\raw data\\\\public_transports.pkl\",\"wb\"))\n",
      "ResourceWarning: Enable tracemalloc to get the object allocation traceback\n",
      "C:\\Users\\Diametrix\\AppData\\Local\\Temp\\ipykernel_2908\\1413762832.py:15: ResourceWarning: unclosed file <_io.BufferedWriter name=\"Y:\\\\RECHERCHE ET DEV\\\\10_Modèle d'attractivite des rues\\\\04_données clients (source)\\\\osm\\\\grand est\\\\bas-rhin\\\\raw data\\\\public_transports.pkl\">\n",
      "  pickle.dump(public_transports,open(path+\"\\\\\"+region.lower()+\"\\\\\"+place_name.lower()+\"\\\\raw data\\\\public_transports.pkl\",\"wb\"))\n",
      "ResourceWarning: Enable tracemalloc to get the object allocation traceback\n"
     ]
    },
    {
     "name": "stderr",
     "output_type": "stream",
     "text": [
      "C:\\Users\\Diametrix\\AppData\\Local\\Temp\\ipykernel_2908\\1413762832.py:15: ResourceWarning: unclosed file <_io.BufferedWriter name=\"Y:\\\\RECHERCHE ET DEV\\\\10_Modèle d'attractivite des rues\\\\04_données clients (source)\\\\osm\\\\grand est\\\\haut-rhin\\\\raw data\\\\public_transports.pkl\">\n",
      "  pickle.dump(public_transports,open(path+\"\\\\\"+region.lower()+\"\\\\\"+place_name.lower()+\"\\\\raw data\\\\public_transports.pkl\",\"wb\"))\n",
      "ResourceWarning: Enable tracemalloc to get the object allocation traceback\n",
      "C:\\Users\\Diametrix\\AppData\\Local\\Temp\\ipykernel_2908\\1413762832.py:15: ResourceWarning: unclosed file <_io.BufferedWriter name=\"Y:\\\\RECHERCHE ET DEV\\\\10_Modèle d'attractivite des rues\\\\04_données clients (source)\\\\osm\\\\auvergne-rhône-alpes\\\\rhône\\\\raw data\\\\public_transports.pkl\">\n",
      "  pickle.dump(public_transports,open(path+\"\\\\\"+region.lower()+\"\\\\\"+place_name.lower()+\"\\\\raw data\\\\public_transports.pkl\",\"wb\"))\n",
      "ResourceWarning: Enable tracemalloc to get the object allocation traceback\n",
      "C:\\Users\\Diametrix\\AppData\\Local\\Temp\\ipykernel_2908\\1413762832.py:15: ResourceWarning: unclosed file <_io.BufferedWriter name=\"Y:\\\\RECHERCHE ET DEV\\\\10_Modèle d'attractivite des rues\\\\04_données clients (source)\\\\osm\\\\bourgogne-franche-comté\\\\haute-saône\\\\raw data\\\\public_transports.pkl\">\n",
      "  pickle.dump(public_transports,open(path+\"\\\\\"+region.lower()+\"\\\\\"+place_name.lower()+\"\\\\raw data\\\\public_transports.pkl\",\"wb\"))\n",
      "ResourceWarning: Enable tracemalloc to get the object allocation traceback\n",
      "C:\\Users\\Diametrix\\AppData\\Local\\Temp\\ipykernel_2908\\1413762832.py:15: ResourceWarning: unclosed file <_io.BufferedWriter name=\"Y:\\\\RECHERCHE ET DEV\\\\10_Modèle d'attractivite des rues\\\\04_données clients (source)\\\\osm\\\\bourgogne-franche-comté\\\\saône-et-loire\\\\raw data\\\\public_transports.pkl\">\n",
      "  pickle.dump(public_transports,open(path+\"\\\\\"+region.lower()+\"\\\\\"+place_name.lower()+\"\\\\raw data\\\\public_transports.pkl\",\"wb\"))\n",
      "ResourceWarning: Enable tracemalloc to get the object allocation traceback\n",
      "C:\\Users\\Diametrix\\AppData\\Local\\Temp\\ipykernel_2908\\1413762832.py:15: ResourceWarning: unclosed file <_io.BufferedWriter name=\"Y:\\\\RECHERCHE ET DEV\\\\10_Modèle d'attractivite des rues\\\\04_données clients (source)\\\\osm\\\\pays de la loire\\\\sarthe\\\\raw data\\\\public_transports.pkl\">\n",
      "  pickle.dump(public_transports,open(path+\"\\\\\"+region.lower()+\"\\\\\"+place_name.lower()+\"\\\\raw data\\\\public_transports.pkl\",\"wb\"))\n",
      "ResourceWarning: Enable tracemalloc to get the object allocation traceback\n",
      "C:\\Users\\Diametrix\\AppData\\Local\\Temp\\ipykernel_2908\\1413762832.py:15: ResourceWarning: unclosed file <_io.BufferedWriter name=\"Y:\\\\RECHERCHE ET DEV\\\\10_Modèle d'attractivite des rues\\\\04_données clients (source)\\\\osm\\\\auvergne-rhône-alpes\\\\savoie\\\\raw data\\\\public_transports.pkl\">\n",
      "  pickle.dump(public_transports,open(path+\"\\\\\"+region.lower()+\"\\\\\"+place_name.lower()+\"\\\\raw data\\\\public_transports.pkl\",\"wb\"))\n",
      "ResourceWarning: Enable tracemalloc to get the object allocation traceback\n",
      "C:\\Users\\Diametrix\\AppData\\Local\\Temp\\ipykernel_2908\\1413762832.py:15: ResourceWarning: unclosed file <_io.BufferedWriter name=\"Y:\\\\RECHERCHE ET DEV\\\\10_Modèle d'attractivite des rues\\\\04_données clients (source)\\\\osm\\\\auvergne-rhône-alpes\\\\haute-savoie\\\\raw data\\\\public_transports.pkl\">\n",
      "  pickle.dump(public_transports,open(path+\"\\\\\"+region.lower()+\"\\\\\"+place_name.lower()+\"\\\\raw data\\\\public_transports.pkl\",\"wb\"))\n",
      "ResourceWarning: Enable tracemalloc to get the object allocation traceback\n",
      "C:\\Users\\Diametrix\\AppData\\Local\\Temp\\ipykernel_2908\\1413762832.py:15: ResourceWarning: unclosed file <_io.BufferedWriter name=\"Y:\\\\RECHERCHE ET DEV\\\\10_Modèle d'attractivite des rues\\\\04_données clients (source)\\\\osm\\\\ile-de-france\\\\paris\\\\raw data\\\\public_transports.pkl\">\n",
      "  pickle.dump(public_transports,open(path+\"\\\\\"+region.lower()+\"\\\\\"+place_name.lower()+\"\\\\raw data\\\\public_transports.pkl\",\"wb\"))\n",
      "ResourceWarning: Enable tracemalloc to get the object allocation traceback\n",
      "C:\\Users\\Diametrix\\AppData\\Local\\Temp\\ipykernel_2908\\1413762832.py:15: ResourceWarning: unclosed file <_io.BufferedWriter name=\"Y:\\\\RECHERCHE ET DEV\\\\10_Modèle d'attractivite des rues\\\\04_données clients (source)\\\\osm\\\\normandie\\\\seine-maritime\\\\raw data\\\\public_transports.pkl\">\n",
      "  pickle.dump(public_transports,open(path+\"\\\\\"+region.lower()+\"\\\\\"+place_name.lower()+\"\\\\raw data\\\\public_transports.pkl\",\"wb\"))\n",
      "ResourceWarning: Enable tracemalloc to get the object allocation traceback\n",
      "C:\\Users\\Diametrix\\AppData\\Local\\Temp\\ipykernel_2908\\1413762832.py:15: ResourceWarning: unclosed file <_io.BufferedWriter name=\"Y:\\\\RECHERCHE ET DEV\\\\10_Modèle d'attractivite des rues\\\\04_données clients (source)\\\\osm\\\\ile-de-france\\\\seine-et-marne\\\\raw data\\\\public_transports.pkl\">\n",
      "  pickle.dump(public_transports,open(path+\"\\\\\"+region.lower()+\"\\\\\"+place_name.lower()+\"\\\\raw data\\\\public_transports.pkl\",\"wb\"))\n",
      "ResourceWarning: Enable tracemalloc to get the object allocation traceback\n",
      "C:\\Users\\Diametrix\\AppData\\Local\\Temp\\ipykernel_2908\\1413762832.py:15: ResourceWarning: unclosed file <_io.BufferedWriter name=\"Y:\\\\RECHERCHE ET DEV\\\\10_Modèle d'attractivite des rues\\\\04_données clients (source)\\\\osm\\\\ile-de-france\\\\yvelines\\\\raw data\\\\public_transports.pkl\">\n",
      "  pickle.dump(public_transports,open(path+\"\\\\\"+region.lower()+\"\\\\\"+place_name.lower()+\"\\\\raw data\\\\public_transports.pkl\",\"wb\"))\n",
      "ResourceWarning: Enable tracemalloc to get the object allocation traceback\n",
      "C:\\Users\\Diametrix\\AppData\\Local\\Temp\\ipykernel_2908\\1413762832.py:15: ResourceWarning: unclosed file <_io.BufferedWriter name=\"Y:\\\\RECHERCHE ET DEV\\\\10_Modèle d'attractivite des rues\\\\04_données clients (source)\\\\osm\\\\nouvelle-aquitaine\\\\deux-sèvres\\\\raw data\\\\public_transports.pkl\">\n",
      "  pickle.dump(public_transports,open(path+\"\\\\\"+region.lower()+\"\\\\\"+place_name.lower()+\"\\\\raw data\\\\public_transports.pkl\",\"wb\"))\n",
      "ResourceWarning: Enable tracemalloc to get the object allocation traceback\n",
      "C:\\Users\\Diametrix\\AppData\\Local\\Temp\\ipykernel_2908\\1413762832.py:15: ResourceWarning: unclosed file <_io.BufferedWriter name=\"Y:\\\\RECHERCHE ET DEV\\\\10_Modèle d'attractivite des rues\\\\04_données clients (source)\\\\osm\\\\hauts-de-france\\\\somme\\\\raw data\\\\public_transports.pkl\">\n",
      "  pickle.dump(public_transports,open(path+\"\\\\\"+region.lower()+\"\\\\\"+place_name.lower()+\"\\\\raw data\\\\public_transports.pkl\",\"wb\"))\n",
      "ResourceWarning: Enable tracemalloc to get the object allocation traceback\n",
      "C:\\Users\\Diametrix\\AppData\\Local\\Temp\\ipykernel_2908\\1413762832.py:15: ResourceWarning: unclosed file <_io.BufferedWriter name=\"Y:\\\\RECHERCHE ET DEV\\\\10_Modèle d'attractivite des rues\\\\04_données clients (source)\\\\osm\\\\occitanie\\\\tarn\\\\raw data\\\\public_transports.pkl\">\n",
      "  pickle.dump(public_transports,open(path+\"\\\\\"+region.lower()+\"\\\\\"+place_name.lower()+\"\\\\raw data\\\\public_transports.pkl\",\"wb\"))\n",
      "ResourceWarning: Enable tracemalloc to get the object allocation traceback\n",
      "C:\\Users\\Diametrix\\AppData\\Local\\Temp\\ipykernel_2908\\1413762832.py:15: ResourceWarning: unclosed file <_io.BufferedWriter name=\"Y:\\\\RECHERCHE ET DEV\\\\10_Modèle d'attractivite des rues\\\\04_données clients (source)\\\\osm\\\\occitanie\\\\tarn-et-garonne\\\\raw data\\\\public_transports.pkl\">\n",
      "  pickle.dump(public_transports,open(path+\"\\\\\"+region.lower()+\"\\\\\"+place_name.lower()+\"\\\\raw data\\\\public_transports.pkl\",\"wb\"))\n",
      "ResourceWarning: Enable tracemalloc to get the object allocation traceback\n",
      "C:\\Users\\Diametrix\\AppData\\Local\\Temp\\ipykernel_2908\\1413762832.py:15: ResourceWarning: unclosed file <_io.BufferedWriter name=\"Y:\\\\RECHERCHE ET DEV\\\\10_Modèle d'attractivite des rues\\\\04_données clients (source)\\\\osm\\\\provence-alpes-côte d'azur\\\\var\\\\raw data\\\\public_transports.pkl\">\n",
      "  pickle.dump(public_transports,open(path+\"\\\\\"+region.lower()+\"\\\\\"+place_name.lower()+\"\\\\raw data\\\\public_transports.pkl\",\"wb\"))\n",
      "ResourceWarning: Enable tracemalloc to get the object allocation traceback\n",
      "C:\\Users\\Diametrix\\AppData\\Local\\Temp\\ipykernel_2908\\1413762832.py:15: ResourceWarning: unclosed file <_io.BufferedWriter name=\"Y:\\\\RECHERCHE ET DEV\\\\10_Modèle d'attractivite des rues\\\\04_données clients (source)\\\\osm\\\\provence-alpes-côte d'azur\\\\vaucluse\\\\raw data\\\\public_transports.pkl\">\n",
      "  pickle.dump(public_transports,open(path+\"\\\\\"+region.lower()+\"\\\\\"+place_name.lower()+\"\\\\raw data\\\\public_transports.pkl\",\"wb\"))\n",
      "ResourceWarning: Enable tracemalloc to get the object allocation traceback\n"
     ]
    },
    {
     "name": "stderr",
     "output_type": "stream",
     "text": [
      "C:\\Users\\Diametrix\\AppData\\Local\\Temp\\ipykernel_2908\\1413762832.py:15: ResourceWarning: unclosed file <_io.BufferedWriter name=\"Y:\\\\RECHERCHE ET DEV\\\\10_Modèle d'attractivite des rues\\\\04_données clients (source)\\\\osm\\\\pays de la loire\\\\vendée\\\\raw data\\\\public_transports.pkl\">\n",
      "  pickle.dump(public_transports,open(path+\"\\\\\"+region.lower()+\"\\\\\"+place_name.lower()+\"\\\\raw data\\\\public_transports.pkl\",\"wb\"))\n",
      "ResourceWarning: Enable tracemalloc to get the object allocation traceback\n",
      "C:\\Users\\Diametrix\\AppData\\Local\\Temp\\ipykernel_2908\\1413762832.py:15: ResourceWarning: unclosed file <_io.BufferedWriter name=\"Y:\\\\RECHERCHE ET DEV\\\\10_Modèle d'attractivite des rues\\\\04_données clients (source)\\\\osm\\\\nouvelle-aquitaine\\\\vienne\\\\raw data\\\\public_transports.pkl\">\n",
      "  pickle.dump(public_transports,open(path+\"\\\\\"+region.lower()+\"\\\\\"+place_name.lower()+\"\\\\raw data\\\\public_transports.pkl\",\"wb\"))\n",
      "ResourceWarning: Enable tracemalloc to get the object allocation traceback\n",
      "C:\\Users\\Diametrix\\AppData\\Local\\Temp\\ipykernel_2908\\1413762832.py:15: ResourceWarning: unclosed file <_io.BufferedWriter name=\"Y:\\\\RECHERCHE ET DEV\\\\10_Modèle d'attractivite des rues\\\\04_données clients (source)\\\\osm\\\\nouvelle-aquitaine\\\\haute-vienne\\\\raw data\\\\public_transports.pkl\">\n",
      "  pickle.dump(public_transports,open(path+\"\\\\\"+region.lower()+\"\\\\\"+place_name.lower()+\"\\\\raw data\\\\public_transports.pkl\",\"wb\"))\n",
      "ResourceWarning: Enable tracemalloc to get the object allocation traceback\n",
      "C:\\Users\\Diametrix\\AppData\\Local\\Temp\\ipykernel_2908\\1413762832.py:15: ResourceWarning: unclosed file <_io.BufferedWriter name=\"Y:\\\\RECHERCHE ET DEV\\\\10_Modèle d'attractivite des rues\\\\04_données clients (source)\\\\osm\\\\grand est\\\\vosges\\\\raw data\\\\public_transports.pkl\">\n",
      "  pickle.dump(public_transports,open(path+\"\\\\\"+region.lower()+\"\\\\\"+place_name.lower()+\"\\\\raw data\\\\public_transports.pkl\",\"wb\"))\n",
      "ResourceWarning: Enable tracemalloc to get the object allocation traceback\n",
      "C:\\Users\\Diametrix\\AppData\\Local\\Temp\\ipykernel_2908\\1413762832.py:15: ResourceWarning: unclosed file <_io.BufferedWriter name=\"Y:\\\\RECHERCHE ET DEV\\\\10_Modèle d'attractivite des rues\\\\04_données clients (source)\\\\osm\\\\bourgogne-franche-comté\\\\yonne\\\\raw data\\\\public_transports.pkl\">\n",
      "  pickle.dump(public_transports,open(path+\"\\\\\"+region.lower()+\"\\\\\"+place_name.lower()+\"\\\\raw data\\\\public_transports.pkl\",\"wb\"))\n",
      "ResourceWarning: Enable tracemalloc to get the object allocation traceback\n",
      "C:\\Users\\Diametrix\\AppData\\Local\\Temp\\ipykernel_2908\\1413762832.py:15: ResourceWarning: unclosed file <_io.BufferedWriter name=\"Y:\\\\RECHERCHE ET DEV\\\\10_Modèle d'attractivite des rues\\\\04_données clients (source)\\\\osm\\\\bourgogne-franche-comté\\\\territoire-de-belfort\\\\raw data\\\\public_transports.pkl\">\n",
      "  pickle.dump(public_transports,open(path+\"\\\\\"+region.lower()+\"\\\\\"+place_name.lower()+\"\\\\raw data\\\\public_transports.pkl\",\"wb\"))\n",
      "ResourceWarning: Enable tracemalloc to get the object allocation traceback\n",
      "C:\\Users\\Diametrix\\AppData\\Local\\Temp\\ipykernel_2908\\1413762832.py:15: ResourceWarning: unclosed file <_io.BufferedWriter name=\"Y:\\\\RECHERCHE ET DEV\\\\10_Modèle d'attractivite des rues\\\\04_données clients (source)\\\\osm\\\\ile-de-france\\\\essonne\\\\raw data\\\\public_transports.pkl\">\n",
      "  pickle.dump(public_transports,open(path+\"\\\\\"+region.lower()+\"\\\\\"+place_name.lower()+\"\\\\raw data\\\\public_transports.pkl\",\"wb\"))\n",
      "ResourceWarning: Enable tracemalloc to get the object allocation traceback\n",
      "C:\\Users\\Diametrix\\AppData\\Local\\Temp\\ipykernel_2908\\1413762832.py:15: ResourceWarning: unclosed file <_io.BufferedWriter name=\"Y:\\\\RECHERCHE ET DEV\\\\10_Modèle d'attractivite des rues\\\\04_données clients (source)\\\\osm\\\\ile-de-france\\\\hauts-de-seine\\\\raw data\\\\public_transports.pkl\">\n",
      "  pickle.dump(public_transports,open(path+\"\\\\\"+region.lower()+\"\\\\\"+place_name.lower()+\"\\\\raw data\\\\public_transports.pkl\",\"wb\"))\n",
      "ResourceWarning: Enable tracemalloc to get the object allocation traceback\n",
      "C:\\Users\\Diametrix\\AppData\\Local\\Temp\\ipykernel_2908\\1413762832.py:15: ResourceWarning: unclosed file <_io.BufferedWriter name=\"Y:\\\\RECHERCHE ET DEV\\\\10_Modèle d'attractivite des rues\\\\04_données clients (source)\\\\osm\\\\ile-de-france\\\\seine-saint-denis\\\\raw data\\\\public_transports.pkl\">\n",
      "  pickle.dump(public_transports,open(path+\"\\\\\"+region.lower()+\"\\\\\"+place_name.lower()+\"\\\\raw data\\\\public_transports.pkl\",\"wb\"))\n",
      "ResourceWarning: Enable tracemalloc to get the object allocation traceback\n",
      "C:\\Users\\Diametrix\\AppData\\Local\\Temp\\ipykernel_2908\\1413762832.py:15: ResourceWarning: unclosed file <_io.BufferedWriter name=\"Y:\\\\RECHERCHE ET DEV\\\\10_Modèle d'attractivite des rues\\\\04_données clients (source)\\\\osm\\\\ile-de-france\\\\val-de-marne\\\\raw data\\\\public_transports.pkl\">\n",
      "  pickle.dump(public_transports,open(path+\"\\\\\"+region.lower()+\"\\\\\"+place_name.lower()+\"\\\\raw data\\\\public_transports.pkl\",\"wb\"))\n",
      "ResourceWarning: Enable tracemalloc to get the object allocation traceback\n",
      "C:\\Users\\Diametrix\\AppData\\Local\\Temp\\ipykernel_2908\\1413762832.py:15: ResourceWarning: unclosed file <_io.BufferedWriter name=\"Y:\\\\RECHERCHE ET DEV\\\\10_Modèle d'attractivite des rues\\\\04_données clients (source)\\\\osm\\\\ile-de-france\\\\val-d'oise\\\\raw data\\\\public_transports.pkl\">\n",
      "  pickle.dump(public_transports,open(path+\"\\\\\"+region.lower()+\"\\\\\"+place_name.lower()+\"\\\\raw data\\\\public_transports.pkl\",\"wb\"))\n",
      "ResourceWarning: Enable tracemalloc to get the object allocation traceback\n"
     ]
    }
   ],
   "source": [
    "for i,row in list_departement.iterrows():\n",
    "    place_name=row['Département']\n",
    "  \n",
    "\n",
    "    '''bat=get_buildings(place_name,row[\"Région\"])\n",
    "    get_amenity(place_name,row[\"Région\"])\n",
    "    get_natural(place_name,row[\"Région\"])\n",
    "    get_landuse(place_name,row[\"Région\"])\n",
    "    get_shops(place_name,row[\"Région\"])\n",
    "    get_tourism(place_name,row[\"Région\"])\n",
    "    get_highway(place_name,row[\"Région\"])'''\n",
    "    get_transport(place_name,row[\"Région\"])\n",
    "    #get_leisure(place_name,row[\"Région\"])\n",
    "\n",
    "\n",
    "        "
   ]
  },
  {
   "cell_type": "code",
   "execution_count": 317,
   "id": "fbd804ae",
   "metadata": {
    "ExecuteTime": {
     "end_time": "2023-06-28T12:52:32.788638Z",
     "start_time": "2023-06-28T12:52:31.921949Z"
    }
   },
   "outputs": [],
   "source": [
    "import os\n",
    "index=[]\n",
    "for i,f in enumerate(list_departement.apply(lambda x:x[\"Région\"].lower()+\"\\\\\"+x['Département'].lower()+\"\\\\raw data\",axis=1).values):\n",
    "    if len(os.listdir(r\"Y:\\RECHERCHE ET DEV\\10_Modèle d'attractivite des rues\\04_données clients (source)\\osm\\\\\"+f)) !=9:\n",
    "        index.append(i)\n"
   ]
  },
  {
   "cell_type": "code",
   "execution_count": 318,
   "id": "fd1bcc11",
   "metadata": {
    "ExecuteTime": {
     "end_time": "2023-06-28T12:52:32.929289Z",
     "start_time": "2023-06-28T12:52:32.789634Z"
    }
   },
   "outputs": [
    {
     "data": {
      "text/html": [
       "<div>\n",
       "<style scoped>\n",
       "    .dataframe tbody tr th:only-of-type {\n",
       "        vertical-align: middle;\n",
       "    }\n",
       "\n",
       "    .dataframe tbody tr th {\n",
       "        vertical-align: top;\n",
       "    }\n",
       "\n",
       "    .dataframe thead th {\n",
       "        text-align: right;\n",
       "    }\n",
       "</style>\n",
       "<table border=\"1\" class=\"dataframe\">\n",
       "  <thead>\n",
       "    <tr style=\"text-align: right;\">\n",
       "      <th></th>\n",
       "      <th>N°</th>\n",
       "      <th>Département</th>\n",
       "      <th>Chef-lieu</th>\n",
       "      <th>Région</th>\n",
       "    </tr>\n",
       "  </thead>\n",
       "  <tbody>\n",
       "    <tr>\n",
       "      <th>65</th>\n",
       "      <td>65</td>\n",
       "      <td>Hautes-Pyrénées</td>\n",
       "      <td>Tarbes</td>\n",
       "      <td>Occitanie</td>\n",
       "    </tr>\n",
       "    <tr>\n",
       "      <th>66</th>\n",
       "      <td>66</td>\n",
       "      <td>Pyrénées-Orientales</td>\n",
       "      <td>Perpignan</td>\n",
       "      <td>Occitanie</td>\n",
       "    </tr>\n",
       "    <tr>\n",
       "      <th>67</th>\n",
       "      <td>67</td>\n",
       "      <td>Bas-Rhin</td>\n",
       "      <td>Strasbourg</td>\n",
       "      <td>Grand Est</td>\n",
       "    </tr>\n",
       "    <tr>\n",
       "      <th>68</th>\n",
       "      <td>68</td>\n",
       "      <td>Haut-Rhin</td>\n",
       "      <td>Colmar</td>\n",
       "      <td>Grand Est</td>\n",
       "    </tr>\n",
       "    <tr>\n",
       "      <th>74</th>\n",
       "      <td>74</td>\n",
       "      <td>Haute-Savoie</td>\n",
       "      <td>Annecy</td>\n",
       "      <td>Auvergne-Rhône-Alpes</td>\n",
       "    </tr>\n",
       "    <tr>\n",
       "      <th>90</th>\n",
       "      <td>90</td>\n",
       "      <td>Territoire-de-Belfort</td>\n",
       "      <td>Belfort</td>\n",
       "      <td>Bourgogne-Franche-Comté</td>\n",
       "    </tr>\n",
       "  </tbody>\n",
       "</table>\n",
       "</div>"
      ],
      "text/plain": [
       "    N°            Département   Chef-lieu                   Région\n",
       "65  65        Hautes-Pyrénées      Tarbes                Occitanie\n",
       "66  66    Pyrénées-Orientales   Perpignan                Occitanie\n",
       "67  67               Bas-Rhin  Strasbourg                Grand Est\n",
       "68  68              Haut-Rhin      Colmar                Grand Est\n",
       "74  74           Haute-Savoie      Annecy     Auvergne-Rhône-Alpes\n",
       "90  90  Territoire-de-Belfort     Belfort  Bourgogne-Franche-Comté"
      ]
     },
     "execution_count": 318,
     "metadata": {},
     "output_type": "execute_result"
    }
   ],
   "source": [
    "err_dep=list_departement.iloc[index]\n",
    "err_dep"
   ]
  },
  {
   "cell_type": "markdown",
   "id": "c13f3de1",
   "metadata": {},
   "source": [
    "# Traitement des données"
   ]
  },
  {
   "cell_type": "code",
   "execution_count": 31,
   "id": "1cf5842b",
   "metadata": {
    "ExecuteTime": {
     "end_time": "2023-06-26T07:08:11.167257Z",
     "start_time": "2023-06-26T07:08:11.147281Z"
    }
   },
   "outputs": [],
   "source": [
    "import pickle \n",
    "import pandas as pd\n",
    "import numpy as np"
   ]
  },
  {
   "cell_type": "code",
   "execution_count": 320,
   "id": "9f3ddd4d",
   "metadata": {
    "ExecuteTime": {
     "end_time": "2023-06-28T13:00:51.395213Z",
     "start_time": "2023-06-28T13:00:07.291285Z"
    }
   },
   "outputs": [
    {
     "name": "stderr",
     "output_type": "stream",
     "text": [
      "C:\\Users\\Diametrix\\AppData\\Local\\Temp\\ipykernel_24408\\513618213.py:11: ResourceWarning: unclosed file <_io.BufferedReader name=\"Y:\\\\RECHERCHE ET DEV\\\\10_Modèle d'attractivite des rues\\\\04_données clients (source)\\\\osm\\\\\\\\auvergne-rhône-alpes\\\\\\\\rhône\\\\\\\\raw data\\\\buildings.pkl\">\n",
      "  data=pickle.load(open(path+r\"\\\\raw data\\buildings.pkl\",\"rb\")).to_crs(\"3857\")\n",
      "ResourceWarning: Enable tracemalloc to get the object allocation traceback\n",
      "C:\\Users\\Diametrix\\AppData\\Local\\Temp\\ipykernel_24408\\513618213.py:14: ResourceWarning: unclosed file <_io.BufferedWriter name=\"Y:\\\\RECHERCHE ET DEV\\\\10_Modèle d'attractivite des rues\\\\04_données clients (source)\\\\osm\\\\\\\\auvergne-rhône-alpes\\\\\\\\rhône\\\\\\\\processed data\\\\buildings.pkl\">\n",
      "  pickle.dump(data,open(path+r\"\\\\processed data\\buildings.pkl\",\"wb\"))\n",
      "ResourceWarning: Enable tracemalloc to get the object allocation traceback\n",
      "C:\\Users\\Diametrix\\AppData\\Local\\Temp\\ipykernel_24408\\513618213.py:29: ResourceWarning: unclosed file <_io.BufferedReader name=\"Y:\\\\RECHERCHE ET DEV\\\\10_Modèle d'attractivite des rues\\\\04_données clients (source)\\\\osm\\\\\\\\auvergne-rhône-alpes\\\\\\\\rhône\\\\\\\\raw data\\\\highways.pkl\">\n",
      "  highways=pickle.load(open(path+r\"\\\\raw data\\highways.pkl\",\"rb\")).to_crs(\"3857\")\n",
      "ResourceWarning: Enable tracemalloc to get the object allocation traceback\n",
      "C:\\Users\\Diametrix\\AppData\\Local\\Temp\\ipykernel_24408\\513618213.py:36: ResourceWarning: unclosed file <_io.BufferedWriter name=\"Y:\\\\RECHERCHE ET DEV\\\\10_Modèle d'attractivite des rues\\\\04_données clients (source)\\\\osm\\\\\\\\auvergne-rhône-alpes\\\\\\\\rhône\\\\\\\\processed data\\\\highways.pkl\">\n",
      "  pickle.dump(highways,open(path+r\"\\\\processed data\\highways.pkl\",\"wb\"))\n",
      "ResourceWarning: Enable tracemalloc to get the object allocation traceback\n",
      "C:\\Users\\Diametrix\\AppData\\Local\\Temp\\ipykernel_24408\\513618213.py:46: ResourceWarning: unclosed file <_io.BufferedReader name=\"Y:\\\\RECHERCHE ET DEV\\\\10_Modèle d'attractivite des rues\\\\04_données clients (source)\\\\osm\\\\\\\\auvergne-rhône-alpes\\\\\\\\rhône\\\\\\\\raw data\\\\tourism.pkl\">\n",
      "  tourism=pickle.load(open(path+r\"\\\\raw data\\tourism.pkl\",\"rb\")).to_crs(\"3857\")\n",
      "ResourceWarning: Enable tracemalloc to get the object allocation traceback\n",
      "C:\\Users\\Diametrix\\AppData\\Local\\Temp\\ipykernel_24408\\513618213.py:49: ResourceWarning: unclosed file <_io.BufferedWriter name=\"Y:\\\\RECHERCHE ET DEV\\\\10_Modèle d'attractivite des rues\\\\04_données clients (source)\\\\osm\\\\\\\\auvergne-rhône-alpes\\\\\\\\rhône\\\\\\\\processed data\\\\tourism.pkl\">\n",
      "  pickle.dump(tourism,open(path+r\"\\\\processed data\\tourism.pkl\",\"wb\"))\n",
      "ResourceWarning: Enable tracemalloc to get the object allocation traceback\n",
      "C:\\Users\\Diametrix\\AppData\\Local\\Temp\\ipykernel_24408\\513618213.py:59: ResourceWarning: unclosed file <_io.BufferedReader name=\"Y:\\\\RECHERCHE ET DEV\\\\10_Modèle d'attractivite des rues\\\\04_données clients (source)\\\\osm\\\\\\\\auvergne-rhône-alpes\\\\\\\\rhône\\\\\\\\raw data\\\\amenity.pkl\">\n",
      "  amenity=pickle.load(open(path+r\"\\\\raw data\\amenity.pkl\",\"rb\")).to_crs(\"3857\")\n",
      "ResourceWarning: Enable tracemalloc to get the object allocation traceback\n",
      "C:\\Users\\Diametrix\\AppData\\Local\\Temp\\ipykernel_24408\\513618213.py:61: ResourceWarning: unclosed file <_io.BufferedReader name=\"Y:\\\\RECHERCHE ET DEV\\\\10_Modèle d'attractivite des rues\\\\04_données clients (source)\\\\osm\\\\\\\\auvergne-rhône-alpes\\\\\\\\rhône\\\\\\\\raw data\\\\leisure.pkl\">\n",
      "  leisure=pickle.load(open(path+r\"\\\\raw data\\leisure.pkl\",\"rb\")).to_crs(\"3857\")\n",
      "ResourceWarning: Enable tracemalloc to get the object allocation traceback\n",
      "C:\\Users\\Diametrix\\AppData\\Local\\Temp\\ipykernel_24408\\513618213.py:65: ResourceWarning: unclosed file <_io.BufferedWriter name=\"Y:\\\\RECHERCHE ET DEV\\\\10_Modèle d'attractivite des rues\\\\04_données clients (source)\\\\osm\\\\\\\\auvergne-rhône-alpes\\\\\\\\rhône\\\\\\\\processed data\\\\amenity.pkl\">\n",
      "  pickle.dump(amenity,open(path+r\"\\\\processed data\\amenity.pkl\",\"wb\"))\n",
      "ResourceWarning: Enable tracemalloc to get the object allocation traceback\n"
     ]
    }
   ],
   "source": [
    "#logs and stats\n",
    "logs={}\n",
    "\n",
    "important_columns=[\"unclassified\", \"residential\",\"service\",\"path\",\"unclassified\", \"pedestrian\",\"primary\" ,\"secondary\" ,\"tertiary\",\"living_street\" ,\"trunk\" ,\"motorway\" ]\n",
    "for i ,row in list_departement.iterrows():\n",
    "    try:\n",
    "        place_name=row[\"Département\"].lower()\n",
    "        path=r\"Y:\\RECHERCHE ET DEV\\10_Modèle d'attractivite des rues\\04_données clients (source)\\osm\\\\\"+row['Région'].lower()+r\"\\\\\"+row[\"Département\"].lower()\n",
    "\n",
    "        #Batiments\n",
    "        data=pickle.load(open(path+r\"\\\\raw data\\buildings.pkl\",\"rb\")).to_crs(\"3857\")\n",
    "        n=len(data)\n",
    "        data=data[data.area>=30]\n",
    "        pickle.dump(data,open(path+r\"\\\\processed data\\buildings.pkl\",\"wb\"))\n",
    "        #logs\n",
    "        logs[place_name]={\"batiment\":{\n",
    "\n",
    "            \"types\":data['building'].value_counts(),\n",
    "            \"building:levels\":data['building:levels'].isna().sum(),\n",
    "            \"size_raw\":n,\n",
    "            \"size\":len(data),\n",
    "            \"type_yes\":len(data[data['building']==\"yes\"])}\n",
    "        }\n",
    "\n",
    "\n",
    "\n",
    "\n",
    "        #Rues\n",
    "        highways=pickle.load(open(path+r\"\\\\raw data\\highways.pkl\",\"rb\")).to_crs(\"3857\")\n",
    "        n=len(highways)\n",
    "        highways=highways[highways['highway'].isin(important_columns)]\n",
    "        highways=highways[~highways['name'].isna()]\n",
    "        highways=highways[highways['geometry'].apply (lambda x:isinstance(x,(LineString,MultiLineString)))]\n",
    "        highways=highways[ (highways['highway']!=\"service\")]\n",
    "        highways=highways[highways.length>=50]\n",
    "        pickle.dump(highways,open(path+r\"\\\\processed data\\highways.pkl\",\"wb\"))\n",
    "        #logs\n",
    "        logs[place_name].update({\"highways\":{\n",
    "\n",
    "            \"types\":highways['highway'].value_counts(),\n",
    "            \"size_raw\":n,\n",
    "            \"size\":len(highways),\n",
    "        }})\n",
    "\n",
    "        #Tourisme\n",
    "        tourism=pickle.load(open(path+r\"\\\\raw data\\tourism.pkl\",\"rb\")).to_crs(\"3857\")\n",
    "        n=len(tourism)\n",
    "        tourism=tourism[tourism['tourism']!=\"information\"]\n",
    "        pickle.dump(tourism,open(path+r\"\\\\processed data\\tourism.pkl\",\"wb\"))\n",
    "        #logs\n",
    "        logs[place_name].update({\"tourism\":{\n",
    "\n",
    "            \"types\":tourism['tourism'].value_counts(),\n",
    "            \"size_raw\":n,\n",
    "            \"size\":len(tourism),\n",
    "        }})\n",
    "\n",
    "        #Amenity\n",
    "        amenity=pickle.load(open(path+r\"\\\\raw data\\amenity.pkl\",\"rb\")).to_crs(\"3857\")\n",
    "        n=len(amenity)\n",
    "        leisure=pickle.load(open(path+r\"\\\\raw data\\leisure.pkl\",\"rb\")).to_crs(\"3857\")\n",
    "\n",
    "        amenity=amenity.drop(np.intersect1d(np.array(tourism.index),np.array(amenity.index)))\n",
    "        amenity=amenity.drop(np.intersect1d(np.array(leisure.index),np.array(amenity.index)))\n",
    "        pickle.dump(amenity,open(path+r\"\\\\processed data\\amenity.pkl\",\"wb\"))\n",
    "        #logs\n",
    "        logs[place_name].update({\"amenity\":{\n",
    "\n",
    "            \"types\":amenity['amenity'].value_counts(),\n",
    "            \"size_raw\":n,\n",
    "            \"size\":len(amenity),\n",
    "        }})\n",
    "        logs[place_name].update({\"leisure\":{\n",
    "\n",
    "            \"types\":leisure['leisure'].value_counts(),\n",
    "            \"size\":len(amenity),\n",
    "        }})\n",
    "\n",
    "\n",
    "    except:\n",
    "        print(place_name)\n",
    "\n"
   ]
  },
  {
   "cell_type": "code",
   "execution_count": 33,
   "id": "4b5689e8",
   "metadata": {
    "ExecuteTime": {
     "end_time": "2023-06-26T07:24:32.091976Z",
     "start_time": "2023-06-26T07:24:31.975824Z"
    }
   },
   "outputs": [],
   "source": [
    "pickle.dump(logs,open(r\"Y:\\RECHERCHE ET DEV\\10_Modèle d'attractivite des rues\\04_données clients (source)\\\\logs.pkl\",\"wb\"))"
   ]
  },
  {
   "cell_type": "code",
   "execution_count": null,
   "id": "7cf11b63",
   "metadata": {},
   "outputs": [],
   "source": []
  }
 ],
 "metadata": {
  "kernelspec": {
   "display_name": "Python 3 (ipykernel)",
   "language": "python",
   "name": "python3"
  },
  "language_info": {
   "codemirror_mode": {
    "name": "ipython",
    "version": 3
   },
   "file_extension": ".py",
   "mimetype": "text/x-python",
   "name": "python",
   "nbconvert_exporter": "python",
   "pygments_lexer": "ipython3",
   "version": "3.9.12"
  }
 },
 "nbformat": 4,
 "nbformat_minor": 5
}

{
 "cells": [
  {
   "cell_type": "code",
   "execution_count": 21,
   "id": "ddff30c4",
   "metadata": {
    "ExecuteTime": {
     "end_time": "2023-06-07T10:21:45.245702Z",
     "start_time": "2023-06-07T10:21:45.237725Z"
    }
   },
   "outputs": [],
   "source": [
    "import geopandas as gpd\n",
    "import osmnx as ox\n",
    "import pickle\n",
    "import numpy as np\n",
    "from sklearn.model_selection import train_test_split\n",
    "import pandas as pd\n",
    "import matplotlib.pyplot as plt"
   ]
  },
  {
   "cell_type": "code",
   "execution_count": 12,
   "id": "9e268f6e",
   "metadata": {
    "ExecuteTime": {
     "end_time": "2023-06-07T10:18:41.292574Z",
     "start_time": "2023-06-07T10:18:41.284592Z"
    }
   },
   "outputs": [],
   "source": [
    "place_name=\"Paris\"\n",
    "path=\"Y:\\RECHERCHE ET DEV\\\\10_Modèle d'attractivite des rues\\\\04_données clients (source)\\osm\\\\\"+place_name.lower()\n"
   ]
  },
  {
   "cell_type": "code",
   "execution_count": 7,
   "id": "ce45b357",
   "metadata": {
    "ExecuteTime": {
     "end_time": "2023-06-07T10:17:27.218476Z",
     "start_time": "2023-06-07T10:17:13.484372Z"
    }
   },
   "outputs": [],
   "source": [
    "contour_iris=gpd.read_file(r'Y:\\REFERENTIEL DATA\\RP 2022 FRANCE\\CARTOGRAPHIE\\Cartographie_France_IRIS_2019\\CONTOURS-IRIS_2-1_SHP_LAMB93_FXX-2019\\CONTOURS-IRIS.shp').to_crs('EPSG:3857')"
   ]
  },
  {
   "cell_type": "code",
   "execution_count": 13,
   "id": "f7387d02",
   "metadata": {
    "ExecuteTime": {
     "end_time": "2023-06-07T10:18:43.545510Z",
     "start_time": "2023-06-07T10:18:42.452773Z"
    }
   },
   "outputs": [],
   "source": [
    "building=pd.read_pickle(path+r\"\\raw data\\building.pkl\").to_crs('EPSG:3857')"
   ]
  },
  {
   "cell_type": "code",
   "execution_count": 48,
   "id": "b231f2b0",
   "metadata": {
    "ExecuteTime": {
     "end_time": "2023-06-07T10:28:01.554217Z",
     "start_time": "2023-06-07T10:28:01.503934Z"
    }
   },
   "outputs": [],
   "source": [
    "#building_no_na : buildings with field building:levels is not nan\n",
    "building_no_na=building[~building['building:levels'].isna()]\n",
    "building_na=building[building['building:levels'].isna()]"
   ]
  },
  {
   "cell_type": "code",
   "execution_count": 49,
   "id": "051b9f74",
   "metadata": {
    "ExecuteTime": {
     "end_time": "2023-06-07T10:28:01.735962Z",
     "start_time": "2023-06-07T10:28:01.686005Z"
    }
   },
   "outputs": [],
   "source": [
    "building_no_na['building:levels']=building_no_na['building:levels'].apply(lambda x:float(x.split(\";\")[0]))"
   ]
  },
  {
   "cell_type": "code",
   "execution_count": 50,
   "id": "316abd3c",
   "metadata": {
    "ExecuteTime": {
     "end_time": "2023-06-07T10:28:02.021089Z",
     "start_time": "2023-06-07T10:28:01.968055Z"
    }
   },
   "outputs": [],
   "source": [
    "train,test=train_test_split(building_no_na,random_state=123)"
   ]
  },
  {
   "cell_type": "markdown",
   "id": "ad97a39b",
   "metadata": {},
   "source": [
    "# Mode"
   ]
  },
  {
   "cell_type": "code",
   "execution_count": 123,
   "id": "42105fde",
   "metadata": {
    "ExecuteTime": {
     "end_time": "2023-06-07T13:00:36.755909Z",
     "start_time": "2023-06-07T13:00:36.724824Z"
    }
   },
   "outputs": [
    {
     "name": "stdout",
     "output_type": "stream",
     "text": [
      "7.0\n",
      "train error is : 2.1906825449332894\n",
      "test error is : 2.2176314918954683\n"
     ]
    }
   ],
   "source": [
    "mode=train['building:levels'].mode().values[0]\n",
    "print(mode)\n",
    "print(\"train error is :\",(np.abs(train['building:levels']-mode)).sum()/len(train))\n",
    "print(\"test error is :\",(np.abs(test['building:levels']-mode)).sum()/len(test))"
   ]
  },
  {
   "cell_type": "markdown",
   "id": "f82c4340",
   "metadata": {},
   "source": [
    "# Mean"
   ]
  },
  {
   "cell_type": "code",
   "execution_count": 125,
   "id": "c2a1cf34",
   "metadata": {
    "ExecuteTime": {
     "end_time": "2023-06-07T13:01:04.296737Z",
     "start_time": "2023-06-07T13:01:04.284768Z"
    }
   },
   "outputs": [
    {
     "name": "stdout",
     "output_type": "stream",
     "text": [
      "5.0\n",
      "train error is : 2.1130995699636124\n",
      "test error is : 2.1407542176645715\n"
     ]
    }
   ],
   "source": [
    "mean=train['building:levels'].mean().round()\n",
    "print(mean)\n",
    "\n",
    "print(\"train error is :\",(np.abs(train['building:levels']-mean)).sum()/len(train))\n",
    "print(\"test error is :\",(np.abs(test['building:levels']-mean)).sum()/len(test))"
   ]
  },
  {
   "cell_type": "markdown",
   "id": "2153b982",
   "metadata": {},
   "source": [
    "# KNN-mode"
   ]
  },
  {
   "cell_type": "markdown",
   "id": "52bd562d",
   "metadata": {},
   "source": [
    "**Idée**:\n",
    "Pour chaque batimenet , chercher les K batiments les plus proches avec une distance inferieur à 100 pour éviter les cas où le batimenets est vraiment loin des autres batiments. \n",
    "Prendre le nombre d'étage le plus occurent dans ces K proches Batiments.\n",
    "Si y' a aucun batimenet dans l'approximité (distance>100) considere le nombre d'étage le plus occurenet dans l'IRIS ."
   ]
  },
  {
   "cell_type": "code",
   "execution_count": 126,
   "id": "d1744000",
   "metadata": {
    "ExecuteTime": {
     "end_time": "2023-06-07T13:01:28.044077Z",
     "start_time": "2023-06-07T13:01:28.021035Z"
    }
   },
   "outputs": [],
   "source": [
    "iris_data=pd.DataFrame([],columns=[\"code_iris\",\"average_level\"])\n",
    "k=10\n",
    "def func(row):\n",
    "\n",
    "    i=pd.DataFrame(row).transpose().index[0]\n",
    "    distances=building_no_na.distance(row['geometry']).sort_values()\n",
    "    distances=distances[distances<100]\n",
    "\n",
    "    distances=distances.drop(i)\n",
    "\n",
    "    level=building_no_na.loc[distances.index].iloc[:k]['building:levels'].mode().to_numpy()\n",
    "\n",
    "    if len(level)>0:\n",
    "        return level[0]\n",
    "    else:\n",
    "        #get all the buildings of the iris\n",
    "        iris_building=contour_iris[contour_iris.intersects(row['geometry'])].iloc[0]\n",
    "        #when we calculate the mode level of the buildings in the iris we store it in a dataframe \n",
    "        if iris_building [\"CODE_IRIS\"] in iris_data[\"code_iris\"].to_list():\n",
    "            l=iris_data[iris_data[\"code_iris\"]==iris_building [\"CODE_IRIS\"]]['average_level'].iloc[0]\n",
    "            return l\n",
    "        else:\n",
    "            buildings_in_iris=building_no_na[building_no_na.intersects(iris_building[\"geometry\"])]\n",
    "            level_in_iris=buildings_in_iris['building:levels'].mode().to_numpy()[0]\n",
    "\n",
    "            \n",
    "            iris_data.loc[len(iris_data)]=[iris_building['CODE_IRIS'],level_in_iris]\n",
    "            return level_in_iris"
   ]
  },
  {
   "cell_type": "code",
   "execution_count": 127,
   "id": "f23fc5a7",
   "metadata": {
    "ExecuteTime": {
     "end_time": "2023-06-07T17:26:20.940097Z",
     "start_time": "2023-06-07T13:01:29.685074Z"
    }
   },
   "outputs": [
    {
     "data": {
      "text/plain": [
       "15891.224867105484"
      ]
     },
     "execution_count": 127,
     "metadata": {},
     "output_type": "execute_result"
    }
   ],
   "source": [
    "import time\n",
    "start=time.time()\n",
    "levels=building_no_na.apply(lambda x:func(x),axis=1)\n",
    "time.time()-start"
   ]
  },
  {
   "cell_type": "code",
   "execution_count": 129,
   "id": "f416dcfa",
   "metadata": {
    "ExecuteTime": {
     "end_time": "2023-06-08T05:42:37.382415Z",
     "start_time": "2023-06-08T05:42:37.303216Z"
    }
   },
   "outputs": [],
   "source": [
    "y=np.array([float(str(i).split(';')[0]) for i in sample['building:levels'].to_numpy()])\n",
    "y_pred=np.array([float(str(i).split(';')[0]) for i in levels])"
   ]
  },
  {
   "cell_type": "code",
   "execution_count": 131,
   "id": "2c4fae19",
   "metadata": {
    "ExecuteTime": {
     "end_time": "2023-06-08T05:43:05.172460Z",
     "start_time": "2023-06-08T05:43:05.163485Z"
    }
   },
   "outputs": [
    {
     "name": "stdout",
     "output_type": "stream",
     "text": [
      "The error is :2.6198478332782003\n"
     ]
    }
   ],
   "source": [
    "print(\"The error is :\"+str(np.sum(np.abs(y-y_pred))/len(y)))"
   ]
  },
  {
   "cell_type": "code",
   "execution_count": null,
   "id": "e9594bbd",
   "metadata": {},
   "outputs": [],
   "source": []
  }
 ],
 "metadata": {
  "kernelspec": {
   "display_name": "Python 3 (ipykernel)",
   "language": "python",
   "name": "python3"
  },
  "language_info": {
   "codemirror_mode": {
    "name": "ipython",
    "version": 3
   },
   "file_extension": ".py",
   "mimetype": "text/x-python",
   "name": "python",
   "nbconvert_exporter": "python",
   "pygments_lexer": "ipython3",
   "version": "3.9.12"
  }
 },
 "nbformat": 4,
 "nbformat_minor": 5
}

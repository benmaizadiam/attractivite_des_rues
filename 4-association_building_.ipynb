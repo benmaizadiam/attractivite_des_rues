{
 "cells": [
  {
   "cell_type": "code",
   "execution_count": 85,
   "id": "627a4992",
   "metadata": {
    "ExecuteTime": {
     "end_time": "2023-06-28T13:08:34.012423Z",
     "start_time": "2023-06-28T13:08:32.144185Z"
    }
   },
   "outputs": [],
   "source": [
    "import pandas as pd \n",
    "import pickle\n",
    "import geopandas as gpd\n",
    "\n",
    "import matplotlib.pyplot as plt\n",
    "import numpy as np\n",
    "import osmnx as ox\n",
    "\n",
    "pd.set_option('display.max_rows', 1000)\n",
    "pd.set_option('display.max_columns', 500)\n",
    "import warnings\n",
    "warnings.filterwarnings(\"ignore\")"
   ]
  },
  {
   "cell_type": "code",
   "execution_count": 86,
   "id": "a5c43231",
   "metadata": {
    "ExecuteTime": {
     "end_time": "2023-06-28T13:09:53.807161Z",
     "start_time": "2023-06-28T13:08:34.041579Z"
    }
   },
   "outputs": [],
   "source": [
    "contour_iris=gpd.read_file(r'Y:\\REFERENTIEL DATA\\RP 2022 FRANCE\\CARTOGRAPHIE\\Cartographie_France_IRIS_2019\\CONTOURS-IRIS_2-1_SHP_LAMB93_FXX-2019\\CONTOURS-IRIS.shp').set_crs(\"EPSG:2154\")"
   ]
  },
  {
   "cell_type": "code",
   "execution_count": 87,
   "id": "7f3bc7c7",
   "metadata": {
    "ExecuteTime": {
     "end_time": "2023-06-28T13:09:53.914035Z",
     "start_time": "2023-06-28T13:09:53.816276Z"
    }
   },
   "outputs": [],
   "source": [
    "list_departement=pd.read_excel(r\"Y:\\RECHERCHE ET DEV\\10_Modèle d'attractivite des rues\\\\Liste-Excel-des-departements-francais.xlsx\")\n"
   ]
  },
  {
   "cell_type": "code",
   "execution_count": 88,
   "id": "7c3b1eeb",
   "metadata": {
    "ExecuteTime": {
     "end_time": "2023-06-28T13:09:54.764948Z",
     "start_time": "2023-06-28T13:09:53.922020Z"
    }
   },
   "outputs": [],
   "source": [
    "logs=pickle.load(open(r\"Y:\\RECHERCHE ET DEV\\10_Modèle d'attractivite des rues\\04_données clients (source)\\\\logs.pkl\",\"rb\"))"
   ]
  },
  {
   "cell_type": "code",
   "execution_count": 90,
   "id": "2d895e04",
   "metadata": {
    "ExecuteTime": {
     "end_time": "2023-06-28T13:30:03.952039Z",
     "start_time": "2023-06-28T13:19:50.576451Z"
    }
   },
   "outputs": [
    {
     "name": "stdout",
     "output_type": "stream",
     "text": [
      "hautes-pyrénées\n",
      "pyrénées-orientales\n",
      "bas-rhin\n",
      "haut-rhin\n",
      "haute-savoie\n",
      "territoire-de-belfort\n",
      "guadeloupe\n",
      "martinique\n",
      "guyane\n",
      "la réunion\n",
      "mayotte\n"
     ]
    }
   ],
   "source": [
    "for i ,row in list_departement.iterrows():\n",
    "\n",
    " \n",
    "        try:\n",
    "            dep=int(row['N°'])\n",
    "            gsa_dep=gsa[gsa['CP'].isin([i for i in range(dep*1000,(dep+1)*1000) ])]\n",
    "            gss_dep=gss[gss['CP'].isin([i for i in range(dep*1000,(dep+1)*1000) ])]\n",
    "        except:\n",
    "            gsa_dep=gsa.copy()\n",
    "            gss_dep=gss.copy()\n",
    "        place_name=row[\"Département\"].lower().strip()\n",
    "        try:\n",
    "            path=r\"Y:\\RECHERCHE ET DEV\\10_Modèle d'attractivite des rues\\04_données clients (source)\\osm\\\\\"+row['Région'].lower()+r\"\\\\\"+row[\"Département\"].lower()\n",
    "\n",
    "            buildings=pd.read_pickle(path+r\"\\\\processed data\\\\buildings.pkl\").to_crs(\"2154\")\n",
    "\n",
    "            #########################################################################\n",
    "            #magasins /GSA/GSS\n",
    "\n",
    "            shops=pd.read_pickle(path+r\"\\\\raw data\\\\shops.pkl\").to_crs(\"2154\")\n",
    "            a=gpd.sjoin(buildings,shops,predicate=\"contains\",lsuffix='left', rsuffix='right').to_crs('EPSG:4326')\n",
    "            pickle.dump(a,open(path+r\"\\\\association\\\\buildings_shops.pkl\",'wb'))\n",
    "            #index right : la position de gss/gsa dans la table gsa/gss en dessous\n",
    "            try:\n",
    "                gss=pickle.load(open(path+\"\\\\processed data\\\\gss_comp.pkl\",\"rb\")).to_crs(\"2154\")\n",
    "                b_gss=gpd.sjoin(buildings,gss,predicate=\"contains\")[['geometry',\"index_right\"]]\n",
    "                pickle.dump(b_gss,open(pathe+r\"\\\\association\\\\buildings_gss.pkl\",'wb'))\n",
    "            except:pass\n",
    "\n",
    "            try:\n",
    "                gsa=pickle.load(open(path+\"\\\\processed data\\\\gsa_comp.pkl\",\"rb\")).to_crs(\"2154\")\n",
    "                b_gsa=gpd.sjoin(buildings,gsa,predicate=\"contains\")[['geometry',\"index_right\"]]\n",
    "                pickle.dump(b_gsa,open(path+r\"\\\\association\\\\buildings_gsa.pkl\",'wb'))\n",
    "            except:pass\n",
    "            #logs\n",
    "            logs[place_name].update({\"buildings_shops\":len(a),\"buildings_gss\":len(b_gss),\"buildings_gsa\":len(b_gsa)})\n",
    "\n",
    "            ##########################################################################\n",
    "            #tourisme\n",
    "            tourism=pd.read_pickle(path+r\"\\\\processed data\\\\tourism.pkl\").to_crs(\"2154\")\n",
    "            a=gpd.sjoin(buildings,tourism,predicate=\"contains\").to_crs('EPSG:4326')[['geometry',\"index_right0\",\"index_right1\"]]\n",
    "            pickle.dump(a,open(path+r\"\\\\association\\\\buildings_tourism.pkl\",'wb'))\n",
    "\n",
    "            #logs\n",
    "            logs[place_name].update({\"buildings_tourism\":len(a)})\n",
    "\n",
    "            ##############################################################################\n",
    "            #loisire\n",
    "            leisure=pd.read_pickle(path+r\"\\\\raw data\\\\leisure.pkl\").to_crs(\"2154\")\n",
    "            a=gpd.sjoin(buildings,leisure,predicate=\"contains\").to_crs('EPSG:4326')[['geometry',\"index_right0\",\"index_right1\"]]\n",
    "            pickle.dump(a,open(path+r\"\\\\association\\\\buildings_leisure.pkl\",'wb'))\n",
    "\n",
    "            #logs\n",
    "            logs[place_name].update({\"buildings_leisure\":len(a)})\n",
    "\n",
    "            ##############################################################################\n",
    "            #amenity\n",
    "            amenity=pd.read_pickle(path+r\"\\\\processed data\\\\amenity.pkl\").to_crs(\"2154\")\n",
    "            a=gpd.sjoin(buildings,amenity,predicate=\"contains\").to_crs('EPSG:4326')[['geometry',\"index_right0\",\"index_right1\"]]\n",
    "            pickle.dump(a,open(path+r\"\\\\association\\\\buildings_amenity.pkl\",'wb'))\n",
    "\n",
    "            #logs\n",
    "            logs[place_name].update({\"buildings_amenity\":len(a)})\n",
    "        except:\n",
    "            print(place_name)"
   ]
  }
 ],
 "metadata": {
  "kernelspec": {
   "display_name": "Python 3 (ipykernel)",
   "language": "python",
   "name": "python3"
  },
  "language_info": {
   "codemirror_mode": {
    "name": "ipython",
    "version": 3
   },
   "file_extension": ".py",
   "mimetype": "text/x-python",
   "name": "python",
   "nbconvert_exporter": "python",
   "pygments_lexer": "ipython3",
   "version": "3.9.12"
  }
 },
 "nbformat": 4,
 "nbformat_minor": 5
}

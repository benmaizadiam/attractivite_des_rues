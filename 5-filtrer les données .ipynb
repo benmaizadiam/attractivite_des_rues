{
 "cells": [
  {
   "cell_type": "code",
   "execution_count": 1,
   "id": "a8eb01ff",
   "metadata": {
    "ExecuteTime": {
     "end_time": "2023-07-28T12:46:20.711317Z",
     "start_time": "2023-07-28T12:46:19.012307Z"
    },
    "scrolled": true
   },
   "outputs": [
    {
     "name": "stderr",
     "output_type": "stream",
     "text": [
      "C:\\Users\\Diametrix\\anaconda3\\lib\\site-packages\\numpy\\_distributor_init.py:30: UserWarning: loaded more than 1 DLL from .libs:\n",
      "C:\\Users\\Diametrix\\anaconda3\\lib\\site-packages\\numpy\\.libs\\libopenblas.FB5AE2TYXYH2IJRDKGDGQ3XBKLKTF43H.gfortran-win_amd64.dll\n",
      "C:\\Users\\Diametrix\\anaconda3\\lib\\site-packages\\numpy\\.libs\\libopenblas.GK7GX5KEQ4F6UYO3P26ULGBQYHGQO7J4.gfortran-win_amd64.dll\n",
      "  warnings.warn(\"loaded more than 1 DLL from .libs:\"\n",
      "C:\\Users\\Diametrix\\AppData\\Roaming\\Python\\Python39\\site-packages\\geopandas\\_compat.py:124: UserWarning: The Shapely GEOS version (3.11.1-CAPI-1.17.1) is incompatible with the GEOS version PyGEOS was compiled with (3.10.4-CAPI-1.16.2). Conversions between both will be slow.\n",
      "  warnings.warn(\n",
      "C:\\Users\\Diametrix\\AppData\\Local\\Temp\\ipykernel_17540\\297388796.py:1: DeprecationWarning: Shapely 2.0 is installed, but because PyGEOS is also installed, GeoPandas still uses PyGEOS by default. However, starting with version 0.14, the default will switch to Shapely. To force to use Shapely 2.0 now, you can either uninstall PyGEOS or set the environment variable USE_PYGEOS=0. You can do this before starting the Python process, or in your code before importing geopandas:\n",
      "\n",
      "import os\n",
      "os.environ['USE_PYGEOS'] = '0'\n",
      "import geopandas\n",
      "\n",
      "In the next release, GeoPandas will switch to using Shapely by default, even if PyGEOS is installed. If you only have PyGEOS installed to get speed-ups, this switch should be smooth. However, if you are using PyGEOS directly (calling PyGEOS functions on geometries from GeoPandas), this will then stop working and you are encouraged to migrate from PyGEOS to Shapely 2.0 (https://shapely.readthedocs.io/en/latest/migration_pygeos.html).\n",
      "  import geopandas as gpd\n"
     ]
    }
   ],
   "source": [
    "import geopandas as gpd\n",
    "import pandas as pd\n",
    "import osmnx as ox\n",
    "import pickle\n",
    "from shapely import LineString,MultiLineString\n",
    "import numpy as np\n",
    "import difflib"
   ]
  },
  {
   "cell_type": "code",
   "execution_count": 2,
   "id": "679256f3",
   "metadata": {
    "ExecuteTime": {
     "end_time": "2023-07-28T12:47:36.166822Z",
     "start_time": "2023-07-28T12:46:20.713316Z"
    }
   },
   "outputs": [],
   "source": [
    "path=r\"Y:\\RECHERCHE ET DEV\\10_Modèle d'attractivite des rues\\04_données clients (source)\\osm\"\n",
    "iris_data=pd.read_excel('Y:\\REFERENTIEL DATA\\RP 2022 FRANCE\\GEODATA - IRIS\\\\Geodata_IRIS_essentiels.xlsx')\n",
    "contour_iris=gpd.read_file(r'Y:\\REFERENTIEL DATA\\RP 2022 FRANCE\\CARTOGRAPHIE\\Cartographie_France_IRIS_2019\\CONTOURS-IRIS_2-1_SHP_LAMB93_FXX-2019\\CONTOURS-IRIS.shp').to_crs(\"3857\")"
   ]
  },
  {
   "cell_type": "code",
   "execution_count": 3,
   "id": "9c971e03",
   "metadata": {
    "ExecuteTime": {
     "end_time": "2023-07-28T12:47:36.463244Z",
     "start_time": "2023-07-28T12:47:36.166822Z"
    }
   },
   "outputs": [],
   "source": [
    "commune_selected=pickle.load(open(r\"Y:\\RECHERCHE ET DEV\\10_Modèle d'attractivite des rues\\04_données clients (source)\\villes\\\\villes.pkl\",\"rb\")).to_crs(\"3857\")\n"
   ]
  },
  {
   "cell_type": "code",
   "execution_count": 4,
   "id": "b925d1cd",
   "metadata": {
    "ExecuteTime": {
     "end_time": "2023-07-28T12:47:36.502590Z",
     "start_time": "2023-07-28T12:47:36.465240Z"
    }
   },
   "outputs": [],
   "source": [
    "list_departement=pd.read_excel(r\"Y:\\RECHERCHE ET DEV\\10_Modèle d'attractivite des rues\\\\Liste-Excel-des-departements-francais.xlsx\")"
   ]
  },
  {
   "cell_type": "code",
   "execution_count": 104,
   "id": "e9ecafb9",
   "metadata": {
    "ExecuteTime": {
     "end_time": "2023-07-04T10:24:04.450404Z",
     "start_time": "2023-07-04T10:22:59.100354Z"
    }
   },
   "outputs": [
    {
     "name": "stdout",
     "output_type": "stream",
     "text": [
      "seine-maritime\n",
      "N°                         76\n",
      "Département    Seine-Maritime\n",
      "Chef-lieu               Rouen\n",
      "Région              Normandie\n",
      "Name: 76, dtype: object\n"
     ]
    }
   ],
   "source": [
    "display_data=[]\n",
    "for i ,row in list_departement.iterrows():\n",
    "    try:\n",
    "        place_name=row[\"Département\"].lower()\n",
    "        region=row['Région'].lower()\n",
    "        print(place_name)\n",
    "        \n",
    "        path=r\"Y:\\RECHERCHE ET DEV\\10_Modèle d'attractivite des rues\\04_données clients (source)\\osm\\\\\"+row['Région'].lower()+r\"\\\\\"+row[\"Département\"].lower()\n",
    "\n",
    "        #Batiments\n",
    " \n",
    "        data=pickle.load(open(path+r\"\\\\processed data\\buildings.pkl\",\"rb\")).to_crs(\"3857\")\n",
    "        \n",
    "        l=[list(data[data.within(commune_selected.iloc[j][0])].index) for j in range(len(commune_selected))]\n",
    "        flat_list = [item for sublist in l for item in sublist]\n",
    "        if len(flat_list)==0:continue\n",
    "            \n",
    "\n",
    "        pickle.dump(data.loc[flat_list],open(r\"Y:\\RECHERCHE ET DEV\\10_Modèle d'attractivite des rues\\04_données clients (source)\\osm filtre\\batiment\\\\\"+place_name+r\"_buildings.pkl\",\"wb\"))\n",
    "        display_data.append(data.loc[flat_list])\n",
    "        \n",
    "        #rues\n",
    "        \n",
    "        highways=pickle.load(open(path+r\"\\\\processed data\\highways.pkl\",\"rb\")).to_crs(\"3857\")\n",
    "        l=[list(highways[highways.intersects(commune_selected.iloc[j][0])].index) for j in range(len(commune_selected))]\n",
    "        flat_list = [item for sublist in l for item in sublist]\n",
    "        pickle.dump(highways.loc[flat_list],open(r\"Y:\\RECHERCHE ET DEV\\10_Modèle d'attractivite des rues\\04_données clients (source)\\osm filtre\\rue\\\\\"+place_name+r\"_highways.pkl\",\"wb\"))\n",
    "        \n",
    "        \n",
    "        #tourisme\n",
    "        tourism=pickle.load(open(path+r\"\\\\processed data\\tourism.pkl\",\"rb\")).to_crs(\"3857\")\n",
    "        l=[list(tourism[tourism.within(commune_selected.iloc[j][0])].index) for j in range(len(commune_selected))]\n",
    "        flat_list = [item for sublist in l for item in sublist]\n",
    "        pickle.dump(tourism.loc[flat_list],open(r\"Y:\\RECHERCHE ET DEV\\10_Modèle d'attractivite des rues\\04_données clients (source)\\osm filtre\\tourisme\\\\\"+place_name+r\"_tourism.pkl\",\"wb\"))\n",
    "        \n",
    "        \n",
    "        \n",
    "        #Amenity\n",
    "        amenity=pickle.load(open(path+r\"\\\\processed data\\amenity.pkl\",\"rb\")).to_crs(\"3857\")\n",
    "        l=[list(amenity[amenity.within(commune_selected.iloc[j][0])].index) for j in range(len(commune_selected))]\n",
    "        flat_list = [item for sublist in l for item in sublist]\n",
    "        pickle.dump(amenity.loc[flat_list],open(r\"Y:\\RECHERCHE ET DEV\\10_Modèle d'attractivite des rues\\04_données clients (source)\\osm filtre\\amenity\\\\\"+place_name+r\"_amenity.pkl\",\"wb\"))\n",
    "\n",
    "        #Loisire\n",
    "        leisure=pickle.load(open(path+r\"\\\\raw data\\leisure.pkl\",\"rb\")).to_crs(\"3857\")\n",
    "        l=[list(leisure[leisure.within(commune_selected.iloc[j][0])].index) for j in range(len(commune_selected))]\n",
    "        flat_list = [item for sublist in l for item in sublist]\n",
    "        pickle.dump(leisure.loc[flat_list],open(r\"Y:\\RECHERCHE ET DEV\\10_Modèle d'attractivite des rues\\04_données clients (source)\\osm filtre\\loisire\\\\\"+place_name+r\"_leisure.pkl\",\"wb\"))\n",
    "    except:\n",
    "        print('error')"
   ]
  },
  {
   "cell_type": "code",
   "execution_count": 26,
   "id": "0bd555bf",
   "metadata": {
    "ExecuteTime": {
     "end_time": "2023-07-19T17:45:19.409651Z",
     "start_time": "2023-07-19T17:45:14.907354Z"
    }
   },
   "outputs": [
    {
     "name": "stdout",
     "output_type": "stream",
     "text": [
      "rhône\n"
     ]
    }
   ],
   "source": [
    "display_data=[]\n",
    "for i ,row in list_departement.iterrows():\n",
    "    try:\n",
    "        place_name=row[\"Département\"].lower()\n",
    "        region=row['Région'].lower()\n",
    "        print(place_name)\n",
    "        \n",
    "        path=r\"Y:\\RECHERCHE ET DEV\\10_Modèle d'attractivite des rues\\04_données clients (source)\\osm\\\\\"+row['Région'].lower()+r\"\\\\\"+row[\"Département\"].lower()\n",
    "\n",
    "        data=pickle.load(open(path+r\"\\\\processed data\\buildings.pkl\",\"rb\")).to_crs(\"3857\")\n",
    "        if len(flat_list)==0:continue\n",
    "\n",
    "        \n",
    "        #shops\n",
    "        \n",
    "        shops=pickle.load(open(path+r\"\\\\raw data\\shops.pkl\",\"rb\")).to_crs(\"3857\")\n",
    "        l=[list(shops[shops.intersects(commune_selected.iloc[j][0])].index) for j in range(len(commune_selected))]\n",
    "        lat_list = [item for sublist in l for item in sublist]\n",
    "        pickle.dump(shops.loc[flat_list],open(r\"Y:\\RECHERCHE ET DEV\\10_Modèle d'attractivite des rues\\04_données clients (source)\\osm filtre\\magasin\\\\\"+place_name+r\"_shops.pkl\",\"wb\"))\n",
    "        \n",
    "        \n",
    "        #GSA\n",
    "        gsa=pickle.load(open(path+r\"\\\\processed data\\gsa_comp.pkl\",\"rb\")).to_crs(\"3857\")\n",
    "        l=[list(gsa[gsa.intersects(commune_selected.iloc[j][0])].index) for j in range(len(commune_selected))]\n",
    "        flat_list = [item for sublist in l for item in sublist]\n",
    "        pickle.dump(gsa.loc[flat_list],open(r\"Y:\\RECHERCHE ET DEV\\10_Modèle d'attractivite des rues\\04_données clients (source)\\osm filtre\\GSA\\\\\"+place_name+r\"_gsa.pkl\",\"wb\"))\n",
    "        \n",
    "        #GSS\n",
    "        gss=pickle.load(open(path+r\"\\\\processed data\\gss_comp.pkl\",\"rb\")).to_crs(\"3857\")\n",
    "        l=[list(gss[gss.intersects(commune_selected.iloc[j][0])].index) for j in range(len(commune_selected))]\n",
    "        flat_list = [item for sublist in l for item in sublist]\n",
    "        pickle.dump(gss.loc[flat_list],open(r\"Y:\\RECHERCHE ET DEV\\10_Modèle d'attractivite des rues\\04_données clients (source)\\osm filtre\\GSS\\\\\"+place_name+r\"_gss.pkl\",\"wb\"))\n",
    "\n",
    "    except:\n",
    "        print('error')"
   ]
  },
  {
   "cell_type": "code",
   "execution_count": 5,
   "id": "d7aa4279",
   "metadata": {
    "ExecuteTime": {
     "end_time": "2023-07-28T12:56:59.391993Z",
     "start_time": "2023-07-28T12:55:50.023251Z"
    }
   },
   "outputs": [
    {
     "name": "stdout",
     "output_type": "stream",
     "text": [
      "ain\n",
      "aisne\n",
      "allier\n",
      "alpes-de-haute-provence\n",
      "hautes-alpes\n",
      "alpes-maritimes\n",
      "ardèche\n",
      "ardennes\n",
      "ariège\n",
      "aube\n",
      "aude\n",
      "aveyron\n",
      "bouches-du-rhône\n",
      "calvados\n",
      "cantal\n",
      "charente\n",
      "charente-maritime\n",
      "cher\n",
      "corrèze\n",
      "corse-du-sud\n",
      "haute-corse\n",
      "côte-d'or\n",
      "côtes d'armor\n",
      "creuse\n",
      "dordogne\n",
      "doubs\n",
      "drôme\n",
      "eure\n",
      "eure-et-loir\n",
      "finistère\n",
      "gard\n",
      "haute-garonne\n",
      "gers\n",
      "gironde\n",
      "hérault\n",
      "ille-et-vilaine\n",
      "indre\n",
      "indre-et-loire\n",
      "isère\n",
      "jura\n",
      "landes\n",
      "loir-et-cher\n",
      "loire\n",
      "haute-loire\n",
      "loire-atlantique\n",
      "loiret\n",
      "lot\n",
      "lot-et-garonne\n",
      "lozère\n",
      "maine-et-loire\n",
      "manche\n",
      "marne\n",
      "haute-marne\n",
      "mayenne\n",
      "meurthe-et-moselle\n",
      "meuse\n",
      "morbihan\n",
      "moselle\n",
      "nièvre\n",
      "nord\n",
      "oise\n",
      "orne\n",
      "pas-de-calais\n",
      "puy-de-dôme\n",
      "pyrénées-atlantiques\n",
      "hautes-pyrénées\n",
      "pyrénées-orientales\n",
      "bas-rhin\n",
      "haut-rhin\n",
      "rhône\n",
      "haute-saône\n",
      "saône-et-loire\n",
      "sarthe\n",
      "savoie\n",
      "haute-savoie\n",
      "paris\n",
      "seine-maritime\n",
      "seine-et-marne\n",
      "yvelines\n",
      "deux-sèvres\n",
      "somme\n",
      "tarn\n",
      "tarn-et-garonne\n",
      "var\n",
      "vaucluse\n",
      "vendée\n",
      "vienne\n",
      "haute-vienne\n",
      "vosges\n",
      "yonne\n",
      "territoire-de-belfort\n",
      "essonne\n",
      "hauts-de-seine\n",
      "seine-saint-denis\n",
      "val-de-marne\n",
      "val-d'oise\n"
     ]
    },
    {
     "ename": "FileNotFoundError",
     "evalue": "[Errno 2] No such file or directory: \"Y:\\\\RECHERCHE ET DEV\\\\10_Modèle d'attractivite des rues\\\\04_données clients (source)\\\\osm\\\\\\\\guadeloupe\\\\\\\\guadeloupe\\\\\\\\raw data\\\\public_transports.pkl\"",
     "output_type": "error",
     "traceback": [
      "\u001b[1;31m---------------------------------------------------------------------------\u001b[0m",
      "\u001b[1;31mFileNotFoundError\u001b[0m                         Traceback (most recent call last)",
      "Input \u001b[1;32mIn [5]\u001b[0m, in \u001b[0;36m<cell line: 2>\u001b[1;34m()\u001b[0m\n\u001b[0;32m      5\u001b[0m region\u001b[38;5;241m=\u001b[39mrow[\u001b[38;5;124m'\u001b[39m\u001b[38;5;124mRégion\u001b[39m\u001b[38;5;124m'\u001b[39m]\u001b[38;5;241m.\u001b[39mlower()\n\u001b[0;32m      8\u001b[0m path\u001b[38;5;241m=\u001b[39m\u001b[38;5;124mr\u001b[39m\u001b[38;5;124m\"\u001b[39m\u001b[38;5;124mY:\u001b[39m\u001b[38;5;124m\\\u001b[39m\u001b[38;5;124mRECHERCHE ET DEV\u001b[39m\u001b[38;5;124m\\\u001b[39m\u001b[38;5;124m10_Modèle d\u001b[39m\u001b[38;5;124m'\u001b[39m\u001b[38;5;124mattractivite des rues\u001b[39m\u001b[38;5;124m\\\u001b[39m\u001b[38;5;124m04_données clients (source)\u001b[39m\u001b[38;5;124m\\\u001b[39m\u001b[38;5;124mosm\u001b[39m\u001b[38;5;130;01m\\\\\u001b[39;00m\u001b[38;5;124m\"\u001b[39m\u001b[38;5;241m+\u001b[39mrow[\u001b[38;5;124m'\u001b[39m\u001b[38;5;124mRégion\u001b[39m\u001b[38;5;124m'\u001b[39m]\u001b[38;5;241m.\u001b[39mlower()\u001b[38;5;241m+\u001b[39m\u001b[38;5;124mr\u001b[39m\u001b[38;5;124m\"\u001b[39m\u001b[38;5;130;01m\\\\\u001b[39;00m\u001b[38;5;124m\"\u001b[39m\u001b[38;5;241m+\u001b[39mrow[\u001b[38;5;124m\"\u001b[39m\u001b[38;5;124mDépartement\u001b[39m\u001b[38;5;124m\"\u001b[39m]\u001b[38;5;241m.\u001b[39mlower()\n\u001b[1;32m----> 9\u001b[0m public_transports\u001b[38;5;241m=\u001b[39mpickle\u001b[38;5;241m.\u001b[39mload(\u001b[38;5;28;43mopen\u001b[39;49m\u001b[43m(\u001b[49m\u001b[43mpath\u001b[49m\u001b[38;5;241;43m+\u001b[39;49m\u001b[38;5;124;43mr\u001b[39;49m\u001b[38;5;124;43m\"\u001b[39;49m\u001b[38;5;130;43;01m\\\\\u001b[39;49;00m\u001b[38;5;124;43mraw data\u001b[39;49m\u001b[38;5;124;43m\\\u001b[39;49m\u001b[38;5;124;43mpublic_transports.pkl\u001b[39;49m\u001b[38;5;124;43m\"\u001b[39;49m\u001b[43m,\u001b[49m\u001b[38;5;124;43m\"\u001b[39;49m\u001b[38;5;124;43mrb\u001b[39;49m\u001b[38;5;124;43m\"\u001b[39;49m\u001b[43m)\u001b[49m)\u001b[38;5;241m.\u001b[39mto_crs(\u001b[38;5;124m\"\u001b[39m\u001b[38;5;124m3857\u001b[39m\u001b[38;5;124m\"\u001b[39m)\n\u001b[0;32m     12\u001b[0m \u001b[38;5;28mprint\u001b[39m(place_name)\n\u001b[0;32m     13\u001b[0m \u001b[38;5;66;03m#public transport \u001b[39;00m\n",
      "\u001b[1;31mFileNotFoundError\u001b[0m: [Errno 2] No such file or directory: \"Y:\\\\RECHERCHE ET DEV\\\\10_Modèle d'attractivite des rues\\\\04_données clients (source)\\\\osm\\\\\\\\guadeloupe\\\\\\\\guadeloupe\\\\\\\\raw data\\\\public_transports.pkl\""
     ]
    }
   ],
   "source": [
    "display_data=[]\n",
    "for i ,row in list_departement.iterrows():\n",
    "    \n",
    "        place_name=row[\"Département\"].lower()\n",
    "        region=row['Région'].lower()\n",
    "        \n",
    "     \n",
    "        path=r\"Y:\\RECHERCHE ET DEV\\10_Modèle d'attractivite des rues\\04_données clients (source)\\osm\\\\\"+row['Région'].lower()+r\"\\\\\"+row[\"Département\"].lower()\n",
    "        public_transports=pickle.load(open(path+r\"\\\\raw data\\public_transports.pkl\",\"rb\")).to_crs(\"3857\")\n",
    "\n",
    "\n",
    "        print(place_name)\n",
    "        #public transport \n",
    "        \n",
    "        \n",
    "        l=[list(public_transports[public_transports.intersects(commune_selected.iloc[j][0])].index) for j in range(len(commune_selected))]\n",
    "        flat_list = [item for sublist in l for item in sublist]\n",
    "        pickle.dump(public_transports.loc[flat_list],open(r\"Y:\\RECHERCHE ET DEV\\10_Modèle d'attractivite des rues\\04_données clients (source)\\osm filtre\\public_transports\\\\\"+place_name+r\".pkl\",\"wb\"))\n"
   ]
  },
  {
   "cell_type": "code",
   "execution_count": 7,
   "id": "af501f9d",
   "metadata": {
    "ExecuteTime": {
     "end_time": "2023-07-28T12:57:05.220699Z",
     "start_time": "2023-07-28T12:57:05.205071Z"
    }
   },
   "outputs": [],
   "source": [
    "d=pd.read_pickle(r\"Y:\\RECHERCHE ET DEV\\10_Modèle d'attractivite des rues\\04_données clients (source)\\osm filtre\\public_transports\\\\paris.pkl\")"
   ]
  },
  {
   "cell_type": "code",
   "execution_count": null,
   "id": "b785eece",
   "metadata": {},
   "outputs": [],
   "source": []
  }
 ],
 "metadata": {
  "kernelspec": {
   "display_name": "Python 3 (ipykernel)",
   "language": "python",
   "name": "python3"
  },
  "language_info": {
   "codemirror_mode": {
    "name": "ipython",
    "version": 3
   },
   "file_extension": ".py",
   "mimetype": "text/x-python",
   "name": "python",
   "nbconvert_exporter": "python",
   "pygments_lexer": "ipython3",
   "version": "3.9.12"
  }
 },
 "nbformat": 4,
 "nbformat_minor": 5
}

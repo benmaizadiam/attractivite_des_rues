{
 "cells": [
  {
   "cell_type": "code",
   "execution_count": 6,
   "id": "a8eb01ff",
   "metadata": {
    "ExecuteTime": {
     "end_time": "2023-06-28T15:51:42.910855Z",
     "start_time": "2023-06-28T15:51:42.901886Z"
    },
    "scrolled": true
   },
   "outputs": [],
   "source": [
    "import geopandas as gpd\n",
    "import pandas as pd\n",
    "import osmnx as ox\n",
    "import pickle\n",
    "from shapely import LineString,MultiLineString\n",
    "import numpy as np\n",
    "import difflib"
   ]
  },
  {
   "cell_type": "code",
   "execution_count": 7,
   "id": "679256f3",
   "metadata": {
    "ExecuteTime": {
     "end_time": "2023-06-28T15:52:57.077775Z",
     "start_time": "2023-06-28T15:51:43.277162Z"
    }
   },
   "outputs": [],
   "source": [
    "path=r\"Y:\\RECHERCHE ET DEV\\10_Modèle d'attractivite des rues\\04_données clients (source)\\osm\"\n",
    "iris_data=pd.read_excel('Y:\\REFERENTIEL DATA\\RP 2022 FRANCE\\GEODATA - IRIS\\\\Geodata_IRIS_essentiels.xlsx')\n",
    "contour_iris=gpd.read_file(r'Y:\\REFERENTIEL DATA\\RP 2022 FRANCE\\CARTOGRAPHIE\\Cartographie_France_IRIS_2019\\CONTOURS-IRIS_2-1_SHP_LAMB93_FXX-2019\\CONTOURS-IRIS.shp')"
   ]
  },
  {
   "cell_type": "code",
   "execution_count": 8,
   "id": "9c971e03",
   "metadata": {
    "ExecuteTime": {
     "end_time": "2023-06-28T15:52:57.189581Z",
     "start_time": "2023-06-28T15:52:57.078714Z"
    }
   },
   "outputs": [],
   "source": [
    "commune_selected=pickle.load(open(r\"Y:\\RECHERCHE ET DEV\\10_Modèle d'attractivite des rues\\04_données clients (source)\\villes\\\\villes.pkl\",\"rb\")).to_crs(\"3857\")\n"
   ]
  },
  {
   "cell_type": "code",
   "execution_count": 9,
   "id": "b925d1cd",
   "metadata": {
    "ExecuteTime": {
     "end_time": "2023-06-28T15:52:57.236071Z",
     "start_time": "2023-06-28T15:52:57.192576Z"
    }
   },
   "outputs": [],
   "source": [
    "list_departement=pd.read_excel(r\"Y:\\RECHERCHE ET DEV\\10_Modèle d'attractivite des rues\\\\Liste-Excel-des-departements-francais.xlsx\")"
   ]
  },
  {
   "cell_type": "code",
   "execution_count": 10,
   "id": "e9ecafb9",
   "metadata": {
    "ExecuteTime": {
     "end_time": "2023-06-28T17:09:51.664161Z",
     "start_time": "2023-06-28T15:52:57.242063Z"
    }
   },
   "outputs": [
    {
     "name": "stdout",
     "output_type": "stream",
     "text": [
      "ain\n",
      "aisne\n",
      "allier\n",
      "alpes-de-haute-provence\n",
      "hautes-alpes\n",
      "alpes-maritimes\n",
      "ardèche\n",
      "ardennes\n",
      "ariège\n",
      "aube\n",
      "aude\n",
      "aveyron\n",
      "bouches-du-rhône\n",
      "calvados\n",
      "cantal\n",
      "charente\n",
      "charente-maritime\n",
      "cher\n",
      "corrèze\n",
      "corse-du-sud\n",
      "haute-corse\n",
      "côte-d'or\n",
      "côtes d'armor\n",
      "creuse\n",
      "dordogne\n",
      "doubs\n",
      "drôme\n",
      "eure\n",
      "eure-et-loir\n",
      "finistère\n",
      "gard\n",
      "haute-garonne\n",
      "gers\n",
      "gironde\n",
      "hérault\n",
      "ille-et-vilaine\n",
      "indre\n",
      "indre-et-loire\n",
      "isère\n",
      "jura\n",
      "landes\n",
      "loir-et-cher\n",
      "loire\n",
      "haute-loire\n",
      "loire-atlantique\n",
      "loiret\n",
      "lot\n",
      "lot-et-garonne\n",
      "lozère\n",
      "maine-et-loire\n",
      "manche\n",
      "marne\n",
      "haute-marne\n",
      "mayenne\n",
      "meurthe-et-moselle\n",
      "meuse\n",
      "morbihan\n",
      "moselle\n",
      "nièvre\n",
      "nord\n",
      "oise\n",
      "orne\n",
      "pas-de-calais\n",
      "puy-de-dôme\n",
      "pyrénées-atlantiques\n",
      "hautes-pyrénées\n",
      "error\n",
      "pyrénées-orientales\n",
      "bas-rhin\n",
      "error\n",
      "haut-rhin\n",
      "error\n",
      "rhône\n",
      "haute-saône\n",
      "saône-et-loire\n",
      "sarthe\n",
      "savoie\n",
      "haute-savoie\n",
      "error\n",
      "paris\n",
      "seine-maritime\n",
      "seine-et-marne\n",
      "yvelines\n",
      "deux-sèvres\n",
      "somme\n",
      "tarn\n",
      "tarn-et-garonne\n",
      "var\n",
      "vaucluse\n",
      "vendée\n",
      "vienne\n",
      "haute-vienne\n",
      "vosges\n",
      "yonne\n",
      "territoire-de-belfort\n",
      "error\n",
      "essonne\n",
      "hauts-de-seine\n",
      "seine-saint-denis\n",
      "val-de-marne\n",
      "val-d'oise\n",
      "guadeloupe\n",
      "error\n",
      "martinique\n",
      "error\n",
      "guyane\n",
      "error\n",
      "la réunion\n",
      "error\n",
      "mayotte\n",
      "error\n"
     ]
    }
   ],
   "source": [
    "display_data=[]\n",
    "for i ,row in list_departement.iterrows():\n",
    "    try:\n",
    "        place_name=row[\"Département\"].lower()\n",
    "        region=row['Région'].lower()\n",
    "        print(place_name)\n",
    "        \n",
    "        path=r\"Y:\\RECHERCHE ET DEV\\10_Modèle d'attractivite des rues\\04_données clients (source)\\osm\\\\\"+row['Région'].lower()+r\"\\\\\"+row[\"Département\"].lower()\n",
    "\n",
    "        #Batiments\n",
    "      \n",
    "        data=pickle.load(open(path+r\"\\\\processed data\\buildings.pkl\",\"rb\")).to_crs(\"3857\")\n",
    "        l=[list(data[data.within(commune_selected.iloc[i][0])].index) for i in range(len(commune_selected))]\n",
    "        flat_list = [item for sublist in l for item in sublist]\n",
    "        if len(flat_list)==0:continue\n",
    "        pickle.dump(data.loc[flat_list],open(r\"Y:\\RECHERCHE ET DEV\\10_Modèle d'attractivite des rues\\04_données clients (source)\\osm filtre\\batiment\\\\\"+place_name+r\"_buildings.pkl\",\"wb\"))\n",
    "        display_data.append(data.loc[flat_list])\n",
    "        \n",
    "        #rues\n",
    "        \n",
    "        highways=pickle.load(open(path+r\"\\\\processed data\\highways.pkl\",\"rb\")).to_crs(\"3857\")\n",
    "        l=[list(highways[highways.intersects(commune_selected.iloc[i][0])].index) for i in range(len(commune_selected))]\n",
    "        flat_list = [item for sublist in l for item in sublist]\n",
    "        pickle.dump(highways.loc[flat_list],open(r\"Y:\\RECHERCHE ET DEV\\10_Modèle d'attractivite des rues\\04_données clients (source)\\osm filtre\\rue\\\\\"+place_name+r\"_highways.pkl\",\"wb\"))\n",
    "        \n",
    "        \n",
    "        #tourisme\n",
    "        tourism=pickle.load(open(path+r\"\\\\processed data\\tourism.pkl\",\"rb\")).to_crs(\"3857\")\n",
    "        l=[list(tourism[tourism.within(commune_selected.iloc[i][0])].index) for i in range(len(commune_selected))]\n",
    "        flat_list = [item for sublist in l for item in sublist]\n",
    "        pickle.dump(tourism.loc[flat_list],open(r\"Y:\\RECHERCHE ET DEV\\10_Modèle d'attractivite des rues\\04_données clients (source)\\osm filtre\\tourisme\\\\\"+place_name+r\"_tourism.pkl\",\"wb\"))\n",
    "        \n",
    "        \n",
    "        \n",
    "        #Amenity\n",
    "        amenity=pickle.load(open(path+r\"\\\\processed data\\amenity.pkl\",\"rb\")).to_crs(\"3857\")\n",
    "        l=[list(amenity[amenity.within(commune_selected.iloc[i][0])].index) for i in range(len(commune_selected))]\n",
    "        flat_list = [item for sublist in l for item in sublist]\n",
    "        pickle.dump(amenity.loc[flat_list],open(r\"Y:\\RECHERCHE ET DEV\\10_Modèle d'attractivite des rues\\04_données clients (source)\\osm filtre\\amenity\\\\\"+place_name+r\"_amenity.pkl\",\"wb\"))\n",
    "\n",
    "        #Loisire\n",
    "        leisure=pickle.load(open(path+r\"\\\\raw data\\leisure.pkl\",\"rb\")).to_crs(\"3857\")\n",
    "        l=[list(leisure[leisure.within(commune_selected.iloc[i][0])].index) for i in range(len(commune_selected))]\n",
    "        flat_list = [item for sublist in l for item in sublist]\n",
    "        pickle.dump(leisure.loc[flat_list],open(r\"Y:\\RECHERCHE ET DEV\\10_Modèle d'attractivite des rues\\04_données clients (source)\\osm filtre\\loisire\\\\\"+place_name+r\"_leisure.pkl\",\"wb\"))\n",
    "    except:\n",
    "        print('error')"
   ]
  },
  {
   "cell_type": "code",
   "execution_count": null,
   "id": "a55b9416",
   "metadata": {},
   "outputs": [],
   "source": []
  }
 ],
 "metadata": {
  "kernelspec": {
   "display_name": "Python 3 (ipykernel)",
   "language": "python",
   "name": "python3"
  },
  "language_info": {
   "codemirror_mode": {
    "name": "ipython",
    "version": 3
   },
   "file_extension": ".py",
   "mimetype": "text/x-python",
   "name": "python",
   "nbconvert_exporter": "python",
   "pygments_lexer": "ipython3",
   "version": "3.9.12"
  }
 },
 "nbformat": 4,
 "nbformat_minor": 5
}
